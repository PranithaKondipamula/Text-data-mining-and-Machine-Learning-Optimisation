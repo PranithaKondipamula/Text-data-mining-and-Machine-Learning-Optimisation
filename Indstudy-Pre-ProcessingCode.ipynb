{
 "cells": [
  {
   "cell_type": "code",
   "execution_count": 363,
   "id": "fd953fd3-b338-435d-8843-42268e815b64",
   "metadata": {
    "tags": []
   },
   "outputs": [],
   "source": [
    "import pandas as pd"
   ]
  },
  {
   "cell_type": "code",
   "execution_count": 365,
   "id": "873e6078-ac0d-4956-af6d-ae4f871c727e",
   "metadata": {
    "tags": []
   },
   "outputs": [
    {
     "data": {
      "text/html": [
       "<div>\n",
       "<style scoped>\n",
       "    .dataframe tbody tr th:only-of-type {\n",
       "        vertical-align: middle;\n",
       "    }\n",
       "\n",
       "    .dataframe tbody tr th {\n",
       "        vertical-align: top;\n",
       "    }\n",
       "\n",
       "    .dataframe thead th {\n",
       "        text-align: right;\n",
       "    }\n",
       "</style>\n",
       "<table border=\"1\" class=\"dataframe\">\n",
       "  <thead>\n",
       "    <tr style=\"text-align: right;\">\n",
       "      <th></th>\n",
       "      <th>text</th>\n",
       "      <th>type</th>\n",
       "    </tr>\n",
       "  </thead>\n",
       "  <tbody>\n",
       "    <tr>\n",
       "      <th>0</th>\n",
       "      <td>DB Backups &amp;nbsp;What project is affected?: he...</td>\n",
       "      <td>database</td>\n",
       "    </tr>\n",
       "    <tr>\n",
       "      <th>1</th>\n",
       "      <td>mysql is stuck on production HiSeems like MySQ...</td>\n",
       "      <td>database</td>\n",
       "    </tr>\n",
       "    <tr>\n",
       "      <th>2</th>\n",
       "      <td>Database and Media Folder Migration On Staging...</td>\n",
       "      <td>database</td>\n",
       "    </tr>\n",
       "    <tr>\n",
       "      <th>3</th>\n",
       "      <td>[HH] MySQL server has gone away  errors in log...</td>\n",
       "      <td>database</td>\n",
       "    </tr>\n",
       "    <tr>\n",
       "      <th>4</th>\n",
       "      <td>2 or more locations failed on 'Multitenant Gra...</td>\n",
       "      <td>database</td>\n",
       "    </tr>\n",
       "    <tr>\n",
       "      <th>...</th>\n",
       "      <td>...</td>\n",
       "      <td>...</td>\n",
       "    </tr>\n",
       "    <tr>\n",
       "      <th>11561</th>\n",
       "      <td>[E5 Fashion] increase the Staging (Dedicated) ...</td>\n",
       "      <td>upsize</td>\n",
       "    </tr>\n",
       "    <tr>\n",
       "      <th>11562</th>\n",
       "      <td>CVS download works only when cache is cleaned ...</td>\n",
       "      <td>deploy</td>\n",
       "    </tr>\n",
       "    <tr>\n",
       "      <th>11563</th>\n",
       "      <td>Can we enable Fastly http3 quic support? Hello...</td>\n",
       "      <td>fastly</td>\n",
       "    </tr>\n",
       "    <tr>\n",
       "      <th>11564</th>\n",
       "      <td>Deployments fail again Hello Paul,I was going ...</td>\n",
       "      <td>deploy</td>\n",
       "    </tr>\n",
       "    <tr>\n",
       "      <th>11565</th>\n",
       "      <td>After 2.4 upgrade deployment takes ~5min longe...</td>\n",
       "      <td>deploy</td>\n",
       "    </tr>\n",
       "  </tbody>\n",
       "</table>\n",
       "<p>18923 rows × 2 columns</p>\n",
       "</div>"
      ],
      "text/plain": [
       "                                                    text      type\n",
       "0      DB Backups &nbsp;What project is affected?: he...  database\n",
       "1      mysql is stuck on production HiSeems like MySQ...  database\n",
       "2      Database and Media Folder Migration On Staging...  database\n",
       "3      [HH] MySQL server has gone away  errors in log...  database\n",
       "4      2 or more locations failed on 'Multitenant Gra...  database\n",
       "...                                                  ...       ...\n",
       "11561  [E5 Fashion] increase the Staging (Dedicated) ...    upsize\n",
       "11562  CVS download works only when cache is cleaned ...    deploy\n",
       "11563  Can we enable Fastly http3 quic support? Hello...    fastly\n",
       "11564  Deployments fail again Hello Paul,I was going ...    deploy\n",
       "11565  After 2.4 upgrade deployment takes ~5min longe...    deploy\n",
       "\n",
       "[18923 rows x 2 columns]"
      ]
     },
     "metadata": {},
     "output_type": "display_data"
    }
   ],
   "source": [
    "# Read the both data file from local drive and merging them into a single dataframe\n",
    "\n",
    "df_1 = pd.read_csv('input.csv',encoding='ISO-8859-1')\n",
    "df_2 = pd.read_csv('input_2.csv',encoding='ISO-8859-1')\n",
    "dataframes = [df_1,df_2]\n",
    "df = pd.concat(dataframes)\n",
    "display(df)"
   ]
  },
  {
   "cell_type": "code",
   "execution_count": 367,
   "id": "3c08ee3f-bfd2-4e3f-975a-97dc319cb716",
   "metadata": {
    "tags": []
   },
   "outputs": [
    {
     "data": {
      "text/plain": [
       "False"
      ]
     },
     "execution_count": 367,
     "metadata": {},
     "output_type": "execute_result"
    }
   ],
   "source": [
    "df.isnull().values.any() # looking for any null values in the dataframe"
   ]
  },
  {
   "cell_type": "code",
   "execution_count": 369,
   "id": "1ee15452-68f6-4034-bd20-d87a6255340f",
   "metadata": {
    "tags": []
   },
   "outputs": [
    {
     "data": {
      "text/plain": [
       "'DB Backups &nbsp;What project is affected?: hetumjt6v5buc&nbsp;What environment(s) are affected?: ProductionStaging Environment name (if staging is not selected leave empty):&nbsp; -&nbsp;What is the issue or change request?: &nbsp;&nbsp;DB Backup Required by merchant for below dates. 1 22nd October or closest before 23rd&nbsp;2 25th October or after 23rd&nbsp;3 End of September&nbsp; &nbsp;(Issues) How do we replicate/observe the issue?: &nbsp;NA&nbsp;(Change Requests) Why are we making this change?: Customer Request&nbsp;What has already been done to troubleshoot or to validate this request?: &nbsp;NA&nbsp;Is the production site live?: Yes&nbsp;,DB Backups Data Access Consent has not been granted for this case. Please make sure to have the Primary MC Contact grant explicit permission on this case should you need to access the client\\'s data via ssh/ftp/api or through any admin panel as well as when backups are needed from on-prem customers.,DB Backups Hi Nikhil,  This is the last one.  Please provide one more from anytime in August 2023  Regards,  Maxim,DB Backups Hello,Your support request has now been closed. If you are still in need of support for this issue, please create a follow-up support request directly from this one and we will reopen our investigation into this issue right away.You may receive an email with a Customer Support experience survey link. Adobe is committed to providing you with a best-in-class Customer Support experience and we would greatly appreciate your feedback to help us improve.Thank you,Adobe Commerce Customer Engineering TeamDocumentation | Help Center | Community | Status,DB Backups Steps to Reproduce: .,DB Backups Hi Balance ,&nbsp;We have added that in your request to our infra team we are waiting for their feedback on this.&nbsp;Will keep you posted on the same.  Regards,Nikhil Patel - Customer Engineering, Adobe Commerce,DB Backups Hello,&nbsp;I found the following database disk snapshot that fits your requirement:  Before October 23: I will retrieve the following snapshot from 2023-10-19T15:19:51Z   hetumjt6v5buc,i-0c574d8a96f14793e,/dev/sdj,ap-southeast-2c,Backup snapshot of vol-0a8289f1a40906679,1,100%,snap-0a546f382246f9275,2023-10-19T15:19:51Z,completed,vol-0a8289f1a40906679,10   October 25, or after October 23: I will retrieve the following snapshot from 2023-10-25T04:35:15Z   hetumjt6v5buc,i-0a6564600908ffa67,/dev/sdj,ap-southeast-2b,Backup snapshot of vol-0c60e0b4e317535b2,1,100%,snap-02f1c546706f9ca48,2023-10-25T04:35:15Z,completed,vol-0c60e0b4e317535b2,10   The end of September: I will retrieve the following snapshot from 2023-09-28T03:05:00Z   hetumjt6v5buc,i-0c574d8a96f14793e,/dev/sdj,ap-southeast-2c,Backup snapshot of vol-0a8289f1a40906679,1,100%,snap-07c70fe25aa09ee43,2023-09-28T03:05:00Z,completed,vol-0a8289f1a40906679,10 &nbsp;I will update you as soon as the retrieval process is completed.&nbsp;Best regards,Najib.,DB Backups Hello,&nbsp;The snapshot are retrieved and mounted on the first node of the production cluster:  Snapshot from October 19 is mounted at /mnt/recovery/vol-04d14f1d30cbbff76   192.168.5.5 hetumjt6v5buc root@i-071fe16413691425f:/mnt/recovery/vol-04d14f1d30cbbff76# cat snap.time2023-10-19 15:19:51.430000+00:00192.168.5.5 hetumjt6v5buc root@i-071fe16413691425f:/mnt/recovery/vol-04d14f1d30cbbff76# ls -lahtotal 844Mdrwxr-xr-x 2 mysql mysql 4.0K Nov  1 03:39 .drwxr-xr-x 5 root  root  4.0K Nov  1 03:50 ..-rw-r--r-- 1 root  root  701M Nov  1 03:38 hetumjt6v5buc.sql-rw-r--r-- 1 root  root  144M Nov  1 03:38 hetumjt6v5buc.sql.gz-rw-r--r-- 1 root  root    33 Nov  1 03:38 snap.time-rw-r--r-- 1 root  root  275K Nov  1 03:38 sys.sql-rw-r--r-- 1 root  root   21K Nov  1 03:38 sys.sql.gz192.168.5.5 hetumjt6v5buc root@i-071fe16413691425f:/mnt/recovery/vol-04d14f1d30cbbff76# pwd/mnt/recovery/vol-04d14f1d30cbbff76 &nbsp;  Snapshot from October 25 is mounted at /mnt/recovery/vol-0b5f8316dbdca5f1c   192.168.5.5 hetumjt6v5buc root@i-071fe16413691425f:/mnt/recovery/vol-0b5f8316dbdca5f1c# cat snap.time2023-10-25 04:35:15.855000+00:00192.168.5.5 hetumjt6v5buc root@i-071fe16413691425f:/mnt/recovery/vol-0b5f8316dbdca5f1c# ls -lahtotal 870Mdrwxr-xr-x 2 mysql mysql 4.0K Nov  1 03:46 .drwxr-xr-x 5 root  root  4.0K Nov  1 03:50 ..-rw-r--r-- 1 root  root  724M Nov  1 03:45 hetumjt6v5buc.sql-rw-r--r-- 1 root  root  147M Nov  1 03:45 hetumjt6v5buc.sql.gz-rw-r--r-- 1 root  root    33 Nov  1 03:45 snap.time-rw-r--r-- 1 root  root  275K Nov  1 03:45 sys.sql-rw-r--r-- 1 root  root   21K Nov  1 03:45 sys.sql.gz192.168.5.5 hetumjt6v5buc root@i-071fe16413691425f:/mnt/recovery/vol-0b5f8316dbdca5f1c# pwd/mnt/recovery/vol-0b5f8316dbdca5f1c &nbsp;  Snapshot from the end of September is mounted at /mnt/recovery/vol-054165c93698bec8a   192.168.5.5 hetumjt6v5buc root@i-071fe16413691425f:/mnt/recovery/vol-054165c93698bec8a# cat snap.time2023-09-28 03:05:00.885000+00:00192.168.5.5 hetumjt6v5buc root@i-071fe16413691425f:/mnt/recovery/vol-054165c93698bec8a# ls -lahtotal 833Mdrwxr-xr-x 2 mysql mysql 4.0K Nov  1 03:50 .drwxr-xr-x 5 root  root  4.0K Nov  1 03:50 ..-rw-r--r-- 1 root  root  691M Nov  1 03:50 hetumjt6v5buc.sql-rw-r--r-- 1 root  root  142M Nov  1 03:50 hetumjt6v5buc.sql.gz-rw-r--r-- 1 root  root    33 Nov  1 03:50 snap.time-rw-r--r-- 1 root  root  275K Nov  1 03:50 sys.sql-rw-r--r-- 1 root  root   21K Nov  1 03:50 sys.sql.gz192.168.5.5 hetumjt6v5buc root@i-071fe16413691425f:/mnt/recovery/vol-054165c93698bec8a# pwd/mnt/recovery/vol-054165c93698bec8a &nbsp;Please let us know if there\\'s anything that we can do for you.&nbsp;Best regards,Najib.,DB Backups Hi Jan,  Could you please provide one more from anytime in August 2023?  Regards,  Maxim,DB Backups https://resize.platform.sh:4443/jenkins/job/hetumjt6v5buc-retrieve-snap-04b9b19b0c02c4c3e/&nbsp;https://resize.platform.sh:4443/jenkins/job/hetumjt6v5buc-retrieve-snap-00762090f7c89bb15/&nbsp;,DB Backups Hello Balance,  We have completed the initial review and triage of your support request concerning DB Backups  and have determined that your issue requires additional investigation.      This ticket has been put in the appropriate category and prioritized accordingly. The next available application specialist will respond to your support request. You will know that your support request is being looked into once another support engineer provides an update.         Please note that we have recently updated our policies around accessing your data. The issue/s described in this support request will require Adobe Commerce Customer Engineering to access your data in order to investigate the issue.     Please review the article below and have the account owner of Ego Pharmaceuticals Pty. Ltdâ\\x80\\x8b update this support request confirming that we have permission to access your data in order to troubleshoot any issues/tickets that might require it per our data access and privacy policy.     Also, ensuring this case is opened under the correct organization will allow our team to provide the proper support as quickly as possible.  https://experienceleague.adobe.com/docs/commerce-knowledge-base/kb/announcements/commerce-announcements/adobe-support-customer-data-access-and-privacy.html?lang=en    Please note: The account owner can provide data access consent for future tickets by managing this setting as shown in the article above.   Regards,  Amber Marwaha  Technical Support Customer Engineering | Adobe Commerce,DB Backups $ ci hetumjt6v5buc | grep mysql  mysql on xvdj (Ì¶1Ì¶0Ì¶GÌ¶B)$ $ snaps hetumjt6v5bucFound 427 snapshots for cluster hetumjt6v5buc between 2023-06-11T16:20:46Z and 2023-11-01T23:05:44Z   in /home/jbakuwel/Downloads/hetumjt6v5buc.csv which was last updated on 2023-11-01T23:32:59ZVolume [\\'/dev/sdj\\', \\'/dev/sdi\\']          : /dev/sdjDate/time [YYYY-MM-DDTHH:MM:SSZ]         : 2023-07-01T17:50:27ZFound 2 snapshots for volume /dev/sdj of cluster hetumjt6v5buc between 2023-06-21T06:20:27Z and 2023-07-11T05:20:27Z:2023-07-01T17:50:27Z: backup auto-retrieve --cluster_type mc --name hetumjt6v5buc --region ap-southeast-2 --provider aws --mariadb snap-04b9b19b0c02c4c3e --dispose_days 72023-07-10T20:04:59Z: backup auto-retrieve --cluster_type mc --name hetumjt6v5buc --region ap-southeast-2 --provider aws --mariadb snap-00762090f7c89bb15 --dispose_days 7$ $ snaps hetumjt6v5bucFound 427 snapshots for cluster hetumjt6v5buc between 2023-06-11T16:20:46Z and 2023-11-01T23:05:44Z   in /home/jbakuwel/Downloads/hetumjt6v5buc.csv which was last updated on 2023-11-01T23:32:59ZVolume [\\'/dev/sdi\\', \\'/dev/sdj\\']          : /dev/sdjDate/time [YYYY-MM-DDTHH:MM:SSZ]         : 2023-07-10T20:04:59ZFound 2 snapshots for volume /dev/sdj of cluster hetumjt6v5buc between 2023-06-30T08:34:59Z and 2023-07-20T07:34:59Z:2023-07-01T17:50:27Z: backup auto-retrieve --cluster_type mc --name hetumjt6v5buc --region ap-southeast-2 --provider aws --mariadb snap-04b9b19b0c02c4c3e --dispose_days 72023-07-10T20:04:59Z: backup auto-retrieve --cluster_type mc --name hetumjt6v5buc --region ap-southeast-2 --provider aws --mariadb snap-00762090f7c89bb15 --dispose_days 7$  &nbsp;,DB Backups Adobe Commerce Infrastructure Support&nbsp;&nbsp;Hi Najib, &nbsp;can you provide &nbsp;DB backup for the July ( &nbsp;Nearly date around \"2023-07-13\" &nbsp; ),DB Backups Hi Maxim,&nbsp;I\\'m looking into this now.&nbsp;Kind regards,Jan&nbsp;,DB Backups Hello,  Our client has been having issues relating to Fastly Rate Limits.  They have requested we pull DB backups from the following days (AEST):   22nd October or closest before 23rd  25th October or after 23rd&nbsp;  End of September&nbsp;   What is the usual process for this?  Thank you,DB Backups $ snaps hetumjt6v5bucFound 427 snapshots for cluster hetumjt6v5buc between 2023-06-11T16:20:46Z and 2023-11-01T23:05:44Z   in /home/jbakuwel/Downloads/hetumjt6v5buc.csv which was last updated on 2023-11-01T23:32:59ZVolume [\\'/dev/sdi\\', \\'/dev/sdj\\']          : /dev/sdjDate/time [YYYY-MM-DDTHH:MM:SSZ]         : 2023-08-15T00:00:00ZFound 4 snapshots for volume /dev/sdj of cluster hetumjt6v5buc between 2023-08-06T11:00:00Z and 2023-08-22T13:00:00Z:2023-08-08T13:19:42Z: backup auto-retrieve --cluster_type mc --name hetumjt6v5buc --region ap-southeast-2 --provider aws --mariadb snap-0faaf42bb8a28bdbf --dispose_days 72023-08-08T15:49:23Z: backup auto-retrieve --cluster_type mc --name hetumjt6v5buc --region ap-southeast-2 --provider aws --mariadb snap-0af8fca012dc9295b --dispose_days 72023-08-13T23:19:10Z: backup auto-retrieve --cluster_type mc --name hetumjt6v5buc --region ap-southeast-2 --provider aws --mariadb snap-00520599c019099cd --dispose_days 72023-08-23T00:34:10Z: backup auto-retrieve --cluster_type mc --name hetumjt6v5buc --region ap-southeast-2 --provider aws --mariadb snap-09b29b3780ef14870 --dispose_days 7,DB Backups $ backup auto-retrieve --cluster_type mc --name hetumjt6v5buc --region ap-southeast-2 --provider aws --mariadb snap-0af8fca012dc9295b --dispose_days 72023-11-03 11:13:43,571 INFO: Creating jenkins job for this backup retrieval...2023-11-03 11:13:46,086 INFO: Successfully created hetumjt6v5buc-retrieve-snap-0af8fca012dc9295b jenkins job2023-11-03 11:13:46,086 INFO: Scheduling this job with 60 secs delay...2023-11-03 11:13:47,353 INFO: Successfully scheduled jenkins job for this retrieval.$  &nbsp;,DB Backups Hello,&nbsp;We have the following snapshots for July 1st, July 10th, and July 25th: hetumjt6v5buc,i-0a6564600908ffa67,/dev/sdj,ap-southeast-2b,Backup snapshot of vol-0c60e0b4e317535b2,1,100%,snap-04b9b19b0c02c4c3e,2023-07-01T17:50:27Z,completed,vol-0c60e0b4e317535b2,10hetumjt6v5buc,i-0c574d8a96f14793e,/dev/sdj,ap-southeast-2c,Backup snapshot of vol-0a8289f1a40906679,1,100%,snap-00762090f7c89bb15,2023-07-10T20:04:59Z,completed,vol-0a8289f1a40906679,10hetumjt6v5buc,i-071fe16413691425f,/dev/sdj,ap-southeast-2a,Backup snapshot of vol-0381f04c14f247e05,1,100%,snap-032e686f5cfaafc39,2023-07-25T02:51:21Z,completed,vol-0381f04c14f247e05,10 &nbsp;Please let us know which one we should retrieve.&nbsp;Best regards,Najib.,DB Backups Hello,This issue requires additional investigation from an infrastructure specialist. I\\'ve copied an infrastructure specialist on this support request so they can look into the issue and provide you with an update.NikhilCustomer Engineering, Adobe Commerce,DB Backups Hi Maxim,&nbsp;I have started the retrieval process for the database snapshots of 1st and 10th of July.These will be mounted as per usual on node 1 of your production cluster once completed. This usually takes some time.The snapshots will be automatically disgarded after 7 days.&nbsp;Kind regards,Jan&nbsp;&nbsp;,DB Backups Before Oct 23 hetumjt6v5buc,i-0c574d8a96f14793e,/dev/sdj,ap-southeast-2c,Backup snapshot of vol-0a8289f1a40906679,1,100%,snap-0a546f382246f9275,2023-10-19T15:19:51Z,completed,vol-0a8289f1a40906679,10 &nbsp;After Oct 23 before Oct 25 hetumjt6v5buc,i-0a6564600908ffa67,/dev/sdj,ap-southeast-2b,Backup snapshot of vol-0c60e0b4e317535b2,1,100%,snap-02f1c546706f9ca48,2023-10-25T04:35:15Z,completed,vol-0c60e0b4e317535b2,10hetumjt6v5buc,i-0c574d8a96f14793e,/dev/sdj,ap-southeast-2c,Backup snapshot of vol-0a8289f1a40906679,1,100%,snap-0fb6b93aede72895b,2023-10-25T19:06:02Z,completed,vol-0a8289f1a40906679,10hetumjt6v5buc,i-071fe16413691425f,/dev/sdj,ap-southeast-2a,Backup snapshot of vol-0381f04c14f247e05,1,100%,snap-0b847277dbb5667fb,2023-10-25T19:33:53Z,completed,vol-0381f04c14f247e05,10 &nbsp;End of September hetumjt6v5buc,i-0c574d8a96f14793e,/dev/sdj,ap-southeast-2c,Backup snapshot of vol-0a8289f1a40906679,1,100%,snap-07c70fe25aa09ee43,2023-09-28T03:05:00Z,completed,vol-0a8289f1a40906679,10,DB Backups [23:35|01-11 12:35|02-11] ~ $ backup auto-retrieve --cluster_type mc --name hetumjt6v5buc --region ap-southeast-2 --provider aws --mariadb snap-04b9b19b0c02c4c3e --dispose_days 72023-11-02 12:37:10,171 INFO: Creating jenkins job for this backup retrieval...2023-11-02 12:37:12,861 INFO: Successfully created hetumjt6v5buc-retrieve-snap-04b9b19b0c02c4c3e jenkins job2023-11-02 12:37:12,861 INFO: Scheduling this job with 60 secs delay...2023-11-02 12:37:14,305 INFO: Successfully scheduled jenkins job for this retrieval.[23:37|01-11 12:37|02-11] ~ $ backup auto-retrieve --cluster_type mc --name hetumjt6v5buc --region ap-southeast-2 --provider aws --mariadb snap-00762090f7c89bb15 --dispose_days 72023-11-02 12:37:37,751 INFO: Creating jenkins job for this backup retrieval...2023-11-02 12:37:41,261 INFO: Successfully created hetumjt6v5buc-retrieve-snap-00762090f7c89bb15 jenkins job2023-11-02 12:37:41,262 INFO: Scheduling this job with 60 secs delay...2023-11-02 12:37:42,584 INFO: Successfully scheduled jenkins job for this retrieval.[23:37|01-11 12:37|02-11] ~ $  &nbsp;,DB Backups Hello,The Adobe Commerce Customer Engineering Team is still awaiting your reply. Please provide the requested information so that we can better assist you in resolving this issue in a timely manner. Support requests awaiting additional information will be closed if no response is received within 3 days following this notification.Thank you,Adobe Commerce Customer EngineeringDocumentation | Help Center | Community | Status,DB Backups Hi Balance ,&nbsp;Take your time and send us list of all required dates all together .&nbsp;Awaiting your final list of dates from your end.  Regards,Nikhil Patel - Customer Engineering, Adobe Commerce,DB Backups Hi ,&nbsp;Thank you for getting in touch with Magento Technical Support. I have now taken ownership of this ticket and I will assist you with your issue.&nbsp;I am reviewing your support case and will provide you with an answer or a request for additional information soon.  Regards,Nikhil Patel - Customer Engineering, Adobe Commerce,DB Backups Hi Najib,  Could you please provide July 1st and July 10th?  Regards,  Maxim,DB Backups Cheers Najib,  Do you guys hold anything from July?  We might need one more for \"2023-07-13\" as well.  Thank you,DB Backups Hello,The Adobe Commerce Customer Engineering Team is awaiting your reply. Please provide the requested information so that we can better assist you in resolving this issue as soon as possible. Support requests awaiting additional information will be closed if no response is received within 5 days following this notification.Thank you,Adobe Commerce Customer Engineering TeamDocumentation | Help Center | Community | Status,DB Backups Accepted by Platform.sh.,DB Backups Project title: Ego Pharmaceuticals | Project ID: hetumjt6v5buc Cloud: Magento | Project plan: magento/pro_core12 | Region: ap-3.magento.cloud | Default branch: master | Default domain: mcprod.egoeshop.com.auDedicated tag: hetumjt6v5buc@hetumjt6v5buc.ent.magento.cloud (Grafana | Angel)  Console URL: https://console.magento.cloud/luella-genato/hetumjt6v5buc  Magento version: v2_4_6-p2 | AMS Customer: no | Premier Support Customer: no  Fastly services:hetumjt6v5buc - 7dDWrLOK0LgbNc36tv3c07hetumjt6v5buc_stg - 0HNGZU6vntckySyzlPr90P,DB Backups Adobe Commerce Infrastructure Support&nbsp;&nbsp;IN Addition merchant &nbsp;requested one more from anytime in August 2023.&nbsp;Can you please confirm and convey information for the Aug 2023.&nbsp;,DB Backups Hi Balance&nbsp;We are checking with our infra team which is the nearest backup available withing our policy&nbsp;https://experienceleague.adobe.com/docs/commerce-cloud-service/user-guide/architecture/pro-architecture.html&nbsp;Awaiting their feedback on the same !&nbsp;  Regards,Nikhil Patel - Customer Engineering, Adobe Commerce,DB Backups Hi Maxim,&nbsp;As requested, I have started the retrieval process for a database snapshot taken in August. I\\'ve picked the snapshot taken at 2023-08-08T15:49:23Z&nbsp;Kind regards,Jan&nbsp;'"
      ]
     },
     "execution_count": 369,
     "metadata": {},
     "output_type": "execute_result"
    }
   ],
   "source": [
    "#displaying the first row of the first column in the dataset \n",
    "df1 = df\n",
    "df1.iloc[0][0]"
   ]
  },
  {
   "cell_type": "code",
   "execution_count": 371,
   "id": "e045776d-7e75-4b4e-979a-58509a7353a3",
   "metadata": {
    "tags": []
   },
   "outputs": [],
   "source": [
    "#import regex and removing .com,.org,.xml,.net and date-time in YYYY-MM-DDTHH:MM:SSZ format and \\d{4}-\\d{2}-\\d{2}T\\d{2}:\\d{2}:\\d{2}Z format \n",
    "import re\n",
    "\n",
    "df1['text'] = df1['text'].apply(lambda x: re.sub(r'\\b(?:\\S*?\\.(?:com|net|org|xml|php|html))\\b',' ',x))\n",
    "df1['text'] = df1['text'].apply(lambda x: re.sub(r'\\[YYYY-MM-DDTHH:MM:SSZ\\]', ' ',x))\n",
    "df1['text'] = df1['text'].apply(lambda x: re.sub(r'\\[\\d{4}-\\d{2}-\\d{2}T\\d{2}:\\d{2}:\\d{2}Z\\]', ' ',x))"
   ]
  },
  {
   "cell_type": "code",
   "execution_count": 372,
   "id": "3c173890-ff8e-46ad-b454-eca4386de578",
   "metadata": {
    "tags": []
   },
   "outputs": [
    {
     "data": {
      "text/plain": [
       "'DB Backups &nbsp;What project is affected?: hetumjt6v5buc&nbsp;What environment(s) are affected?: ProductionStaging Environment name (if staging is not selected leave empty):&nbsp; -&nbsp;What is the issue or change request?: &nbsp;&nbsp;DB Backup Required by merchant for below dates. 1 22nd October or closest before 23rd&nbsp;2 25th October or after 23rd&nbsp;3 End of September&nbsp; &nbsp;(Issues) How do we replicate/observe the issue?: &nbsp;NA&nbsp;(Change Requests) Why are we making this change?: Customer Request&nbsp;What has already been done to troubleshoot or to validate this request?: &nbsp;NA&nbsp;Is the production site live?: Yes&nbsp;,DB Backups Data Access Consent has not been granted for this case. Please make sure to have the Primary MC Contact grant explicit permission on this case should you need to access the client\\'s data via ssh/ftp/api or through any admin panel as well as when backups are needed from on-prem customers.,DB Backups Hi Nikhil,  This is the last one.  Please provide one more from anytime in August 2023  Regards,  Maxim,DB Backups Hello,Your support request has now been closed. If you are still in need of support for this issue, please create a follow-up support request directly from this one and we will reopen our investigation into this issue right away.You may receive an email with a Customer Support experience survey link. Adobe is committed to providing you with a best-in-class Customer Support experience and we would greatly appreciate your feedback to help us improve.Thank you,Adobe Commerce Customer Engineering TeamDocumentation | Help Center | Community | Status,DB Backups Steps to Reproduce: .,DB Backups Hi Balance ,&nbsp;We have added that in your request to our infra team we are waiting for their feedback on this.&nbsp;Will keep you posted on the same.  Regards,Nikhil Patel - Customer Engineering, Adobe Commerce,DB Backups Hello,&nbsp;I found the following database disk snapshot that fits your requirement:  Before October 23: I will retrieve the following snapshot from 2023-10-19T15:19:51Z   hetumjt6v5buc,i-0c574d8a96f14793e,/dev/sdj,ap-southeast-2c,Backup snapshot of vol-0a8289f1a40906679,1,100%,snap-0a546f382246f9275,2023-10-19T15:19:51Z,completed,vol-0a8289f1a40906679,10   October 25, or after October 23: I will retrieve the following snapshot from 2023-10-25T04:35:15Z   hetumjt6v5buc,i-0a6564600908ffa67,/dev/sdj,ap-southeast-2b,Backup snapshot of vol-0c60e0b4e317535b2,1,100%,snap-02f1c546706f9ca48,2023-10-25T04:35:15Z,completed,vol-0c60e0b4e317535b2,10   The end of September: I will retrieve the following snapshot from 2023-09-28T03:05:00Z   hetumjt6v5buc,i-0c574d8a96f14793e,/dev/sdj,ap-southeast-2c,Backup snapshot of vol-0a8289f1a40906679,1,100%,snap-07c70fe25aa09ee43,2023-09-28T03:05:00Z,completed,vol-0a8289f1a40906679,10 &nbsp;I will update you as soon as the retrieval process is completed.&nbsp;Best regards,Najib.,DB Backups Hello,&nbsp;The snapshot are retrieved and mounted on the first node of the production cluster:  Snapshot from October 19 is mounted at /mnt/recovery/vol-04d14f1d30cbbff76   192.168.5.5 hetumjt6v5buc root@i-071fe16413691425f:/mnt/recovery/vol-04d14f1d30cbbff76# cat snap.time2023-10-19 15:19:51.430000+00:00192.168.5.5 hetumjt6v5buc root@i-071fe16413691425f:/mnt/recovery/vol-04d14f1d30cbbff76# ls -lahtotal 844Mdrwxr-xr-x 2 mysql mysql 4.0K Nov  1 03:39 .drwxr-xr-x 5 root  root  4.0K Nov  1 03:50 ..-rw-r--r-- 1 root  root  701M Nov  1 03:38 hetumjt6v5buc.sql-rw-r--r-- 1 root  root  144M Nov  1 03:38 hetumjt6v5buc.sql.gz-rw-r--r-- 1 root  root    33 Nov  1 03:38 snap.time-rw-r--r-- 1 root  root  275K Nov  1 03:38 sys.sql-rw-r--r-- 1 root  root   21K Nov  1 03:38 sys.sql.gz192.168.5.5 hetumjt6v5buc root@i-071fe16413691425f:/mnt/recovery/vol-04d14f1d30cbbff76# pwd/mnt/recovery/vol-04d14f1d30cbbff76 &nbsp;  Snapshot from October 25 is mounted at /mnt/recovery/vol-0b5f8316dbdca5f1c   192.168.5.5 hetumjt6v5buc root@i-071fe16413691425f:/mnt/recovery/vol-0b5f8316dbdca5f1c# cat snap.time2023-10-25 04:35:15.855000+00:00192.168.5.5 hetumjt6v5buc root@i-071fe16413691425f:/mnt/recovery/vol-0b5f8316dbdca5f1c# ls -lahtotal 870Mdrwxr-xr-x 2 mysql mysql 4.0K Nov  1 03:46 .drwxr-xr-x 5 root  root  4.0K Nov  1 03:50 ..-rw-r--r-- 1 root  root  724M Nov  1 03:45 hetumjt6v5buc.sql-rw-r--r-- 1 root  root  147M Nov  1 03:45 hetumjt6v5buc.sql.gz-rw-r--r-- 1 root  root    33 Nov  1 03:45 snap.time-rw-r--r-- 1 root  root  275K Nov  1 03:45 sys.sql-rw-r--r-- 1 root  root   21K Nov  1 03:45 sys.sql.gz192.168.5.5 hetumjt6v5buc root@i-071fe16413691425f:/mnt/recovery/vol-0b5f8316dbdca5f1c# pwd/mnt/recovery/vol-0b5f8316dbdca5f1c &nbsp;  Snapshot from the end of September is mounted at /mnt/recovery/vol-054165c93698bec8a   192.168.5.5 hetumjt6v5buc root@i-071fe16413691425f:/mnt/recovery/vol-054165c93698bec8a# cat snap.time2023-09-28 03:05:00.885000+00:00192.168.5.5 hetumjt6v5buc root@i-071fe16413691425f:/mnt/recovery/vol-054165c93698bec8a# ls -lahtotal 833Mdrwxr-xr-x 2 mysql mysql 4.0K Nov  1 03:50 .drwxr-xr-x 5 root  root  4.0K Nov  1 03:50 ..-rw-r--r-- 1 root  root  691M Nov  1 03:50 hetumjt6v5buc.sql-rw-r--r-- 1 root  root  142M Nov  1 03:50 hetumjt6v5buc.sql.gz-rw-r--r-- 1 root  root    33 Nov  1 03:50 snap.time-rw-r--r-- 1 root  root  275K Nov  1 03:50 sys.sql-rw-r--r-- 1 root  root   21K Nov  1 03:50 sys.sql.gz192.168.5.5 hetumjt6v5buc root@i-071fe16413691425f:/mnt/recovery/vol-054165c93698bec8a# pwd/mnt/recovery/vol-054165c93698bec8a &nbsp;Please let us know if there\\'s anything that we can do for you.&nbsp;Best regards,Najib.,DB Backups Hi Jan,  Could you please provide one more from anytime in August 2023?  Regards,  Maxim,DB Backups https://resize.platform.sh:4443/jenkins/job/hetumjt6v5buc-retrieve-snap-04b9b19b0c02c4c3e/&nbsp;https://resize.platform.sh:4443/jenkins/job/hetumjt6v5buc-retrieve-snap-00762090f7c89bb15/&nbsp;,DB Backups Hello Balance,  We have completed the initial review and triage of your support request concerning DB Backups  and have determined that your issue requires additional investigation.      This ticket has been put in the appropriate category and prioritized accordingly. The next available application specialist will respond to your support request. You will know that your support request is being looked into once another support engineer provides an update.         Please note that we have recently updated our policies around accessing your data. The issue/s described in this support request will require Adobe Commerce Customer Engineering to access your data in order to investigate the issue.     Please review the article below and have the account owner of Ego Pharmaceuticals Pty. Ltdâ\\x80\\x8b update this support request confirming that we have permission to access your data in order to troubleshoot any issues/tickets that might require it per our data access and privacy policy.     Also, ensuring this case is opened under the correct organization will allow our team to provide the proper support as quickly as possible.    ?lang=en    Please note: The account owner can provide data access consent for future tickets by managing this setting as shown in the article above.   Regards,  Amber Marwaha  Technical Support Customer Engineering | Adobe Commerce,DB Backups $ ci hetumjt6v5buc | grep mysql  mysql on xvdj (Ì¶1Ì¶0Ì¶GÌ¶B)$ $ snaps hetumjt6v5bucFound 427 snapshots for cluster hetumjt6v5buc between 2023-06-11T16:20:46Z and 2023-11-01T23:05:44Z   in /home/jbakuwel/Downloads/hetumjt6v5buc.csv which was last updated on 2023-11-01T23:32:59ZVolume [\\'/dev/sdj\\', \\'/dev/sdi\\']          : /dev/sdjDate/time           : 2023-07-01T17:50:27ZFound 2 snapshots for volume /dev/sdj of cluster hetumjt6v5buc between 2023-06-21T06:20:27Z and 2023-07-11T05:20:27Z:2023-07-01T17:50:27Z: backup auto-retrieve --cluster_type mc --name hetumjt6v5buc --region ap-southeast-2 --provider aws --mariadb snap-04b9b19b0c02c4c3e --dispose_days 72023-07-10T20:04:59Z: backup auto-retrieve --cluster_type mc --name hetumjt6v5buc --region ap-southeast-2 --provider aws --mariadb snap-00762090f7c89bb15 --dispose_days 7$ $ snaps hetumjt6v5bucFound 427 snapshots for cluster hetumjt6v5buc between 2023-06-11T16:20:46Z and 2023-11-01T23:05:44Z   in /home/jbakuwel/Downloads/hetumjt6v5buc.csv which was last updated on 2023-11-01T23:32:59ZVolume [\\'/dev/sdi\\', \\'/dev/sdj\\']          : /dev/sdjDate/time           : 2023-07-10T20:04:59ZFound 2 snapshots for volume /dev/sdj of cluster hetumjt6v5buc between 2023-06-30T08:34:59Z and 2023-07-20T07:34:59Z:2023-07-01T17:50:27Z: backup auto-retrieve --cluster_type mc --name hetumjt6v5buc --region ap-southeast-2 --provider aws --mariadb snap-04b9b19b0c02c4c3e --dispose_days 72023-07-10T20:04:59Z: backup auto-retrieve --cluster_type mc --name hetumjt6v5buc --region ap-southeast-2 --provider aws --mariadb snap-00762090f7c89bb15 --dispose_days 7$  &nbsp;,DB Backups Adobe Commerce Infrastructure Support&nbsp;&nbsp;Hi Najib, &nbsp;can you provide &nbsp;DB backup for the July ( &nbsp;Nearly date around \"2023-07-13\" &nbsp; ),DB Backups Hi Maxim,&nbsp;I\\'m looking into this now.&nbsp;Kind regards,Jan&nbsp;,DB Backups Hello,  Our client has been having issues relating to Fastly Rate Limits.  They have requested we pull DB backups from the following days (AEST):   22nd October or closest before 23rd  25th October or after 23rd&nbsp;  End of September&nbsp;   What is the usual process for this?  Thank you,DB Backups $ snaps hetumjt6v5bucFound 427 snapshots for cluster hetumjt6v5buc between 2023-06-11T16:20:46Z and 2023-11-01T23:05:44Z   in /home/jbakuwel/Downloads/hetumjt6v5buc.csv which was last updated on 2023-11-01T23:32:59ZVolume [\\'/dev/sdi\\', \\'/dev/sdj\\']          : /dev/sdjDate/time           : 2023-08-15T00:00:00ZFound 4 snapshots for volume /dev/sdj of cluster hetumjt6v5buc between 2023-08-06T11:00:00Z and 2023-08-22T13:00:00Z:2023-08-08T13:19:42Z: backup auto-retrieve --cluster_type mc --name hetumjt6v5buc --region ap-southeast-2 --provider aws --mariadb snap-0faaf42bb8a28bdbf --dispose_days 72023-08-08T15:49:23Z: backup auto-retrieve --cluster_type mc --name hetumjt6v5buc --region ap-southeast-2 --provider aws --mariadb snap-0af8fca012dc9295b --dispose_days 72023-08-13T23:19:10Z: backup auto-retrieve --cluster_type mc --name hetumjt6v5buc --region ap-southeast-2 --provider aws --mariadb snap-00520599c019099cd --dispose_days 72023-08-23T00:34:10Z: backup auto-retrieve --cluster_type mc --name hetumjt6v5buc --region ap-southeast-2 --provider aws --mariadb snap-09b29b3780ef14870 --dispose_days 7,DB Backups $ backup auto-retrieve --cluster_type mc --name hetumjt6v5buc --region ap-southeast-2 --provider aws --mariadb snap-0af8fca012dc9295b --dispose_days 72023-11-03 11:13:43,571 INFO: Creating jenkins job for this backup retrieval...2023-11-03 11:13:46,086 INFO: Successfully created hetumjt6v5buc-retrieve-snap-0af8fca012dc9295b jenkins job2023-11-03 11:13:46,086 INFO: Scheduling this job with 60 secs delay...2023-11-03 11:13:47,353 INFO: Successfully scheduled jenkins job for this retrieval.$  &nbsp;,DB Backups Hello,&nbsp;We have the following snapshots for July 1st, July 10th, and July 25th: hetumjt6v5buc,i-0a6564600908ffa67,/dev/sdj,ap-southeast-2b,Backup snapshot of vol-0c60e0b4e317535b2,1,100%,snap-04b9b19b0c02c4c3e,2023-07-01T17:50:27Z,completed,vol-0c60e0b4e317535b2,10hetumjt6v5buc,i-0c574d8a96f14793e,/dev/sdj,ap-southeast-2c,Backup snapshot of vol-0a8289f1a40906679,1,100%,snap-00762090f7c89bb15,2023-07-10T20:04:59Z,completed,vol-0a8289f1a40906679,10hetumjt6v5buc,i-071fe16413691425f,/dev/sdj,ap-southeast-2a,Backup snapshot of vol-0381f04c14f247e05,1,100%,snap-032e686f5cfaafc39,2023-07-25T02:51:21Z,completed,vol-0381f04c14f247e05,10 &nbsp;Please let us know which one we should retrieve.&nbsp;Best regards,Najib.,DB Backups Hello,This issue requires additional investigation from an infrastructure specialist. I\\'ve copied an infrastructure specialist on this support request so they can look into the issue and provide you with an update.NikhilCustomer Engineering, Adobe Commerce,DB Backups Hi Maxim,&nbsp;I have started the retrieval process for the database snapshots of 1st and 10th of July.These will be mounted as per usual on node 1 of your production cluster once completed. This usually takes some time.The snapshots will be automatically disgarded after 7 days.&nbsp;Kind regards,Jan&nbsp;&nbsp;,DB Backups Before Oct 23 hetumjt6v5buc,i-0c574d8a96f14793e,/dev/sdj,ap-southeast-2c,Backup snapshot of vol-0a8289f1a40906679,1,100%,snap-0a546f382246f9275,2023-10-19T15:19:51Z,completed,vol-0a8289f1a40906679,10 &nbsp;After Oct 23 before Oct 25 hetumjt6v5buc,i-0a6564600908ffa67,/dev/sdj,ap-southeast-2b,Backup snapshot of vol-0c60e0b4e317535b2,1,100%,snap-02f1c546706f9ca48,2023-10-25T04:35:15Z,completed,vol-0c60e0b4e317535b2,10hetumjt6v5buc,i-0c574d8a96f14793e,/dev/sdj,ap-southeast-2c,Backup snapshot of vol-0a8289f1a40906679,1,100%,snap-0fb6b93aede72895b,2023-10-25T19:06:02Z,completed,vol-0a8289f1a40906679,10hetumjt6v5buc,i-071fe16413691425f,/dev/sdj,ap-southeast-2a,Backup snapshot of vol-0381f04c14f247e05,1,100%,snap-0b847277dbb5667fb,2023-10-25T19:33:53Z,completed,vol-0381f04c14f247e05,10 &nbsp;End of September hetumjt6v5buc,i-0c574d8a96f14793e,/dev/sdj,ap-southeast-2c,Backup snapshot of vol-0a8289f1a40906679,1,100%,snap-07c70fe25aa09ee43,2023-09-28T03:05:00Z,completed,vol-0a8289f1a40906679,10,DB Backups [23:35|01-11 12:35|02-11] ~ $ backup auto-retrieve --cluster_type mc --name hetumjt6v5buc --region ap-southeast-2 --provider aws --mariadb snap-04b9b19b0c02c4c3e --dispose_days 72023-11-02 12:37:10,171 INFO: Creating jenkins job for this backup retrieval...2023-11-02 12:37:12,861 INFO: Successfully created hetumjt6v5buc-retrieve-snap-04b9b19b0c02c4c3e jenkins job2023-11-02 12:37:12,861 INFO: Scheduling this job with 60 secs delay...2023-11-02 12:37:14,305 INFO: Successfully scheduled jenkins job for this retrieval.[23:37|01-11 12:37|02-11] ~ $ backup auto-retrieve --cluster_type mc --name hetumjt6v5buc --region ap-southeast-2 --provider aws --mariadb snap-00762090f7c89bb15 --dispose_days 72023-11-02 12:37:37,751 INFO: Creating jenkins job for this backup retrieval...2023-11-02 12:37:41,261 INFO: Successfully created hetumjt6v5buc-retrieve-snap-00762090f7c89bb15 jenkins job2023-11-02 12:37:41,262 INFO: Scheduling this job with 60 secs delay...2023-11-02 12:37:42,584 INFO: Successfully scheduled jenkins job for this retrieval.[23:37|01-11 12:37|02-11] ~ $  &nbsp;,DB Backups Hello,The Adobe Commerce Customer Engineering Team is still awaiting your reply. Please provide the requested information so that we can better assist you in resolving this issue in a timely manner. Support requests awaiting additional information will be closed if no response is received within 3 days following this notification.Thank you,Adobe Commerce Customer EngineeringDocumentation | Help Center | Community | Status,DB Backups Hi Balance ,&nbsp;Take your time and send us list of all required dates all together .&nbsp;Awaiting your final list of dates from your end.  Regards,Nikhil Patel - Customer Engineering, Adobe Commerce,DB Backups Hi ,&nbsp;Thank you for getting in touch with Magento Technical Support. I have now taken ownership of this ticket and I will assist you with your issue.&nbsp;I am reviewing your support case and will provide you with an answer or a request for additional information soon.  Regards,Nikhil Patel - Customer Engineering, Adobe Commerce,DB Backups Hi Najib,  Could you please provide July 1st and July 10th?  Regards,  Maxim,DB Backups Cheers Najib,  Do you guys hold anything from July?  We might need one more for \"2023-07-13\" as well.  Thank you,DB Backups Hello,The Adobe Commerce Customer Engineering Team is awaiting your reply. Please provide the requested information so that we can better assist you in resolving this issue as soon as possible. Support requests awaiting additional information will be closed if no response is received within 5 days following this notification.Thank you,Adobe Commerce Customer Engineering TeamDocumentation | Help Center | Community | Status,DB Backups Accepted by Platform.sh.,DB Backups Project title: Ego Pharmaceuticals | Project ID: hetumjt6v5buc Cloud: Magento | Project plan: magento/pro_core12 | Region: ap-3.magento.cloud | Default branch: master | Default domain:  .auDedicated tag: hetumjt6v5buc@hetumjt6v5buc.ent.magento.cloud (Grafana | Angel)  Console URL: https://console.magento.cloud/luella-genato/hetumjt6v5buc  Magento version: v2_4_6-p2 | AMS Customer: no | Premier Support Customer: no  Fastly services:hetumjt6v5buc - 7dDWrLOK0LgbNc36tv3c07hetumjt6v5buc_stg - 0HNGZU6vntckySyzlPr90P,DB Backups Adobe Commerce Infrastructure Support&nbsp;&nbsp;IN Addition merchant &nbsp;requested one more from anytime in August 2023.&nbsp;Can you please confirm and convey information for the Aug 2023.&nbsp;,DB Backups Hi Balance&nbsp;We are checking with our infra team which is the nearest backup available withing our   &nbsp;Awaiting their feedback on the same !&nbsp;  Regards,Nikhil Patel - Customer Engineering, Adobe Commerce,DB Backups Hi Maxim,&nbsp;As requested, I have started the retrieval process for a database snapshot taken in August. I\\'ve picked the snapshot taken at 2023-08-08T15:49:23Z&nbsp;Kind regards,Jan&nbsp;'"
      ]
     },
     "execution_count": 372,
     "metadata": {},
     "output_type": "execute_result"
    }
   ],
   "source": [
    "#displaying the first row of the first column in the dataset\n",
    "\n",
    "df1.iloc[0][0]"
   ]
  },
  {
   "cell_type": "code",
   "execution_count": 379,
   "id": "77002028-ba90-4791-ab93-236eabe18019",
   "metadata": {
    "tags": []
   },
   "outputs": [],
   "source": [
    "#removing https:// words from the dataframe\n",
    "\n",
    "df1['text'] = df1['text'].apply(lambda x: re.sub(r'https://\\S+', ' ', x))"
   ]
  },
  {
   "cell_type": "code",
   "execution_count": 381,
   "id": "ad401714-eca7-48dc-a194-185a596b5431",
   "metadata": {
    "tags": []
   },
   "outputs": [
    {
     "data": {
      "text/plain": [
       "'DB Backups &nbsp;What project is affected?: hetumjt6v5buc&nbsp;What environment(s) are affected?: ProductionStaging Environment name (if staging is not selected leave empty):&nbsp; -&nbsp;What is the issue or change request?: &nbsp;&nbsp;DB Backup Required by merchant for below dates. 1 22nd October or closest before 23rd&nbsp;2 25th October or after 23rd&nbsp;3 End of September&nbsp; &nbsp;(Issues) How do we replicate/observe the issue?: &nbsp;NA&nbsp;(Change Requests) Why are we making this change?: Customer Request&nbsp;What has already been done to troubleshoot or to validate this request?: &nbsp;NA&nbsp;Is the production site live?: Yes&nbsp;,DB Backups Data Access Consent has not been granted for this case. Please make sure to have the Primary MC Contact grant explicit permission on this case should you need to access the client\\'s data via ssh/ftp/api or through any admin panel as well as when backups are needed from on-prem customers.,DB Backups Hi Nikhil,  This is the last one.  Please provide one more from anytime in August 2023  Regards,  Maxim,DB Backups Hello,Your support request has now been closed. If you are still in need of support for this issue, please create a follow-up support request directly from this one and we will reopen our investigation into this issue right away.You may receive an email with a Customer Support experience survey link. Adobe is committed to providing you with a best-in-class Customer Support experience and we would greatly appreciate your feedback to help us improve.Thank you,Adobe Commerce Customer Engineering TeamDocumentation | Help Center | Community | Status,DB Backups Steps to Reproduce: .,DB Backups Hi Balance ,&nbsp;We have added that in your request to our infra team we are waiting for their feedback on this.&nbsp;Will keep you posted on the same.  Regards,Nikhil Patel - Customer Engineering, Adobe Commerce,DB Backups Hello,&nbsp;I found the following database disk snapshot that fits your requirement:  Before October 23: I will retrieve the following snapshot from 2023-10-19T15:19:51Z   hetumjt6v5buc,i-0c574d8a96f14793e,/dev/sdj,ap-southeast-2c,Backup snapshot of vol-0a8289f1a40906679,1,100%,snap-0a546f382246f9275,2023-10-19T15:19:51Z,completed,vol-0a8289f1a40906679,10   October 25, or after October 23: I will retrieve the following snapshot from 2023-10-25T04:35:15Z   hetumjt6v5buc,i-0a6564600908ffa67,/dev/sdj,ap-southeast-2b,Backup snapshot of vol-0c60e0b4e317535b2,1,100%,snap-02f1c546706f9ca48,2023-10-25T04:35:15Z,completed,vol-0c60e0b4e317535b2,10   The end of September: I will retrieve the following snapshot from 2023-09-28T03:05:00Z   hetumjt6v5buc,i-0c574d8a96f14793e,/dev/sdj,ap-southeast-2c,Backup snapshot of vol-0a8289f1a40906679,1,100%,snap-07c70fe25aa09ee43,2023-09-28T03:05:00Z,completed,vol-0a8289f1a40906679,10 &nbsp;I will update you as soon as the retrieval process is completed.&nbsp;Best regards,Najib.,DB Backups Hello,&nbsp;The snapshot are retrieved and mounted on the first node of the production cluster:  Snapshot from October 19 is mounted at /mnt/recovery/vol-04d14f1d30cbbff76   192.168.5.5 hetumjt6v5buc root@i-071fe16413691425f:/mnt/recovery/vol-04d14f1d30cbbff76# cat snap.time2023-10-19 15:19:51.430000+00:00192.168.5.5 hetumjt6v5buc root@i-071fe16413691425f:/mnt/recovery/vol-04d14f1d30cbbff76# ls -lahtotal 844Mdrwxr-xr-x 2 mysql mysql 4.0K Nov  1 03:39 .drwxr-xr-x 5 root  root  4.0K Nov  1 03:50 ..-rw-r--r-- 1 root  root  701M Nov  1 03:38 hetumjt6v5buc.sql-rw-r--r-- 1 root  root  144M Nov  1 03:38 hetumjt6v5buc.sql.gz-rw-r--r-- 1 root  root    33 Nov  1 03:38 snap.time-rw-r--r-- 1 root  root  275K Nov  1 03:38 sys.sql-rw-r--r-- 1 root  root   21K Nov  1 03:38 sys.sql.gz192.168.5.5 hetumjt6v5buc root@i-071fe16413691425f:/mnt/recovery/vol-04d14f1d30cbbff76# pwd/mnt/recovery/vol-04d14f1d30cbbff76 &nbsp;  Snapshot from October 25 is mounted at /mnt/recovery/vol-0b5f8316dbdca5f1c   192.168.5.5 hetumjt6v5buc root@i-071fe16413691425f:/mnt/recovery/vol-0b5f8316dbdca5f1c# cat snap.time2023-10-25 04:35:15.855000+00:00192.168.5.5 hetumjt6v5buc root@i-071fe16413691425f:/mnt/recovery/vol-0b5f8316dbdca5f1c# ls -lahtotal 870Mdrwxr-xr-x 2 mysql mysql 4.0K Nov  1 03:46 .drwxr-xr-x 5 root  root  4.0K Nov  1 03:50 ..-rw-r--r-- 1 root  root  724M Nov  1 03:45 hetumjt6v5buc.sql-rw-r--r-- 1 root  root  147M Nov  1 03:45 hetumjt6v5buc.sql.gz-rw-r--r-- 1 root  root    33 Nov  1 03:45 snap.time-rw-r--r-- 1 root  root  275K Nov  1 03:45 sys.sql-rw-r--r-- 1 root  root   21K Nov  1 03:45 sys.sql.gz192.168.5.5 hetumjt6v5buc root@i-071fe16413691425f:/mnt/recovery/vol-0b5f8316dbdca5f1c# pwd/mnt/recovery/vol-0b5f8316dbdca5f1c &nbsp;  Snapshot from the end of September is mounted at /mnt/recovery/vol-054165c93698bec8a   192.168.5.5 hetumjt6v5buc root@i-071fe16413691425f:/mnt/recovery/vol-054165c93698bec8a# cat snap.time2023-09-28 03:05:00.885000+00:00192.168.5.5 hetumjt6v5buc root@i-071fe16413691425f:/mnt/recovery/vol-054165c93698bec8a# ls -lahtotal 833Mdrwxr-xr-x 2 mysql mysql 4.0K Nov  1 03:50 .drwxr-xr-x 5 root  root  4.0K Nov  1 03:50 ..-rw-r--r-- 1 root  root  691M Nov  1 03:50 hetumjt6v5buc.sql-rw-r--r-- 1 root  root  142M Nov  1 03:50 hetumjt6v5buc.sql.gz-rw-r--r-- 1 root  root    33 Nov  1 03:50 snap.time-rw-r--r-- 1 root  root  275K Nov  1 03:50 sys.sql-rw-r--r-- 1 root  root   21K Nov  1 03:50 sys.sql.gz192.168.5.5 hetumjt6v5buc root@i-071fe16413691425f:/mnt/recovery/vol-054165c93698bec8a# pwd/mnt/recovery/vol-054165c93698bec8a &nbsp;Please let us know if there\\'s anything that we can do for you.&nbsp;Best regards,Najib.,DB Backups Hi Jan,  Could you please provide one more from anytime in August 2023?  Regards,  Maxim,DB Backups   Backups Hello Balance,  We have completed the initial review and triage of your support request concerning DB Backups  and have determined that your issue requires additional investigation.      This ticket has been put in the appropriate category and prioritized accordingly. The next available application specialist will respond to your support request. You will know that your support request is being looked into once another support engineer provides an update.         Please note that we have recently updated our policies around accessing your data. The issue/s described in this support request will require Adobe Commerce Customer Engineering to access your data in order to investigate the issue.     Please review the article below and have the account owner of Ego Pharmaceuticals Pty. Ltdâ\\x80\\x8b update this support request confirming that we have permission to access your data in order to troubleshoot any issues/tickets that might require it per our data access and privacy policy.     Also, ensuring this case is opened under the correct organization will allow our team to provide the proper support as quickly as possible.    ?lang=en    Please note: The account owner can provide data access consent for future tickets by managing this setting as shown in the article above.   Regards,  Amber Marwaha  Technical Support Customer Engineering | Adobe Commerce,DB Backups $ ci hetumjt6v5buc | grep mysql  mysql on xvdj (Ì¶1Ì¶0Ì¶GÌ¶B)$ $ snaps hetumjt6v5bucFound 427 snapshots for cluster hetumjt6v5buc between 2023-06-11T16:20:46Z and 2023-11-01T23:05:44Z   in /home/jbakuwel/Downloads/hetumjt6v5buc.csv which was last updated on 2023-11-01T23:32:59ZVolume [\\'/dev/sdj\\', \\'/dev/sdi\\']          : /dev/sdjDate/time           : 2023-07-01T17:50:27ZFound 2 snapshots for volume /dev/sdj of cluster hetumjt6v5buc between 2023-06-21T06:20:27Z and 2023-07-11T05:20:27Z:2023-07-01T17:50:27Z: backup auto-retrieve --cluster_type mc --name hetumjt6v5buc --region ap-southeast-2 --provider aws --mariadb snap-04b9b19b0c02c4c3e --dispose_days 72023-07-10T20:04:59Z: backup auto-retrieve --cluster_type mc --name hetumjt6v5buc --region ap-southeast-2 --provider aws --mariadb snap-00762090f7c89bb15 --dispose_days 7$ $ snaps hetumjt6v5bucFound 427 snapshots for cluster hetumjt6v5buc between 2023-06-11T16:20:46Z and 2023-11-01T23:05:44Z   in /home/jbakuwel/Downloads/hetumjt6v5buc.csv which was last updated on 2023-11-01T23:32:59ZVolume [\\'/dev/sdi\\', \\'/dev/sdj\\']          : /dev/sdjDate/time           : 2023-07-10T20:04:59ZFound 2 snapshots for volume /dev/sdj of cluster hetumjt6v5buc between 2023-06-30T08:34:59Z and 2023-07-20T07:34:59Z:2023-07-01T17:50:27Z: backup auto-retrieve --cluster_type mc --name hetumjt6v5buc --region ap-southeast-2 --provider aws --mariadb snap-04b9b19b0c02c4c3e --dispose_days 72023-07-10T20:04:59Z: backup auto-retrieve --cluster_type mc --name hetumjt6v5buc --region ap-southeast-2 --provider aws --mariadb snap-00762090f7c89bb15 --dispose_days 7$  &nbsp;,DB Backups Adobe Commerce Infrastructure Support&nbsp;&nbsp;Hi Najib, &nbsp;can you provide &nbsp;DB backup for the July ( &nbsp;Nearly date around \"2023-07-13\" &nbsp; ),DB Backups Hi Maxim,&nbsp;I\\'m looking into this now.&nbsp;Kind regards,Jan&nbsp;,DB Backups Hello,  Our client has been having issues relating to Fastly Rate Limits.  They have requested we pull DB backups from the following days (AEST):   22nd October or closest before 23rd  25th October or after 23rd&nbsp;  End of September&nbsp;   What is the usual process for this?  Thank you,DB Backups $ snaps hetumjt6v5bucFound 427 snapshots for cluster hetumjt6v5buc between 2023-06-11T16:20:46Z and 2023-11-01T23:05:44Z   in /home/jbakuwel/Downloads/hetumjt6v5buc.csv which was last updated on 2023-11-01T23:32:59ZVolume [\\'/dev/sdi\\', \\'/dev/sdj\\']          : /dev/sdjDate/time           : 2023-08-15T00:00:00ZFound 4 snapshots for volume /dev/sdj of cluster hetumjt6v5buc between 2023-08-06T11:00:00Z and 2023-08-22T13:00:00Z:2023-08-08T13:19:42Z: backup auto-retrieve --cluster_type mc --name hetumjt6v5buc --region ap-southeast-2 --provider aws --mariadb snap-0faaf42bb8a28bdbf --dispose_days 72023-08-08T15:49:23Z: backup auto-retrieve --cluster_type mc --name hetumjt6v5buc --region ap-southeast-2 --provider aws --mariadb snap-0af8fca012dc9295b --dispose_days 72023-08-13T23:19:10Z: backup auto-retrieve --cluster_type mc --name hetumjt6v5buc --region ap-southeast-2 --provider aws --mariadb snap-00520599c019099cd --dispose_days 72023-08-23T00:34:10Z: backup auto-retrieve --cluster_type mc --name hetumjt6v5buc --region ap-southeast-2 --provider aws --mariadb snap-09b29b3780ef14870 --dispose_days 7,DB Backups $ backup auto-retrieve --cluster_type mc --name hetumjt6v5buc --region ap-southeast-2 --provider aws --mariadb snap-0af8fca012dc9295b --dispose_days 72023-11-03 11:13:43,571 INFO: Creating jenkins job for this backup retrieval...2023-11-03 11:13:46,086 INFO: Successfully created hetumjt6v5buc-retrieve-snap-0af8fca012dc9295b jenkins job2023-11-03 11:13:46,086 INFO: Scheduling this job with 60 secs delay...2023-11-03 11:13:47,353 INFO: Successfully scheduled jenkins job for this retrieval.$  &nbsp;,DB Backups Hello,&nbsp;We have the following snapshots for July 1st, July 10th, and July 25th: hetumjt6v5buc,i-0a6564600908ffa67,/dev/sdj,ap-southeast-2b,Backup snapshot of vol-0c60e0b4e317535b2,1,100%,snap-04b9b19b0c02c4c3e,2023-07-01T17:50:27Z,completed,vol-0c60e0b4e317535b2,10hetumjt6v5buc,i-0c574d8a96f14793e,/dev/sdj,ap-southeast-2c,Backup snapshot of vol-0a8289f1a40906679,1,100%,snap-00762090f7c89bb15,2023-07-10T20:04:59Z,completed,vol-0a8289f1a40906679,10hetumjt6v5buc,i-071fe16413691425f,/dev/sdj,ap-southeast-2a,Backup snapshot of vol-0381f04c14f247e05,1,100%,snap-032e686f5cfaafc39,2023-07-25T02:51:21Z,completed,vol-0381f04c14f247e05,10 &nbsp;Please let us know which one we should retrieve.&nbsp;Best regards,Najib.,DB Backups Hello,This issue requires additional investigation from an infrastructure specialist. I\\'ve copied an infrastructure specialist on this support request so they can look into the issue and provide you with an update.NikhilCustomer Engineering, Adobe Commerce,DB Backups Hi Maxim,&nbsp;I have started the retrieval process for the database snapshots of 1st and 10th of July.These will be mounted as per usual on node 1 of your production cluster once completed. This usually takes some time.The snapshots will be automatically disgarded after 7 days.&nbsp;Kind regards,Jan&nbsp;&nbsp;,DB Backups Before Oct 23 hetumjt6v5buc,i-0c574d8a96f14793e,/dev/sdj,ap-southeast-2c,Backup snapshot of vol-0a8289f1a40906679,1,100%,snap-0a546f382246f9275,2023-10-19T15:19:51Z,completed,vol-0a8289f1a40906679,10 &nbsp;After Oct 23 before Oct 25 hetumjt6v5buc,i-0a6564600908ffa67,/dev/sdj,ap-southeast-2b,Backup snapshot of vol-0c60e0b4e317535b2,1,100%,snap-02f1c546706f9ca48,2023-10-25T04:35:15Z,completed,vol-0c60e0b4e317535b2,10hetumjt6v5buc,i-0c574d8a96f14793e,/dev/sdj,ap-southeast-2c,Backup snapshot of vol-0a8289f1a40906679,1,100%,snap-0fb6b93aede72895b,2023-10-25T19:06:02Z,completed,vol-0a8289f1a40906679,10hetumjt6v5buc,i-071fe16413691425f,/dev/sdj,ap-southeast-2a,Backup snapshot of vol-0381f04c14f247e05,1,100%,snap-0b847277dbb5667fb,2023-10-25T19:33:53Z,completed,vol-0381f04c14f247e05,10 &nbsp;End of September hetumjt6v5buc,i-0c574d8a96f14793e,/dev/sdj,ap-southeast-2c,Backup snapshot of vol-0a8289f1a40906679,1,100%,snap-07c70fe25aa09ee43,2023-09-28T03:05:00Z,completed,vol-0a8289f1a40906679,10,DB Backups [23:35|01-11 12:35|02-11] ~ $ backup auto-retrieve --cluster_type mc --name hetumjt6v5buc --region ap-southeast-2 --provider aws --mariadb snap-04b9b19b0c02c4c3e --dispose_days 72023-11-02 12:37:10,171 INFO: Creating jenkins job for this backup retrieval...2023-11-02 12:37:12,861 INFO: Successfully created hetumjt6v5buc-retrieve-snap-04b9b19b0c02c4c3e jenkins job2023-11-02 12:37:12,861 INFO: Scheduling this job with 60 secs delay...2023-11-02 12:37:14,305 INFO: Successfully scheduled jenkins job for this retrieval.[23:37|01-11 12:37|02-11] ~ $ backup auto-retrieve --cluster_type mc --name hetumjt6v5buc --region ap-southeast-2 --provider aws --mariadb snap-00762090f7c89bb15 --dispose_days 72023-11-02 12:37:37,751 INFO: Creating jenkins job for this backup retrieval...2023-11-02 12:37:41,261 INFO: Successfully created hetumjt6v5buc-retrieve-snap-00762090f7c89bb15 jenkins job2023-11-02 12:37:41,262 INFO: Scheduling this job with 60 secs delay...2023-11-02 12:37:42,584 INFO: Successfully scheduled jenkins job for this retrieval.[23:37|01-11 12:37|02-11] ~ $  &nbsp;,DB Backups Hello,The Adobe Commerce Customer Engineering Team is still awaiting your reply. Please provide the requested information so that we can better assist you in resolving this issue in a timely manner. Support requests awaiting additional information will be closed if no response is received within 3 days following this notification.Thank you,Adobe Commerce Customer EngineeringDocumentation | Help Center | Community | Status,DB Backups Hi Balance ,&nbsp;Take your time and send us list of all required dates all together .&nbsp;Awaiting your final list of dates from your end.  Regards,Nikhil Patel - Customer Engineering, Adobe Commerce,DB Backups Hi ,&nbsp;Thank you for getting in touch with Magento Technical Support. I have now taken ownership of this ticket and I will assist you with your issue.&nbsp;I am reviewing your support case and will provide you with an answer or a request for additional information soon.  Regards,Nikhil Patel - Customer Engineering, Adobe Commerce,DB Backups Hi Najib,  Could you please provide July 1st and July 10th?  Regards,  Maxim,DB Backups Cheers Najib,  Do you guys hold anything from July?  We might need one more for \"2023-07-13\" as well.  Thank you,DB Backups Hello,The Adobe Commerce Customer Engineering Team is awaiting your reply. Please provide the requested information so that we can better assist you in resolving this issue as soon as possible. Support requests awaiting additional information will be closed if no response is received within 5 days following this notification.Thank you,Adobe Commerce Customer Engineering TeamDocumentation | Help Center | Community | Status,DB Backups Accepted by Platform.sh.,DB Backups Project title: Ego Pharmaceuticals | Project ID: hetumjt6v5buc Cloud: Magento | Project plan: magento/pro_core12 | Region: ap-3.magento.cloud | Default branch: master | Default domain:  .auDedicated tag: hetumjt6v5buc@hetumjt6v5buc.ent.magento.cloud (Grafana | Angel)  Console URL:    Magento version: v2_4_6-p2 | AMS Customer: no | Premier Support Customer: no  Fastly services:hetumjt6v5buc - 7dDWrLOK0LgbNc36tv3c07hetumjt6v5buc_stg - 0HNGZU6vntckySyzlPr90P,DB Backups Adobe Commerce Infrastructure Support&nbsp;&nbsp;IN Addition merchant &nbsp;requested one more from anytime in August 2023.&nbsp;Can you please confirm and convey information for the Aug 2023.&nbsp;,DB Backups Hi Balance&nbsp;We are checking with our infra team which is the nearest backup available withing our   &nbsp;Awaiting their feedback on the same !&nbsp;  Regards,Nikhil Patel - Customer Engineering, Adobe Commerce,DB Backups Hi Maxim,&nbsp;As requested, I have started the retrieval process for a database snapshot taken in August. I\\'ve picked the snapshot taken at 2023-08-08T15:49:23Z&nbsp;Kind regards,Jan&nbsp;'"
      ]
     },
     "execution_count": 381,
     "metadata": {},
     "output_type": "execute_result"
    }
   ],
   "source": [
    "#displaying the first row of the first column in the dataset\n",
    "\n",
    "df1.iloc[0][0]"
   ]
  },
  {
   "cell_type": "code",
   "execution_count": 383,
   "id": "cf340d55-39fe-41dd-b1c7-054a88e49e71",
   "metadata": {
    "tags": []
   },
   "outputs": [],
   "source": [
    "# Removing non-standard ASCII characters, replacing double backslashes and the substring \"zzz\" with spaces\n",
    "\n",
    "df1['text'] = df1['text'].apply(lambda x: re.sub(r'[^\\x21-\\x7E]', ' ', x))\n",
    "df1['text'] = df1['text'].apply(lambda x: re.sub(r'\\\\\\\\', ' ', x))\n",
    "df1['text']= df1['text'].apply(lambda x: re.sub(r'zzz', ' ', x))"
   ]
  },
  {
   "cell_type": "code",
   "execution_count": 384,
   "id": "97ca520e-80e2-46a4-8de1-0b87c42a48a0",
   "metadata": {
    "tags": []
   },
   "outputs": [],
   "source": [
    "# Cleaning the 'text' column by replacing HTML spaces, certain punctuation, double slashes, and non-alphanumeric characters with spaces to simplify and standardize the text.\n",
    "\n",
    "df1['text'] = df1['text'].apply(lambda x: re.sub(r'&nbsp;', ' ',x))\n",
    "df1['text'] = df1['text'].str.replace('?:',' ')\n",
    "df1['text'] = df1['text'].str.replace(':',' ')\n",
    "df1['text'] = df1['text'].str.replace(';',' ')\n",
    "df1['text'] = df1['text'].str.replace('//',' ')\n",
    "df1['text'] = df1['text'].apply(lambda x: re.sub(r'[^[:alnum:]]', ' ',x))\n",
    "df1['text'] = df1['text'].apply(lambda x: re.sub(r'[^a-zA-Z0-9]', ' ',x))"
   ]
  },
  {
   "cell_type": "code",
   "execution_count": 385,
   "id": "85ccd395-1073-445a-a484-fe99b370e67b",
   "metadata": {
    "tags": []
   },
   "outputs": [],
   "source": [
    "# Replace URLs starting with 'http' followed by any alphanumeric characters in the 'text' column with spaces.\n",
    "\n",
    "df1['text'] = df1['text'].apply(lambda x: re.sub(r'http[[:alnum:]]*',' ',x))"
   ]
  },
  {
   "cell_type": "code",
   "execution_count": 387,
   "id": "2d187635-ca7b-4c1c-b8b2-fa62cea47f27",
   "metadata": {
    "tags": []
   },
   "outputs": [],
   "source": [
    "#Adding space between lower and upper case words\n",
    "\n",
    "df1['text'] = df1['text'].apply(lambda x: re.sub(r'([a-z])([A-Z])', r'\\1 \\2', x))"
   ]
  },
  {
   "cell_type": "code",
   "execution_count": 388,
   "id": "0027c7b0-ed96-45f2-b3db-e36ef05835cf",
   "metadata": {
    "tags": []
   },
   "outputs": [
    {
     "data": {
      "text/plain": [
       "'DB Backups  What project is affected  hetumjt6v5buc What environment s  are affected  Production Staging Environment name  if staging is not selected leave empty      What is the issue or change request    DB Backup Required by merchant for below dates  1 22nd October or closest before 23rd 2 25th October or after 23rd 3 End of September    Issues  How do we replicate observe the issue   NA  Change Requests  Why are we making this change  Customer Request What has already been done to troubleshoot or to validate this request   NA Is the production site live  Yes  DB Backups Data Access Consent has not been granted for this case  Please make sure to have the Primary MC Contact grant explicit permission on this case should you need to access the client s data via ssh ftp api or through any admin panel as well as when backups are needed from on prem customers  DB Backups Hi Nikhil   This is the last one   Please provide one more from anytime in August 2023  Regards   Maxim DB Backups Hello Your support request has now been closed  If you are still in need of support for this issue  please create a follow up support request directly from this one and we will reopen our investigation into this issue right away You may receive an email with a Customer Support experience survey link  Adobe is committed to providing you with a best in class Customer Support experience and we would greatly appreciate your feedback to help us improve Thank you Adobe Commerce Customer Engineering Team Documentation   Help Center   Community   Status DB Backups Steps to Reproduce    DB Backups Hi Balance   We have added that in your request to our infra team we are waiting for their feedback on this  Will keep you posted on the same   Regards Nikhil Patel   Customer Engineering  Adobe Commerce DB Backups Hello  I found the following database disk snapshot that fits your requirement   Before October 23  I will retrieve the following snapshot from 2023 10 19T15 19 51Z   hetumjt6v5buc i 0c574d8a96f14793e  dev sdj ap southeast 2c Backup snapshot of vol 0a8289f1a40906679 1 100  snap 0a546f382246f9275 2023 10 19T15 19 51Z completed vol 0a8289f1a40906679 10   October 25  or after October 23  I will retrieve the following snapshot from 2023 10 25T04 35 15Z   hetumjt6v5buc i 0a6564600908ffa67  dev sdj ap southeast 2b Backup snapshot of vol 0c60e0b4e317535b2 1 100  snap 02f1c546706f9ca48 2023 10 25T04 35 15Z completed vol 0c60e0b4e317535b2 10   The end of September  I will retrieve the following snapshot from 2023 09 28T03 05 00Z   hetumjt6v5buc i 0c574d8a96f14793e  dev sdj ap southeast 2c Backup snapshot of vol 0a8289f1a40906679 1 100  snap 07c70fe25aa09ee43 2023 09 28T03 05 00Z completed vol 0a8289f1a40906679 10  I will update you as soon as the retrieval process is completed  Best regards Najib  DB Backups Hello  The snapshot are retrieved and mounted on the first node of the production cluster   Snapshot from October 19 is mounted at  mnt recovery vol 04d14f1d30cbbff76   192 168 5 5 hetumjt6v5buc root i 071fe16413691425f  mnt recovery vol 04d14f1d30cbbff76  cat snap time2023 10 19 15 19 51 430000 00 00192 168 5 5 hetumjt6v5buc root i 071fe16413691425f  mnt recovery vol 04d14f1d30cbbff76  ls  lahtotal 844Mdrwxr xr x 2 mysql mysql 4 0K Nov  1 03 39  drwxr xr x 5 root  root  4 0K Nov  1 03 50    rw r  r   1 root  root  701M Nov  1 03 38 hetumjt6v5buc sql rw r  r   1 root  root  144M Nov  1 03 38 hetumjt6v5buc sql gz rw r  r   1 root  root    33 Nov  1 03 38 snap time rw r  r   1 root  root  275K Nov  1 03 38 sys sql rw r  r   1 root  root   21K Nov  1 03 38 sys sql gz192 168 5 5 hetumjt6v5buc root i 071fe16413691425f  mnt recovery vol 04d14f1d30cbbff76  pwd mnt recovery vol 04d14f1d30cbbff76    Snapshot from October 25 is mounted at  mnt recovery vol 0b5f8316dbdca5f1c   192 168 5 5 hetumjt6v5buc root i 071fe16413691425f  mnt recovery vol 0b5f8316dbdca5f1c  cat snap time2023 10 25 04 35 15 855000 00 00192 168 5 5 hetumjt6v5buc root i 071fe16413691425f  mnt recovery vol 0b5f8316dbdca5f1c  ls  lahtotal 870Mdrwxr xr x 2 mysql mysql 4 0K Nov  1 03 46  drwxr xr x 5 root  root  4 0K Nov  1 03 50    rw r  r   1 root  root  724M Nov  1 03 45 hetumjt6v5buc sql rw r  r   1 root  root  147M Nov  1 03 45 hetumjt6v5buc sql gz rw r  r   1 root  root    33 Nov  1 03 45 snap time rw r  r   1 root  root  275K Nov  1 03 45 sys sql rw r  r   1 root  root   21K Nov  1 03 45 sys sql gz192 168 5 5 hetumjt6v5buc root i 071fe16413691425f  mnt recovery vol 0b5f8316dbdca5f1c  pwd mnt recovery vol 0b5f8316dbdca5f1c    Snapshot from the end of September is mounted at  mnt recovery vol 054165c93698bec8a   192 168 5 5 hetumjt6v5buc root i 071fe16413691425f  mnt recovery vol 054165c93698bec8a  cat snap time2023 09 28 03 05 00 885000 00 00192 168 5 5 hetumjt6v5buc root i 071fe16413691425f  mnt recovery vol 054165c93698bec8a  ls  lahtotal 833Mdrwxr xr x 2 mysql mysql 4 0K Nov  1 03 50  drwxr xr x 5 root  root  4 0K Nov  1 03 50    rw r  r   1 root  root  691M Nov  1 03 50 hetumjt6v5buc sql rw r  r   1 root  root  142M Nov  1 03 50 hetumjt6v5buc sql gz rw r  r   1 root  root    33 Nov  1 03 50 snap time rw r  r   1 root  root  275K Nov  1 03 50 sys sql rw r  r   1 root  root   21K Nov  1 03 50 sys sql gz192 168 5 5 hetumjt6v5buc root i 071fe16413691425f  mnt recovery vol 054165c93698bec8a  pwd mnt recovery vol 054165c93698bec8a  Please let us know if there s anything that we can do for you  Best regards Najib  DB Backups Hi Jan   Could you please provide one more from anytime in August 2023   Regards   Maxim DB Backups   Backups Hello Balance   We have completed the initial review and triage of your support request concerning DB Backups  and have determined that your issue requires additional investigation       This ticket has been put in the appropriate category and prioritized accordingly  The next available application specialist will respond to your support request  You will know that your support request is being looked into once another support engineer provides an update          Please note that we have recently updated our policies around accessing your data  The issue s described in this support request will require Adobe Commerce Customer Engineering to access your data in order to investigate the issue      Please review the article below and have the account owner of Ego Pharmaceuticals Pty  Ltd    update this support request confirming that we have permission to access your data in order to troubleshoot any issues tickets that might require it per our data access and privacy policy      Also  ensuring this case is opened under the correct organization will allow our team to provide the proper support as quickly as possible      lang en    Please note  The account owner can provide data access consent for future tickets by managing this setting as shown in the article above    Regards   Amber Marwaha  Technical Support Customer Engineering   Adobe Commerce DB Backups   ci hetumjt6v5buc   grep mysql  mysql on xvdj    1  0  G  B     snaps hetumjt6v5buc Found 427 snapshots for cluster hetumjt6v5buc between 2023 06 11T16 20 46Z and 2023 11 01T23 05 44Z   in  home jbakuwel Downloads hetumjt6v5buc csv which was last updated on 2023 11 01T23 32 59ZVolume    dev sdj     dev sdi              dev sdj Date time             2023 07 01T17 50 27ZFound 2 snapshots for volume  dev sdj of cluster hetumjt6v5buc between 2023 06 21T06 20 27Z and 2023 07 11T05 20 27Z 2023 07 01T17 50 27Z  backup auto retrieve   cluster type mc   name hetumjt6v5buc   region ap southeast 2   provider aws   mariadb snap 04b9b19b0c02c4c3e   dispose days 72023 07 10T20 04 59Z  backup auto retrieve   cluster type mc   name hetumjt6v5buc   region ap southeast 2   provider aws   mariadb snap 00762090f7c89bb15   dispose days 7    snaps hetumjt6v5buc Found 427 snapshots for cluster hetumjt6v5buc between 2023 06 11T16 20 46Z and 2023 11 01T23 05 44Z   in  home jbakuwel Downloads hetumjt6v5buc csv which was last updated on 2023 11 01T23 32 59ZVolume    dev sdi     dev sdj              dev sdj Date time             2023 07 10T20 04 59ZFound 2 snapshots for volume  dev sdj of cluster hetumjt6v5buc between 2023 06 30T08 34 59Z and 2023 07 20T07 34 59Z 2023 07 01T17 50 27Z  backup auto retrieve   cluster type mc   name hetumjt6v5buc   region ap southeast 2   provider aws   mariadb snap 04b9b19b0c02c4c3e   dispose days 72023 07 10T20 04 59Z  backup auto retrieve   cluster type mc   name hetumjt6v5buc   region ap southeast 2   provider aws   mariadb snap 00762090f7c89bb15   dispose days 7     DB Backups Adobe Commerce Infrastructure Support  Hi Najib   can you provide  DB backup for the July    Nearly date around  2023 07 13      DB Backups Hi Maxim  I m looking into this now  Kind regards Jan  DB Backups Hello   Our client has been having issues relating to Fastly Rate Limits   They have requested we pull DB backups from the following days  AEST     22nd October or closest before 23rd  25th October or after 23rd   End of September    What is the usual process for this   Thank you DB Backups   snaps hetumjt6v5buc Found 427 snapshots for cluster hetumjt6v5buc between 2023 06 11T16 20 46Z and 2023 11 01T23 05 44Z   in  home jbakuwel Downloads hetumjt6v5buc csv which was last updated on 2023 11 01T23 32 59ZVolume    dev sdi     dev sdj              dev sdj Date time             2023 08 15T00 00 00ZFound 4 snapshots for volume  dev sdj of cluster hetumjt6v5buc between 2023 08 06T11 00 00Z and 2023 08 22T13 00 00Z 2023 08 08T13 19 42Z  backup auto retrieve   cluster type mc   name hetumjt6v5buc   region ap southeast 2   provider aws   mariadb snap 0faaf42bb8a28bdbf   dispose days 72023 08 08T15 49 23Z  backup auto retrieve   cluster type mc   name hetumjt6v5buc   region ap southeast 2   provider aws   mariadb snap 0af8fca012dc9295b   dispose days 72023 08 13T23 19 10Z  backup auto retrieve   cluster type mc   name hetumjt6v5buc   region ap southeast 2   provider aws   mariadb snap 00520599c019099cd   dispose days 72023 08 23T00 34 10Z  backup auto retrieve   cluster type mc   name hetumjt6v5buc   region ap southeast 2   provider aws   mariadb snap 09b29b3780ef14870   dispose days 7 DB Backups   backup auto retrieve   cluster type mc   name hetumjt6v5buc   region ap southeast 2   provider aws   mariadb snap 0af8fca012dc9295b   dispose days 72023 11 03 11 13 43 571 INFO  Creating jenkins job for this backup retrieval   2023 11 03 11 13 46 086 INFO  Successfully created hetumjt6v5buc retrieve snap 0af8fca012dc9295b jenkins job2023 11 03 11 13 46 086 INFO  Scheduling this job with 60 secs delay   2023 11 03 11 13 47 353 INFO  Successfully scheduled jenkins job for this retrieval      DB Backups Hello  We have the following snapshots for July 1st  July 10th  and July 25th  hetumjt6v5buc i 0a6564600908ffa67  dev sdj ap southeast 2b Backup snapshot of vol 0c60e0b4e317535b2 1 100  snap 04b9b19b0c02c4c3e 2023 07 01T17 50 27Z completed vol 0c60e0b4e317535b2 10hetumjt6v5buc i 0c574d8a96f14793e  dev sdj ap southeast 2c Backup snapshot of vol 0a8289f1a40906679 1 100  snap 00762090f7c89bb15 2023 07 10T20 04 59Z completed vol 0a8289f1a40906679 10hetumjt6v5buc i 071fe16413691425f  dev sdj ap southeast 2a Backup snapshot of vol 0381f04c14f247e05 1 100  snap 032e686f5cfaafc39 2023 07 25T02 51 21Z completed vol 0381f04c14f247e05 10  Please let us know which one we should retrieve  Best regards Najib  DB Backups Hello This issue requires additional investigation from an infrastructure specialist  I ve copied an infrastructure specialist on this support request so they can look into the issue and provide you with an update Nikhil Customer Engineering  Adobe Commerce DB Backups Hi Maxim  I have started the retrieval process for the database snapshots of 1st and 10th of July These will be mounted as per usual on node 1 of your production cluster once completed  This usually takes some time The snapshots will be automatically disgarded after 7 days  Kind regards Jan   DB Backups Before Oct 23 hetumjt6v5buc i 0c574d8a96f14793e  dev sdj ap southeast 2c Backup snapshot of vol 0a8289f1a40906679 1 100  snap 0a546f382246f9275 2023 10 19T15 19 51Z completed vol 0a8289f1a40906679 10  After Oct 23 before Oct 25 hetumjt6v5buc i 0a6564600908ffa67  dev sdj ap southeast 2b Backup snapshot of vol 0c60e0b4e317535b2 1 100  snap 02f1c546706f9ca48 2023 10 25T04 35 15Z completed vol 0c60e0b4e317535b2 10hetumjt6v5buc i 0c574d8a96f14793e  dev sdj ap southeast 2c Backup snapshot of vol 0a8289f1a40906679 1 100  snap 0fb6b93aede72895b 2023 10 25T19 06 02Z completed vol 0a8289f1a40906679 10hetumjt6v5buc i 071fe16413691425f  dev sdj ap southeast 2a Backup snapshot of vol 0381f04c14f247e05 1 100  snap 0b847277dbb5667fb 2023 10 25T19 33 53Z completed vol 0381f04c14f247e05 10  End of September hetumjt6v5buc i 0c574d8a96f14793e  dev sdj ap southeast 2c Backup snapshot of vol 0a8289f1a40906679 1 100  snap 07c70fe25aa09ee43 2023 09 28T03 05 00Z completed vol 0a8289f1a40906679 10 DB Backups  23 35 01 11 12 35 02 1      backup auto retrieve   cluster type mc   name hetumjt6v5buc   region ap southeast 2   provider aws   mariadb snap 04b9b19b0c02c4c3e   dispose days 72023 11 02 12 37 10 171 INFO  Creating jenkins job for this backup retrieval   2023 11 02 12 37 12 861 INFO  Successfully created hetumjt6v5buc retrieve snap 04b9b19b0c02c4c3e jenkins job2023 11 02 12 37 12 861 INFO  Scheduling this job with 60 secs delay   2023 11 02 12 37 14 305 INFO  Successfully scheduled jenkins job for this retrieval  23 37 01 11 12 37 02 1      backup auto retrieve   cluster type mc   name hetumjt6v5buc   region ap southeast 2   provider aws   mariadb snap 00762090f7c89bb15   dispose days 72023 11 02 12 37 37 751 INFO  Creating jenkins job for this backup retrieval   2023 11 02 12 37 41 261 INFO  Successfully created hetumjt6v5buc retrieve snap 00762090f7c89bb15 jenkins job2023 11 02 12 37 41 262 INFO  Scheduling this job with 60 secs delay   2023 11 02 12 37 42 584 INFO  Successfully scheduled jenkins job for this retrieval  23 37 01 11 12 37 02 1         DB Backups Hello The Adobe Commerce Customer Engineering Team is still awaiting your reply  Please provide the requested information so that we can better assist you in resolving this issue in a timely manner  Support requests awaiting additional information will be closed if no response is received within 3 days following this notification Thank you Adobe Commerce Customer Engineering Documentation   Help Center   Community   Status DB Backups Hi Balance   Take your time and send us list of all required dates all together   Awaiting your final list of dates from your end   Regards Nikhil Patel   Customer Engineering  Adobe Commerce DB Backups Hi   Thank you for getting in touch with Magento Technical Support  I have now taken ownership of this ticket and I will assist you with your issue  I am reviewing your support case and will provide you with an answer or a request for additional information soon   Regards Nikhil Patel   Customer Engineering  Adobe Commerce DB Backups Hi Najib   Could you please provide July 1st and July 10th   Regards   Maxim DB Backups Cheers Najib   Do you guys hold anything from July   We might need one more for  2023 07 13  as well   Thank you DB Backups Hello The Adobe Commerce Customer Engineering Team is awaiting your reply  Please provide the requested information so that we can better assist you in resolving this issue as soon as possible  Support requests awaiting additional information will be closed if no response is received within 5 days following this notification Thank you Adobe Commerce Customer Engineering Team Documentation   Help Center   Community   Status DB Backups Accepted by Platform sh  DB Backups Project title  Ego Pharmaceuticals   Project ID  hetumjt6v5buc Cloud  Magento   Project plan  magento pro core12   Region  ap 3 magento cloud   Default branch  master   Default domain    au Dedicated tag  hetumjt6v5buc hetumjt6v5buc ent magento cloud  Grafana   Angel   Console URL     Magento version  v2 4 6 p2   AMS Customer  no   Premier Support Customer  no  Fastly services hetumjt6v5buc   7d DWr LOK0Lgb Nc36tv3c07hetumjt6v5buc stg   0HNGZU6vntcky Syzl Pr90P DB Backups Adobe Commerce Infrastructure Support  IN Addition merchant  requested one more from anytime in August 2023  Can you please confirm and convey information for the Aug 2023   DB Backups Hi Balance We are checking with our infra team which is the nearest backup available withing our    Awaiting their feedback on the same     Regards Nikhil Patel   Customer Engineering  Adobe Commerce DB Backups Hi Maxim  As requested  I have started the retrieval process for a database snapshot taken in August  I ve picked the snapshot taken at 2023 08 08T15 49 23Z Kind regards Jan '"
      ]
     },
     "execution_count": 388,
     "metadata": {},
     "output_type": "execute_result"
    }
   ],
   "source": [
    "#displaying the first row of the first column in the dataset\n",
    "\n",
    "df1.iloc[0][0]"
   ]
  },
  {
   "cell_type": "code",
   "execution_count": 393,
   "id": "a1e417e4-87be-483b-b604-d8128e503839",
   "metadata": {
    "tags": []
   },
   "outputs": [],
   "source": [
    "# converting the entire data into small case\n",
    "\n",
    "df1['text'] = df1['text'].str.lower()"
   ]
  },
  {
   "cell_type": "code",
   "execution_count": 395,
   "id": "ef065a56-f50c-4ed1-9b81-fa380d21fad4",
   "metadata": {
    "tags": []
   },
   "outputs": [],
   "source": [
    "# Replace multiple consecutive whitespace characters in the 'text' column with a single space.\n",
    "\n",
    "df1['text'] = df1['text'].apply(lambda x: re.sub(r'\\s+', ' ',x))"
   ]
  },
  {
   "cell_type": "code",
   "execution_count": 396,
   "id": "1b571635-d174-4ccd-9e64-f736021af915",
   "metadata": {
    "tags": []
   },
   "outputs": [],
   "source": [
    "# Define a function to remove words containing any digits from the input text.\n",
    "\n",
    "def remove_alphanumeric_words(text):\n",
    "    return ' '.join(word for word in text.split() if not any(char.isdigit() for char in word))"
   ]
  },
  {
   "cell_type": "code",
   "execution_count": 397,
   "id": "916b244b-0894-4f87-bb59-2add0ae85db4",
   "metadata": {
    "tags": []
   },
   "outputs": [],
   "source": [
    "#Calling the above remove alphanumeric words function and moving output to df1 dataframe\n",
    "\n",
    "df1['text'] = df1['text'].apply(remove_alphanumeric_words)"
   ]
  },
  {
   "cell_type": "code",
   "execution_count": 398,
   "id": "a0f00fe1-c3ad-498f-8a67-6de07128f0be",
   "metadata": {
    "tags": []
   },
   "outputs": [
    {
     "data": {
      "text/plain": [
       "'db backups what project is affected what environment s are affected production staging environment name if staging is not selected leave empty what is the issue or change request db backup required by merchant for below dates october or closest before october or after end of september issues how do we replicate observe the issue na change requests why are we making this change customer request what has already been done to troubleshoot or to validate this request na is the production site live yes db backups data access consent has not been granted for this case please make sure to have the primary mc contact grant explicit permission on this case should you need to access the client s data via ssh ftp api or through any admin panel as well as when backups are needed from on prem customers db backups hi nikhil this is the last one please provide one more from anytime in august regards maxim db backups hello your support request has now been closed if you are still in need of support for this issue please create a follow up support request directly from this one and we will reopen our investigation into this issue right away you may receive an email with a customer support experience survey link adobe is committed to providing you with a best in class customer support experience and we would greatly appreciate your feedback to help us improve thank you adobe commerce customer engineering team documentation help center community status db backups steps to reproduce db backups hi balance we have added that in your request to our infra team we are waiting for their feedback on this will keep you posted on the same regards nikhil patel customer engineering adobe commerce db backups hello i found the following database disk snapshot that fits your requirement before october i will retrieve the following snapshot from i dev sdj ap southeast backup snapshot of vol snap completed vol october or after october i will retrieve the following snapshot from i dev sdj ap southeast backup snapshot of vol snap completed vol the end of september i will retrieve the following snapshot from i dev sdj ap southeast backup snapshot of vol snap completed vol i will update you as soon as the retrieval process is completed best regards najib db backups hello the snapshot are retrieved and mounted on the first node of the production cluster snapshot from october is mounted at mnt recovery vol root i mnt recovery vol cat snap root i mnt recovery vol ls lahtotal xr x mysql mysql nov drwxr xr x root root nov rw r r root root nov sql rw r r root root nov sql gz rw r r root root nov snap time rw r r root root nov sys sql rw r r root root nov sys sql root i mnt recovery vol pwd mnt recovery vol snapshot from october is mounted at mnt recovery vol root i mnt recovery vol cat snap root i mnt recovery vol ls lahtotal xr x mysql mysql nov drwxr xr x root root nov rw r r root root nov sql rw r r root root nov sql gz rw r r root root nov snap time rw r r root root nov sys sql rw r r root root nov sys sql root i mnt recovery vol pwd mnt recovery vol snapshot from the end of september is mounted at mnt recovery vol root i mnt recovery vol cat snap root i mnt recovery vol ls lahtotal xr x mysql mysql nov drwxr xr x root root nov rw r r root root nov sql rw r r root root nov sql gz rw r r root root nov snap time rw r r root root nov sys sql rw r r root root nov sys sql root i mnt recovery vol pwd mnt recovery vol please let us know if there s anything that we can do for you best regards najib db backups hi jan could you please provide one more from anytime in august regards maxim db backups backups hello balance we have completed the initial review and triage of your support request concerning db backups and have determined that your issue requires additional investigation this ticket has been put in the appropriate category and prioritized accordingly the next available application specialist will respond to your support request you will know that your support request is being looked into once another support engineer provides an update please note that we have recently updated our policies around accessing your data the issue s described in this support request will require adobe commerce customer engineering to access your data in order to investigate the issue please review the article below and have the account owner of ego pharmaceuticals pty ltd update this support request confirming that we have permission to access your data in order to troubleshoot any issues tickets that might require it per our data access and privacy policy also ensuring this case is opened under the correct organization will allow our team to provide the proper support as quickly as possible lang en please note the account owner can provide data access consent for future tickets by managing this setting as shown in the article above regards amber marwaha technical support customer engineering adobe commerce db backups ci grep mysql mysql on xvdj g b snaps found snapshots for cluster between and in home jbakuwel downloads csv which was last updated on dev sdj dev sdi dev sdj date time snapshots for volume dev sdj of cluster between and backup auto retrieve cluster type mc name region ap southeast provider aws mariadb snap dispose days backup auto retrieve cluster type mc name region ap southeast provider aws mariadb snap dispose days snaps found snapshots for cluster between and in home jbakuwel downloads csv which was last updated on dev sdi dev sdj dev sdj date time snapshots for volume dev sdj of cluster between and backup auto retrieve cluster type mc name region ap southeast provider aws mariadb snap dispose days backup auto retrieve cluster type mc name region ap southeast provider aws mariadb snap dispose days db backups adobe commerce infrastructure support hi najib can you provide db backup for the july nearly date around db backups hi maxim i m looking into this now kind regards jan db backups hello our client has been having issues relating to fastly rate limits they have requested we pull db backups from the following days aest october or closest before october or after end of september what is the usual process for this thank you db backups snaps found snapshots for cluster between and in home jbakuwel downloads csv which was last updated on dev sdi dev sdj dev sdj date time snapshots for volume dev sdj of cluster between and backup auto retrieve cluster type mc name region ap southeast provider aws mariadb snap dispose days backup auto retrieve cluster type mc name region ap southeast provider aws mariadb snap dispose days backup auto retrieve cluster type mc name region ap southeast provider aws mariadb snap dispose days backup auto retrieve cluster type mc name region ap southeast provider aws mariadb snap dispose days db backups backup auto retrieve cluster type mc name region ap southeast provider aws mariadb snap dispose days info creating jenkins job for this backup retrieval info successfully created retrieve snap jenkins info scheduling this job with secs delay info successfully scheduled jenkins job for this retrieval db backups hello we have the following snapshots for july july and july i dev sdj ap southeast backup snapshot of vol snap completed vol i dev sdj ap southeast backup snapshot of vol snap completed vol i dev sdj ap southeast backup snapshot of vol snap completed vol please let us know which one we should retrieve best regards najib db backups hello this issue requires additional investigation from an infrastructure specialist i ve copied an infrastructure specialist on this support request so they can look into the issue and provide you with an update nikhil customer engineering adobe commerce db backups hi maxim i have started the retrieval process for the database snapshots of and of july these will be mounted as per usual on node of your production cluster once completed this usually takes some time the snapshots will be automatically disgarded after days kind regards jan db backups before oct i dev sdj ap southeast backup snapshot of vol snap completed vol after oct before oct i dev sdj ap southeast backup snapshot of vol snap completed vol i dev sdj ap southeast backup snapshot of vol snap completed vol i dev sdj ap southeast backup snapshot of vol snap completed vol end of september i dev sdj ap southeast backup snapshot of vol snap completed vol db backups backup auto retrieve cluster type mc name region ap southeast provider aws mariadb snap dispose days info creating jenkins job for this backup retrieval info successfully created retrieve snap jenkins info scheduling this job with secs delay info successfully scheduled jenkins job for this retrieval backup auto retrieve cluster type mc name region ap southeast provider aws mariadb snap dispose days info creating jenkins job for this backup retrieval info successfully created retrieve snap jenkins info scheduling this job with secs delay info successfully scheduled jenkins job for this retrieval db backups hello the adobe commerce customer engineering team is still awaiting your reply please provide the requested information so that we can better assist you in resolving this issue in a timely manner support requests awaiting additional information will be closed if no response is received within days following this notification thank you adobe commerce customer engineering documentation help center community status db backups hi balance take your time and send us list of all required dates all together awaiting your final list of dates from your end regards nikhil patel customer engineering adobe commerce db backups hi thank you for getting in touch with magento technical support i have now taken ownership of this ticket and i will assist you with your issue i am reviewing your support case and will provide you with an answer or a request for additional information soon regards nikhil patel customer engineering adobe commerce db backups hi najib could you please provide july and july regards maxim db backups cheers najib do you guys hold anything from july we might need one more for as well thank you db backups hello the adobe commerce customer engineering team is awaiting your reply please provide the requested information so that we can better assist you in resolving this issue as soon as possible support requests awaiting additional information will be closed if no response is received within days following this notification thank you adobe commerce customer engineering team documentation help center community status db backups accepted by platform sh db backups project title ego pharmaceuticals project id cloud magento project plan magento pro region ap magento cloud default branch master default domain au dedicated tag ent magento cloud grafana angel console url magento version ams customer no premier support customer no fastly services dwr stg syzl db backups adobe commerce infrastructure support in addition merchant requested one more from anytime in august can you please confirm and convey information for the aug db backups hi balance we are checking with our infra team which is the nearest backup available withing our awaiting their feedback on the same regards nikhil patel customer engineering adobe commerce db backups hi maxim as requested i have started the retrieval process for a database snapshot taken in august i ve picked the snapshot taken at kind regards jan'"
      ]
     },
     "execution_count": 398,
     "metadata": {},
     "output_type": "execute_result"
    }
   ],
   "source": [
    "#displaying the first row of the first column in the dataset\n",
    "\n",
    "df1.iloc[0][0]"
   ]
  },
  {
   "cell_type": "code",
   "execution_count": 403,
   "id": "36be69c3-f45d-45ea-9ad0-67fcb66e3b34",
   "metadata": {
    "tags": []
   },
   "outputs": [],
   "source": [
    "#Moving data from df1 dataframe to df2 dataframe\n",
    "\n",
    "df2 = df1"
   ]
  },
  {
   "cell_type": "code",
   "execution_count": 405,
   "id": "d32cfbbb-d325-4dc4-8754-2b8e9cf63b08",
   "metadata": {
    "tags": []
   },
   "outputs": [
    {
     "name": "stderr",
     "output_type": "stream",
     "text": [
      "[nltk_data] Downloading package stopwords to\n",
      "[nltk_data]     C:\\Users\\shara\\AppData\\Roaming\\nltk_data...\n",
      "[nltk_data]   Package stopwords is already up-to-date!\n",
      "[nltk_data] Downloading package wordnet to\n",
      "[nltk_data]     C:\\Users\\shara\\AppData\\Roaming\\nltk_data...\n",
      "[nltk_data]   Package wordnet is already up-to-date!\n",
      "[nltk_data] Downloading package punkt to\n",
      "[nltk_data]     C:\\Users\\shara\\AppData\\Roaming\\nltk_data...\n",
      "[nltk_data]   Package punkt is already up-to-date!\n"
     ]
    },
    {
     "data": {
      "text/plain": [
       "True"
      ]
     },
     "execution_count": 405,
     "metadata": {},
     "output_type": "execute_result"
    }
   ],
   "source": [
    "# Import NLTK, download necessary datasets for stopwords, wordnet, and tokenization, and import relevant functions.\n",
    "\n",
    "import nltk\n",
    "nltk.download('stopwords')\n",
    "nltk.download('wordnet')\n",
    "from nltk.corpus import stopwords\n",
    "from nltk.corpus import wordnet\n",
    "from nltk.tokenize import word_tokenize\n",
    "nltk.download('punkt')"
   ]
  },
  {
   "cell_type": "code",
   "execution_count": 407,
   "id": "a3e3c962-7056-47a1-a94b-1d46c089e5a9",
   "metadata": {
    "tags": []
   },
   "outputs": [],
   "source": [
    "# Filter out English stopwords from the 'text' column of the DataFrame df2.\n",
    "\n",
    "stop_words = stopwords.words('english')\n",
    "df2['text'] = df2['text'].apply(lambda x: ' '.join([word for word in x.split() if word not in (stop_words)]))"
   ]
  },
  {
   "cell_type": "code",
   "execution_count": 408,
   "id": "0651ceff-5b31-4329-b94e-66aee1228879",
   "metadata": {
    "tags": []
   },
   "outputs": [
    {
     "name": "stdout",
     "output_type": "stream",
     "text": [
      "Requirement already satisfied: spacy in c:\\users\\shara\\anaconda3\\lib\\site-packages (3.7.2)\n",
      "Requirement already satisfied: spacy-legacy<3.1.0,>=3.0.11 in c:\\users\\shara\\anaconda3\\lib\\site-packages (from spacy) (3.0.12)\n",
      "Requirement already satisfied: spacy-loggers<2.0.0,>=1.0.0 in c:\\users\\shara\\anaconda3\\lib\\site-packages (from spacy) (1.0.5)\n",
      "Requirement already satisfied: murmurhash<1.1.0,>=0.28.0 in c:\\users\\shara\\anaconda3\\lib\\site-packages (from spacy) (1.0.10)\n",
      "Requirement already satisfied: cymem<2.1.0,>=2.0.2 in c:\\users\\shara\\anaconda3\\lib\\site-packages (from spacy) (2.0.8)\n",
      "Requirement already satisfied: preshed<3.1.0,>=3.0.2 in c:\\users\\shara\\anaconda3\\lib\\site-packages (from spacy) (3.0.9)\n",
      "Requirement already satisfied: thinc<8.3.0,>=8.1.8 in c:\\users\\shara\\anaconda3\\lib\\site-packages (from spacy) (8.2.2)\n",
      "Requirement already satisfied: wasabi<1.2.0,>=0.9.1 in c:\\users\\shara\\anaconda3\\lib\\site-packages (from spacy) (1.1.2)\n",
      "Requirement already satisfied: srsly<3.0.0,>=2.4.3 in c:\\users\\shara\\anaconda3\\lib\\site-packages (from spacy) (2.4.8)\n",
      "Requirement already satisfied: catalogue<2.1.0,>=2.0.6 in c:\\users\\shara\\anaconda3\\lib\\site-packages (from spacy) (2.0.10)\n",
      "Requirement already satisfied: weasel<0.4.0,>=0.1.0 in c:\\users\\shara\\anaconda3\\lib\\site-packages (from spacy) (0.3.4)\n",
      "Requirement already satisfied: typer<0.10.0,>=0.3.0 in c:\\users\\shara\\anaconda3\\lib\\site-packages (from spacy) (0.9.0)\n",
      "Requirement already satisfied: smart-open<7.0.0,>=5.2.1 in c:\\users\\shara\\anaconda3\\lib\\site-packages (from spacy) (5.2.1)\n",
      "Requirement already satisfied: tqdm<5.0.0,>=4.38.0 in c:\\users\\shara\\anaconda3\\lib\\site-packages (from spacy) (4.65.0)\n",
      "Requirement already satisfied: requests<3.0.0,>=2.13.0 in c:\\users\\shara\\anaconda3\\lib\\site-packages (from spacy) (2.31.0)\n",
      "Requirement already satisfied: pydantic!=1.8,!=1.8.1,<3.0.0,>=1.7.4 in c:\\users\\shara\\anaconda3\\lib\\site-packages (from spacy) (1.10.8)\n",
      "Requirement already satisfied: jinja2 in c:\\users\\shara\\anaconda3\\lib\\site-packages (from spacy) (3.1.2)\n",
      "Requirement already satisfied: setuptools in c:\\users\\shara\\anaconda3\\lib\\site-packages (from spacy) (68.0.0)\n",
      "Requirement already satisfied: packaging>=20.0 in c:\\users\\shara\\anaconda3\\lib\\site-packages (from spacy) (23.1)\n",
      "Requirement already satisfied: langcodes<4.0.0,>=3.2.0 in c:\\users\\shara\\anaconda3\\lib\\site-packages (from spacy) (3.3.0)\n",
      "Requirement already satisfied: numpy>=1.19.0 in c:\\users\\shara\\anaconda3\\lib\\site-packages (from spacy) (1.24.3)\n",
      "Requirement already satisfied: typing-extensions>=4.2.0 in c:\\users\\shara\\anaconda3\\lib\\site-packages (from pydantic!=1.8,!=1.8.1,<3.0.0,>=1.7.4->spacy) (4.7.1)\n",
      "Requirement already satisfied: charset-normalizer<4,>=2 in c:\\users\\shara\\anaconda3\\lib\\site-packages (from requests<3.0.0,>=2.13.0->spacy) (2.0.4)\n",
      "Requirement already satisfied: idna<4,>=2.5 in c:\\users\\shara\\anaconda3\\lib\\site-packages (from requests<3.0.0,>=2.13.0->spacy) (3.4)\n",
      "Requirement already satisfied: urllib3<3,>=1.21.1 in c:\\users\\shara\\anaconda3\\lib\\site-packages (from requests<3.0.0,>=2.13.0->spacy) (1.26.16)\n",
      "Requirement already satisfied: certifi>=2017.4.17 in c:\\users\\shara\\anaconda3\\lib\\site-packages (from requests<3.0.0,>=2.13.0->spacy) (2024.2.2)\n",
      "Requirement already satisfied: blis<0.8.0,>=0.7.8 in c:\\users\\shara\\anaconda3\\lib\\site-packages (from thinc<8.3.0,>=8.1.8->spacy) (0.7.10)\n",
      "Requirement already satisfied: confection<1.0.0,>=0.0.1 in c:\\users\\shara\\anaconda3\\lib\\site-packages (from thinc<8.3.0,>=8.1.8->spacy) (0.1.4)\n",
      "Requirement already satisfied: colorama in c:\\users\\shara\\anaconda3\\lib\\site-packages (from tqdm<5.0.0,>=4.38.0->spacy) (0.4.6)\n",
      "Requirement already satisfied: click<9.0.0,>=7.1.1 in c:\\users\\shara\\anaconda3\\lib\\site-packages (from typer<0.10.0,>=0.3.0->spacy) (8.0.4)\n",
      "Requirement already satisfied: cloudpathlib<0.17.0,>=0.7.0 in c:\\users\\shara\\anaconda3\\lib\\site-packages (from weasel<0.4.0,>=0.1.0->spacy) (0.16.0)\n",
      "Requirement already satisfied: MarkupSafe>=2.0 in c:\\users\\shara\\anaconda3\\lib\\site-packages (from jinja2->spacy) (2.1.1)\n",
      "Note: you may need to restart the kernel to use updated packages.\n"
     ]
    }
   ],
   "source": [
    "pip install spacy"
   ]
  },
  {
   "cell_type": "code",
   "execution_count": 409,
   "id": "bfbef2b9-4bb3-415c-8169-f7d2fd6c0016",
   "metadata": {
    "tags": []
   },
   "outputs": [],
   "source": [
    "#Import spaCy and load the small English language model.\n",
    "\n",
    "import spacy\n",
    "nlp = spacy.load(\"en_core_web_sm\")"
   ]
  },
  {
   "cell_type": "code",
   "execution_count": 410,
   "id": "024617db-2bf6-4725-b5a3-b7333fb41d9b",
   "metadata": {
    "tags": []
   },
   "outputs": [],
   "source": [
    "# Define a function to lemmatize the input text using spaCy's English language model.\n",
    "\n",
    "def lemmatize_text(text):\n",
    "    doc = nlp(text)\n",
    "    lemmatized_text = ' '.join([token.lemma_ for token in doc])\n",
    "    return lemmatized_text"
   ]
  },
  {
   "cell_type": "code",
   "execution_count": 411,
   "id": "46e269dd-f5c6-473d-ab8d-8ff47d63baad",
   "metadata": {
    "tags": []
   },
   "outputs": [],
   "source": [
    "#Calling the above lemmatize function returning output to df2 dataframe\n",
    "\n",
    "df2['text'] = df2['text'].apply(lemmatize_text)"
   ]
  },
  {
   "cell_type": "code",
   "execution_count": 412,
   "id": "f1fb1e01-db36-4227-aabf-4e5e3331eb1a",
   "metadata": {
    "tags": []
   },
   "outputs": [
    {
     "data": {
      "text/plain": [
       "'db backups project affect environment affect production staging environment name staging select leave empty issue change request db backup require merchant date october close october end september issue replicate observe issue na change request make change customer request already do troubleshoot validate request na production site live yes db backups datum access consent grant case please make sure primary mc contact grant explicit permission case need access client datum via ssh ftp api admin panel well backup need prem customer db backups hi nikhil last one please provide one anytime august regard maxim db backups hello support request close still need support issue please create follow support request directly one reopen investigation issue right away may receive email customer support experience survey link adobe commit provide good class customer support experience would greatly appreciate feedback help we improve thank adobe commerce customer engineering team documentation help center community status db backup step reproduce db backups hi balance add request infra team wait feedback keep post regard nikhil patel customer engineering adobe commerce db backups hello find follow database disk snapshot fit requirement october retrieve follow snapshot dev sdj ap southeast backup snapshot vol snap complete vol october october retrieve follow snapshot dev sdj ap southeast backup snapshot vol snap complete vol end september retrieve follow snapshot dev sdj ap southeast backup snapshot vol snap complete vol update soon retrieval process complete good regard najib db backups hello snapshot retrieve mount first node production cluster snapshot october mount mnt recovery vol root mnt recovery vol cat snap root mnt recovery vol ls lahtotal xr x mysql mysql nov drwxr xr x root root nov rw r r root root nov sql rw r r root root nov sql gz rw r r root root nov snap time rw r r root root nov sys sql rw r r root root nov sys sql root mnt recovery vol pwd mnt recovery vol snapshot october mount mnt recovery vol root mnt recovery vol cat snap root mnt recovery vol ls lahtotal xr x mysql mysql nov drwxr xr x root root nov rw r r root root nov sql rw r r root root nov sql gz rw r r root root nov snap time rw r r root root nov sys sql rw r r root root nov sys sql root mnt recovery vol pwd mnt recovery vol snapshot end september mount mnt recovery vol root mnt recovery vol cat snap root mnt recovery vol ls lahtotal xr x mysql mysql nov drwxr xr x root root nov rw r r root root nov sql rw r r root root nov sql gz rw r r root root nov snap time rw r r root root nov sys sql rw r r root root nov sys sql root mnt recovery vol pwd mnt recovery vol please let we know anything good regard najib db backups hi jan could please provide one anytime august regard maxim db backups backups hello balance complete initial review triage support request concern db backups determined issue require additional investigation ticket put appropriate category prioritize accordingly next available application specialist respond support request know support request look another support engineer provide update please note recently update policy around access datum issue describe support request require adobe commerce customer engineering access datum order investigate issue please review article account owner ego pharmaceuticals pty ltd update support request confirm permission access datum order troubleshoot issue ticket might require per datum access privacy policy also ensure case open correct organization allow team provide proper support quickly possible lang en please note account owner provide datum access consent future ticket manage setting show article regard amber marwaha technical support customer engineering adobe commerce db backups ci grep mysql mysql xvdj g b snap find snapshot cluster home jbakuwel download csv last update dev sdj dev sdi dev sdj date time snapshot volume dev sdj cluster backup auto retrieve cluster type mc name region ap southeast provider aw mariadb snap dispose day backup auto retrieve cluster type mc name region ap southeast provider aw mariadb snap dispose day snap find snapshot cluster home jbakuwel download csv last update dev sdi dev sdj dev sdj date time snapshot volume dev sdj cluster backup auto retrieve cluster type mc name region ap southeast provider aw mariadb snap dispose day backup auto retrieve cluster type mc name region ap southeast provider aw mariadb snap dispose day db backups adobe commerce infrastructure support hi najib provide db backup july nearly date around db backups hi maxim look kind regard jan db backups hello client issue relate fastly rate limit request pull db backup follow day aest october close october end september usual process thank db backups snap find snapshot cluster home jbakuwel download csv last update dev sdi dev sdj dev sdj date time snapshot volume dev sdj cluster backup auto retrieve cluster type mc name region ap southeast provider aw mariadb snap dispose day backup auto retrieve cluster type mc name region ap southeast provider aw mariadb snap dispose day backup auto retrieve cluster type mc name region ap southeast provider aw mariadb snap dispose day backup auto retrieve cluster type mc name region ap southeast provider aw mariadb snap dispose day db backups backup auto retrieve cluster type mc name region ap southeast provider aw mariadb snap dispose day info create jenkin job backup retrieval info successfully create retrieve snap jenkins info scheduling job sec delay info successfully schedule jenkins job retrieval db backups hello follow snapshot july july july dev sdj ap southeast backup snapshot vol snap completed vol dev sdj ap southeast backup snapshot vol snap complete vol dev sdj ap southeast backup snapshot vol snap complete vol please let we know one retrieve good regard najib db backups hello issue require additional investigation infrastructure specialist copy infrastructure specialist support request look issue provide update nikhil customer engineering adobe commerce db backups hi maxim start retrieval process database snapshot july mount per usual node production cluster complete usually take time snapshot automatically disgarde day kind regard jan db backups oct dev sdj ap southeast backup snapshot vol snap complete vol oct oct dev sdj ap southeast backup snapshot vol snap complete vol dev sdj ap southeast backup snapshot vol snap complete vol dev sdj ap southeast backup snapshot vol snap complete vol end september dev sdj ap southeast backup snapshot vol snap complete vol db backups backup auto retrieve cluster type mc name region ap southeast provider aw mariadb snap dispose day info create jenkin job backup retrieval info successfully create retrieve snap jenkins info scheduling job sec delay info successfully schedule jenkins job retrieval backup auto retrieve cluster type mc name region ap southeast provider aw mariadb snap dispose day info create jenkin job backup retrieval info successfully create retrieve snap jenkins info scheduling job sec delay info successfully schedule jenkins job retrieval db backups hello adobe commerce customer engineering team still await reply please provide request information well assist resolve issue timely manner support request await additional information close response receive within day follow notification thank adobe commerce customer engineering documentation help center community status db backups hi balance take time send we list require date together await final list date end regard nikhil patel customer engineering adobe commerce db backups hi thank get touch magento technical support take ownership ticket assist issue review support case provide answer request additional information soon regard nikhil patel customer engineering adobe commerce db backups hi najib could please provide july july regard maxim db backup cheer najib guy hold anything july might need one well thank db backups hello adobe commerce customer engineering team await reply please provide request information well assist resolve issue soon possible support request await additional information close response receive within day follow notification thank adobe commerce customer engineering team documentation help center community status db backups accept platform sh db backups project title ego pharmaceuticals project i d cloud magento project plan magento pro region ap magento cloud default branch master default domain au dedicate tag ent magento cloud grafana angel console url magento version ams customer premier support customer fastly service dwr stg syzl db backups adobe commerce infrastructure support addition merchant request one anytime august please confirm convey information aug db backups hi balance checking infra team nearest backup available withing await feedback regard nikhil patel customer engineering adobe commerce db backups hi maxim request start retrieval process database snapshot take august pick snapshot take kind regard jan'"
      ]
     },
     "execution_count": 412,
     "metadata": {},
     "output_type": "execute_result"
    }
   ],
   "source": [
    "#displaying the first row of the first column in the dataset\n",
    "\n",
    "df2.iloc[0][0]"
   ]
  },
  {
   "cell_type": "code",
   "execution_count": 419,
   "id": "cd09db82-0e83-4e6a-bbfa-fa4d1b511b49",
   "metadata": {
    "tags": []
   },
   "outputs": [],
   "source": [
    "# Create a copy of the DataFrame df2 and assign it to df_t.\n",
    "\n",
    "df_t = df2"
   ]
  },
  {
   "cell_type": "code",
   "execution_count": 421,
   "id": "b616efe8-fb66-4f9c-a8b0-662432d8b9cf",
   "metadata": {
    "tags": []
   },
   "outputs": [
    {
     "data": {
      "text/html": [
       "<div>\n",
       "<style scoped>\n",
       "    .dataframe tbody tr th:only-of-type {\n",
       "        vertical-align: middle;\n",
       "    }\n",
       "\n",
       "    .dataframe tbody tr th {\n",
       "        vertical-align: top;\n",
       "    }\n",
       "\n",
       "    .dataframe thead th {\n",
       "        text-align: right;\n",
       "    }\n",
       "</style>\n",
       "<table border=\"1\" class=\"dataframe\">\n",
       "  <thead>\n",
       "    <tr style=\"text-align: right;\">\n",
       "      <th></th>\n",
       "      <th>text</th>\n",
       "      <th>type</th>\n",
       "    </tr>\n",
       "  </thead>\n",
       "  <tbody>\n",
       "    <tr>\n",
       "      <th>0</th>\n",
       "      <td>db backups project affect environment affect p...</td>\n",
       "      <td>database</td>\n",
       "    </tr>\n",
       "    <tr>\n",
       "      <th>1</th>\n",
       "      <td>mysql stick production hi seem like sql stuck ...</td>\n",
       "      <td>database</td>\n",
       "    </tr>\n",
       "    <tr>\n",
       "      <th>2</th>\n",
       "      <td>database medium folder migration stage able re...</td>\n",
       "      <td>database</td>\n",
       "    </tr>\n",
       "    <tr>\n",
       "      <th>3</th>\n",
       "      <td>h sql server go away error log hello addition ...</td>\n",
       "      <td>database</td>\n",
       "    </tr>\n",
       "    <tr>\n",
       "      <th>4</th>\n",
       "      <td>location fail multitenant graph ql tmobile san...</td>\n",
       "      <td>database</td>\n",
       "    </tr>\n",
       "    <tr>\n",
       "      <th>...</th>\n",
       "      <td>...</td>\n",
       "      <td>...</td>\n",
       "    </tr>\n",
       "    <tr>\n",
       "      <th>11561</th>\n",
       "      <td>fashion increase stage dedicated cluster order...</td>\n",
       "      <td>upsize</td>\n",
       "    </tr>\n",
       "    <tr>\n",
       "      <th>11562</th>\n",
       "      <td>cvs download work cache clean deployment produ...</td>\n",
       "      <td>deploy</td>\n",
       "    </tr>\n",
       "    <tr>\n",
       "      <th>11563</th>\n",
       "      <td>enable fastly quic support hello look like pro...</td>\n",
       "      <td>fastly</td>\n",
       "    </tr>\n",
       "    <tr>\n",
       "      <th>11564</th>\n",
       "      <td>deployment fail hello paul go backlog notice r...</td>\n",
       "      <td>deploy</td>\n",
       "    </tr>\n",
       "    <tr>\n",
       "      <th>11565</th>\n",
       "      <td>upgrade deployment take long agent ticket supp...</td>\n",
       "      <td>deploy</td>\n",
       "    </tr>\n",
       "  </tbody>\n",
       "</table>\n",
       "<p>18923 rows × 2 columns</p>\n",
       "</div>"
      ],
      "text/plain": [
       "                                                    text      type\n",
       "0      db backups project affect environment affect p...  database\n",
       "1      mysql stick production hi seem like sql stuck ...  database\n",
       "2      database medium folder migration stage able re...  database\n",
       "3      h sql server go away error log hello addition ...  database\n",
       "4      location fail multitenant graph ql tmobile san...  database\n",
       "...                                                  ...       ...\n",
       "11561  fashion increase stage dedicated cluster order...    upsize\n",
       "11562  cvs download work cache clean deployment produ...    deploy\n",
       "11563  enable fastly quic support hello look like pro...    fastly\n",
       "11564  deployment fail hello paul go backlog notice r...    deploy\n",
       "11565  upgrade deployment take long agent ticket supp...    deploy\n",
       "\n",
       "[18923 rows x 2 columns]"
      ]
     },
     "execution_count": 421,
     "metadata": {},
     "output_type": "execute_result"
    }
   ],
   "source": [
    "#display the df_t dataframe\n",
    "\n",
    "df_t"
   ]
  },
  {
   "cell_type": "code",
   "execution_count": 423,
   "id": "cfce9ab3-9278-4144-bb3f-08a3b733678e",
   "metadata": {
    "tags": []
   },
   "outputs": [],
   "source": [
    "# Define replacement mappings\n",
    "\n",
    "def replace_words(text):\n",
    "    \n",
    "    replacement_mappings = {\n",
    "    'database': ['db', 'databases', 'snapshot', 'tmp', 'wsrep', 'innodb', 'tmpdir', 'grep'],\n",
    "    'mail': ['email', 'gmail', 'mail'],\n",
    "    'upsize': ['upsized', 'upscale'],\n",
    "    'deploy': ['deploy', 'deployment', 'deployments'],\n",
    "    'sendgrid': ['sendgrid', 'grid', 'sg', 'spf', 'dkim', 'txt', 'bounced', 'dmarc', 'inbox', 'sasl', 'bounce', 'overwatch', 'smtp', 'credit', 'reputation', 'transactional', 'outbound', 'cname'],\n",
    "    'sql': ['sql', 'mysql'],\n",
    "    'elastic': ['elasticsearch', 'elastic', 'opensearch', 'xms', 'xmx', 'heap', 'cluster', 'health', 'pretty', 'yellow', 'green', 'red', 'analyzer', 'stopword', 'synonym', 'index', 'reindex', 'stopword', 'jvm', 'gc', 'shard', 'indices', 'agg', 'aggregation', 'replica', 'node', 'fielddata', 'durability', 'oversharding', 'elasticsuit'],\n",
    "    'fastly': ['varnish', 'cdn', 'vcl', 'cdn', 'waf'],\n",
    "    'redis': ['evict', 'eviction', 'evicted', 'hget', 'redissession', 'flush', 'flushall', 'maxmemory', 'credis', 'sentinel', 'sigterm', 'rss', 'rss', 'frag', 'fragmentation', 'replication', 'defrag', 'lazyfree', 'purge', 'dev', 'shm']\n",
    "}\n",
    "\n",
    "     # Iterate over each replacement mapping and replace all occurrences of the words\n",
    "    for replacement_word, words_to_replace in replacement_mappings.items():\n",
    "        for word_to_replace in words_to_replace:\n",
    "            # Replace the words with the replacement word in the text\n",
    "            text = text.replace(word_to_replace, replacement_word)\n",
    "    \n",
    "    return text"
   ]
  },
  {
   "cell_type": "code",
   "execution_count": 425,
   "id": "e1df65ee-b5b7-4052-8cda-89c2a954c87e",
   "metadata": {
    "tags": []
   },
   "outputs": [],
   "source": [
    "#Calling the above replace words function\n",
    "\n",
    "df_t['text'] = df_t['text'].apply(replace_words)"
   ]
  },
  {
   "cell_type": "code",
   "execution_count": 427,
   "id": "61cccbd0-1488-4c30-af35-f22cc799c742",
   "metadata": {
    "tags": []
   },
   "outputs": [
    {
     "data": {
      "text/html": [
       "<div>\n",
       "<style scoped>\n",
       "    .dataframe tbody tr th:only-of-type {\n",
       "        vertical-align: middle;\n",
       "    }\n",
       "\n",
       "    .dataframe tbody tr th {\n",
       "        vertical-align: top;\n",
       "    }\n",
       "\n",
       "    .dataframe thead th {\n",
       "        text-align: right;\n",
       "    }\n",
       "</style>\n",
       "<table border=\"1\" class=\"dataframe\">\n",
       "  <thead>\n",
       "    <tr style=\"text-align: right;\">\n",
       "      <th></th>\n",
       "      <th>text</th>\n",
       "      <th>type</th>\n",
       "    </tr>\n",
       "  </thead>\n",
       "  <tbody>\n",
       "    <tr>\n",
       "      <th>0</th>\n",
       "      <td>database backups project affect environment af...</td>\n",
       "      <td>database</td>\n",
       "    </tr>\n",
       "    <tr>\n",
       "      <th>1</th>\n",
       "      <td>sql stick production hi seem like sql stuck pr...</td>\n",
       "      <td>database</td>\n",
       "    </tr>\n",
       "    <tr>\n",
       "      <th>2</th>\n",
       "      <td>database medium folder migration stage able re...</td>\n",
       "      <td>database</td>\n",
       "    </tr>\n",
       "    <tr>\n",
       "      <th>3</th>\n",
       "      <td>h sql server go away error log hello addition ...</td>\n",
       "      <td>database</td>\n",
       "    </tr>\n",
       "    <tr>\n",
       "      <th>4</th>\n",
       "      <td>location fail multitenant graph ql tmobile san...</td>\n",
       "      <td>database</td>\n",
       "    </tr>\n",
       "    <tr>\n",
       "      <th>...</th>\n",
       "      <td>...</td>\n",
       "      <td>...</td>\n",
       "    </tr>\n",
       "    <tr>\n",
       "      <th>11561</th>\n",
       "      <td>fashion increase stage dedicated elastic order...</td>\n",
       "      <td>upsize</td>\n",
       "    </tr>\n",
       "    <tr>\n",
       "      <th>11562</th>\n",
       "      <td>cvs download work cache clean deploy productio...</td>\n",
       "      <td>deploy</td>\n",
       "    </tr>\n",
       "    <tr>\n",
       "      <th>11563</th>\n",
       "      <td>enable fastly quic support hello look like pro...</td>\n",
       "      <td>fastly</td>\n",
       "    </tr>\n",
       "    <tr>\n",
       "      <th>11564</th>\n",
       "      <td>deploy fail hello paul go backlog notice respo...</td>\n",
       "      <td>deploy</td>\n",
       "    </tr>\n",
       "    <tr>\n",
       "      <th>11565</th>\n",
       "      <td>upgrade deploy take long agent ticket support ...</td>\n",
       "      <td>deploy</td>\n",
       "    </tr>\n",
       "  </tbody>\n",
       "</table>\n",
       "<p>18923 rows × 2 columns</p>\n",
       "</div>"
      ],
      "text/plain": [
       "                                                    text      type\n",
       "0      database backups project affect environment af...  database\n",
       "1      sql stick production hi seem like sql stuck pr...  database\n",
       "2      database medium folder migration stage able re...  database\n",
       "3      h sql server go away error log hello addition ...  database\n",
       "4      location fail multitenant graph ql tmobile san...  database\n",
       "...                                                  ...       ...\n",
       "11561  fashion increase stage dedicated elastic order...    upsize\n",
       "11562  cvs download work cache clean deploy productio...    deploy\n",
       "11563  enable fastly quic support hello look like pro...    fastly\n",
       "11564  deploy fail hello paul go backlog notice respo...    deploy\n",
       "11565  upgrade deploy take long agent ticket support ...    deploy\n",
       "\n",
       "[18923 rows x 2 columns]"
      ]
     },
     "execution_count": 427,
     "metadata": {},
     "output_type": "execute_result"
    }
   ],
   "source": [
    "#display the df_t dataframe\n",
    "\n",
    "df_t"
   ]
  },
  {
   "cell_type": "code",
   "execution_count": 429,
   "id": "ed21cdbe-dd55-4019-ab7f-163ea6a657b9",
   "metadata": {
    "tags": []
   },
   "outputs": [],
   "source": [
    "# Defining the tokenize text function using NLTK's word_tokenize\n",
    "\n",
    "def tokenize_text(text):\n",
    "    tokens = word_tokenize(text)\n",
    "    return tokens"
   ]
  },
  {
   "cell_type": "code",
   "execution_count": 431,
   "id": "4646b773-e312-4401-a602-6b297707ea26",
   "metadata": {
    "tags": []
   },
   "outputs": [],
   "source": [
    "#Calling the above tokenize text function\n",
    "\n",
    "df_t['text'] = df_t['text'].apply(tokenize_text)"
   ]
  },
  {
   "cell_type": "code",
   "execution_count": 433,
   "id": "71e4de3b-a4da-428f-8e61-0dc91fbd8679",
   "metadata": {
    "tags": []
   },
   "outputs": [],
   "source": [
    "#Creating the copy of the df_t dataframe into df_filtered dataframe\n",
    "\n",
    "df_filtered = df_t"
   ]
  },
  {
   "cell_type": "code",
   "execution_count": 435,
   "id": "86a7608a-bd95-4eed-81c6-e2f60a087f1b",
   "metadata": {
    "tags": []
   },
   "outputs": [],
   "source": [
    "# Define a function to filter out tokens that are either single characters or digits.\n",
    "\n",
    "def filter_words(tokens):\n",
    "    filtered_tokens = [token for token in tokens if len(token) > 1]  # Remove single-character words\n",
    "    filtered_tokens = [token for token in filtered_tokens if not token.isdigit()]  # Remove single-digit words\n",
    "    return filtered_tokens"
   ]
  },
  {
   "cell_type": "code",
   "execution_count": 437,
   "id": "559967cb-3668-4e61-bc8c-118c761b062c",
   "metadata": {
    "tags": []
   },
   "outputs": [],
   "source": [
    "#Calling the above filter word function and return the output into df_filtered dataframe\n",
    "\n",
    "df_filtered['text'] = df_filtered['text'].apply(filter_words)"
   ]
  },
  {
   "cell_type": "code",
   "execution_count": 439,
   "id": "2e0106a8-11dd-4e3f-bd3e-f51abdc77a33",
   "metadata": {
    "tags": []
   },
   "outputs": [
    {
     "data": {
      "text/html": [
       "<div>\n",
       "<style scoped>\n",
       "    .dataframe tbody tr th:only-of-type {\n",
       "        vertical-align: middle;\n",
       "    }\n",
       "\n",
       "    .dataframe tbody tr th {\n",
       "        vertical-align: top;\n",
       "    }\n",
       "\n",
       "    .dataframe thead th {\n",
       "        text-align: right;\n",
       "    }\n",
       "</style>\n",
       "<table border=\"1\" class=\"dataframe\">\n",
       "  <thead>\n",
       "    <tr style=\"text-align: right;\">\n",
       "      <th></th>\n",
       "      <th>text</th>\n",
       "      <th>type</th>\n",
       "    </tr>\n",
       "  </thead>\n",
       "  <tbody>\n",
       "    <tr>\n",
       "      <th>0</th>\n",
       "      <td>[database, backups, project, affect, environme...</td>\n",
       "      <td>database</td>\n",
       "    </tr>\n",
       "    <tr>\n",
       "      <th>1</th>\n",
       "      <td>[sql, stick, production, hi, seem, like, sql, ...</td>\n",
       "      <td>database</td>\n",
       "    </tr>\n",
       "    <tr>\n",
       "      <th>2</th>\n",
       "      <td>[database, medium, folder, migration, stage, a...</td>\n",
       "      <td>database</td>\n",
       "    </tr>\n",
       "    <tr>\n",
       "      <th>3</th>\n",
       "      <td>[sql, server, go, away, error, log, hello, add...</td>\n",
       "      <td>database</td>\n",
       "    </tr>\n",
       "    <tr>\n",
       "      <th>4</th>\n",
       "      <td>[location, fail, multitenant, graph, ql, tmobi...</td>\n",
       "      <td>database</td>\n",
       "    </tr>\n",
       "    <tr>\n",
       "      <th>...</th>\n",
       "      <td>...</td>\n",
       "      <td>...</td>\n",
       "    </tr>\n",
       "    <tr>\n",
       "      <th>11561</th>\n",
       "      <td>[fashion, increase, stage, dedicated, elastic,...</td>\n",
       "      <td>upsize</td>\n",
       "    </tr>\n",
       "    <tr>\n",
       "      <th>11562</th>\n",
       "      <td>[cvs, download, work, cache, clean, deploy, pr...</td>\n",
       "      <td>deploy</td>\n",
       "    </tr>\n",
       "    <tr>\n",
       "      <th>11563</th>\n",
       "      <td>[enable, fastly, quic, support, hello, look, l...</td>\n",
       "      <td>fastly</td>\n",
       "    </tr>\n",
       "    <tr>\n",
       "      <th>11564</th>\n",
       "      <td>[deploy, fail, hello, paul, go, backlog, notic...</td>\n",
       "      <td>deploy</td>\n",
       "    </tr>\n",
       "    <tr>\n",
       "      <th>11565</th>\n",
       "      <td>[upgrade, deploy, take, long, agent, ticket, s...</td>\n",
       "      <td>deploy</td>\n",
       "    </tr>\n",
       "  </tbody>\n",
       "</table>\n",
       "<p>18923 rows × 2 columns</p>\n",
       "</div>"
      ],
      "text/plain": [
       "                                                    text      type\n",
       "0      [database, backups, project, affect, environme...  database\n",
       "1      [sql, stick, production, hi, seem, like, sql, ...  database\n",
       "2      [database, medium, folder, migration, stage, a...  database\n",
       "3      [sql, server, go, away, error, log, hello, add...  database\n",
       "4      [location, fail, multitenant, graph, ql, tmobi...  database\n",
       "...                                                  ...       ...\n",
       "11561  [fashion, increase, stage, dedicated, elastic,...    upsize\n",
       "11562  [cvs, download, work, cache, clean, deploy, pr...    deploy\n",
       "11563  [enable, fastly, quic, support, hello, look, l...    fastly\n",
       "11564  [deploy, fail, hello, paul, go, backlog, notic...    deploy\n",
       "11565  [upgrade, deploy, take, long, agent, ticket, s...    deploy\n",
       "\n",
       "[18923 rows x 2 columns]"
      ]
     },
     "execution_count": 439,
     "metadata": {},
     "output_type": "execute_result"
    }
   ],
   "source": [
    "#display the df_filtered dataframe\n",
    "\n",
    "df_filtered"
   ]
  },
  {
   "cell_type": "code",
   "execution_count": 441,
   "id": "c52dd5f7-e6b4-4a3a-9a81-5fd7ef0ee2fa",
   "metadata": {
    "tags": []
   },
   "outputs": [],
   "source": [
    "# Import the Counter class from the collections module for counting hashable objects.\n",
    "\n",
    "from collections import Counter"
   ]
  },
  {
   "cell_type": "code",
   "execution_count": 463,
   "id": "cceb47c3-c8f9-43f4-a8ca-4b91a4374ed4",
   "metadata": {
    "tags": []
   },
   "outputs": [],
   "source": [
    "\n",
    "# Flatten the list of tokenized text into a single list of words\n",
    "all_words = [word for sublist in df_filtered['text'] for word in sublist]\n",
    "\n",
    "# Count the frequency of each word using Counter\n",
    "word_freq = Counter(all_words)\n",
    "\n",
    "# Convert the word frequency Counter object to a DataFrame for easy manipulation\n",
    "word_freq_df = pd.DataFrame.from_dict(word_freq, orient='index', columns=['frequency'])\n",
    "\n",
    "# Sort the DataFrame by frequency in descending order\n",
    "word_freq_df = word_freq_df.sort_values(by='frequency', ascending=False)\n",
    "\n",
    "# Optionally, you can reset the index to have the words as a column\n",
    "word_freq_df.reset_index(inplace=True)\n",
    "word_freq_df.rename(columns={'index': 'word'}, inplace=True)\n",
    "\n"
   ]
  },
  {
   "cell_type": "code",
   "execution_count": 465,
   "id": "1436d5ae-c2f3-486a-acd0-16df7c45ef9c",
   "metadata": {
    "tags": []
   },
   "outputs": [
    {
     "data": {
      "text/html": [
       "<div>\n",
       "<style scoped>\n",
       "    .dataframe tbody tr th:only-of-type {\n",
       "        vertical-align: middle;\n",
       "    }\n",
       "\n",
       "    .dataframe tbody tr th {\n",
       "        vertical-align: top;\n",
       "    }\n",
       "\n",
       "    .dataframe thead th {\n",
       "        text-align: right;\n",
       "    }\n",
       "</style>\n",
       "<table border=\"1\" class=\"dataframe\">\n",
       "  <thead>\n",
       "    <tr style=\"text-align: right;\">\n",
       "      <th></th>\n",
       "      <th>word</th>\n",
       "      <th>frequency</th>\n",
       "    </tr>\n",
       "  </thead>\n",
       "  <tbody>\n",
       "    <tr>\n",
       "      <th>0</th>\n",
       "      <td>issue</td>\n",
       "      <td>208957</td>\n",
       "    </tr>\n",
       "    <tr>\n",
       "      <th>1</th>\n",
       "      <td>request</td>\n",
       "      <td>200487</td>\n",
       "    </tr>\n",
       "    <tr>\n",
       "      <th>2</th>\n",
       "      <td>support</td>\n",
       "      <td>190891</td>\n",
       "    </tr>\n",
       "    <tr>\n",
       "      <th>3</th>\n",
       "      <td>elastic</td>\n",
       "      <td>156995</td>\n",
       "    </tr>\n",
       "    <tr>\n",
       "      <th>4</th>\n",
       "      <td>adobe</td>\n",
       "      <td>148434</td>\n",
       "    </tr>\n",
       "    <tr>\n",
       "      <th>...</th>\n",
       "      <td>...</td>\n",
       "      <td>...</td>\n",
       "    </tr>\n",
       "    <tr>\n",
       "      <th>67031</th>\n",
       "      <td>eventstable</td>\n",
       "      <td>1</td>\n",
       "    </tr>\n",
       "    <tr>\n",
       "      <th>67032</th>\n",
       "      <td>evrea</td>\n",
       "      <td>1</td>\n",
       "    </tr>\n",
       "    <tr>\n",
       "      <th>67033</th>\n",
       "      <td>errman</td>\n",
       "      <td>1</td>\n",
       "    </tr>\n",
       "    <tr>\n",
       "      <th>67034</th>\n",
       "      <td>preservation</td>\n",
       "      <td>1</td>\n",
       "    </tr>\n",
       "    <tr>\n",
       "      <th>67035</th>\n",
       "      <td>runningok</td>\n",
       "      <td>1</td>\n",
       "    </tr>\n",
       "  </tbody>\n",
       "</table>\n",
       "<p>67036 rows × 2 columns</p>\n",
       "</div>"
      ],
      "text/plain": [
       "               word  frequency\n",
       "0             issue     208957\n",
       "1           request     200487\n",
       "2           support     190891\n",
       "3           elastic     156995\n",
       "4             adobe     148434\n",
       "...             ...        ...\n",
       "67031   eventstable          1\n",
       "67032         evrea          1\n",
       "67033        errman          1\n",
       "67034  preservation          1\n",
       "67035     runningok          1\n",
       "\n",
       "[67036 rows x 2 columns]"
      ]
     },
     "execution_count": 465,
     "metadata": {},
     "output_type": "execute_result"
    }
   ],
   "source": [
    "#display the word_freq_df dataframe\n",
    "\n",
    "word_freq_df"
   ]
  },
  {
   "cell_type": "code",
   "execution_count": 471,
   "id": "40cefec4-bae4-4c4e-8d6f-a84a15e1c734",
   "metadata": {
    "tags": []
   },
   "outputs": [],
   "source": [
    "#removing the 1 frequency words\n",
    "\n",
    "word_freq_df = word_freq_df[word_freq_df['frequency'] != 1]"
   ]
  },
  {
   "cell_type": "code",
   "execution_count": 473,
   "id": "71747320-5ef3-4b51-8b9c-be5de8292be7",
   "metadata": {
    "tags": []
   },
   "outputs": [
    {
     "data": {
      "text/html": [
       "<div>\n",
       "<style scoped>\n",
       "    .dataframe tbody tr th:only-of-type {\n",
       "        vertical-align: middle;\n",
       "    }\n",
       "\n",
       "    .dataframe tbody tr th {\n",
       "        vertical-align: top;\n",
       "    }\n",
       "\n",
       "    .dataframe thead th {\n",
       "        text-align: right;\n",
       "    }\n",
       "</style>\n",
       "<table border=\"1\" class=\"dataframe\">\n",
       "  <thead>\n",
       "    <tr style=\"text-align: right;\">\n",
       "      <th></th>\n",
       "      <th>word</th>\n",
       "      <th>frequency</th>\n",
       "    </tr>\n",
       "  </thead>\n",
       "  <tbody>\n",
       "    <tr>\n",
       "      <th>0</th>\n",
       "      <td>issue</td>\n",
       "      <td>208957</td>\n",
       "    </tr>\n",
       "    <tr>\n",
       "      <th>1</th>\n",
       "      <td>request</td>\n",
       "      <td>200487</td>\n",
       "    </tr>\n",
       "    <tr>\n",
       "      <th>2</th>\n",
       "      <td>support</td>\n",
       "      <td>190891</td>\n",
       "    </tr>\n",
       "    <tr>\n",
       "      <th>3</th>\n",
       "      <td>elastic</td>\n",
       "      <td>156995</td>\n",
       "    </tr>\n",
       "    <tr>\n",
       "      <th>4</th>\n",
       "      <td>adobe</td>\n",
       "      <td>148434</td>\n",
       "    </tr>\n",
       "    <tr>\n",
       "      <th>...</th>\n",
       "      <td>...</td>\n",
       "      <td>...</td>\n",
       "    </tr>\n",
       "    <tr>\n",
       "      <th>40110</th>\n",
       "      <td>awbm</td>\n",
       "      <td>2</td>\n",
       "    </tr>\n",
       "    <tr>\n",
       "      <th>40111</th>\n",
       "      <td>moretto</td>\n",
       "      <td>2</td>\n",
       "    </tr>\n",
       "    <tr>\n",
       "      <th>40112</th>\n",
       "      <td>dominika</td>\n",
       "      <td>2</td>\n",
       "    </tr>\n",
       "    <tr>\n",
       "      <th>40113</th>\n",
       "      <td>rockland</td>\n",
       "      <td>2</td>\n",
       "    </tr>\n",
       "    <tr>\n",
       "      <th>40114</th>\n",
       "      <td>indglobal</td>\n",
       "      <td>2</td>\n",
       "    </tr>\n",
       "  </tbody>\n",
       "</table>\n",
       "<p>40115 rows × 2 columns</p>\n",
       "</div>"
      ],
      "text/plain": [
       "            word  frequency\n",
       "0          issue     208957\n",
       "1        request     200487\n",
       "2        support     190891\n",
       "3        elastic     156995\n",
       "4          adobe     148434\n",
       "...          ...        ...\n",
       "40110       awbm          2\n",
       "40111    moretto          2\n",
       "40112   dominika          2\n",
       "40113   rockland          2\n",
       "40114  indglobal          2\n",
       "\n",
       "[40115 rows x 2 columns]"
      ]
     },
     "execution_count": 473,
     "metadata": {},
     "output_type": "execute_result"
    }
   ],
   "source": [
    "#display the word_freq_df\n",
    "\n",
    "word_freq_df"
   ]
  },
  {
   "cell_type": "code",
   "execution_count": 475,
   "id": "f488ceef-1176-4e89-8b3c-821cbc5214d7",
   "metadata": {
    "tags": []
   },
   "outputs": [],
   "source": [
    "#Read the excel file wordcount which the the single words from association rule with 90% support\n",
    "\n",
    "df_word = pd.read_excel('Wordcount_1.xlsx')"
   ]
  },
  {
   "cell_type": "code",
   "execution_count": 477,
   "id": "6769af9c-a6e7-4c03-be16-af6ab63eb30a",
   "metadata": {
    "tags": []
   },
   "outputs": [
    {
     "data": {
      "text/html": [
       "<div>\n",
       "<style scoped>\n",
       "    .dataframe tbody tr th:only-of-type {\n",
       "        vertical-align: middle;\n",
       "    }\n",
       "\n",
       "    .dataframe tbody tr th {\n",
       "        vertical-align: top;\n",
       "    }\n",
       "\n",
       "    .dataframe thead th {\n",
       "        text-align: right;\n",
       "    }\n",
       "</style>\n",
       "<table border=\"1\" class=\"dataframe\">\n",
       "  <thead>\n",
       "    <tr style=\"text-align: right;\">\n",
       "      <th></th>\n",
       "      <th>Word</th>\n",
       "      <th>Num of Docs</th>\n",
       "    </tr>\n",
       "  </thead>\n",
       "  <tbody>\n",
       "    <tr>\n",
       "      <th>0</th>\n",
       "      <td>aam</td>\n",
       "      <td>1</td>\n",
       "    </tr>\n",
       "    <tr>\n",
       "      <th>1</th>\n",
       "      <td>abide</td>\n",
       "      <td>1</td>\n",
       "    </tr>\n",
       "    <tr>\n",
       "      <th>2</th>\n",
       "      <td>ablate</td>\n",
       "      <td>1</td>\n",
       "    </tr>\n",
       "    <tr>\n",
       "      <th>3</th>\n",
       "      <td>abler</td>\n",
       "      <td>1</td>\n",
       "    </tr>\n",
       "    <tr>\n",
       "      <th>4</th>\n",
       "      <td>above</td>\n",
       "      <td>1</td>\n",
       "    </tr>\n",
       "    <tr>\n",
       "      <th>...</th>\n",
       "      <td>...</td>\n",
       "      <td>...</td>\n",
       "    </tr>\n",
       "    <tr>\n",
       "      <th>2679</th>\n",
       "      <td>zenith</td>\n",
       "      <td>1</td>\n",
       "    </tr>\n",
       "    <tr>\n",
       "      <th>2680</th>\n",
       "      <td>zeta</td>\n",
       "      <td>1</td>\n",
       "    </tr>\n",
       "    <tr>\n",
       "      <th>2681</th>\n",
       "      <td>zipping</td>\n",
       "      <td>1</td>\n",
       "    </tr>\n",
       "    <tr>\n",
       "      <th>2682</th>\n",
       "      <td>zoa</td>\n",
       "      <td>1</td>\n",
       "    </tr>\n",
       "    <tr>\n",
       "      <th>2683</th>\n",
       "      <td>zoll</td>\n",
       "      <td>1</td>\n",
       "    </tr>\n",
       "  </tbody>\n",
       "</table>\n",
       "<p>2684 rows × 2 columns</p>\n",
       "</div>"
      ],
      "text/plain": [
       "         Word  Num of Docs\n",
       "0         aam            1\n",
       "1       abide            1\n",
       "2      ablate            1\n",
       "3       abler            1\n",
       "4       above            1\n",
       "...       ...          ...\n",
       "2679   zenith            1\n",
       "2680     zeta            1\n",
       "2681  zipping            1\n",
       "2682      zoa            1\n",
       "2683     zoll            1\n",
       "\n",
       "[2684 rows x 2 columns]"
      ]
     },
     "execution_count": 477,
     "metadata": {},
     "output_type": "execute_result"
    }
   ],
   "source": [
    "#display the df_word dataframe\n",
    "\n",
    "df_word"
   ]
  },
  {
   "cell_type": "code",
   "execution_count": 479,
   "id": "a4ba3932-1f09-4204-a0ab-464d09d46eaa",
   "metadata": {
    "tags": []
   },
   "outputs": [],
   "source": [
    "# Filter out words from 'word_freq_df' that appear only once, as listed in 'df_word'.\n",
    "\n",
    "one_time_words = set(df_word['Word'])\n",
    "word_freq_df = word_freq_df[~word_freq_df['word'].isin(one_time_words)]"
   ]
  },
  {
   "cell_type": "code",
   "execution_count": 481,
   "id": "ba1a2969-950a-4455-9373-f19957efa698",
   "metadata": {
    "tags": []
   },
   "outputs": [
    {
     "data": {
      "text/html": [
       "<div>\n",
       "<style scoped>\n",
       "    .dataframe tbody tr th:only-of-type {\n",
       "        vertical-align: middle;\n",
       "    }\n",
       "\n",
       "    .dataframe tbody tr th {\n",
       "        vertical-align: top;\n",
       "    }\n",
       "\n",
       "    .dataframe thead th {\n",
       "        text-align: right;\n",
       "    }\n",
       "</style>\n",
       "<table border=\"1\" class=\"dataframe\">\n",
       "  <thead>\n",
       "    <tr style=\"text-align: right;\">\n",
       "      <th></th>\n",
       "      <th>word</th>\n",
       "      <th>frequency</th>\n",
       "    </tr>\n",
       "  </thead>\n",
       "  <tbody>\n",
       "    <tr>\n",
       "      <th>0</th>\n",
       "      <td>issue</td>\n",
       "      <td>208957</td>\n",
       "    </tr>\n",
       "    <tr>\n",
       "      <th>1</th>\n",
       "      <td>request</td>\n",
       "      <td>200487</td>\n",
       "    </tr>\n",
       "    <tr>\n",
       "      <th>2</th>\n",
       "      <td>support</td>\n",
       "      <td>190891</td>\n",
       "    </tr>\n",
       "    <tr>\n",
       "      <th>3</th>\n",
       "      <td>elastic</td>\n",
       "      <td>156995</td>\n",
       "    </tr>\n",
       "    <tr>\n",
       "      <th>4</th>\n",
       "      <td>adobe</td>\n",
       "      <td>148434</td>\n",
       "    </tr>\n",
       "    <tr>\n",
       "      <th>...</th>\n",
       "      <td>...</td>\n",
       "      <td>...</td>\n",
       "    </tr>\n",
       "    <tr>\n",
       "      <th>40110</th>\n",
       "      <td>awbm</td>\n",
       "      <td>2</td>\n",
       "    </tr>\n",
       "    <tr>\n",
       "      <th>40111</th>\n",
       "      <td>moretto</td>\n",
       "      <td>2</td>\n",
       "    </tr>\n",
       "    <tr>\n",
       "      <th>40112</th>\n",
       "      <td>dominika</td>\n",
       "      <td>2</td>\n",
       "    </tr>\n",
       "    <tr>\n",
       "      <th>40113</th>\n",
       "      <td>rockland</td>\n",
       "      <td>2</td>\n",
       "    </tr>\n",
       "    <tr>\n",
       "      <th>40114</th>\n",
       "      <td>indglobal</td>\n",
       "      <td>2</td>\n",
       "    </tr>\n",
       "  </tbody>\n",
       "</table>\n",
       "<p>39337 rows × 2 columns</p>\n",
       "</div>"
      ],
      "text/plain": [
       "            word  frequency\n",
       "0          issue     208957\n",
       "1        request     200487\n",
       "2        support     190891\n",
       "3        elastic     156995\n",
       "4          adobe     148434\n",
       "...          ...        ...\n",
       "40110       awbm          2\n",
       "40111    moretto          2\n",
       "40112   dominika          2\n",
       "40113   rockland          2\n",
       "40114  indglobal          2\n",
       "\n",
       "[39337 rows x 2 columns]"
      ]
     },
     "execution_count": 481,
     "metadata": {},
     "output_type": "execute_result"
    }
   ],
   "source": [
    "#Display the word_freq_df dataframe\n",
    "\n",
    "word_freq_df"
   ]
  },
  {
   "cell_type": "code",
   "execution_count": 483,
   "id": "2fe66f84-f1b3-44a8-a846-b931cf60a058",
   "metadata": {
    "tags": []
   },
   "outputs": [],
   "source": [
    "#creating a copy of the word_freq_df dataframe into df_d dataframe\n",
    "\n",
    "df_d = word_freq_df"
   ]
  },
  {
   "cell_type": "code",
   "execution_count": 485,
   "id": "933fc4ea-0eb1-4d18-add9-83620980b4b1",
   "metadata": {
    "tags": []
   },
   "outputs": [
    {
     "name": "stderr",
     "output_type": "stream",
     "text": [
      "[nltk_data] Downloading package words to\n",
      "[nltk_data]     C:\\Users\\shara\\AppData\\Roaming\\nltk_data...\n",
      "[nltk_data]   Package words is already up-to-date!\n"
     ]
    }
   ],
   "source": [
    "# Import NLTK, download the 'words' dataset, and import the words corpus.\n",
    "\n",
    "import nltk\n",
    "nltk.download('words')\n",
    "from nltk.corpus import words"
   ]
  },
  {
   "cell_type": "code",
   "execution_count": 487,
   "id": "7b9de7f6-35f6-4820-b693-2df67d890661",
   "metadata": {
    "tags": []
   },
   "outputs": [],
   "source": [
    "def remove_non_dictionary_words(df, column_name):\n",
    "    \n",
    "    # Copy the original DataFrame to avoid modifying the original data\n",
    "    cleaned_df = df.copy()\n",
    "    removed_df = df.copy()\n",
    "       # Get a set of valid English words from NLTK corpus\n",
    "    english_words = set(words.words())\n",
    "\n",
    "    # Define a function to filter non-dictionary words\n",
    "    def filter_words(word):\n",
    "        return word.lower() in english_words\n",
    "    \n",
    "    # Add custom words to the dictionary\n",
    "    custom_words = {'magento', 'redis', 'mysql', 'database', 'elasticsearch', 'upsize','db','app','opensearch',\n",
    "                   'sql','troubleshoot','mariadb','fastly','sendgrid','marketo','workfront','comp','dps','dc','dng',\n",
    "                   'opentype','encoder','xd','optimizer','libraries','podcast','zookeeper','vcl','cdn',\n",
    "                   'fastlycdn','waf','gb','mnt','sg','spf','dkim','smpt','cname','txt','dmarc','hget',\n",
    "                   'credis','rss','frag','rabbitmq','es','os'}\n",
    "    english_words.update(custom_words)\n",
    "\n",
    "     # Apply the filter function to the specified column\n",
    "    cleaned_word_series = df[column_name].apply(filter_words)\n",
    "    removed_word_series = ~cleaned_word_series\n",
    "    \n",
    "     # Update the cleaned and removed DataFrames with filtered data\n",
    "    cleaned_df = cleaned_df[cleaned_word_series]\n",
    "    removed_df = removed_df[removed_word_series]\n",
    "   \n",
    "\n",
    "    return cleaned_df, removed_df"
   ]
  },
  {
   "cell_type": "code",
   "execution_count": 489,
   "id": "0fc36305-e24f-471a-9b6d-8cbba010b031",
   "metadata": {
    "tags": []
   },
   "outputs": [],
   "source": [
    "#calling the above remove_non_dictionary_words function and moving return value into two diffrent dataframes\n",
    "\n",
    "cleaned_word_list, removed_word_list = remove_non_dictionary_words(df_d, 'word')"
   ]
  },
  {
   "cell_type": "code",
   "execution_count": 491,
   "id": "a8082c9e-b54b-4182-b4b4-767523a3d703",
   "metadata": {
    "tags": []
   },
   "outputs": [
    {
     "data": {
      "text/html": [
       "<div>\n",
       "<style scoped>\n",
       "    .dataframe tbody tr th:only-of-type {\n",
       "        vertical-align: middle;\n",
       "    }\n",
       "\n",
       "    .dataframe tbody tr th {\n",
       "        vertical-align: top;\n",
       "    }\n",
       "\n",
       "    .dataframe thead th {\n",
       "        text-align: right;\n",
       "    }\n",
       "</style>\n",
       "<table border=\"1\" class=\"dataframe\">\n",
       "  <thead>\n",
       "    <tr style=\"text-align: right;\">\n",
       "      <th></th>\n",
       "      <th>word</th>\n",
       "      <th>frequency</th>\n",
       "    </tr>\n",
       "  </thead>\n",
       "  <tbody>\n",
       "    <tr>\n",
       "      <th>0</th>\n",
       "      <td>issue</td>\n",
       "      <td>208957</td>\n",
       "    </tr>\n",
       "    <tr>\n",
       "      <th>1</th>\n",
       "      <td>request</td>\n",
       "      <td>200487</td>\n",
       "    </tr>\n",
       "    <tr>\n",
       "      <th>2</th>\n",
       "      <td>support</td>\n",
       "      <td>190891</td>\n",
       "    </tr>\n",
       "    <tr>\n",
       "      <th>3</th>\n",
       "      <td>elastic</td>\n",
       "      <td>156995</td>\n",
       "    </tr>\n",
       "    <tr>\n",
       "      <th>4</th>\n",
       "      <td>adobe</td>\n",
       "      <td>148434</td>\n",
       "    </tr>\n",
       "    <tr>\n",
       "      <th>...</th>\n",
       "      <td>...</td>\n",
       "      <td>...</td>\n",
       "    </tr>\n",
       "    <tr>\n",
       "      <th>39994</th>\n",
       "      <td>shave</td>\n",
       "      <td>2</td>\n",
       "    </tr>\n",
       "    <tr>\n",
       "      <th>40013</th>\n",
       "      <td>rhe</td>\n",
       "      <td>2</td>\n",
       "    </tr>\n",
       "    <tr>\n",
       "      <th>40034</th>\n",
       "      <td>safeguard</td>\n",
       "      <td>2</td>\n",
       "    </tr>\n",
       "    <tr>\n",
       "      <th>40040</th>\n",
       "      <td>knight</td>\n",
       "      <td>2</td>\n",
       "    </tr>\n",
       "    <tr>\n",
       "      <th>40094</th>\n",
       "      <td>herewith</td>\n",
       "      <td>2</td>\n",
       "    </tr>\n",
       "  </tbody>\n",
       "</table>\n",
       "<p>7594 rows × 2 columns</p>\n",
       "</div>"
      ],
      "text/plain": [
       "            word  frequency\n",
       "0          issue     208957\n",
       "1        request     200487\n",
       "2        support     190891\n",
       "3        elastic     156995\n",
       "4          adobe     148434\n",
       "...          ...        ...\n",
       "39994      shave          2\n",
       "40013        rhe          2\n",
       "40034  safeguard          2\n",
       "40040     knight          2\n",
       "40094   herewith          2\n",
       "\n",
       "[7594 rows x 2 columns]"
      ]
     },
     "execution_count": 491,
     "metadata": {},
     "output_type": "execute_result"
    }
   ],
   "source": [
    "#Display the cleaned word list dataframe\n",
    "\n",
    "cleaned_word_list"
   ]
  },
  {
   "cell_type": "code",
   "execution_count": 493,
   "id": "5453c1ab-3b9f-4f32-80f0-7ca5c7a7406a",
   "metadata": {
    "tags": []
   },
   "outputs": [
    {
     "data": {
      "text/html": [
       "<div>\n",
       "<style scoped>\n",
       "    .dataframe tbody tr th:only-of-type {\n",
       "        vertical-align: middle;\n",
       "    }\n",
       "\n",
       "    .dataframe tbody tr th {\n",
       "        vertical-align: top;\n",
       "    }\n",
       "\n",
       "    .dataframe thead th {\n",
       "        text-align: right;\n",
       "    }\n",
       "</style>\n",
       "<table border=\"1\" class=\"dataframe\">\n",
       "  <thead>\n",
       "    <tr style=\"text-align: right;\">\n",
       "      <th></th>\n",
       "      <th>word</th>\n",
       "      <th>frequency</th>\n",
       "    </tr>\n",
       "  </thead>\n",
       "  <tbody>\n",
       "    <tr>\n",
       "      <th>22</th>\n",
       "      <td>gt</td>\n",
       "      <td>74387</td>\n",
       "    </tr>\n",
       "    <tr>\n",
       "      <th>48</th>\n",
       "      <td>elasticis</td>\n",
       "      <td>40067</td>\n",
       "    </tr>\n",
       "    <tr>\n",
       "      <th>103</th>\n",
       "      <td>lt</td>\n",
       "      <td>23902</td>\n",
       "    </tr>\n",
       "    <tr>\n",
       "      <th>114</th>\n",
       "      <td>stg</td>\n",
       "      <td>21522</td>\n",
       "    </tr>\n",
       "    <tr>\n",
       "      <th>126</th>\n",
       "      <td>php</td>\n",
       "      <td>18887</td>\n",
       "    </tr>\n",
       "    <tr>\n",
       "      <th>...</th>\n",
       "      <td>...</td>\n",
       "      <td>...</td>\n",
       "    </tr>\n",
       "    <tr>\n",
       "      <th>40110</th>\n",
       "      <td>awbm</td>\n",
       "      <td>2</td>\n",
       "    </tr>\n",
       "    <tr>\n",
       "      <th>40111</th>\n",
       "      <td>moretto</td>\n",
       "      <td>2</td>\n",
       "    </tr>\n",
       "    <tr>\n",
       "      <th>40112</th>\n",
       "      <td>dominika</td>\n",
       "      <td>2</td>\n",
       "    </tr>\n",
       "    <tr>\n",
       "      <th>40113</th>\n",
       "      <td>rockland</td>\n",
       "      <td>2</td>\n",
       "    </tr>\n",
       "    <tr>\n",
       "      <th>40114</th>\n",
       "      <td>indglobal</td>\n",
       "      <td>2</td>\n",
       "    </tr>\n",
       "  </tbody>\n",
       "</table>\n",
       "<p>31743 rows × 2 columns</p>\n",
       "</div>"
      ],
      "text/plain": [
       "            word  frequency\n",
       "22            gt      74387\n",
       "48     elasticis      40067\n",
       "103           lt      23902\n",
       "114          stg      21522\n",
       "126          php      18887\n",
       "...          ...        ...\n",
       "40110       awbm          2\n",
       "40111    moretto          2\n",
       "40112   dominika          2\n",
       "40113   rockland          2\n",
       "40114  indglobal          2\n",
       "\n",
       "[31743 rows x 2 columns]"
      ]
     },
     "execution_count": 493,
     "metadata": {},
     "output_type": "execute_result"
    }
   ],
   "source": [
    "#display the removed word list dataframe\n",
    "\n",
    "removed_word_list"
   ]
  },
  {
   "cell_type": "code",
   "execution_count": 495,
   "id": "f3017f91-3c8b-4313-adc7-475d8b8ca8fe",
   "metadata": {
    "tags": []
   },
   "outputs": [],
   "source": [
    "#adding more words to a list called word to remove which is used to remove below words to remove form the cleaned_word_list\n",
    "words_to_remove = ['hello','thank','please','adobe','issue','request','commerce','engineer','follow',\n",
    "                  'help','investigation','provide','status','ticket','customer','support','hi','kind',\n",
    "                  'regard','documentation', 'center', 'update', 'data', 'resolve', 'community', 'receive', \n",
    "                   'close', 'us', 'know', 'look', 'require', 'additional', 'within', 'reply', 'still', 'need', \n",
    "                   'team', 'access', 'case']"
   ]
  },
  {
   "cell_type": "code",
   "execution_count": 497,
   "id": "cd3783cd-aa26-43f2-a7ec-1bec98561669",
   "metadata": {
    "tags": []
   },
   "outputs": [],
   "source": [
    "#Calling the above list to remove words from cleaned_word_list and creating a new dataframe modified_df\n",
    "\n",
    "modified_df = cleaned_word_list[~cleaned_word_list['word'].isin(words_to_remove)]"
   ]
  },
  {
   "cell_type": "code",
   "execution_count": 499,
   "id": "7a9db0d8-aecb-4298-9d27-2e43ce5576d3",
   "metadata": {
    "tags": []
   },
   "outputs": [
    {
     "data": {
      "text/html": [
       "<div>\n",
       "<style scoped>\n",
       "    .dataframe tbody tr th:only-of-type {\n",
       "        vertical-align: middle;\n",
       "    }\n",
       "\n",
       "    .dataframe tbody tr th {\n",
       "        vertical-align: top;\n",
       "    }\n",
       "\n",
       "    .dataframe thead th {\n",
       "        text-align: right;\n",
       "    }\n",
       "</style>\n",
       "<table border=\"1\" class=\"dataframe\">\n",
       "  <thead>\n",
       "    <tr style=\"text-align: right;\">\n",
       "      <th></th>\n",
       "      <th>word</th>\n",
       "      <th>frequency</th>\n",
       "    </tr>\n",
       "  </thead>\n",
       "  <tbody>\n",
       "    <tr>\n",
       "      <th>3</th>\n",
       "      <td>elastic</td>\n",
       "      <td>156995</td>\n",
       "    </tr>\n",
       "    <tr>\n",
       "      <th>8</th>\n",
       "      <td>magento</td>\n",
       "      <td>113827</td>\n",
       "    </tr>\n",
       "    <tr>\n",
       "      <th>9</th>\n",
       "      <td>engineering</td>\n",
       "      <td>106999</td>\n",
       "    </tr>\n",
       "    <tr>\n",
       "      <th>10</th>\n",
       "      <td>deploy</td>\n",
       "      <td>105225</td>\n",
       "    </tr>\n",
       "    <tr>\n",
       "      <th>11</th>\n",
       "      <td>database</td>\n",
       "      <td>104613</td>\n",
       "    </tr>\n",
       "    <tr>\n",
       "      <th>...</th>\n",
       "      <td>...</td>\n",
       "      <td>...</td>\n",
       "    </tr>\n",
       "    <tr>\n",
       "      <th>39994</th>\n",
       "      <td>shave</td>\n",
       "      <td>2</td>\n",
       "    </tr>\n",
       "    <tr>\n",
       "      <th>40013</th>\n",
       "      <td>rhe</td>\n",
       "      <td>2</td>\n",
       "    </tr>\n",
       "    <tr>\n",
       "      <th>40034</th>\n",
       "      <td>safeguard</td>\n",
       "      <td>2</td>\n",
       "    </tr>\n",
       "    <tr>\n",
       "      <th>40040</th>\n",
       "      <td>knight</td>\n",
       "      <td>2</td>\n",
       "    </tr>\n",
       "    <tr>\n",
       "      <th>40094</th>\n",
       "      <td>herewith</td>\n",
       "      <td>2</td>\n",
       "    </tr>\n",
       "  </tbody>\n",
       "</table>\n",
       "<p>7555 rows × 2 columns</p>\n",
       "</div>"
      ],
      "text/plain": [
       "              word  frequency\n",
       "3          elastic     156995\n",
       "8          magento     113827\n",
       "9      engineering     106999\n",
       "10          deploy     105225\n",
       "11        database     104613\n",
       "...            ...        ...\n",
       "39994        shave          2\n",
       "40013          rhe          2\n",
       "40034    safeguard          2\n",
       "40040       knight          2\n",
       "40094     herewith          2\n",
       "\n",
       "[7555 rows x 2 columns]"
      ]
     },
     "execution_count": 499,
     "metadata": {},
     "output_type": "execute_result"
    }
   ],
   "source": [
    "modified_df"
   ]
  },
  {
   "cell_type": "code",
   "execution_count": 501,
   "id": "0c90aed3-58ec-4878-ba72-2a7f3b9d59d8",
   "metadata": {
    "tags": []
   },
   "outputs": [],
   "source": [
    "def keep_words_from_df(df_filtered, modified_df):\n",
    "    # Make a copy of the filtered DataFrame to avoid modifying the original data\n",
    "    filtered_df = df_filtered.copy()\n",
    "    \n",
    "    # Create a set of words to remove\n",
    "    words_to_keep = set(modified_df['word'])\n",
    "    \n",
    "    # Remove words from the text column\n",
    "    #filtered_df['text'] = filtered_df['text'].apply(lambda word_list: [word for word in word_list if word not in words_to_remove])\n",
    "    \n",
    "    # Keep only the words from modified_df in the text column\n",
    "    filtered_df['text'] = filtered_df['text'].apply(lambda word_list: [word for word in word_list if word in words_to_keep])\n",
    "    \n",
    "    return filtered_df\n",
    "    "
   ]
  },
  {
   "cell_type": "code",
   "execution_count": 503,
   "id": "2b110f30-bc28-469a-94b9-927308d046bd",
   "metadata": {
    "tags": []
   },
   "outputs": [],
   "source": [
    "#calling the above keep words function to keep words from modified_df in df_filtered dataframe\n",
    "\n",
    "filtered_df = keep_words_from_df(df_filtered, modified_df)"
   ]
  },
  {
   "cell_type": "code",
   "execution_count": 505,
   "id": "048866e7-ada4-4e2d-a65d-497ca822e49e",
   "metadata": {
    "tags": []
   },
   "outputs": [
    {
     "data": {
      "text/html": [
       "<div>\n",
       "<style scoped>\n",
       "    .dataframe tbody tr th:only-of-type {\n",
       "        vertical-align: middle;\n",
       "    }\n",
       "\n",
       "    .dataframe tbody tr th {\n",
       "        vertical-align: top;\n",
       "    }\n",
       "\n",
       "    .dataframe thead th {\n",
       "        text-align: right;\n",
       "    }\n",
       "</style>\n",
       "<table border=\"1\" class=\"dataframe\">\n",
       "  <thead>\n",
       "    <tr style=\"text-align: right;\">\n",
       "      <th></th>\n",
       "      <th>text</th>\n",
       "      <th>type</th>\n",
       "    </tr>\n",
       "  </thead>\n",
       "  <tbody>\n",
       "    <tr>\n",
       "      <th>0</th>\n",
       "      <td>[database, project, affect, environment, affec...</td>\n",
       "      <td>database</td>\n",
       "    </tr>\n",
       "    <tr>\n",
       "      <th>1</th>\n",
       "      <td>[sql, stick, production, seem, like, sql, stuc...</td>\n",
       "      <td>database</td>\n",
       "    </tr>\n",
       "    <tr>\n",
       "      <th>2</th>\n",
       "      <td>[database, medium, folder, migration, stage, a...</td>\n",
       "      <td>database</td>\n",
       "    </tr>\n",
       "    <tr>\n",
       "      <th>3</th>\n",
       "      <td>[sql, server, go, away, error, log, addition, ...</td>\n",
       "      <td>database</td>\n",
       "    </tr>\n",
       "    <tr>\n",
       "      <th>4</th>\n",
       "      <td>[location, fail, graph, overall, elastic, moni...</td>\n",
       "      <td>database</td>\n",
       "    </tr>\n",
       "    <tr>\n",
       "      <th>...</th>\n",
       "      <td>...</td>\n",
       "      <td>...</td>\n",
       "    </tr>\n",
       "    <tr>\n",
       "      <th>11561</th>\n",
       "      <td>[fashion, increase, stage, elastic, order, cre...</td>\n",
       "      <td>upsize</td>\n",
       "    </tr>\n",
       "    <tr>\n",
       "      <th>11562</th>\n",
       "      <td>[work, cache, clean, deploy, production, engin...</td>\n",
       "      <td>deploy</td>\n",
       "    </tr>\n",
       "    <tr>\n",
       "      <th>11563</th>\n",
       "      <td>[enable, fastly, like, probably, later, week, ...</td>\n",
       "      <td>fastly</td>\n",
       "    </tr>\n",
       "    <tr>\n",
       "      <th>11564</th>\n",
       "      <td>[deploy, fail, go, backlog, notice, respond, a...</td>\n",
       "      <td>deploy</td>\n",
       "    </tr>\n",
       "    <tr>\n",
       "      <th>11565</th>\n",
       "      <td>[upgrade, deploy, take, long, agent, hold, wit...</td>\n",
       "      <td>deploy</td>\n",
       "    </tr>\n",
       "  </tbody>\n",
       "</table>\n",
       "<p>18923 rows × 2 columns</p>\n",
       "</div>"
      ],
      "text/plain": [
       "                                                    text      type\n",
       "0      [database, project, affect, environment, affec...  database\n",
       "1      [sql, stick, production, seem, like, sql, stuc...  database\n",
       "2      [database, medium, folder, migration, stage, a...  database\n",
       "3      [sql, server, go, away, error, log, addition, ...  database\n",
       "4      [location, fail, graph, overall, elastic, moni...  database\n",
       "...                                                  ...       ...\n",
       "11561  [fashion, increase, stage, elastic, order, cre...    upsize\n",
       "11562  [work, cache, clean, deploy, production, engin...    deploy\n",
       "11563  [enable, fastly, like, probably, later, week, ...    fastly\n",
       "11564  [deploy, fail, go, backlog, notice, respond, a...    deploy\n",
       "11565  [upgrade, deploy, take, long, agent, hold, wit...    deploy\n",
       "\n",
       "[18923 rows x 2 columns]"
      ]
     },
     "execution_count": 505,
     "metadata": {},
     "output_type": "execute_result"
    }
   ],
   "source": [
    "#displaying the filtered_df dataframe after all the pre-processing\n",
    "\n",
    "filtered_df"
   ]
  },
  {
   "cell_type": "code",
   "execution_count": 507,
   "id": "412f7d89-56df-4688-b6b9-849770705b02",
   "metadata": {
    "tags": []
   },
   "outputs": [],
   "source": [
    "# Join all the words in each row\n",
    "filtered_df['text'] = filtered_df['text'].apply(lambda word_list: ' '.join(word_list))"
   ]
  },
  {
   "cell_type": "code",
   "execution_count": 509,
   "id": "d6448a21-c92b-424d-8074-91b2b34948b6",
   "metadata": {
    "tags": []
   },
   "outputs": [
    {
     "data": {
      "text/html": [
       "<div>\n",
       "<style scoped>\n",
       "    .dataframe tbody tr th:only-of-type {\n",
       "        vertical-align: middle;\n",
       "    }\n",
       "\n",
       "    .dataframe tbody tr th {\n",
       "        vertical-align: top;\n",
       "    }\n",
       "\n",
       "    .dataframe thead th {\n",
       "        text-align: right;\n",
       "    }\n",
       "</style>\n",
       "<table border=\"1\" class=\"dataframe\">\n",
       "  <thead>\n",
       "    <tr style=\"text-align: right;\">\n",
       "      <th></th>\n",
       "      <th>text</th>\n",
       "      <th>type</th>\n",
       "    </tr>\n",
       "  </thead>\n",
       "  <tbody>\n",
       "    <tr>\n",
       "      <th>0</th>\n",
       "      <td>database project affect environment affect pro...</td>\n",
       "      <td>database</td>\n",
       "    </tr>\n",
       "    <tr>\n",
       "      <th>1</th>\n",
       "      <td>sql stick production seem like sql stuck produ...</td>\n",
       "      <td>database</td>\n",
       "    </tr>\n",
       "    <tr>\n",
       "      <th>2</th>\n",
       "      <td>database medium folder migration stage able re...</td>\n",
       "      <td>database</td>\n",
       "    </tr>\n",
       "    <tr>\n",
       "      <th>3</th>\n",
       "      <td>sql server go away error log addition previous...</td>\n",
       "      <td>database</td>\n",
       "    </tr>\n",
       "    <tr>\n",
       "      <th>4</th>\n",
       "      <td>location fail graph overall elastic monitor si...</td>\n",
       "      <td>database</td>\n",
       "    </tr>\n",
       "    <tr>\n",
       "      <th>...</th>\n",
       "      <td>...</td>\n",
       "      <td>...</td>\n",
       "    </tr>\n",
       "    <tr>\n",
       "      <th>11561</th>\n",
       "      <td>fashion increase stage elastic order create se...</td>\n",
       "      <td>upsize</td>\n",
       "    </tr>\n",
       "    <tr>\n",
       "      <th>11562</th>\n",
       "      <td>work cache clean deploy production engineering...</td>\n",
       "      <td>deploy</td>\n",
       "    </tr>\n",
       "    <tr>\n",
       "      <th>11563</th>\n",
       "      <td>enable fastly like probably later week next we...</td>\n",
       "      <td>fastly</td>\n",
       "    </tr>\n",
       "    <tr>\n",
       "      <th>11564</th>\n",
       "      <td>deploy fail go backlog notice respond automati...</td>\n",
       "      <td>deploy</td>\n",
       "    </tr>\n",
       "    <tr>\n",
       "      <th>11565</th>\n",
       "      <td>upgrade deploy take long agent hold without me...</td>\n",
       "      <td>deploy</td>\n",
       "    </tr>\n",
       "  </tbody>\n",
       "</table>\n",
       "<p>18923 rows × 2 columns</p>\n",
       "</div>"
      ],
      "text/plain": [
       "                                                    text      type\n",
       "0      database project affect environment affect pro...  database\n",
       "1      sql stick production seem like sql stuck produ...  database\n",
       "2      database medium folder migration stage able re...  database\n",
       "3      sql server go away error log addition previous...  database\n",
       "4      location fail graph overall elastic monitor si...  database\n",
       "...                                                  ...       ...\n",
       "11561  fashion increase stage elastic order create se...    upsize\n",
       "11562  work cache clean deploy production engineering...    deploy\n",
       "11563  enable fastly like probably later week next we...    fastly\n",
       "11564  deploy fail go backlog notice respond automati...    deploy\n",
       "11565  upgrade deploy take long agent hold without me...    deploy\n",
       "\n",
       "[18923 rows x 2 columns]"
      ]
     },
     "execution_count": 509,
     "metadata": {},
     "output_type": "execute_result"
    }
   ],
   "source": [
    "filtered_df"
   ]
  },
  {
   "cell_type": "code",
   "execution_count": 511,
   "id": "3a5df649-75d3-4386-8d21-2b309ef3fd16",
   "metadata": {
    "tags": []
   },
   "outputs": [
    {
     "data": {
      "text/plain": [
       "'database project affect environment affect production staging environment name staging select leave empty change database backup merchant date end observe na change make change already do troubleshoot validate na production site live yes database datum consent grant make sure primary contact grant explicit permission client datum via panel well backup database last one one august maxim database create directly one reopen right away may mail experience survey link commit good class experience would greatly appreciate we improve engineering database backup step reproduce database balance add infra wait keep post patel engineering database find database disk database fit requirement retrieve database redis southeast backup database vol snap complete vol retrieve database redis southeast backup database vol snap complete vol end retrieve database redis southeast backup database vol snap complete vol soon retrieval process complete good database database retrieve mount first elastic production elastic database mount mnt recovery vol root mnt recovery vol cat snap root mnt recovery vol sql sql root root root root sql root root sql root root snap time root root sql root root sql root mnt recovery vol mnt recovery vol database mount mnt recovery vol root mnt recovery vol cat snap root mnt recovery vol sql sql root root root root sql root root sql root root snap time root root sql root root sql root mnt recovery vol mnt recovery vol database end mount mnt recovery vol root mnt recovery vol cat snap root mnt recovery vol sql sql root root root root sql root root sql root root snap time root root sql root root sql root mnt recovery vol mnt recovery vol let we anything good database could one august maxim database balance complete initial review triage concern database determined put appropriate category accordingly next available application specialist respond another note recently policy around datum describe engineering datum order investigate review article account owner ego confirm permission datum order troubleshoot might per datum privacy policy also ensure open correct organization allow proper quickly possible en note account owner datum consent future manage setting show article amber technical engineering database database sql sql snap find database elastic home last redis redis redis date time database volume redis elastic backup auto retrieve elastic type name region southeast provider aw snap dispose day backup auto retrieve elastic type name region southeast provider aw snap dispose day snap find database elastic home last redis redis redis date time database volume redis elastic backup auto retrieve elastic type name region southeast provider aw snap dispose day backup auto retrieve elastic type name region southeast provider aw snap dispose day database infrastructure database backup nearly date around database maxim database client relate fastly rate limit pull database backup day end usual process database snap find database elastic home last redis redis redis date time database volume redis elastic backup auto retrieve elastic type name region southeast provider aw snap dispose day backup auto retrieve elastic type name region southeast provider aw snap dispose day backup auto retrieve elastic type name region southeast provider aw snap dispose day backup auto retrieve elastic type name region southeast provider aw snap dispose day database backup auto retrieve elastic type name region southeast provider aw snap dispose day create jenkin job backup retrieval successfully create retrieve snap job sec delay successfully schedule job retrieval database database redis southeast backup database vol snap vol redis southeast backup database vol snap complete vol redis southeast backup database vol snap complete vol let we one retrieve good database infrastructure specialist copy infrastructure specialist engineering database maxim start retrieval process database database mount per usual elastic production elastic complete usually take time database automatically day database redis southeast backup database vol snap complete vol redis southeast backup database vol snap complete vol redis southeast backup database vol snap complete vol redis southeast backup database vol snap complete vol end redis southeast backup database vol snap complete vol database backup auto retrieve elastic type name region southeast provider aw snap dispose day create jenkin job backup retrieval successfully create retrieve snap job sec delay successfully schedule job retrieval backup auto retrieve elastic type name region southeast provider aw snap dispose day create jenkin job backup retrieval successfully create retrieve snap job sec delay successfully schedule job retrieval database engineering await information well assist timely manner await information response day notification engineering database balance take time send we list date together await final list date end patel engineering database get touch magento technical take ownership assist review answer information soon patel engineering database could maxim database backup cheer guy hold anything might one well database engineering await information well assist soon possible await information response day notification engineering database accept platform sh database project title ego project cloud magento project plan magento pro region magento cloud default branch master default domain dedicate tag magento cloud angel console magento version premier fastly service database infrastructure addition merchant one august confirm convey information database balance infra nearest backup available await patel engineering database maxim start retrieval process database database take august pick database take'"
      ]
     },
     "execution_count": 511,
     "metadata": {},
     "output_type": "execute_result"
    }
   ],
   "source": [
    "filtered_df.iloc[0][0]"
   ]
  },
  {
   "cell_type": "code",
   "execution_count": 513,
   "id": "a4e87a04-8b4b-4812-8a7d-4ca6a4987d1b",
   "metadata": {
    "tags": []
   },
   "outputs": [],
   "source": [
    "filtered_df.to_excel('Indstudy-Pre-processing.xlsx',index =True)"
   ]
  },
  {
   "cell_type": "code",
   "execution_count": null,
   "id": "3b08411e-c44a-4690-805c-61f9e35d33cc",
   "metadata": {},
   "outputs": [],
   "source": []
  }
 ],
 "metadata": {
  "kernelspec": {
   "display_name": "Python 3 (ipykernel)",
   "language": "python",
   "name": "python3"
  },
  "language_info": {
   "codemirror_mode": {
    "name": "ipython",
    "version": 3
   },
   "file_extension": ".py",
   "mimetype": "text/x-python",
   "name": "python",
   "nbconvert_exporter": "python",
   "pygments_lexer": "ipython3",
   "version": "3.11.5"
  }
 },
 "nbformat": 4,
 "nbformat_minor": 5
}
