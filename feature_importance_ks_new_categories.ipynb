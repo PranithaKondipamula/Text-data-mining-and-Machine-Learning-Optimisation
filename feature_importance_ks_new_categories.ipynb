{
 "cells": [
  {
   "cell_type": "code",
   "execution_count": 1,
   "metadata": {
    "id": "pavBu83qHs7l"
   },
   "outputs": [],
   "source": [
    "#Import packages\n",
    "import seaborn as sns\n",
    "import pandas as pd\n",
    "import random\n",
    "import numpy as np\n",
    "import matplotlib.pyplot as plt\n",
    "import seaborn as sns\n",
    "\n",
    "#LDA Coherence scores\n",
    "from sklearn.feature_extraction.text import CountVectorizer\n",
    "from gensim.models import LdaModel\n",
    "from gensim.corpora import Dictionary\n",
    "from gensim.models import CoherenceModel\n",
    "from gensim.utils import simple_preprocess\n",
    "\n",
    "#NMF\n",
    "from sklearn.feature_extraction.text import TfidfVectorizer\n",
    "from sklearn.decomposition import NMF\n",
    "\n",
    "# Data Splitting and Resampling\n",
    "from sklearn.model_selection import train_test_split\n",
    "\n",
    "# Vectorization\n",
    "from sklearn.feature_extraction.text import TfidfVectorizer\n",
    "\n",
    "# Reports\n",
    "from sklearn.metrics import confusion_matrix\n",
    "from sklearn.metrics import classification_report\n",
    "\n",
    "# Model\n",
    "from sklearn import svm"
   ]
  },
  {
   "cell_type": "code",
   "execution_count": 2,
   "metadata": {
    "id": "lYiL-iscNw97"
   },
   "outputs": [],
   "source": [
    "filtered_df = pd.read_csv('tfidf_text_final.csv')"
   ]
  },
  {
   "cell_type": "code",
   "execution_count": 3,
   "metadata": {
    "colab": {
     "base_uri": "https://localhost:8080/",
     "height": 206
    },
    "id": "fJvjAcpvOP9i",
    "outputId": "ab85e808-9877-4960-a15b-2953e478ff57"
   },
   "outputs": [
    {
     "data": {
      "text/html": [
       "<div>\n",
       "<style scoped>\n",
       "    .dataframe tbody tr th:only-of-type {\n",
       "        vertical-align: middle;\n",
       "    }\n",
       "\n",
       "    .dataframe tbody tr th {\n",
       "        vertical-align: top;\n",
       "    }\n",
       "\n",
       "    .dataframe thead th {\n",
       "        text-align: right;\n",
       "    }\n",
       "</style>\n",
       "<table border=\"1\" class=\"dataframe\">\n",
       "  <thead>\n",
       "    <tr style=\"text-align: right;\">\n",
       "      <th></th>\n",
       "      <th>text</th>\n",
       "      <th>type</th>\n",
       "      <th>tfidf_text</th>\n",
       "    </tr>\n",
       "  </thead>\n",
       "  <tbody>\n",
       "    <tr>\n",
       "      <th>0</th>\n",
       "      <td>database project affect environment affect pro...</td>\n",
       "      <td>database</td>\n",
       "      <td>database project affect environment affect pro...</td>\n",
       "    </tr>\n",
       "    <tr>\n",
       "      <th>1</th>\n",
       "      <td>sql stick production seem like sql stuck produ...</td>\n",
       "      <td>database</td>\n",
       "      <td>sql stick production seem like sql stuck produ...</td>\n",
       "    </tr>\n",
       "    <tr>\n",
       "      <th>2</th>\n",
       "      <td>database medium folder migration stage able re...</td>\n",
       "      <td>database</td>\n",
       "      <td>database medium folder migration stage able re...</td>\n",
       "    </tr>\n",
       "    <tr>\n",
       "      <th>3</th>\n",
       "      <td>sql server go away error log addition previous...</td>\n",
       "      <td>database</td>\n",
       "      <td>sql server go away error log previous message ...</td>\n",
       "    </tr>\n",
       "    <tr>\n",
       "      <th>4</th>\n",
       "      <td>location fail graph overall elastic monitor si...</td>\n",
       "      <td>database</td>\n",
       "      <td>location fail graph elastic monitor sincerely ...</td>\n",
       "    </tr>\n",
       "  </tbody>\n",
       "</table>\n",
       "</div>"
      ],
      "text/plain": [
       "                                                text      type  \\\n",
       "0  database project affect environment affect pro...  database   \n",
       "1  sql stick production seem like sql stuck produ...  database   \n",
       "2  database medium folder migration stage able re...  database   \n",
       "3  sql server go away error log addition previous...  database   \n",
       "4  location fail graph overall elastic monitor si...  database   \n",
       "\n",
       "                                          tfidf_text  \n",
       "0  database project affect environment affect pro...  \n",
       "1  sql stick production seem like sql stuck produ...  \n",
       "2  database medium folder migration stage able re...  \n",
       "3  sql server go away error log previous message ...  \n",
       "4  location fail graph elastic monitor sincerely ...  "
      ]
     },
     "execution_count": 3,
     "metadata": {},
     "output_type": "execute_result"
    }
   ],
   "source": [
    "filtered_df.head()"
   ]
  },
  {
   "cell_type": "code",
   "execution_count": 4,
   "metadata": {
    "colab": {
     "base_uri": "https://localhost:8080/"
    },
    "id": "5eTZgQRHp6Vp",
    "outputId": "8be82c1b-80e2-48f8-b1cc-da265f8ca170"
   },
   "outputs": [
    {
     "data": {
      "text/plain": [
       "1"
      ]
     },
     "execution_count": 4,
     "metadata": {},
     "output_type": "execute_result"
    }
   ],
   "source": [
    "filtered_df['tfidf_text'].isnull().sum()\n"
   ]
  },
  {
   "cell_type": "code",
   "execution_count": 5,
   "metadata": {
    "id": "cgKCyfxnrM8l"
   },
   "outputs": [],
   "source": [
    "filtered_df.dropna(subset=['tfidf_text'], inplace=True)\n"
   ]
  },
  {
   "cell_type": "code",
   "execution_count": 6,
   "metadata": {},
   "outputs": [
    {
     "name": "stdout",
     "output_type": "stream",
     "text": [
      "\n",
      "Coherence Scores:\n",
      "Number of Topics: 9, Coherence Score: 0.4696864439674392\n",
      "Number of Topics: 10, Coherence Score: 0.4828995848700252\n",
      "Number of Topics: 11, Coherence Score: 0.47724307973085267\n",
      "Number of Topics: 12, Coherence Score: 0.44479144205601573\n"
     ]
    }
   ],
   "source": [
    "######LDA model from gensim\n",
    "\n",
    "# Set seeds for reproducibility\n",
    "random.seed(35)\n",
    "np.random.seed(35)\n",
    "\n",
    "# Preprocess the text data\n",
    "processed_docs = filtered_df['tfidf_text'].apply(lambda x: simple_preprocess(x))\n",
    "\n",
    "# Create a CountVectorizer object\n",
    "vectorizer = CountVectorizer()\n",
    "X = vectorizer.fit_transform(filtered_df['tfidf_text'])\n",
    "\n",
    "# Create a Gensim Dictionary\n",
    "id2word = Dictionary(processed_docs)\n",
    "\n",
    "# Convert the text data to a Gensim corpus\n",
    "corpus = [id2word.doc2bow(doc) for doc in processed_docs]\n",
    "\n",
    "# Initialize variables\n",
    "start_topics = 9\n",
    "end_topics = 12\n",
    "coherence_scores = []\n",
    "\n",
    "# Iterate over different numbers of topics\n",
    "for num_topics in range(start_topics, end_topics + 1):\n",
    "    # Create LDA model using Gensim\n",
    "    lda = LdaModel(corpus, id2word=id2word, num_topics=num_topics)\n",
    "\n",
    "    # Get coherence score\n",
    "    coherence_model = CoherenceModel(model=lda, texts=processed_docs, coherence='c_v')\n",
    "    coherence_score = coherence_model.get_coherence()\n",
    "    coherence_scores.append(coherence_score)\n",
    "\n",
    "# Print coherence scores for different numbers of topics\n",
    "print(\"\\nCoherence Scores:\")\n",
    "for num_topics, score in zip(range(start_topics, end_topics + 1), coherence_scores):\n",
    "    print(f\"Number of Topics: {num_topics}, Coherence Score: {score}\")"
   ]
  },
  {
   "cell_type": "code",
   "execution_count": 7,
   "metadata": {
    "colab": {
     "base_uri": "https://localhost:8080/"
    },
    "id": "NY9FAO79OP4T",
    "outputId": "fd88297b-7af4-47e2-a4a3-737df3ecbb60"
   },
   "outputs": [
    {
     "name": "stderr",
     "output_type": "stream",
     "text": [
      "/Users/swap7898/Applications/anaconda3/lib/python3.9/site-packages/sklearn/decomposition/_nmf.py:289: FutureWarning: The 'init' value, when 'init=None' and n_components is less than n_samples and n_features, will be changed from 'nndsvd' to 'nndsvda' in 1.1 (renaming of 0.26).\n",
      "  warnings.warn(\n"
     ]
    },
    {
     "name": "stdout",
     "output_type": "stream",
     "text": [
      "Topic 1:\n",
      "['deploy', 'fail', 'magento', 'error', 'stick', 'integration', 'cloud', 'composer', 'stuck', 'tool']\n",
      "Topic 2:\n",
      "['fastly', 'domain', 'cache', 'block', 'add', 'service', 'configuration', 'snippet', 'page', 'solution']\n",
      "Topic 3:\n",
      "['upsize', 'size', 'production', 'temporary', 'resize', 'false', 'infrastructure', 'change', 'schedule', 'date']\n",
      "Topic 4:\n",
      "['space', 'disk', 'increase', 'redis', 'storage', 'app', 'export', 'share', 'pub', 'medium']\n",
      "Topic 5:\n",
      "['elastic', 'search', 'open', 'number', 'analysis', 'curl', 'product', 'build', 'type', 'install']\n",
      "Topic 6:\n",
      "['database', 'backup', 'dump', 'production', 'snap', 'maria', 'table', 'vol', 'create', 'user']\n",
      "Topic 7:\n",
      "['sendgrid', 'domain', 'record', 'send', 'mail', 'add', 'net', 'account', 'verify', 'cloud']\n",
      "Topic 8:\n",
      "['upgrade', 'version', 'maria', 'service', 'production', 'staging', 'environment', 'change', 'infrastructure', 'schedule']\n",
      "Topic 9:\n",
      "['memory', 'cache', 'human', 'redis', 'key', 'magento', 'product', 'connection', 'error', 'peak']\n",
      "Topic 10:\n",
      "['sql', 'table', 'database', 'server', 'log', 'redis', 'size', 'error', 'use', 'galera']\n"
     ]
    }
   ],
   "source": [
    "\n",
    "# Set seeds for reproducibility\n",
    "random.seed(24)\n",
    "np.random.seed(24)\n",
    "\n",
    "# Vectorize the text data using TF-IDF\n",
    "tfidf_vectorizer = TfidfVectorizer(max_df=0.95, min_df=2, stop_words='english')\n",
    "tfidf_matrix = tfidf_vectorizer.fit_transform(filtered_df['tfidf_text'])\n",
    "\n",
    "# Apply NMF to the TF-IDF matrix\n",
    "num_topics = 10 # specify the number of topics/clusters\n",
    "nmf_model = NMF(n_components=num_topics)\n",
    "nmf_matrix = nmf_model.fit_transform(tfidf_matrix)\n",
    "\n",
    "# Get the top words for each topic\n",
    "feature_names = tfidf_vectorizer.get_feature_names_out()\n",
    "for topic_idx, topic in enumerate(nmf_model.components_):\n",
    "    print(f\"Topic {topic_idx + 1}:\")\n",
    "    print([feature_names[i] for i in topic.argsort()[:-10 - 1:-1]])"
   ]
  },
  {
   "cell_type": "code",
   "execution_count": 8,
   "metadata": {
    "colab": {
     "base_uri": "https://localhost:8080/",
     "height": 206
    },
    "id": "BHe7Rrgoeyi0",
    "outputId": "c319f2e7-7ac2-4a3b-a39a-309168fb9438"
   },
   "outputs": [
    {
     "data": {
      "text/html": [
       "<div>\n",
       "<style scoped>\n",
       "    .dataframe tbody tr th:only-of-type {\n",
       "        vertical-align: middle;\n",
       "    }\n",
       "\n",
       "    .dataframe tbody tr th {\n",
       "        vertical-align: top;\n",
       "    }\n",
       "\n",
       "    .dataframe thead th {\n",
       "        text-align: right;\n",
       "    }\n",
       "</style>\n",
       "<table border=\"1\" class=\"dataframe\">\n",
       "  <thead>\n",
       "    <tr style=\"text-align: right;\">\n",
       "      <th></th>\n",
       "      <th>text</th>\n",
       "      <th>type</th>\n",
       "      <th>tfidf_text</th>\n",
       "      <th>topic</th>\n",
       "    </tr>\n",
       "  </thead>\n",
       "  <tbody>\n",
       "    <tr>\n",
       "      <th>0</th>\n",
       "      <td>database project affect environment affect pro...</td>\n",
       "      <td>database</td>\n",
       "      <td>database project affect environment affect pro...</td>\n",
       "      <td>5</td>\n",
       "    </tr>\n",
       "    <tr>\n",
       "      <th>1</th>\n",
       "      <td>sql stick production seem like sql stuck produ...</td>\n",
       "      <td>database</td>\n",
       "      <td>sql stick production seem like sql stuck produ...</td>\n",
       "      <td>9</td>\n",
       "    </tr>\n",
       "    <tr>\n",
       "      <th>2</th>\n",
       "      <td>database medium folder migration stage able re...</td>\n",
       "      <td>database</td>\n",
       "      <td>database medium folder migration stage able re...</td>\n",
       "      <td>5</td>\n",
       "    </tr>\n",
       "    <tr>\n",
       "      <th>3</th>\n",
       "      <td>sql server go away error log addition previous...</td>\n",
       "      <td>database</td>\n",
       "      <td>sql server go away error log previous message ...</td>\n",
       "      <td>9</td>\n",
       "    </tr>\n",
       "    <tr>\n",
       "      <th>4</th>\n",
       "      <td>location fail graph overall elastic monitor si...</td>\n",
       "      <td>database</td>\n",
       "      <td>location fail graph elastic monitor sincerely ...</td>\n",
       "      <td>1</td>\n",
       "    </tr>\n",
       "  </tbody>\n",
       "</table>\n",
       "</div>"
      ],
      "text/plain": [
       "                                                text      type  \\\n",
       "0  database project affect environment affect pro...  database   \n",
       "1  sql stick production seem like sql stuck produ...  database   \n",
       "2  database medium folder migration stage able re...  database   \n",
       "3  sql server go away error log addition previous...  database   \n",
       "4  location fail graph overall elastic monitor si...  database   \n",
       "\n",
       "                                          tfidf_text  topic  \n",
       "0  database project affect environment affect pro...      5  \n",
       "1  sql stick production seem like sql stuck produ...      9  \n",
       "2  database medium folder migration stage able re...      5  \n",
       "3  sql server go away error log previous message ...      9  \n",
       "4  location fail graph elastic monitor sincerely ...      1  "
      ]
     },
     "execution_count": 8,
     "metadata": {},
     "output_type": "execute_result"
    }
   ],
   "source": [
    "# Get the indices of the dominant topics for each document\n",
    "dominant_topics = nmf_matrix.argmax(axis=1)\n",
    "\n",
    "# Add a new column 'topic' to the DataFrame and assign the dominant topic for each document\n",
    "filtered_df['topic'] = dominant_topics\n",
    "\n",
    "# Display the DataFrame with the assigned topics\n",
    "filtered_df.head()\n"
   ]
  },
  {
   "cell_type": "code",
   "execution_count": 9,
   "metadata": {
    "colab": {
     "base_uri": "https://localhost:8080/"
    },
    "id": "7XmU1GMTg6_q",
    "outputId": "d4e51a12-7aff-4994-8471-0a6d070d9a8c"
   },
   "outputs": [
    {
     "data": {
      "text/plain": [
       "0    3540\n",
       "1    2311\n",
       "2    2193\n",
       "4    2139\n",
       "3    1939\n",
       "8    1769\n",
       "5    1767\n",
       "7    1315\n",
       "9    1029\n",
       "6     920\n",
       "Name: topic, dtype: int64"
      ]
     },
     "execution_count": 9,
     "metadata": {},
     "output_type": "execute_result"
    }
   ],
   "source": [
    "filtered_df['topic'].value_counts()"
   ]
  },
  {
   "cell_type": "code",
   "execution_count": 10,
   "metadata": {
    "id": "vCn1GcGKOPyT"
   },
   "outputs": [],
   "source": [
    "# Assign names to each topic\n",
    "filtered_df.loc[filtered_df['topic'] == 0, 'topic'] = 'Deploy'\n",
    "filtered_df.loc[filtered_df['topic'] == 1, 'topic'] = 'Fastly'\n",
    "filtered_df.loc[filtered_df['topic'] == 2, 'topic'] = 'Upsize'\n",
    "filtered_df.loc[filtered_df['topic'] == 3, 'topic'] = 'Resources'\n",
    "filtered_df.loc[filtered_df['topic'] == 4, 'topic'] = 'Elasticsearch'\n",
    "filtered_df.loc[filtered_df['topic'] == 5, 'topic'] = 'database'\n",
    "filtered_df.loc[filtered_df['topic'] == 6, 'topic'] = 'Sendgrid'\n",
    "filtered_df.loc[filtered_df['topic'] == 7, 'topic'] = 'Upgrade_services'\n",
    "filtered_df.loc[filtered_df['topic'] == 8, 'topic'] = 'Redis'\n",
    "filtered_df.loc[filtered_df['topic'] == 9, 'topic'] = 'Database_Admin'"
   ]
  },
  {
   "cell_type": "code",
   "execution_count": 11,
   "metadata": {
    "colab": {
     "base_uri": "https://localhost:8080/",
     "height": 206
    },
    "id": "BJS9XCHTfOOy",
    "outputId": "2d5fb217-0d1a-49d5-c33c-5637a62488cb"
   },
   "outputs": [
    {
     "data": {
      "text/html": [
       "<div>\n",
       "<style scoped>\n",
       "    .dataframe tbody tr th:only-of-type {\n",
       "        vertical-align: middle;\n",
       "    }\n",
       "\n",
       "    .dataframe tbody tr th {\n",
       "        vertical-align: top;\n",
       "    }\n",
       "\n",
       "    .dataframe thead th {\n",
       "        text-align: right;\n",
       "    }\n",
       "</style>\n",
       "<table border=\"1\" class=\"dataframe\">\n",
       "  <thead>\n",
       "    <tr style=\"text-align: right;\">\n",
       "      <th></th>\n",
       "      <th>text</th>\n",
       "      <th>type</th>\n",
       "      <th>tfidf_text</th>\n",
       "      <th>topic</th>\n",
       "    </tr>\n",
       "  </thead>\n",
       "  <tbody>\n",
       "    <tr>\n",
       "      <th>0</th>\n",
       "      <td>database project affect environment affect pro...</td>\n",
       "      <td>database</td>\n",
       "      <td>database project affect environment affect pro...</td>\n",
       "      <td>database</td>\n",
       "    </tr>\n",
       "    <tr>\n",
       "      <th>1</th>\n",
       "      <td>sql stick production seem like sql stuck produ...</td>\n",
       "      <td>database</td>\n",
       "      <td>sql stick production seem like sql stuck produ...</td>\n",
       "      <td>Database_Admin</td>\n",
       "    </tr>\n",
       "    <tr>\n",
       "      <th>2</th>\n",
       "      <td>database medium folder migration stage able re...</td>\n",
       "      <td>database</td>\n",
       "      <td>database medium folder migration stage able re...</td>\n",
       "      <td>database</td>\n",
       "    </tr>\n",
       "    <tr>\n",
       "      <th>3</th>\n",
       "      <td>sql server go away error log addition previous...</td>\n",
       "      <td>database</td>\n",
       "      <td>sql server go away error log previous message ...</td>\n",
       "      <td>Database_Admin</td>\n",
       "    </tr>\n",
       "    <tr>\n",
       "      <th>4</th>\n",
       "      <td>location fail graph overall elastic monitor si...</td>\n",
       "      <td>database</td>\n",
       "      <td>location fail graph elastic monitor sincerely ...</td>\n",
       "      <td>Fastly</td>\n",
       "    </tr>\n",
       "  </tbody>\n",
       "</table>\n",
       "</div>"
      ],
      "text/plain": [
       "                                                text      type  \\\n",
       "0  database project affect environment affect pro...  database   \n",
       "1  sql stick production seem like sql stuck produ...  database   \n",
       "2  database medium folder migration stage able re...  database   \n",
       "3  sql server go away error log addition previous...  database   \n",
       "4  location fail graph overall elastic monitor si...  database   \n",
       "\n",
       "                                          tfidf_text           topic  \n",
       "0  database project affect environment affect pro...        database  \n",
       "1  sql stick production seem like sql stuck produ...  Database_Admin  \n",
       "2  database medium folder migration stage able re...        database  \n",
       "3  sql server go away error log previous message ...  Database_Admin  \n",
       "4  location fail graph elastic monitor sincerely ...          Fastly  "
      ]
     },
     "execution_count": 11,
     "metadata": {},
     "output_type": "execute_result"
    }
   ],
   "source": [
    "filtered_df.head()"
   ]
  },
  {
   "cell_type": "code",
   "execution_count": 12,
   "metadata": {
    "colab": {
     "base_uri": "https://localhost:8080/"
    },
    "id": "YXo7nXi9gk1X",
    "outputId": "ebb8c7b9-0a5a-496c-fc40-119fc6c83d60"
   },
   "outputs": [
    {
     "data": {
      "text/plain": [
       "Deploy              3540\n",
       "Fastly              2311\n",
       "Upsize              2193\n",
       "Elasticsearch       2139\n",
       "Resources           1939\n",
       "Redis               1769\n",
       "database            1767\n",
       "Upgrade_services    1315\n",
       "Database_Admin      1029\n",
       "Sendgrid             920\n",
       "Name: topic, dtype: int64"
      ]
     },
     "execution_count": 12,
     "metadata": {},
     "output_type": "execute_result"
    }
   ],
   "source": [
    "filtered_df['topic'].value_counts()"
   ]
  },
  {
   "cell_type": "code",
   "execution_count": 13,
   "metadata": {
    "colab": {
     "base_uri": "https://localhost:8080/",
     "height": 1000
    },
    "id": "qhIofCaERnT0",
    "outputId": "474e2da9-e781-44d0-ed4b-c03d5026dbcb"
   },
   "outputs": [
    {
     "data": {
      "image/png": "[encoded data removed]",
      "text/plain": [
       "<Figure size 720x432 with 1 Axes>"
      ]
     },
     "metadata": {
      "needs_background": "light"
     },
     "output_type": "display_data"
    },
    {
     "data": {
      "image/png": "[encoded data removed]",
      "text/plain": [
       "<Figure size 720x432 with 1 Axes>"
      ]
     },
     "metadata": {
      "needs_background": "light"
     },
     "output_type": "display_data"
    },
    {
     "data": {
      "image/png": "[encoded data removed]",
      "text/plain": [
       "<Figure size 720x432 with 1 Axes>"
      ]
     },
     "metadata": {
      "needs_background": "light"
     },
     "output_type": "display_data"
    },
    {
     "data": {
      "image/png": "[encoded data removed]",
      "text/plain": [
       "<Figure size 720x432 with 1 Axes>"
      ]
     },
     "metadata": {
      "needs_background": "light"
     },
     "output_type": "display_data"
    },
    {
     "data": {
      "image/png": "[encoded data removed]",
      "text/plain": [
       "<Figure size 720x432 with 1 Axes>"
      ]
     },
     "metadata": {
      "needs_background": "light"
     },
     "output_type": "display_data"
    },
    {
     "data": {
      "image/png": "[encoded data removed]",
      "text/plain": [
       "<Figure size 720x432 with 1 Axes>"
      ]
     },
     "metadata": {
      "needs_background": "light"
     },
     "output_type": "display_data"
    },
    {
     "data": {
      "image/png": "[encoded data removed]",
      "text/plain": [
       "<Figure size 720x432 with 1 Axes>"
      ]
     },
     "metadata": {
      "needs_background": "light"
     },
     "output_type": "display_data"
    },
    {
     "data": {
      "image/png": "[encoded data removed]",
      "text/plain": [
       "<Figure size 720x432 with 1 Axes>"
      ]
     },
     "metadata": {
      "needs_background": "light"
     },
     "output_type": "display_data"
    },
    {
     "data": {
      "image/png": "[encoded data removed]",
      "text/plain": [
       "<Figure size 720x432 with 1 Axes>"
      ]
     },
     "metadata": {
      "needs_background": "light"
     },
     "output_type": "display_data"
    },
    {
     "data": {
      "image/png": "[encoded data removed]",
      "text/plain": [
       "<Figure size 720x432 with 1 Axes>"
      ]
     },
     "metadata": {
      "needs_background": "light"
     },
     "output_type": "display_data"
    }
   ],
   "source": [
    "# Group the data by 'topic' and 'type' and count the occurrences\n",
    "topic_type_counts = filtered_df.groupby(['topic', 'type']).size().reset_index(name='count')\n",
    "\n",
    "# Create a bar chart for each topic\n",
    "for topic in filtered_df['topic'].unique():\n",
    "  # Filter the data for the current topic\n",
    "  topic_data = topic_type_counts[topic_type_counts['topic'] == topic]\n",
    "  plt.figure(figsize=(10,6))\n",
    "  # Create a bar chart\n",
    "  plt.bar(topic_data['type'], topic_data['count'])\n",
    "  plt.xticks(rotation=45)\n",
    "  # Set the x-axis label\n",
    "  plt.xlabel('Type')\n",
    "\n",
    "  # Set the y-axis label\n",
    "  plt.ylabel('Count')\n",
    "\n",
    "  # Set the title of the chart\n",
    "  plt.title(f'Mismatch in Type for Topic: {topic}')\n",
    "\n",
    "  # Display the chart\n",
    "  plt.show()"
   ]
  },
  {
   "cell_type": "code",
   "execution_count": 14,
   "metadata": {
    "colab": {
     "base_uri": "https://localhost:8080/",
     "height": 673
    },
    "id": "EV_GBWWiRnRN",
    "outputId": "ffa95a4b-cc00-4d10-af5e-7179fc4c01ec"
   },
   "outputs": [
    {
     "data": {
      "image/png": "[encoded data removed]",
      "text/plain": [
       "<Figure size 576x432 with 2 Axes>"
      ]
     },
     "metadata": {
      "needs_background": "light"
     },
     "output_type": "display_data"
    }
   ],
   "source": [
    "filtered_df['type'] = pd.Categorical(filtered_df['type'])\n",
    "filtered_df['topic'] = pd.Categorical(filtered_df['topic'])\n",
    "\n",
    "# Create a cross-tabulation of the two variables\n",
    "cross_tab = pd.crosstab(filtered_df['type'], filtered_df['topic'])\n",
    "\n",
    "# Plot heatmap\n",
    "plt.figure(figsize=(8, 6))\n",
    "sns.heatmap(cross_tab, annot=True, cmap='coolwarm', fmt='d')\n",
    "plt.title('Heatmap of Type vs Topic')\n",
    "plt.xlabel('Topic')\n",
    "plt.ylabel('Type')\n",
    "plt.show()"
   ]
  },
  {
   "cell_type": "code",
   "execution_count": 15,
   "metadata": {},
   "outputs": [],
   "source": [
    "# Loading into a csv file\n",
    "filtered_df.to_csv('nmf_categories_apr17.csv')"
   ]
  },
  {
   "cell_type": "code",
   "execution_count": 16,
   "metadata": {},
   "outputs": [],
   "source": [
    "df_nmf = pd.read_csv('nmf_categories_apr17.csv')"
   ]
  },
  {
   "cell_type": "code",
   "execution_count": 17,
   "metadata": {},
   "outputs": [],
   "source": [
    "df_nmf = df_nmf.rename(columns={'topic':'nmf'})\n",
    "df_nmf = df_nmf.rename(columns={'type':'og'})"
   ]
  },
  {
   "cell_type": "code",
   "execution_count": 18,
   "metadata": {},
   "outputs": [
    {
     "data": {
      "text/html": [
       "<div>\n",
       "<style scoped>\n",
       "    .dataframe tbody tr th:only-of-type {\n",
       "        vertical-align: middle;\n",
       "    }\n",
       "\n",
       "    .dataframe tbody tr th {\n",
       "        vertical-align: top;\n",
       "    }\n",
       "\n",
       "    .dataframe thead th {\n",
       "        text-align: right;\n",
       "    }\n",
       "</style>\n",
       "<table border=\"1\" class=\"dataframe\">\n",
       "  <thead>\n",
       "    <tr style=\"text-align: right;\">\n",
       "      <th></th>\n",
       "      <th>Unnamed: 0</th>\n",
       "      <th>text</th>\n",
       "      <th>og</th>\n",
       "      <th>tfidf_text</th>\n",
       "      <th>nmf</th>\n",
       "    </tr>\n",
       "  </thead>\n",
       "  <tbody>\n",
       "    <tr>\n",
       "      <th>0</th>\n",
       "      <td>0</td>\n",
       "      <td>database project affect environment affect pro...</td>\n",
       "      <td>database</td>\n",
       "      <td>database project affect environment affect pro...</td>\n",
       "      <td>database</td>\n",
       "    </tr>\n",
       "    <tr>\n",
       "      <th>1</th>\n",
       "      <td>1</td>\n",
       "      <td>sql stick production seem like sql stuck produ...</td>\n",
       "      <td>database</td>\n",
       "      <td>sql stick production seem like sql stuck produ...</td>\n",
       "      <td>Database_Admin</td>\n",
       "    </tr>\n",
       "    <tr>\n",
       "      <th>2</th>\n",
       "      <td>2</td>\n",
       "      <td>database medium folder migration stage able re...</td>\n",
       "      <td>database</td>\n",
       "      <td>database medium folder migration stage able re...</td>\n",
       "      <td>database</td>\n",
       "    </tr>\n",
       "    <tr>\n",
       "      <th>3</th>\n",
       "      <td>3</td>\n",
       "      <td>sql server go away error log addition previous...</td>\n",
       "      <td>database</td>\n",
       "      <td>sql server go away error log previous message ...</td>\n",
       "      <td>Database_Admin</td>\n",
       "    </tr>\n",
       "    <tr>\n",
       "      <th>4</th>\n",
       "      <td>4</td>\n",
       "      <td>location fail graph overall elastic monitor si...</td>\n",
       "      <td>database</td>\n",
       "      <td>location fail graph elastic monitor sincerely ...</td>\n",
       "      <td>Fastly</td>\n",
       "    </tr>\n",
       "  </tbody>\n",
       "</table>\n",
       "</div>"
      ],
      "text/plain": [
       "   Unnamed: 0                                               text        og  \\\n",
       "0           0  database project affect environment affect pro...  database   \n",
       "1           1  sql stick production seem like sql stuck produ...  database   \n",
       "2           2  database medium folder migration stage able re...  database   \n",
       "3           3  sql server go away error log addition previous...  database   \n",
       "4           4  location fail graph overall elastic monitor si...  database   \n",
       "\n",
       "                                          tfidf_text             nmf  \n",
       "0  database project affect environment affect pro...        database  \n",
       "1  sql stick production seem like sql stuck produ...  Database_Admin  \n",
       "2  database medium folder migration stage able re...        database  \n",
       "3  sql server go away error log previous message ...  Database_Admin  \n",
       "4  location fail graph elastic monitor sincerely ...          Fastly  "
      ]
     },
     "execution_count": 18,
     "metadata": {},
     "output_type": "execute_result"
    }
   ],
   "source": [
    "df_nmf.head()"
   ]
  },
  {
   "cell_type": "code",
   "execution_count": 19,
   "metadata": {},
   "outputs": [
    {
     "name": "stdout",
     "output_type": "stream",
     "text": [
      "nmf\n",
      "['database' 'database_admin' 'fastly' 'redis' 'resources'\n",
      " 'upgrade_services' 'upsize' 'sendgrid' 'elasticsearch' 'deploy']\n",
      "og\n",
      "['database' 'upgrade_services' 'elasticsearch' 'sendgrid' 'redis' 'fastly'\n",
      " 'resources' 'upsize' 'deploy']\n"
     ]
    }
   ],
   "source": [
    "# Rename categories\n",
    "df_nmf['nmf'] = df_nmf['nmf'].str.lower()\n",
    "df_nmf['nmf'] = df_nmf['nmf'].replace('upgrade', 'upgrade_services')\n",
    "df_nmf['nmf'] = df_nmf['nmf'].replace('deployment_issues', 'deploy')\n",
    "df_nmf['nmf'] = df_nmf['nmf'].replace('application_deployment_issues', 'app_deploy')\n",
    "df_nmf['nmf'] = df_nmf['nmf'].replace('memory', 'redis')\n",
    "# Recheck categories\n",
    "print('nmf')\n",
    "print(pd.unique(df_nmf['nmf']))\n",
    "print('og')\n",
    "print(pd.unique(df_nmf['og']))"
   ]
  },
  {
   "cell_type": "code",
   "execution_count": 20,
   "metadata": {},
   "outputs": [],
   "source": [
    "# Clarify independent and dependent variables\n",
    "x = df_nmf['tfidf_text']\n",
    "y = df_nmf[['og','nmf']]\n",
    "\n",
    "# Split datasets into training and testing sets\n",
    "xtrain, xtest, ytrain, ytest = train_test_split(x, y, test_size = 0.2, random_state = 0)\n",
    "\n",
    "# Define vectorizer\n",
    "vectorizer = TfidfVectorizer()\n",
    "\n",
    "# Vectorize xtrain and xtest\n",
    "vector_xtrain = vectorizer.fit_transform(xtrain)\n",
    "vector_xtest = vectorizer.transform(xtest)"
   ]
  },
  {
   "cell_type": "code",
   "execution_count": 21,
   "metadata": {},
   "outputs": [
    {
     "name": "stderr",
     "output_type": "stream",
     "text": [
      "/Users/swap7898/Applications/anaconda3/lib/python3.9/site-packages/sklearn/metrics/_classification.py:1318: UndefinedMetricWarning: Recall and F-score are ill-defined and being set to 0.0 in labels with no true samples. Use `zero_division` parameter to control this behavior.\n",
      "  _warn_prf(average, modifier, msg_start, len(result))\n"
     ]
    },
    {
     "name": "stdout",
     "output_type": "stream",
     "text": [
      "                  precision    recall  f1-score   support\n",
      "\n",
      "        database       0.80      0.53      0.64      2664\n",
      "  database_admin       0.00      0.00      0.00         0\n",
      "          deploy       0.99      0.76      0.86      4608\n",
      "   elasticsearch       0.55      0.90      0.68      1321\n",
      "          fastly       0.97      0.87      0.92      2578\n",
      "           redis       0.43      0.87      0.57       863\n",
      "       resources       0.80      0.82      0.81      1905\n",
      "        sendgrid       0.71      0.95      0.81       685\n",
      "upgrade_services       0.69      0.50      0.58      1823\n",
      "          upsize       0.99      0.88      0.93      2475\n",
      "\n",
      "        accuracy                           0.76     18922\n",
      "       macro avg       0.69      0.71      0.68     18922\n",
      "    weighted avg       0.85      0.76      0.79     18922\n",
      "\n"
     ]
    },
    {
     "name": "stderr",
     "output_type": "stream",
     "text": [
      "/Users/swap7898/Applications/anaconda3/lib/python3.9/site-packages/sklearn/metrics/_classification.py:1318: UndefinedMetricWarning: Recall and F-score are ill-defined and being set to 0.0 in labels with no true samples. Use `zero_division` parameter to control this behavior.\n",
      "  _warn_prf(average, modifier, msg_start, len(result))\n",
      "/Users/swap7898/Applications/anaconda3/lib/python3.9/site-packages/sklearn/metrics/_classification.py:1318: UndefinedMetricWarning: Recall and F-score are ill-defined and being set to 0.0 in labels with no true samples. Use `zero_division` parameter to control this behavior.\n",
      "  _warn_prf(average, modifier, msg_start, len(result))\n"
     ]
    }
   ],
   "source": [
    "# Produce a classification report\n",
    "print(classification_report(y['og'], y['nmf']))"
   ]
  },
  {
   "cell_type": "code",
   "execution_count": 33,
   "metadata": {},
   "outputs": [],
   "source": [
    "# Create an empty DataFrame\n",
    "df = pd.DataFrame()\n",
    "\n",
    "# Assign the 'text' column from another DataFrame called 'filtered_df' to the 'text' column of this DataFrame\n",
    "df['text'] = df_nmf['text']\n",
    "\n",
    "# Assign the 'topic' column from 'filtered_df' to the 'input_type' column of this DataFrame\n",
    "df['input_type'] = df_nmf['nmf']"
   ]
  },
  {
   "cell_type": "code",
   "execution_count": 34,
   "metadata": {},
   "outputs": [],
   "source": [
    "from nltk.tokenize import word_tokenize\n",
    "def tokenize_text(text):\n",
    "    # Tokenize the text using NLTK's word_tokenize\n",
    "    tokens = word_tokenize(text)\n",
    "    return tokens"
   ]
  },
  {
   "cell_type": "code",
   "execution_count": 35,
   "metadata": {
    "tags": []
   },
   "outputs": [],
   "source": [
    "df['text'] = df['text'].apply(tokenize_text)"
   ]
  },
  {
   "cell_type": "code",
   "execution_count": 36,
   "metadata": {},
   "outputs": [
    {
     "data": {
      "text/html": [
       "<div>\n",
       "<style scoped>\n",
       "    .dataframe tbody tr th:only-of-type {\n",
       "        vertical-align: middle;\n",
       "    }\n",
       "\n",
       "    .dataframe tbody tr th {\n",
       "        vertical-align: top;\n",
       "    }\n",
       "\n",
       "    .dataframe thead th {\n",
       "        text-align: right;\n",
       "    }\n",
       "</style>\n",
       "<table border=\"1\" class=\"dataframe\">\n",
       "  <thead>\n",
       "    <tr style=\"text-align: right;\">\n",
       "      <th></th>\n",
       "      <th>text</th>\n",
       "      <th>input_type</th>\n",
       "    </tr>\n",
       "  </thead>\n",
       "  <tbody>\n",
       "    <tr>\n",
       "      <th>0</th>\n",
       "      <td>[database, project, affect, environment, affec...</td>\n",
       "      <td>database</td>\n",
       "    </tr>\n",
       "    <tr>\n",
       "      <th>1</th>\n",
       "      <td>[sql, stick, production, seem, like, sql, stuc...</td>\n",
       "      <td>database_admin</td>\n",
       "    </tr>\n",
       "    <tr>\n",
       "      <th>2</th>\n",
       "      <td>[database, medium, folder, migration, stage, a...</td>\n",
       "      <td>database</td>\n",
       "    </tr>\n",
       "    <tr>\n",
       "      <th>3</th>\n",
       "      <td>[sql, server, go, away, error, log, addition, ...</td>\n",
       "      <td>database_admin</td>\n",
       "    </tr>\n",
       "    <tr>\n",
       "      <th>4</th>\n",
       "      <td>[location, fail, graph, overall, elastic, moni...</td>\n",
       "      <td>fastly</td>\n",
       "    </tr>\n",
       "    <tr>\n",
       "      <th>...</th>\n",
       "      <td>...</td>\n",
       "      <td>...</td>\n",
       "    </tr>\n",
       "    <tr>\n",
       "      <th>18917</th>\n",
       "      <td>[fashion, increase, stage, elastic, order, cre...</td>\n",
       "      <td>elasticsearch</td>\n",
       "    </tr>\n",
       "    <tr>\n",
       "      <th>18918</th>\n",
       "      <td>[work, cache, clean, deploy, production, engin...</td>\n",
       "      <td>redis</td>\n",
       "    </tr>\n",
       "    <tr>\n",
       "      <th>18919</th>\n",
       "      <td>[enable, fastly, like, probably, later, week, ...</td>\n",
       "      <td>sendgrid</td>\n",
       "    </tr>\n",
       "    <tr>\n",
       "      <th>18920</th>\n",
       "      <td>[deploy, fail, go, backlog, notice, respond, a...</td>\n",
       "      <td>deploy</td>\n",
       "    </tr>\n",
       "    <tr>\n",
       "      <th>18921</th>\n",
       "      <td>[upgrade, deploy, take, long, agent, hold, wit...</td>\n",
       "      <td>upgrade_services</td>\n",
       "    </tr>\n",
       "  </tbody>\n",
       "</table>\n",
       "<p>18922 rows × 2 columns</p>\n",
       "</div>"
      ],
      "text/plain": [
       "                                                    text        input_type\n",
       "0      [database, project, affect, environment, affec...          database\n",
       "1      [sql, stick, production, seem, like, sql, stuc...    database_admin\n",
       "2      [database, medium, folder, migration, stage, a...          database\n",
       "3      [sql, server, go, away, error, log, addition, ...    database_admin\n",
       "4      [location, fail, graph, overall, elastic, moni...            fastly\n",
       "...                                                  ...               ...\n",
       "18917  [fashion, increase, stage, elastic, order, cre...     elasticsearch\n",
       "18918  [work, cache, clean, deploy, production, engin...             redis\n",
       "18919  [enable, fastly, like, probably, later, week, ...          sendgrid\n",
       "18920  [deploy, fail, go, backlog, notice, respond, a...            deploy\n",
       "18921  [upgrade, deploy, take, long, agent, hold, wit...  upgrade_services\n",
       "\n",
       "[18922 rows x 2 columns]"
      ]
     },
     "execution_count": 36,
     "metadata": {},
     "output_type": "execute_result"
    }
   ],
   "source": [
    "df"
   ]
  },
  {
   "cell_type": "code",
   "execution_count": 27,
   "metadata": {
    "tags": []
   },
   "outputs": [],
   "source": [
    "from collections import Counter"
   ]
  },
  {
   "cell_type": "code",
   "execution_count": 28,
   "metadata": {
    "tags": []
   },
   "outputs": [],
   "source": [
    "\n",
    "# Flatten the list of tokenized text into a single list of words\n",
    "all_words = [word for sublist in df['text'] for word in sublist]\n",
    "\n",
    "# Count the frequency of each word using Counter\n",
    "word_freq = Counter(all_words)\n",
    "\n",
    "# Convert the word frequency Counter object to a DataFrame for easy manipulation\n",
    "word_freq_df = pd.DataFrame.from_dict(word_freq, orient='index', columns=['frequency'])\n",
    "\n",
    "# Sort the DataFrame by frequency in descending order\n",
    "word_freq_df = word_freq_df.sort_values(by='frequency', ascending=False)\n",
    "\n",
    "# Optionally, you can reset the index to have the words as a column\n",
    "word_freq_df.reset_index(inplace=True)\n",
    "word_freq_df.rename(columns={'index': 'word'}, inplace=True)"
   ]
  },
  {
   "cell_type": "code",
   "execution_count": 30,
   "metadata": {},
   "outputs": [],
   "source": [
    "# Now word_freq_df contains the frequency of each word in your tokenized text\n",
    "word_freq_df.to_excel('words.xlsx')"
   ]
  },
  {
   "cell_type": "code",
   "execution_count": 31,
   "metadata": {},
   "outputs": [],
   "source": [
    "# Read the words from an Excel file into a DataFrame\n",
    "words = pd.read_excel('words.xlsx')"
   ]
  },
  {
   "cell_type": "code",
   "execution_count": 37,
   "metadata": {},
   "outputs": [
    {
     "data": {
      "text/html": [
       "<div>\n",
       "<style scoped>\n",
       "    .dataframe tbody tr th:only-of-type {\n",
       "        vertical-align: middle;\n",
       "    }\n",
       "\n",
       "    .dataframe tbody tr th {\n",
       "        vertical-align: top;\n",
       "    }\n",
       "\n",
       "    .dataframe thead th {\n",
       "        text-align: right;\n",
       "    }\n",
       "</style>\n",
       "<table border=\"1\" class=\"dataframe\">\n",
       "  <thead>\n",
       "    <tr style=\"text-align: right;\">\n",
       "      <th></th>\n",
       "      <th>text</th>\n",
       "      <th>input_type</th>\n",
       "    </tr>\n",
       "  </thead>\n",
       "  <tbody>\n",
       "    <tr>\n",
       "      <th>0</th>\n",
       "      <td>database project affect environment affect pro...</td>\n",
       "      <td>database</td>\n",
       "    </tr>\n",
       "    <tr>\n",
       "      <th>1</th>\n",
       "      <td>sql stick production seem like sql stuck produ...</td>\n",
       "      <td>database_admin</td>\n",
       "    </tr>\n",
       "    <tr>\n",
       "      <th>2</th>\n",
       "      <td>database medium folder migration stage able re...</td>\n",
       "      <td>database</td>\n",
       "    </tr>\n",
       "    <tr>\n",
       "      <th>3</th>\n",
       "      <td>sql server go away error log addition previous...</td>\n",
       "      <td>database_admin</td>\n",
       "    </tr>\n",
       "    <tr>\n",
       "      <th>4</th>\n",
       "      <td>location fail graph overall elastic monitor si...</td>\n",
       "      <td>fastly</td>\n",
       "    </tr>\n",
       "    <tr>\n",
       "      <th>...</th>\n",
       "      <td>...</td>\n",
       "      <td>...</td>\n",
       "    </tr>\n",
       "    <tr>\n",
       "      <th>18917</th>\n",
       "      <td>fashion increase stage elastic order create se...</td>\n",
       "      <td>elasticsearch</td>\n",
       "    </tr>\n",
       "    <tr>\n",
       "      <th>18918</th>\n",
       "      <td>work cache clean deploy production engineering...</td>\n",
       "      <td>redis</td>\n",
       "    </tr>\n",
       "    <tr>\n",
       "      <th>18919</th>\n",
       "      <td>enable fastly like probably later week next we...</td>\n",
       "      <td>sendgrid</td>\n",
       "    </tr>\n",
       "    <tr>\n",
       "      <th>18920</th>\n",
       "      <td>deploy fail go backlog notice respond automati...</td>\n",
       "      <td>deploy</td>\n",
       "    </tr>\n",
       "    <tr>\n",
       "      <th>18921</th>\n",
       "      <td>upgrade deploy take long agent hold without me...</td>\n",
       "      <td>upgrade_services</td>\n",
       "    </tr>\n",
       "  </tbody>\n",
       "</table>\n",
       "<p>18922 rows × 2 columns</p>\n",
       "</div>"
      ],
      "text/plain": [
       "                                                    text        input_type\n",
       "0      database project affect environment affect pro...          database\n",
       "1      sql stick production seem like sql stuck produ...    database_admin\n",
       "2      database medium folder migration stage able re...          database\n",
       "3      sql server go away error log addition previous...    database_admin\n",
       "4      location fail graph overall elastic monitor si...            fastly\n",
       "...                                                  ...               ...\n",
       "18917  fashion increase stage elastic order create se...     elasticsearch\n",
       "18918  work cache clean deploy production engineering...             redis\n",
       "18919  enable fastly like probably later week next we...          sendgrid\n",
       "18920  deploy fail go backlog notice respond automati...            deploy\n",
       "18921  upgrade deploy take long agent hold without me...  upgrade_services\n",
       "\n",
       "[18922 rows x 2 columns]"
      ]
     },
     "metadata": {},
     "output_type": "display_data"
    }
   ],
   "source": [
    "# Create a new DataFrame and assign 'text' and 'input_type' columns from df_nmf to it\n",
    "df1 = pd.DataFrame()\n",
    "df1['text'] = df_nmf['text']\n",
    "df1['input_type'] = df_nmf['nmf']\n",
    "\n",
    "# Display the newly created DataFrame\n",
    "display(df1)"
   ]
  },
  {
   "cell_type": "code",
   "execution_count": 38,
   "metadata": {},
   "outputs": [
    {
     "data": {
      "text/html": [
       "<div>\n",
       "<style scoped>\n",
       "    .dataframe tbody tr th:only-of-type {\n",
       "        vertical-align: middle;\n",
       "    }\n",
       "\n",
       "    .dataframe tbody tr th {\n",
       "        vertical-align: top;\n",
       "    }\n",
       "\n",
       "    .dataframe thead th {\n",
       "        text-align: right;\n",
       "    }\n",
       "</style>\n",
       "<table border=\"1\" class=\"dataframe\">\n",
       "  <thead>\n",
       "    <tr style=\"text-align: right;\">\n",
       "      <th></th>\n",
       "      <th>text</th>\n",
       "      <th>input_type</th>\n",
       "    </tr>\n",
       "  </thead>\n",
       "  <tbody>\n",
       "    <tr>\n",
       "      <th>0</th>\n",
       "      <td>database project affect environment affect pro...</td>\n",
       "      <td>database</td>\n",
       "    </tr>\n",
       "    <tr>\n",
       "      <th>1</th>\n",
       "      <td>sql stick production seem like sql stuck produ...</td>\n",
       "      <td>database_admin</td>\n",
       "    </tr>\n",
       "    <tr>\n",
       "      <th>2</th>\n",
       "      <td>database medium folder migration stage able re...</td>\n",
       "      <td>database</td>\n",
       "    </tr>\n",
       "    <tr>\n",
       "      <th>3</th>\n",
       "      <td>sql server go away error log addition previous...</td>\n",
       "      <td>database_admin</td>\n",
       "    </tr>\n",
       "    <tr>\n",
       "      <th>4</th>\n",
       "      <td>location fail graph overall elastic monitor si...</td>\n",
       "      <td>fastly</td>\n",
       "    </tr>\n",
       "    <tr>\n",
       "      <th>...</th>\n",
       "      <td>...</td>\n",
       "      <td>...</td>\n",
       "    </tr>\n",
       "    <tr>\n",
       "      <th>18917</th>\n",
       "      <td>fashion increase stage elastic order create se...</td>\n",
       "      <td>elasticsearch</td>\n",
       "    </tr>\n",
       "    <tr>\n",
       "      <th>18918</th>\n",
       "      <td>work cache clean deploy production engineering...</td>\n",
       "      <td>redis</td>\n",
       "    </tr>\n",
       "    <tr>\n",
       "      <th>18919</th>\n",
       "      <td>enable fastly like probably later week next we...</td>\n",
       "      <td>sendgrid</td>\n",
       "    </tr>\n",
       "    <tr>\n",
       "      <th>18920</th>\n",
       "      <td>deploy fail go backlog notice respond automati...</td>\n",
       "      <td>deploy</td>\n",
       "    </tr>\n",
       "    <tr>\n",
       "      <th>18921</th>\n",
       "      <td>upgrade deploy take long agent hold without me...</td>\n",
       "      <td>upgrade_services</td>\n",
       "    </tr>\n",
       "  </tbody>\n",
       "</table>\n",
       "<p>18922 rows × 2 columns</p>\n",
       "</div>"
      ],
      "text/plain": [
       "                                                    text        input_type\n",
       "0      database project affect environment affect pro...          database\n",
       "1      sql stick production seem like sql stuck produ...    database_admin\n",
       "2      database medium folder migration stage able re...          database\n",
       "3      sql server go away error log addition previous...    database_admin\n",
       "4      location fail graph overall elastic monitor si...            fastly\n",
       "...                                                  ...               ...\n",
       "18917  fashion increase stage elastic order create se...     elasticsearch\n",
       "18918  work cache clean deploy production engineering...             redis\n",
       "18919  enable fastly like probably later week next we...          sendgrid\n",
       "18920  deploy fail go backlog notice respond automati...            deploy\n",
       "18921  upgrade deploy take long agent hold without me...  upgrade_services\n",
       "\n",
       "[18922 rows x 2 columns]"
      ]
     },
     "metadata": {},
     "output_type": "display_data"
    }
   ],
   "source": [
    "# Import necessary libraries\n",
    "from sklearn.feature_extraction.text import CountVectorizer\n",
    "import pandas as pd\n",
    "display(df1)"
   ]
  },
  {
   "cell_type": "code",
   "execution_count": 39,
   "metadata": {},
   "outputs": [],
   "source": [
    "# Instantiate a CountVectorizer object\n",
    "vectorizer = CountVectorizer()"
   ]
  },
  {
   "cell_type": "code",
   "execution_count": 40,
   "metadata": {},
   "outputs": [],
   "source": [
    "# Fit and transform the 'text' column from df1\n",
    "X = vectorizer.fit_transform(df1['text'])"
   ]
  },
  {
   "cell_type": "code",
   "execution_count": 41,
   "metadata": {},
   "outputs": [],
   "source": [
    "# Convert the transformed data into a DataFrame\n",
    "count_df = pd.DataFrame(X.toarray(), columns=vectorizer.get_feature_names_out())"
   ]
  },
  {
   "cell_type": "code",
   "execution_count": 42,
   "metadata": {},
   "outputs": [
    {
     "data": {
      "text/plain": [
       "(18922, 7555)"
      ]
     },
     "execution_count": 42,
     "metadata": {},
     "output_type": "execute_result"
    }
   ],
   "source": [
    "# Display the shape of the count_df DataFrame\n",
    "count_df.shape"
   ]
  },
  {
   "cell_type": "code",
   "execution_count": 43,
   "metadata": {},
   "outputs": [],
   "source": [
    "# Reset the index of the df1 DataFrame for consistency\n",
    "df1.reset_index(drop=True, inplace=True)"
   ]
  },
  {
   "cell_type": "code",
   "execution_count": 44,
   "metadata": {},
   "outputs": [],
   "source": [
    "# Concatenate 'input_type' from df1 with count_df\n",
    "result_df = pd.concat([df1['input_type'], count_df], axis=1)"
   ]
  },
  {
   "cell_type": "code",
   "execution_count": 45,
   "metadata": {},
   "outputs": [],
   "source": [
    "# Convert the 'word' column from the words DataFrame into a list\n",
    "df_words = words['word'].tolist()"
   ]
  },
  {
   "cell_type": "markdown",
   "metadata": {},
   "source": [
    "KS TEST"
   ]
  },
  {
   "cell_type": "code",
   "execution_count": 46,
   "metadata": {},
   "outputs": [],
   "source": [
    "from scipy import stats\n",
    "import numpy as np\n",
    "# Get unique values in the 'input_type' column\n",
    "unique_input_types = result_df['input_type'].unique()\n",
    "\n",
    "# Initialize a list to store the occurrence of p-value=1 for each word\n",
    "score_list = []\n",
    "\n",
    "# Iterate through each word\n",
    "for word_df in df_words:\n",
    "\n",
    "    # Initialize matrices \n",
    "    ks_matrix = np.zeros((len(unique_input_types), len(unique_input_types)))\n",
    "    p_value_matrix = np.zeros((len(unique_input_types), len(unique_input_types)))\n",
    "\n",
    "    # Iterate over unique input types\n",
    "    for i in range(len(unique_input_types)):\n",
    "        for j in range(len(unique_input_types)):\n",
    "            # Get samples for the current combination of input types\n",
    "            sample1 = result_df.loc[result_df['input_type'] == unique_input_types[i], word_df].values\n",
    "            sample2 = result_df.loc[result_df['input_type'] == unique_input_types[j], word_df].values\n",
    "\n",
    "            # Perform the KS two-sample test\n",
    "            ks_statistic, p_value = stats.ks_2samp(sample1, sample2)\n",
    "\n",
    "            # Assign KS statistic and p-value to the corresponding indices in the matrices\n",
    "            ks_matrix[i, j] = ks_statistic\n",
    "            \n",
    "            # Modify p-value as per the condition\n",
    "            if p_value < 0.1:\n",
    "                p_value = 1\n",
    "            else:\n",
    "                p_value = 0\n",
    "            p_value_matrix[i, j] = p_value\n",
    "\n",
    "    # Count the occurrences of 1 in the modified p-value matrix\n",
    "    score = np.count_nonzero(p_value_matrix == 1) / (len(unique_input_types)**2)\n",
    "    score_list.append(score)\n",
    "\n",
    "# Convert occurrence list to a DataFrame for visualization\n",
    "score_df = pd.DataFrame({'Word': df_words, 'Score': score_list})\n",
    "\n",
    "\n",
    "# Set the file path where you want to save the CSV file\n",
    "file_path = 'NMFscores.csv'\n",
    "\n",
    "# Save the DataFrame to a CSV file\n",
    "score_df.to_csv(file_path, index=False)"
   ]
  },
  {
   "cell_type": "code",
   "execution_count": 48,
   "metadata": {},
   "outputs": [],
   "source": [
    "#Using Bonferroni Correction\n",
    "# Get unique values in the 'input_type' column\n",
    "unique_input_types = result_df['input_type'].unique()\n",
    "\n",
    "# Initialize a list to store the occurrence of significant results for each word\n",
    "occurrence_list = []\n",
    "\n",
    "# Initialize the number of comparisons made\n",
    "num_comparisons = 45\n",
    "\n",
    "# Iterate through each word\n",
    "for word_df in df_words:\n",
    "\n",
    "    # Initialize matrices \n",
    "    ks_matrix = np.zeros((len(unique_input_types), len(unique_input_types)))\n",
    "    p_value_matrix = np.zeros((len(unique_input_types), len(unique_input_types)))\n",
    "\n",
    "    # Iterate over unique input types\n",
    "    for i in range(len(unique_input_types)):\n",
    "        for j in range(len(unique_input_types)):\n",
    "            # Get samples for the current combination of input types\n",
    "            sample1 = result_df.loc[result_df['input_type'] == unique_input_types[i], word_df].values\n",
    "            sample2 = result_df.loc[result_df['input_type'] == unique_input_types[j], word_df].values\n",
    "\n",
    "            # Perform the KS two-sample test\n",
    "            ks_statistic, p_value = stats.ks_2samp(sample1, sample2)\n",
    "\n",
    "            # Assign KS statistic and p-value to the corresponding indices in the matrices\n",
    "            ks_matrix[i, j] = ks_statistic\n",
    "            \n",
    "            # Adjust p-value using Bonferroni correction\n",
    "            p_value_bonferroni = p_value * num_comparisons\n",
    "            \n",
    "            # Modify p-value as per the condition\n",
    "            if p_value_bonferroni < 0.1:\n",
    "                p_value_bonferroni = 1\n",
    "            else:\n",
    "                p_value_bonferroni = 0\n",
    "            p_value_matrix[i, j] = p_value_bonferroni\n",
    "            \n",
    "            p_value_matrix[i, j] = p_value_bonferroni\n",
    "\n",
    "    # Count the occurrences of significant results after Bonferroni correction\n",
    "    score = np.count_nonzero(p_value_matrix == 1) / (len(unique_input_types)**2)\n",
    "    occurrence_list.append(score)\n",
    "\n",
    "# Convert occurrence list to a DataFrame for visualization\n",
    "score_df_bon = pd.DataFrame({'Word': df_words, 'Score': occurrence_list})\n",
    "# Save the DataFrame to a CSV file\n",
    "score_df_bon.to_csv('NMFbon_score.csv', index=False)"
   ]
  },
  {
   "cell_type": "code",
   "execution_count": null,
   "metadata": {},
   "outputs": [],
   "source": []
  },
  {
   "cell_type": "code",
   "execution_count": null,
   "metadata": {},
   "outputs": [],
   "source": []
  }
 ],
 "metadata": {
  "colab": {
   "provenance": []
  },
  "kernelspec": {
   "display_name": "Python 3 (ipykernel)",
   "language": "python",
   "name": "python3"
  },
  "language_info": {
   "codemirror_mode": {
    "name": "ipython",
    "version": 3
   },
   "file_extension": ".py",
   "mimetype": "text/x-python",
   "name": "python",
   "nbconvert_exporter": "python",
   "pygments_lexer": "ipython3",
   "version": "3.9.12"
  }
 },
 "nbformat": 4,
 "nbformat_minor": 4
}
