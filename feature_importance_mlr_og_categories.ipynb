{
 "cells": [
  {
   "cell_type": "code",
   "execution_count": 1,
   "id": "1b9b53ec-606a-4116-8ab3-f02a8b409a64",
   "metadata": {},
   "outputs": [],
   "source": [
    "# Dataframes\n",
    "import pandas as pd\n",
    "import numpy as np\n",
    "from scipy.sparse import csr_matrix\n",
    "\n",
    "# Visualization\n",
    "import matplotlib.pyplot as plt\n",
    "import seaborn as sns\n",
    "\n",
    "# Splitting data\n",
    "from sklearn.model_selection import train_test_split\n",
    "\n",
    "# Text Vectorization\n",
    "from sklearn.feature_extraction.text import TfidfVectorizer\n",
    "\n",
    "# Reports\n",
    "from sklearn.metrics import confusion_matrix\n",
    "from sklearn.metrics import classification_report"
   ]
  },
  {
   "cell_type": "code",
   "execution_count": 2,
   "id": "632a56ac",
   "metadata": {},
   "outputs": [],
   "source": [
    "# Import data\n",
    "df = pd.read_excel('input_og_categories.xlsx')\n",
    "\n",
    "# Drop nulls\n",
    "df = df.dropna()\n",
    "\n",
    "# Clarify independent and dependent variables\n",
    "x = df['text']\n",
    "y = df['type']\n",
    "\n",
    "# Split datasets into training and testing sets\n",
    "xtrain, xtest, ytrain, ytest = train_test_split(x, y,\n",
    "                                                test_size=0.2, random_state=0)\n"
   ]
  },
  {
   "cell_type": "code",
   "execution_count": 3,
   "id": "48335203",
   "metadata": {},
   "outputs": [],
   "source": [
    "# Specify vectorizer to be used\n",
    "vectorizer = TfidfVectorizer()"
   ]
  },
  {
   "cell_type": "code",
   "execution_count": 4,
   "id": "716b73fd",
   "metadata": {},
   "outputs": [],
   "source": [
    "# Create vectorized versions of relevant datasets\n",
    "vector_xtrain = vectorizer.fit_transform(xtrain)\n",
    "vector_xtest = vectorizer.transform(xtest)"
   ]
  },
  {
   "cell_type": "code",
   "execution_count": 5,
   "id": "d4e16381",
   "metadata": {},
   "outputs": [],
   "source": [
    "# Create a \"labels\" list\n",
    "labels = ['database','deploy','elasticsearch','fastly','redis','resources','sendgrid','upgrade_services','upsize']"
   ]
  },
  {
   "cell_type": "code",
   "execution_count": 6,
   "id": "ec64055e",
   "metadata": {},
   "outputs": [
    {
     "name": "stderr",
     "output_type": "stream",
     "text": [
      "C:\\Users\\maxwe\\anaconda3\\Lib\\site-packages\\sklearn\\linear_model\\_logistic.py:458: ConvergenceWarning: lbfgs failed to converge (status=1):\n",
      "STOP: TOTAL NO. of ITERATIONS REACHED LIMIT.\n",
      "\n",
      "Increase the number of iterations (max_iter) or scale the data as shown in:\n",
      "    https://scikit-learn.org/stable/modules/preprocessing.html\n",
      "Please also refer to the documentation for alternative solver options:\n",
      "    https://scikit-learn.org/stable/modules/linear_model.html#logistic-regression\n",
      "  n_iter_i = _check_optimize_result(\n"
     ]
    },
    {
     "name": "stdout",
     "output_type": "stream",
     "text": [
      "Multinomial Logistic Regression, RS=0\n",
      "                  precision    recall  f1-score   support\n",
      "\n",
      "        database       0.85      0.82      0.83       525\n",
      "          deploy       0.96      0.96      0.96       901\n",
      "   elasticsearch       0.79      0.73      0.76       268\n",
      "          fastly       0.98      0.99      0.99       552\n",
      "           redis       0.85      0.88      0.87       173\n",
      "       resources       0.78      0.82      0.80       379\n",
      "        sendgrid       0.98      0.94      0.96       137\n",
      "upgrade_services       0.83      0.86      0.84       355\n",
      "          upsize       0.96      0.95      0.96       495\n",
      "\n",
      "        accuracy                           0.90      3785\n",
      "       macro avg       0.89      0.88      0.89      3785\n",
      "    weighted avg       0.90      0.90      0.90      3785\n",
      "\n"
     ]
    }
   ],
   "source": [
    "from sklearn.linear_model import LogisticRegression\n",
    "\n",
    "# Define the model for Multinomial Logistic Regression with minimized regularization\n",
    "mlr = LogisticRegression(multi_class = 'multinomial', penalty = 'l2', C = 1e42)\n",
    "\n",
    "# Fit the model\n",
    "mlr.fit(vector_xtrain, ytrain)\n",
    "\n",
    "# Make predictions\n",
    "preds = mlr.predict(vector_xtest)\n",
    "\n",
    "# Generate classification report\n",
    "print('Multinomial Logistic Regression, RS=0')\n",
    "print(classification_report(ytest, preds))"
   ]
  },
  {
   "cell_type": "code",
   "execution_count": 8,
   "id": "7b92683e",
   "metadata": {},
   "outputs": [
    {
     "name": "stdout",
     "output_type": "stream",
     "text": [
      "<class 'pandas.core.series.Series'>\n",
      "Index: 7498 entries, deploy to surcharge\n",
      "Series name: None\n",
      "Non-Null Count  Dtype  \n",
      "--------------  -----  \n",
      "7498 non-null   float64\n",
      "dtypes: float64(1)\n",
      "memory usage: 117.2+ KB\n",
      "None\n"
     ]
    },
    {
     "data": {
      "text/plain": [
       "deploy      19629.111046\n",
       "database     8863.570090\n",
       "fastly       7595.302286\n",
       "search       6151.625940\n",
       "mail         5862.788412\n",
       "dtype: float64"
      ]
     },
     "execution_count": 8,
     "metadata": {},
     "output_type": "execute_result"
    }
   ],
   "source": [
    "# Get feature names from the vectorizer\n",
    "feature_names = vectorizer.get_feature_names_out()\n",
    "\n",
    "# Get coefficients from the model\n",
    "coefficients = mlr.coef_\n",
    "\n",
    "# Calculate the square sum of coefficients for each feature across all classes\n",
    "squared_coefficients = np.square(coefficients).sum(axis=0)\n",
    "\n",
    "# Create a Series for easier sorting and indexing\n",
    "sorted_features_l2 = pd.Series(squared_coefficients, index=feature_names).sort_values(ascending=False)\n",
    "\n",
    "# Get info on resulting object\n",
    "print(sorted_features_l2.info())\n",
    "sorted_features_l2.head()"
   ]
  },
  {
   "cell_type": "code",
   "execution_count": 9,
   "id": "cb37f62e",
   "metadata": {},
   "outputs": [],
   "source": [
    "# Now, let's save this Series to a CSV file\n",
    "sorted_features_l2.to_csv('mlr_feature_importance_og_categories.csv', header=True)"
   ]
  },
  {
   "cell_type": "code",
   "execution_count": null,
   "id": "32e0d093",
   "metadata": {},
   "outputs": [],
   "source": []
  }
 ],
 "metadata": {
  "kernelspec": {
   "display_name": "Python 3 (ipykernel)",
   "language": "python",
   "name": "python3"
  },
  "language_info": {
   "codemirror_mode": {
    "name": "ipython",
    "version": 3
   },
   "file_extension": ".py",
   "mimetype": "text/x-python",
   "name": "python",
   "nbconvert_exporter": "python",
   "pygments_lexer": "ipython3",
   "version": "3.11.4"
  }
 },
 "nbformat": 4,
 "nbformat_minor": 5
}
