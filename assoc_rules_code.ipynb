{
 "cells": [
  {
   "cell_type": "code",
   "execution_count": 1,
   "id": "d1699e44",
   "metadata": {},
   "outputs": [],
   "source": [
    "import pandas as pd\n",
    "from mlxtend.preprocessing import TransactionEncoder\n",
    "from mlxtend.frequent_patterns import apriori, association_rules"
   ]
  },
  {
   "cell_type": "markdown",
   "id": "c2ff37b0",
   "metadata": {},
   "source": [
    "NOTE\n",
    "'Spacy.xlsx' resulted from an older version of the data cleaning process. This code was used to generate association rules on old iterations of the dataset in order to aid in word removal. This process was not done for the final version of the code."
   ]
  },
  {
   "cell_type": "code",
   "execution_count": 2,
   "id": "2112f4e1",
   "metadata": {},
   "outputs": [],
   "source": [
    "df = pd.read_excel('Spacy.xlsx')"
   ]
  },
  {
   "cell_type": "code",
   "execution_count": 3,
   "id": "36fd52d6",
   "metadata": {},
   "outputs": [
    {
     "name": "stdout",
     "output_type": "stream",
     "text": [
      "<class 'pandas.core.frame.DataFrame'>\n",
      "RangeIndex: 18923 entries, 0 to 18922\n",
      "Data columns (total 2 columns):\n",
      " #   Column  Non-Null Count  Dtype \n",
      "---  ------  --------------  ----- \n",
      " 0   text    18922 non-null  object\n",
      " 1   type    18923 non-null  object\n",
      "dtypes: object(2)\n",
      "memory usage: 295.8+ KB\n"
     ]
    }
   ],
   "source": [
    "df.info()"
   ]
  },
  {
   "cell_type": "code",
   "execution_count": 4,
   "id": "c626162d",
   "metadata": {
    "scrolled": true
   },
   "outputs": [
    {
     "data": {
      "text/html": [
       "<div>\n",
       "<style scoped>\n",
       "    .dataframe tbody tr th:only-of-type {\n",
       "        vertical-align: middle;\n",
       "    }\n",
       "\n",
       "    .dataframe tbody tr th {\n",
       "        vertical-align: top;\n",
       "    }\n",
       "\n",
       "    .dataframe thead th {\n",
       "        text-align: right;\n",
       "    }\n",
       "</style>\n",
       "<table border=\"1\" class=\"dataframe\">\n",
       "  <thead>\n",
       "    <tr style=\"text-align: right;\">\n",
       "      <th></th>\n",
       "      <th>text</th>\n",
       "      <th>type</th>\n",
       "    </tr>\n",
       "  </thead>\n",
       "  <tbody>\n",
       "    <tr>\n",
       "      <th>0</th>\n",
       "      <td>database project affect environment affect pro...</td>\n",
       "      <td>database</td>\n",
       "    </tr>\n",
       "    <tr>\n",
       "      <th>1</th>\n",
       "      <td>sql stick production seem like sql stuck produ...</td>\n",
       "      <td>database</td>\n",
       "    </tr>\n",
       "    <tr>\n",
       "      <th>2</th>\n",
       "      <td>database medium folder migration stage able re...</td>\n",
       "      <td>database</td>\n",
       "    </tr>\n",
       "    <tr>\n",
       "      <th>3</th>\n",
       "      <td>sql server go away error log addition previous...</td>\n",
       "      <td>database</td>\n",
       "    </tr>\n",
       "    <tr>\n",
       "      <th>4</th>\n",
       "      <td>location fail graph overall health monitor sin...</td>\n",
       "      <td>database</td>\n",
       "    </tr>\n",
       "  </tbody>\n",
       "</table>\n",
       "</div>"
      ],
      "text/plain": [
       "                                                text      type\n",
       "0  database project affect environment affect pro...  database\n",
       "1  sql stick production seem like sql stuck produ...  database\n",
       "2  database medium folder migration stage able re...  database\n",
       "3  sql server go away error log addition previous...  database\n",
       "4  location fail graph overall health monitor sin...  database"
      ]
     },
     "execution_count": 4,
     "metadata": {},
     "output_type": "execute_result"
    }
   ],
   "source": [
    "df.head()"
   ]
  },
  {
   "cell_type": "code",
   "execution_count": 5,
   "id": "8a510a18",
   "metadata": {},
   "outputs": [],
   "source": [
    "df= df.dropna()"
   ]
  },
  {
   "cell_type": "code",
   "execution_count": 6,
   "id": "9e9968c8",
   "metadata": {},
   "outputs": [],
   "source": [
    "data = list(df['text'].apply(lambda x:x.split(' ')))"
   ]
  },
  {
   "cell_type": "code",
   "execution_count": 7,
   "id": "376348dd",
   "metadata": {
    "scrolled": true
   },
   "outputs": [],
   "source": [
    "# Transaction Encoding\n",
    "a = TransactionEncoder()\n",
    "a_data = a.fit(data).transform(data)\n",
    "encoded = pd.DataFrame(a_data, columns=a.columns_)"
   ]
  },
  {
   "cell_type": "code",
   "execution_count": 8,
   "id": "a7440b89",
   "metadata": {},
   "outputs": [
    {
     "data": {
      "text/html": [
       "<div>\n",
       "<style scoped>\n",
       "    .dataframe tbody tr th:only-of-type {\n",
       "        vertical-align: middle;\n",
       "    }\n",
       "\n",
       "    .dataframe tbody tr th {\n",
       "        vertical-align: top;\n",
       "    }\n",
       "\n",
       "    .dataframe thead th {\n",
       "        text-align: right;\n",
       "    }\n",
       "</style>\n",
       "<table border=\"1\" class=\"dataframe\">\n",
       "  <thead>\n",
       "    <tr style=\"text-align: right;\">\n",
       "      <th></th>\n",
       "      <th>aa</th>\n",
       "      <th>aam</th>\n",
       "      <th>abandon</th>\n",
       "      <th>abandonment</th>\n",
       "      <th>abase</th>\n",
       "      <th>abb</th>\n",
       "      <th>abbas</th>\n",
       "      <th>abbreviate</th>\n",
       "      <th>aberrant</th>\n",
       "      <th>abide</th>\n",
       "      <th>...</th>\n",
       "      <th>zipping</th>\n",
       "      <th>zippy</th>\n",
       "      <th>zo</th>\n",
       "      <th>zoa</th>\n",
       "      <th>zoll</th>\n",
       "      <th>zombie</th>\n",
       "      <th>zone</th>\n",
       "      <th>zoo</th>\n",
       "      <th>zookeeper</th>\n",
       "      <th>zoom</th>\n",
       "    </tr>\n",
       "  </thead>\n",
       "  <tbody>\n",
       "    <tr>\n",
       "      <th>0</th>\n",
       "      <td>False</td>\n",
       "      <td>False</td>\n",
       "      <td>False</td>\n",
       "      <td>False</td>\n",
       "      <td>False</td>\n",
       "      <td>False</td>\n",
       "      <td>False</td>\n",
       "      <td>False</td>\n",
       "      <td>False</td>\n",
       "      <td>False</td>\n",
       "      <td>...</td>\n",
       "      <td>False</td>\n",
       "      <td>False</td>\n",
       "      <td>False</td>\n",
       "      <td>False</td>\n",
       "      <td>False</td>\n",
       "      <td>False</td>\n",
       "      <td>False</td>\n",
       "      <td>False</td>\n",
       "      <td>False</td>\n",
       "      <td>False</td>\n",
       "    </tr>\n",
       "    <tr>\n",
       "      <th>1</th>\n",
       "      <td>False</td>\n",
       "      <td>False</td>\n",
       "      <td>False</td>\n",
       "      <td>False</td>\n",
       "      <td>False</td>\n",
       "      <td>False</td>\n",
       "      <td>False</td>\n",
       "      <td>False</td>\n",
       "      <td>False</td>\n",
       "      <td>False</td>\n",
       "      <td>...</td>\n",
       "      <td>False</td>\n",
       "      <td>False</td>\n",
       "      <td>False</td>\n",
       "      <td>False</td>\n",
       "      <td>False</td>\n",
       "      <td>False</td>\n",
       "      <td>False</td>\n",
       "      <td>False</td>\n",
       "      <td>False</td>\n",
       "      <td>False</td>\n",
       "    </tr>\n",
       "    <tr>\n",
       "      <th>2</th>\n",
       "      <td>False</td>\n",
       "      <td>False</td>\n",
       "      <td>False</td>\n",
       "      <td>False</td>\n",
       "      <td>False</td>\n",
       "      <td>False</td>\n",
       "      <td>False</td>\n",
       "      <td>False</td>\n",
       "      <td>False</td>\n",
       "      <td>False</td>\n",
       "      <td>...</td>\n",
       "      <td>False</td>\n",
       "      <td>False</td>\n",
       "      <td>False</td>\n",
       "      <td>False</td>\n",
       "      <td>False</td>\n",
       "      <td>False</td>\n",
       "      <td>False</td>\n",
       "      <td>False</td>\n",
       "      <td>False</td>\n",
       "      <td>False</td>\n",
       "    </tr>\n",
       "    <tr>\n",
       "      <th>3</th>\n",
       "      <td>False</td>\n",
       "      <td>False</td>\n",
       "      <td>False</td>\n",
       "      <td>False</td>\n",
       "      <td>False</td>\n",
       "      <td>False</td>\n",
       "      <td>False</td>\n",
       "      <td>False</td>\n",
       "      <td>False</td>\n",
       "      <td>False</td>\n",
       "      <td>...</td>\n",
       "      <td>False</td>\n",
       "      <td>False</td>\n",
       "      <td>False</td>\n",
       "      <td>False</td>\n",
       "      <td>False</td>\n",
       "      <td>False</td>\n",
       "      <td>False</td>\n",
       "      <td>False</td>\n",
       "      <td>False</td>\n",
       "      <td>False</td>\n",
       "    </tr>\n",
       "    <tr>\n",
       "      <th>4</th>\n",
       "      <td>False</td>\n",
       "      <td>False</td>\n",
       "      <td>False</td>\n",
       "      <td>False</td>\n",
       "      <td>False</td>\n",
       "      <td>False</td>\n",
       "      <td>False</td>\n",
       "      <td>False</td>\n",
       "      <td>False</td>\n",
       "      <td>False</td>\n",
       "      <td>...</td>\n",
       "      <td>False</td>\n",
       "      <td>False</td>\n",
       "      <td>False</td>\n",
       "      <td>False</td>\n",
       "      <td>False</td>\n",
       "      <td>False</td>\n",
       "      <td>False</td>\n",
       "      <td>False</td>\n",
       "      <td>False</td>\n",
       "      <td>False</td>\n",
       "    </tr>\n",
       "  </tbody>\n",
       "</table>\n",
       "<p>5 rows × 10378 columns</p>\n",
       "</div>"
      ],
      "text/plain": [
       "      aa    aam  abandon  abandonment  abase    abb  abbas  abbreviate  \\\n",
       "0  False  False    False        False  False  False  False       False   \n",
       "1  False  False    False        False  False  False  False       False   \n",
       "2  False  False    False        False  False  False  False       False   \n",
       "3  False  False    False        False  False  False  False       False   \n",
       "4  False  False    False        False  False  False  False       False   \n",
       "\n",
       "   aberrant  abide  ...  zipping  zippy     zo    zoa   zoll  zombie   zone  \\\n",
       "0     False  False  ...    False  False  False  False  False   False  False   \n",
       "1     False  False  ...    False  False  False  False  False   False  False   \n",
       "2     False  False  ...    False  False  False  False  False   False  False   \n",
       "3     False  False  ...    False  False  False  False  False   False  False   \n",
       "4     False  False  ...    False  False  False  False  False   False  False   \n",
       "\n",
       "     zoo  zookeeper   zoom  \n",
       "0  False      False  False  \n",
       "1  False      False  False  \n",
       "2  False      False  False  \n",
       "3  False      False  False  \n",
       "4  False      False  False  \n",
       "\n",
       "[5 rows x 10378 columns]"
      ]
     },
     "execution_count": 8,
     "metadata": {},
     "output_type": "execute_result"
    }
   ],
   "source": [
    "encoded.head()"
   ]
  },
  {
   "cell_type": "code",
   "execution_count": 9,
   "id": "54cbfaaa",
   "metadata": {},
   "outputs": [],
   "source": [
    "encoded2 = encoded.astype(int)"
   ]
  },
  {
   "cell_type": "code",
   "execution_count": 10,
   "id": "6345cab8",
   "metadata": {},
   "outputs": [],
   "source": [
    "supports = pd.DataFrame({'Word': encoded2.columns,\n",
    "                       'Num of Docs': encoded2.sum()})"
   ]
  },
  {
   "cell_type": "code",
   "execution_count": 11,
   "id": "68859cf0",
   "metadata": {},
   "outputs": [],
   "source": [
    "encoded2 = encoded2.astype(bool)"
   ]
  },
  {
   "cell_type": "code",
   "execution_count": 12,
   "id": "4d7cff19",
   "metadata": {
    "scrolled": false
   },
   "outputs": [],
   "source": [
    "# Apriori Algorithm\n",
    "min_support = 0.49\n",
    "frequent_itemsets = apriori(encoded2, min_support=min_support, max_len=3, use_colnames=True)"
   ]
  },
  {
   "cell_type": "code",
   "execution_count": 13,
   "id": "763fd319",
   "metadata": {},
   "outputs": [],
   "source": [
    "# Association Rules\n",
    "min_confidence = 0.01\n",
    "rules = association_rules(frequent_itemsets, metric='confidence', min_threshold=min_confidence)"
   ]
  },
  {
   "cell_type": "code",
   "execution_count": 14,
   "id": "d299cd0c",
   "metadata": {
    "scrolled": true
   },
   "outputs": [
    {
     "name": "stdout",
     "output_type": "stream",
     "text": [
      "     antecedents    consequents  antecedent support  consequent support  \\\n",
      "0      (already)       (affect)            0.577476            0.535831   \n",
      "1       (affect)      (already)            0.535831            0.577476   \n",
      "2       (change)       (affect)            0.660395            0.535831   \n",
      "3       (affect)       (change)            0.535831            0.660395   \n",
      "4  (engineering)       (affect)            0.963217            0.535831   \n",
      "5       (affect)  (engineering)            0.535831            0.963217   \n",
      "6  (environment)       (affect)            0.769158            0.535831   \n",
      "7       (affect)  (environment)            0.535831            0.769158   \n",
      "8         (make)       (affect)            0.649984            0.535831   \n",
      "9       (affect)         (make)            0.535831            0.649984   \n",
      "\n",
      "    support  confidence      lift  leverage  conviction  zhangs_metric  \n",
      "0  0.502272    0.869772  1.623220  0.192843    3.564281       0.908683  \n",
      "1  0.502272    0.937371  1.623220  0.192843    6.746412       0.827157  \n",
      "2  0.505549    0.765525  1.428668  0.151689    1.979608       0.883519  \n",
      "3  0.505549    0.943486  1.428668  0.151689    6.009166       0.646419  \n",
      "4  0.530916    0.551191  1.028664  0.014794    1.034222       0.757578  \n",
      "5  0.530916    0.990827  1.028664  0.014794    4.010092       0.060034  \n",
      "6  0.506553    0.658582  1.229084  0.094414    1.359531       0.807417  \n",
      "7  0.506553    0.945360  1.229084  0.094414    4.224749       0.401548  \n",
      "8  0.494662    0.761037  1.420293  0.146380    1.942433       0.845447  \n",
      "9  0.494662    0.923168  1.420293  0.146380    4.555598       0.637527  \n"
     ]
    }
   ],
   "source": [
    "print(rules.head(10))"
   ]
  },
  {
   "cell_type": "code",
   "execution_count": 15,
   "id": "7b44aea4",
   "metadata": {},
   "outputs": [],
   "source": [
    "rules.to_csv('assoc_rules.csv', index=False)"
   ]
  },
  {
   "cell_type": "code",
   "execution_count": 16,
   "id": "7792dc09",
   "metadata": {},
   "outputs": [],
   "source": [
    "supports.to_csv('document_freq.csv', index=False)"
   ]
  },
  {
   "cell_type": "code",
   "execution_count": null,
   "id": "153e77da",
   "metadata": {},
   "outputs": [],
   "source": []
  }
 ],
 "metadata": {
  "kernelspec": {
   "display_name": "Python 3 (ipykernel)",
   "language": "python",
   "name": "python3"
  },
  "language_info": {
   "codemirror_mode": {
    "name": "ipython",
    "version": 3
   },
   "file_extension": ".py",
   "mimetype": "text/x-python",
   "name": "python",
   "nbconvert_exporter": "python",
   "pygments_lexer": "ipython3",
   "version": "3.11.4"
  }
 },
 "nbformat": 4,
 "nbformat_minor": 5
}
