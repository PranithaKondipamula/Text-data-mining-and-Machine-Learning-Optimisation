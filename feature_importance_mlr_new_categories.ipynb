{
 "cells": [
  {
   "cell_type": "code",
   "execution_count": 10,
   "id": "1b9b53ec-606a-4116-8ab3-f02a8b409a64",
   "metadata": {},
   "outputs": [],
   "source": [
    "# Dataframes\n",
    "import pandas as pd\n",
    "import numpy as np\n",
    "\n",
    "# Visualization\n",
    "import matplotlib.pyplot as plt\n",
    "import seaborn as sns\n",
    "\n",
    "# Splitting data\n",
    "from sklearn.model_selection import train_test_split\n",
    "\n",
    "# Text Vectorization\n",
    "from sklearn.feature_extraction.text import TfidfVectorizer\n",
    "\n",
    "# Reports\n",
    "from sklearn.metrics import confusion_matrix\n",
    "from sklearn.metrics import classification_report"
   ]
  },
  {
   "cell_type": "code",
   "execution_count": 11,
   "id": "632a56ac",
   "metadata": {},
   "outputs": [],
   "source": [
    "# Import data\n",
    "df = pd.read_csv('input_new_categories.csv')\n",
    "\n",
    "# Drop nulls\n",
    "df = df.dropna()\n",
    "\n",
    "# Clarify independent and dependent variables\n",
    "x = df['text']\n",
    "y = df['type']\n",
    "\n",
    "# Split datasets into training and testing sets\n",
    "xtrain, xtest, ytrain, ytest = train_test_split(x, y,\n",
    "                                                test_size=0.2, random_state=0)"
   ]
  },
  {
   "cell_type": "code",
   "execution_count": 12,
   "id": "48335203",
   "metadata": {},
   "outputs": [],
   "source": [
    "# Specify vectorizer to be used\n",
    "vectorizer = TfidfVectorizer()"
   ]
  },
  {
   "cell_type": "code",
   "execution_count": 13,
   "id": "716b73fd",
   "metadata": {},
   "outputs": [],
   "source": [
    "# Create vectorized versions of relevant datasets\n",
    "vector_xtrain = vectorizer.fit_transform(xtrain)\n",
    "vector_xtest = vectorizer.transform(xtest)"
   ]
  },
  {
   "cell_type": "code",
   "execution_count": 14,
   "id": "d4e16381",
   "metadata": {},
   "outputs": [],
   "source": [
    "# Create a \"labels\" list\n",
    "labels = ['database','database_admin','deploy','elasticsearch','fastly','redis','resources','sendgrid','upgrade_services','upsize']"
   ]
  },
  {
   "cell_type": "code",
   "execution_count": 15,
   "id": "ec64055e",
   "metadata": {
    "scrolled": false
   },
   "outputs": [
    {
     "name": "stdout",
     "output_type": "stream",
     "text": [
      "Multinomial Logistic Regression, RS=0\n",
      "                  precision    recall  f1-score   support\n",
      "\n",
      "        database       0.97      0.97      0.97       353\n",
      "  database_admin       0.98      0.98      0.98       215\n",
      "          deploy       0.96      0.99      0.97       606\n",
      "   elasticsearch       0.99      0.99      0.99       434\n",
      "          fastly       0.99      1.00      0.99       500\n",
      "           redis       0.97      0.95      0.96       405\n",
      "       resources       0.99      0.99      0.99       385\n",
      "        sendgrid       0.97      0.97      0.97       183\n",
      "upgrade_services       0.98      0.95      0.96       272\n",
      "          upsize       1.00      1.00      1.00       432\n",
      "\n",
      "        accuracy                           0.98      3785\n",
      "       macro avg       0.98      0.98      0.98      3785\n",
      "    weighted avg       0.98      0.98      0.98      3785\n",
      "\n"
     ]
    }
   ],
   "source": [
    "from sklearn.linear_model import LogisticRegression\n",
    "\n",
    "# Define the model for Multinomial Logistic Regression with minimized regularization\n",
    "mlr = LogisticRegression(multi_class = 'multinomial', penalty = 'l2', C = 1e42)\n",
    "\n",
    "# Fit the model\n",
    "mlr.fit(vector_xtrain, ytrain)\n",
    "\n",
    "# Make predictions\n",
    "preds = mlr.predict(vector_xtest)\n",
    "\n",
    "# Generate classification report\n",
    "print('Multinomial Logistic Regression, RS=0')\n",
    "print(classification_report(ytest, preds))"
   ]
  },
  {
   "cell_type": "code",
   "execution_count": 16,
   "id": "7b92683e",
   "metadata": {},
   "outputs": [
    {
     "name": "stdout",
     "output_type": "stream",
     "text": [
      "<class 'pandas.core.series.Series'>\n",
      "Index: 7498 entries, sql to wig\n",
      "Series name: None\n",
      "Non-Null Count  Dtype  \n",
      "--------------  -----  \n",
      "7498 non-null   float64\n",
      "dtypes: float64(1)\n",
      "memory usage: 117.2+ KB\n",
      "None\n"
     ]
    },
    {
     "data": {
      "text/plain": [
       "sql         2.650664e+06\n",
       "fastly      2.313035e+06\n",
       "upgrade     2.090904e+06\n",
       "database    1.981088e+06\n",
       "upsize      1.973084e+06\n",
       "dtype: float64"
      ]
     },
     "execution_count": 16,
     "metadata": {},
     "output_type": "execute_result"
    }
   ],
   "source": [
    "# Get feature names from the vectorizer\n",
    "feature_names = vectorizer.get_feature_names_out()\n",
    "\n",
    "# Get coefficients from the model\n",
    "coefficients = mlr.coef_\n",
    "\n",
    "# Calculate the square sum of coefficients for each feature across all classes\n",
    "squared_coefficients = np.square(coefficients).sum(axis=0)\n",
    "\n",
    "# Create a Series for easier sorting and indexing\n",
    "sorted_features_l2 = pd.Series(squared_coefficients, index=feature_names).sort_values(ascending=False)\n",
    "\n",
    "# Get info on resulting object\n",
    "print(sorted_features_l2.info())\n",
    "sorted_features_l2.head()"
   ]
  },
  {
   "cell_type": "code",
   "execution_count": 17,
   "id": "cb37f62e",
   "metadata": {},
   "outputs": [],
   "source": [
    "# Now, let's save this Series to a CSV file\n",
    "sorted_features_l2.to_csv('mlr_feature_importance_new_categories.csv', header=True)"
   ]
  }
 ],
 "metadata": {
  "kernelspec": {
   "display_name": "Python 3 (ipykernel)",
   "language": "python",
   "name": "python3"
  },
  "language_info": {
   "codemirror_mode": {
    "name": "ipython",
    "version": 3
   },
   "file_extension": ".py",
   "mimetype": "text/x-python",
   "name": "python",
   "nbconvert_exporter": "python",
   "pygments_lexer": "ipython3",
   "version": "3.11.4"
  }
 },
 "nbformat": 4,
 "nbformat_minor": 5
}
