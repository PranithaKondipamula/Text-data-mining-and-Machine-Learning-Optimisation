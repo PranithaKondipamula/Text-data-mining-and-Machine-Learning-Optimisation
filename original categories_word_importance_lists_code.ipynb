{
 "cells": [
  {
   "cell_type": "code",
   "execution_count": 11,
   "id": "bef65bd9",
   "metadata": {},
   "outputs": [],
   "source": [
    "import pandas as pd"
   ]
  },
  {
   "cell_type": "code",
   "execution_count": 12,
   "id": "2bc231ee",
   "metadata": {},
   "outputs": [],
   "source": [
    "ks = pd.read_excel('ks_feature_importance_og_categories.xlsx')\n",
    "mlr = pd.read_csv('mlr_feature_importance_og_categories.csv')\n",
    "rf = pd.read_csv('rf_feature_importance_og_categories.csv')\n",
    "tfidf = pd.read_csv('tf_idf_feature_importance_og_categories.csv')"
   ]
  },
  {
   "cell_type": "code",
   "execution_count": 13,
   "id": "df85ba5e",
   "metadata": {},
   "outputs": [
    {
     "name": "stdout",
     "output_type": "stream",
     "text": [
      "<class 'pandas.core.frame.DataFrame'>\n",
      "RangeIndex: 7552 entries, 0 to 7551\n",
      "Data columns (total 4 columns):\n",
      " #   Column     Non-Null Count  Dtype  \n",
      "---  ------     --------------  -----  \n",
      " 0   Word       7552 non-null   object \n",
      " 1   Score      7552 non-null   float64\n",
      " 2   Bon Score  7552 non-null   float64\n",
      " 3   KS Rank    7552 non-null   int64  \n",
      "dtypes: float64(2), int64(1), object(1)\n",
      "memory usage: 236.1+ KB\n"
     ]
    }
   ],
   "source": [
    "ks.info()"
   ]
  },
  {
   "cell_type": "code",
   "execution_count": 14,
   "id": "984c4e91",
   "metadata": {},
   "outputs": [
    {
     "name": "stdout",
     "output_type": "stream",
     "text": [
      "<class 'pandas.core.frame.DataFrame'>\n",
      "RangeIndex: 7498 entries, 0 to 7497\n",
      "Data columns (total 2 columns):\n",
      " #   Column      Non-Null Count  Dtype  \n",
      "---  ------      --------------  -----  \n",
      " 0   Unnamed: 0  7497 non-null   object \n",
      " 1   0           7498 non-null   float64\n",
      "dtypes: float64(1), object(1)\n",
      "memory usage: 117.3+ KB\n"
     ]
    }
   ],
   "source": [
    "mlr.info()"
   ]
  },
  {
   "cell_type": "code",
   "execution_count": 15,
   "id": "049d53d1",
   "metadata": {},
   "outputs": [
    {
     "name": "stdout",
     "output_type": "stream",
     "text": [
      "<class 'pandas.core.frame.DataFrame'>\n",
      "RangeIndex: 7498 entries, 0 to 7497\n",
      "Data columns (total 2 columns):\n",
      " #   Column      Non-Null Count  Dtype  \n",
      "---  ------      --------------  -----  \n",
      " 0   Features    7497 non-null   object \n",
      " 1   Importance  7498 non-null   float64\n",
      "dtypes: float64(1), object(1)\n",
      "memory usage: 117.3+ KB\n"
     ]
    }
   ],
   "source": [
    "rf.info()"
   ]
  },
  {
   "cell_type": "code",
   "execution_count": 16,
   "id": "0f8e4db3",
   "metadata": {},
   "outputs": [
    {
     "name": "stdout",
     "output_type": "stream",
     "text": [
      "<class 'pandas.core.frame.DataFrame'>\n",
      "RangeIndex: 7555 entries, 0 to 7554\n",
      "Data columns (total 2 columns):\n",
      " #   Column        Non-Null Count  Dtype  \n",
      "---  ------        --------------  -----  \n",
      " 0   Word          7554 non-null   object \n",
      " 1   TF-IDF Score  7555 non-null   float64\n",
      "dtypes: float64(1), object(1)\n",
      "memory usage: 118.2+ KB\n"
     ]
    }
   ],
   "source": [
    "tfidf.info()"
   ]
  },
  {
   "cell_type": "code",
   "execution_count": 18,
   "id": "841017a4",
   "metadata": {},
   "outputs": [],
   "source": [
    "tfidf.insert(1, 'tfidf_rank', value=range(len(tfidf)))"
   ]
  },
  {
   "cell_type": "code",
   "execution_count": 19,
   "id": "83739b03",
   "metadata": {},
   "outputs": [
    {
     "name": "stdout",
     "output_type": "stream",
     "text": [
      "<class 'pandas.core.frame.DataFrame'>\n",
      "RangeIndex: 7555 entries, 0 to 7554\n",
      "Data columns (total 3 columns):\n",
      " #   Column        Non-Null Count  Dtype  \n",
      "---  ------        --------------  -----  \n",
      " 0   Word          7554 non-null   object \n",
      " 1   tfidf_rank    7555 non-null   int64  \n",
      " 2   TF-IDF Score  7555 non-null   float64\n",
      "dtypes: float64(1), int64(1), object(1)\n",
      "memory usage: 177.2+ KB\n"
     ]
    }
   ],
   "source": [
    "tfidf.info()"
   ]
  },
  {
   "cell_type": "code",
   "execution_count": 20,
   "id": "940fe753",
   "metadata": {},
   "outputs": [],
   "source": [
    "mlr.insert(1, 'mlr_rank', value=range(len(mlr)))\n",
    "rf.insert(1, 'rf_rank', value=range(len(rf)))\n",
    "ks.insert(1, 'ks_rank', value=range(len(ks)))"
   ]
  },
  {
   "cell_type": "code",
   "execution_count": 25,
   "id": "52e464f9",
   "metadata": {},
   "outputs": [],
   "source": [
    "final_lists = tfidf[['Word', 'tfidf_rank']]\n",
    "mlr = mlr[['Unnamed: 0', 'mlr_rank']]\n",
    "rf = rf[['Features', 'rf_rank']]\n",
    "ks = ks[['Word', 'ks_rank']]"
   ]
  },
  {
   "cell_type": "code",
   "execution_count": 27,
   "id": "526b7411",
   "metadata": {},
   "outputs": [
    {
     "name": "stdout",
     "output_type": "stream",
     "text": [
      "<class 'pandas.core.frame.DataFrame'>\n",
      "Index: 7555 entries, elastic to razer\n",
      "Data columns (total 2 columns):\n",
      " #   Column      Non-Null Count  Dtype  \n",
      "---  ------      --------------  -----  \n",
      " 0   tfidf_rank  7555 non-null   int64  \n",
      " 1   mlr_rank    7498 non-null   float64\n",
      "dtypes: float64(1), int64(1)\n",
      "memory usage: 435.1+ KB\n"
     ]
    },
    {
     "data": {
      "text/html": [
       "<div>\n",
       "<style scoped>\n",
       "    .dataframe tbody tr th:only-of-type {\n",
       "        vertical-align: middle;\n",
       "    }\n",
       "\n",
       "    .dataframe tbody tr th {\n",
       "        vertical-align: top;\n",
       "    }\n",
       "\n",
       "    .dataframe thead th {\n",
       "        text-align: right;\n",
       "    }\n",
       "</style>\n",
       "<table border=\"1\" class=\"dataframe\">\n",
       "  <thead>\n",
       "    <tr style=\"text-align: right;\">\n",
       "      <th></th>\n",
       "      <th>tfidf_rank</th>\n",
       "      <th>mlr_rank</th>\n",
       "    </tr>\n",
       "    <tr>\n",
       "      <th>Word</th>\n",
       "      <th></th>\n",
       "      <th></th>\n",
       "    </tr>\n",
       "  </thead>\n",
       "  <tbody>\n",
       "    <tr>\n",
       "      <th>elastic</th>\n",
       "      <td>0</td>\n",
       "      <td>5.0</td>\n",
       "    </tr>\n",
       "    <tr>\n",
       "      <th>deploy</th>\n",
       "      <td>1</td>\n",
       "      <td>8.0</td>\n",
       "    </tr>\n",
       "    <tr>\n",
       "      <th>fastly</th>\n",
       "      <td>2</td>\n",
       "      <td>1.0</td>\n",
       "    </tr>\n",
       "    <tr>\n",
       "      <th>upsize</th>\n",
       "      <td>3</td>\n",
       "      <td>4.0</td>\n",
       "    </tr>\n",
       "    <tr>\n",
       "      <th>engineering</th>\n",
       "      <td>4</td>\n",
       "      <td>138.0</td>\n",
       "    </tr>\n",
       "  </tbody>\n",
       "</table>\n",
       "</div>"
      ],
      "text/plain": [
       "             tfidf_rank  mlr_rank\n",
       "Word                             \n",
       "elastic               0       5.0\n",
       "deploy                1       8.0\n",
       "fastly                2       1.0\n",
       "upsize                3       4.0\n",
       "engineering           4     138.0"
      ]
     },
     "execution_count": 27,
     "metadata": {},
     "output_type": "execute_result"
    }
   ],
   "source": [
    "final_lists = final_lists.set_index('Word').join(mlr.set_index('Unnamed: 0'))\n",
    "\n",
    "final_lists.info()\n",
    "final_lists.head()"
   ]
  },
  {
   "cell_type": "code",
   "execution_count": 28,
   "id": "9c63a764",
   "metadata": {},
   "outputs": [
    {
     "name": "stdout",
     "output_type": "stream",
     "text": [
      "<class 'pandas.core.frame.DataFrame'>\n",
      "Index: 7555 entries, elastic to razer\n",
      "Data columns (total 4 columns):\n",
      " #   Column      Non-Null Count  Dtype  \n",
      "---  ------      --------------  -----  \n",
      " 0   tfidf_rank  7555 non-null   int64  \n",
      " 1   mlr_rank    7498 non-null   float64\n",
      " 2   rf_rank     7498 non-null   float64\n",
      " 3   ks_rank     7552 non-null   float64\n",
      "dtypes: float64(3), int64(1)\n",
      "memory usage: 553.2+ KB\n"
     ]
    },
    {
     "data": {
      "text/html": [
       "<div>\n",
       "<style scoped>\n",
       "    .dataframe tbody tr th:only-of-type {\n",
       "        vertical-align: middle;\n",
       "    }\n",
       "\n",
       "    .dataframe tbody tr th {\n",
       "        vertical-align: top;\n",
       "    }\n",
       "\n",
       "    .dataframe thead th {\n",
       "        text-align: right;\n",
       "    }\n",
       "</style>\n",
       "<table border=\"1\" class=\"dataframe\">\n",
       "  <thead>\n",
       "    <tr style=\"text-align: right;\">\n",
       "      <th></th>\n",
       "      <th>tfidf_rank</th>\n",
       "      <th>mlr_rank</th>\n",
       "      <th>rf_rank</th>\n",
       "      <th>ks_rank</th>\n",
       "    </tr>\n",
       "    <tr>\n",
       "      <th>Word</th>\n",
       "      <th></th>\n",
       "      <th></th>\n",
       "      <th></th>\n",
       "      <th></th>\n",
       "    </tr>\n",
       "  </thead>\n",
       "  <tbody>\n",
       "    <tr>\n",
       "      <th>elastic</th>\n",
       "      <td>0</td>\n",
       "      <td>5.0</td>\n",
       "      <td>6.0</td>\n",
       "      <td>0.0</td>\n",
       "    </tr>\n",
       "    <tr>\n",
       "      <th>deploy</th>\n",
       "      <td>1</td>\n",
       "      <td>8.0</td>\n",
       "      <td>5.0</td>\n",
       "      <td>5.0</td>\n",
       "    </tr>\n",
       "    <tr>\n",
       "      <th>fastly</th>\n",
       "      <td>2</td>\n",
       "      <td>1.0</td>\n",
       "      <td>2.0</td>\n",
       "      <td>188.0</td>\n",
       "    </tr>\n",
       "    <tr>\n",
       "      <th>upsize</th>\n",
       "      <td>3</td>\n",
       "      <td>4.0</td>\n",
       "      <td>7.0</td>\n",
       "      <td>162.0</td>\n",
       "    </tr>\n",
       "    <tr>\n",
       "      <th>engineering</th>\n",
       "      <td>4</td>\n",
       "      <td>138.0</td>\n",
       "      <td>40.0</td>\n",
       "      <td>223.0</td>\n",
       "    </tr>\n",
       "  </tbody>\n",
       "</table>\n",
       "</div>"
      ],
      "text/plain": [
       "             tfidf_rank  mlr_rank  rf_rank  ks_rank\n",
       "Word                                               \n",
       "elastic               0       5.0      6.0      0.0\n",
       "deploy                1       8.0      5.0      5.0\n",
       "fastly                2       1.0      2.0    188.0\n",
       "upsize                3       4.0      7.0    162.0\n",
       "engineering           4     138.0     40.0    223.0"
      ]
     },
     "execution_count": 28,
     "metadata": {},
     "output_type": "execute_result"
    }
   ],
   "source": [
    "final_lists = final_lists.join(rf.set_index('Features'))\n",
    "final_lists = final_lists.join(ks.set_index('Word'))\n",
    "\n",
    "final_lists.info()\n",
    "final_lists.head()"
   ]
  },
  {
   "cell_type": "code",
   "execution_count": 31,
   "id": "901e74e2",
   "metadata": {},
   "outputs": [],
   "source": [
    "final_lists = final_lists.assign(mean_rank=final_lists[['tfidf_rank','mlr_rank','rf_rank','ks_rank']].mean(axis=1))"
   ]
  },
  {
   "cell_type": "code",
   "execution_count": 32,
   "id": "17ca0f24",
   "metadata": {},
   "outputs": [
    {
     "name": "stdout",
     "output_type": "stream",
     "text": [
      "<class 'pandas.core.frame.DataFrame'>\n",
      "Index: 7555 entries, elastic to razer\n",
      "Data columns (total 5 columns):\n",
      " #   Column      Non-Null Count  Dtype  \n",
      "---  ------      --------------  -----  \n",
      " 0   tfidf_rank  7555 non-null   int64  \n",
      " 1   mlr_rank    7498 non-null   float64\n",
      " 2   rf_rank     7498 non-null   float64\n",
      " 3   ks_rank     7552 non-null   float64\n",
      " 4   mean_rank   7555 non-null   float64\n",
      "dtypes: float64(4), int64(1)\n",
      "memory usage: 612.2+ KB\n"
     ]
    },
    {
     "data": {
      "text/html": [
       "<div>\n",
       "<style scoped>\n",
       "    .dataframe tbody tr th:only-of-type {\n",
       "        vertical-align: middle;\n",
       "    }\n",
       "\n",
       "    .dataframe tbody tr th {\n",
       "        vertical-align: top;\n",
       "    }\n",
       "\n",
       "    .dataframe thead th {\n",
       "        text-align: right;\n",
       "    }\n",
       "</style>\n",
       "<table border=\"1\" class=\"dataframe\">\n",
       "  <thead>\n",
       "    <tr style=\"text-align: right;\">\n",
       "      <th></th>\n",
       "      <th>tfidf_rank</th>\n",
       "      <th>mlr_rank</th>\n",
       "      <th>rf_rank</th>\n",
       "      <th>ks_rank</th>\n",
       "      <th>mean_rank</th>\n",
       "    </tr>\n",
       "    <tr>\n",
       "      <th>Word</th>\n",
       "      <th></th>\n",
       "      <th></th>\n",
       "      <th></th>\n",
       "      <th></th>\n",
       "      <th></th>\n",
       "    </tr>\n",
       "  </thead>\n",
       "  <tbody>\n",
       "    <tr>\n",
       "      <th>elastic</th>\n",
       "      <td>0</td>\n",
       "      <td>5.0</td>\n",
       "      <td>6.0</td>\n",
       "      <td>0.0</td>\n",
       "      <td>2.75</td>\n",
       "    </tr>\n",
       "    <tr>\n",
       "      <th>deploy</th>\n",
       "      <td>1</td>\n",
       "      <td>8.0</td>\n",
       "      <td>5.0</td>\n",
       "      <td>5.0</td>\n",
       "      <td>4.75</td>\n",
       "    </tr>\n",
       "    <tr>\n",
       "      <th>fastly</th>\n",
       "      <td>2</td>\n",
       "      <td>1.0</td>\n",
       "      <td>2.0</td>\n",
       "      <td>188.0</td>\n",
       "      <td>48.25</td>\n",
       "    </tr>\n",
       "    <tr>\n",
       "      <th>upsize</th>\n",
       "      <td>3</td>\n",
       "      <td>4.0</td>\n",
       "      <td>7.0</td>\n",
       "      <td>162.0</td>\n",
       "      <td>44.00</td>\n",
       "    </tr>\n",
       "    <tr>\n",
       "      <th>engineering</th>\n",
       "      <td>4</td>\n",
       "      <td>138.0</td>\n",
       "      <td>40.0</td>\n",
       "      <td>223.0</td>\n",
       "      <td>101.25</td>\n",
       "    </tr>\n",
       "  </tbody>\n",
       "</table>\n",
       "</div>"
      ],
      "text/plain": [
       "             tfidf_rank  mlr_rank  rf_rank  ks_rank  mean_rank\n",
       "Word                                                          \n",
       "elastic               0       5.0      6.0      0.0       2.75\n",
       "deploy                1       8.0      5.0      5.0       4.75\n",
       "fastly                2       1.0      2.0    188.0      48.25\n",
       "upsize                3       4.0      7.0    162.0      44.00\n",
       "engineering           4     138.0     40.0    223.0     101.25"
      ]
     },
     "execution_count": 32,
     "metadata": {},
     "output_type": "execute_result"
    }
   ],
   "source": [
    "final_lists.info()\n",
    "final_lists.head()"
   ]
  },
  {
   "cell_type": "code",
   "execution_count": 33,
   "id": "2c6918dc",
   "metadata": {},
   "outputs": [
    {
     "data": {
      "text/html": [
       "<div>\n",
       "<style scoped>\n",
       "    .dataframe tbody tr th:only-of-type {\n",
       "        vertical-align: middle;\n",
       "    }\n",
       "\n",
       "    .dataframe tbody tr th {\n",
       "        vertical-align: top;\n",
       "    }\n",
       "\n",
       "    .dataframe thead th {\n",
       "        text-align: right;\n",
       "    }\n",
       "</style>\n",
       "<table border=\"1\" class=\"dataframe\">\n",
       "  <thead>\n",
       "    <tr style=\"text-align: right;\">\n",
       "      <th></th>\n",
       "      <th>Word</th>\n",
       "      <th>tfidf_rank</th>\n",
       "      <th>mlr_rank</th>\n",
       "      <th>rf_rank</th>\n",
       "      <th>ks_rank</th>\n",
       "      <th>mean_rank</th>\n",
       "    </tr>\n",
       "  </thead>\n",
       "  <tbody>\n",
       "    <tr>\n",
       "      <th>0</th>\n",
       "      <td>elastic</td>\n",
       "      <td>0</td>\n",
       "      <td>5.0</td>\n",
       "      <td>6.0</td>\n",
       "      <td>0.0</td>\n",
       "      <td>2.75</td>\n",
       "    </tr>\n",
       "    <tr>\n",
       "      <th>1</th>\n",
       "      <td>deploy</td>\n",
       "      <td>1</td>\n",
       "      <td>8.0</td>\n",
       "      <td>5.0</td>\n",
       "      <td>5.0</td>\n",
       "      <td>4.75</td>\n",
       "    </tr>\n",
       "    <tr>\n",
       "      <th>2</th>\n",
       "      <td>fastly</td>\n",
       "      <td>2</td>\n",
       "      <td>1.0</td>\n",
       "      <td>2.0</td>\n",
       "      <td>188.0</td>\n",
       "      <td>48.25</td>\n",
       "    </tr>\n",
       "    <tr>\n",
       "      <th>3</th>\n",
       "      <td>upsize</td>\n",
       "      <td>3</td>\n",
       "      <td>4.0</td>\n",
       "      <td>7.0</td>\n",
       "      <td>162.0</td>\n",
       "      <td>44.00</td>\n",
       "    </tr>\n",
       "    <tr>\n",
       "      <th>4</th>\n",
       "      <td>engineering</td>\n",
       "      <td>4</td>\n",
       "      <td>138.0</td>\n",
       "      <td>40.0</td>\n",
       "      <td>223.0</td>\n",
       "      <td>101.25</td>\n",
       "    </tr>\n",
       "  </tbody>\n",
       "</table>\n",
       "</div>"
      ],
      "text/plain": [
       "          Word  tfidf_rank  mlr_rank  rf_rank  ks_rank  mean_rank\n",
       "0      elastic           0       5.0      6.0      0.0       2.75\n",
       "1       deploy           1       8.0      5.0      5.0       4.75\n",
       "2       fastly           2       1.0      2.0    188.0      48.25\n",
       "3       upsize           3       4.0      7.0    162.0      44.00\n",
       "4  engineering           4     138.0     40.0    223.0     101.25"
      ]
     },
     "execution_count": 33,
     "metadata": {},
     "output_type": "execute_result"
    }
   ],
   "source": [
    "final_lists = final_lists.reset_index()\n",
    "final_lists.head()"
   ]
  },
  {
   "cell_type": "code",
   "execution_count": 34,
   "id": "cfdb07c7",
   "metadata": {},
   "outputs": [
    {
     "data": {
      "text/html": [
       "<div>\n",
       "<style scoped>\n",
       "    .dataframe tbody tr th:only-of-type {\n",
       "        vertical-align: middle;\n",
       "    }\n",
       "\n",
       "    .dataframe tbody tr th {\n",
       "        vertical-align: top;\n",
       "    }\n",
       "\n",
       "    .dataframe thead th {\n",
       "        text-align: right;\n",
       "    }\n",
       "</style>\n",
       "<table border=\"1\" class=\"dataframe\">\n",
       "  <thead>\n",
       "    <tr style=\"text-align: right;\">\n",
       "      <th></th>\n",
       "      <th>Word</th>\n",
       "      <th>tfidf_rank</th>\n",
       "      <th>mlr_rank</th>\n",
       "      <th>rf_rank</th>\n",
       "      <th>ks_rank</th>\n",
       "      <th>mean_rank</th>\n",
       "    </tr>\n",
       "  </thead>\n",
       "  <tbody>\n",
       "    <tr>\n",
       "      <th>0</th>\n",
       "      <td>elastic</td>\n",
       "      <td>0</td>\n",
       "      <td>5.0</td>\n",
       "      <td>6.0</td>\n",
       "      <td>0.0</td>\n",
       "      <td>2.75</td>\n",
       "    </tr>\n",
       "    <tr>\n",
       "      <th>9</th>\n",
       "      <td>sql</td>\n",
       "      <td>9</td>\n",
       "      <td>0.0</td>\n",
       "      <td>0.0</td>\n",
       "      <td>3.0</td>\n",
       "      <td>3.00</td>\n",
       "    </tr>\n",
       "    <tr>\n",
       "      <th>5</th>\n",
       "      <td>database</td>\n",
       "      <td>5</td>\n",
       "      <td>3.0</td>\n",
       "      <td>4.0</td>\n",
       "      <td>1.0</td>\n",
       "      <td>3.25</td>\n",
       "    </tr>\n",
       "    <tr>\n",
       "      <th>1</th>\n",
       "      <td>deploy</td>\n",
       "      <td>1</td>\n",
       "      <td>8.0</td>\n",
       "      <td>5.0</td>\n",
       "      <td>5.0</td>\n",
       "      <td>4.75</td>\n",
       "    </tr>\n",
       "    <tr>\n",
       "      <th>8</th>\n",
       "      <td>upgrade</td>\n",
       "      <td>8</td>\n",
       "      <td>2.0</td>\n",
       "      <td>3.0</td>\n",
       "      <td>24.0</td>\n",
       "      <td>9.25</td>\n",
       "    </tr>\n",
       "  </tbody>\n",
       "</table>\n",
       "</div>"
      ],
      "text/plain": [
       "       Word  tfidf_rank  mlr_rank  rf_rank  ks_rank  mean_rank\n",
       "0   elastic           0       5.0      6.0      0.0       2.75\n",
       "9       sql           9       0.0      0.0      3.0       3.00\n",
       "5  database           5       3.0      4.0      1.0       3.25\n",
       "1    deploy           1       8.0      5.0      5.0       4.75\n",
       "8   upgrade           8       2.0      3.0     24.0       9.25"
      ]
     },
     "execution_count": 34,
     "metadata": {},
     "output_type": "execute_result"
    }
   ],
   "source": [
    "final_lists = final_lists.sort_values(by='mean_rank')\n",
    "final_lists.head()"
   ]
  },
  {
   "cell_type": "code",
   "execution_count": 36,
   "id": "ed031cb8",
   "metadata": {},
   "outputs": [],
   "source": [
    "final_lists.to_excel('word_importance_lists.xlsx', index=False)"
   ]
  },
  {
   "cell_type": "code",
   "execution_count": null,
   "id": "fc009d89",
   "metadata": {},
   "outputs": [],
   "source": []
  }
 ],
 "metadata": {
  "kernelspec": {
   "display_name": "Python 3 (ipykernel)",
   "language": "python",
   "name": "python3"
  },
  "language_info": {
   "codemirror_mode": {
    "name": "ipython",
    "version": 3
   },
   "file_extension": ".py",
   "mimetype": "text/x-python",
   "name": "python",
   "nbconvert_exporter": "python",
   "pygments_lexer": "ipython3",
   "version": "3.11.4"
  }
 },
 "nbformat": 4,
 "nbformat_minor": 5
}
