{
 "cells": [
  {
   "cell_type": "code",
   "execution_count": 1,
   "id": "7c47c0e0",
   "metadata": {
    "id": "7aa60aa8"
   },
   "outputs": [],
   "source": [
    "# Importing Packages\n",
    "\n",
    "# Dataframes\n",
    "import pandas as pd\n",
    "import numpy as np\n",
    "\n",
    "# Visualization\n",
    "import matplotlib.pyplot as plt\n",
    "import seaborn as sns\n",
    "\n",
    "# Splitting data\n",
    "from sklearn.model_selection import train_test_split\n",
    "\n",
    "# Text Vectorization\n",
    "from sklearn.feature_extraction.text import TfidfVectorizer\n",
    "\n",
    "# Reports\n",
    "from sklearn.metrics import confusion_matrix\n",
    "from sklearn.metrics import classification_report\n",
    "\n",
    "# Resampling\n",
    "from imblearn.over_sampling import RandomOverSampler\n",
    "from imblearn.under_sampling import RandomUnderSampler\n",
    "\n",
    "# Parameter Tuning\n",
    "from sklearn.model_selection import GridSearchCV\n",
    "\n",
    "# Bagging\n",
    "from sklearn.ensemble import BaggingClassifier\n",
    "\n",
    "# Boosting\n",
    "from sklearn.ensemble import AdaBoostClassifier"
   ]
  },
  {
   "cell_type": "markdown",
   "id": "7052612e",
   "metadata": {
    "id": "7052612e"
   },
   "source": [
    "# Data Preparations"
   ]
  },
  {
   "cell_type": "markdown",
   "id": "C9rBeQu_JNGe",
   "metadata": {
    "id": "C9rBeQu_JNGe"
   },
   "source": [
    "## Retrieve the Data"
   ]
  },
  {
   "cell_type": "code",
   "execution_count": 2,
   "id": "f4aee771",
   "metadata": {
    "id": "f4aee771"
   },
   "outputs": [],
   "source": [
    "# Retrieve dataset\n",
    "df = pd.read_excel(\"input_og_categories.xlsx\")\n",
    "\n",
    "# Drop nulls\n",
    "df = df.dropna()"
   ]
  },
  {
   "cell_type": "markdown",
   "id": "d7b12c0f",
   "metadata": {
    "id": "d7b12c0f"
   },
   "source": [
    "## Split the Data"
   ]
  },
  {
   "cell_type": "code",
   "execution_count": 3,
   "id": "de4fea8a",
   "metadata": {
    "id": "de4fea8a"
   },
   "outputs": [],
   "source": [
    "# Clarify independent and dependent variables\n",
    "x = df['text']\n",
    "y = df['type']\n",
    "\n",
    "# Split datasets into training and testing sets\n",
    "xtrain, xtest, ytrain, ytest = train_test_split(x, y, test_size = 0.2, random_state = 0)\n",
    "\n",
    "# Export ytest for validations in R\n",
    "ytest.to_csv('ytest.csv', index=False)"
   ]
  },
  {
   "cell_type": "markdown",
   "id": "f4LFe6HsJA9E",
   "metadata": {
    "id": "f4LFe6HsJA9E"
   },
   "source": [
    "## Text Vectorization and Conversion to Dataframes\n",
    "One cannot filter to relevant terms unless they convert the X datasets to dataframes."
   ]
  },
  {
   "cell_type": "code",
   "execution_count": 4,
   "id": "11dc54a4",
   "metadata": {
    "id": "11dc54a4"
   },
   "outputs": [],
   "source": [
    "# Define vectorizer\n",
    "vectorizer = TfidfVectorizer()\n",
    "\n",
    "# Vectorize xtrain\n",
    "vector_xtrain = vectorizer.fit_transform(xtrain)\n",
    "\n",
    "# Store xtrain feature names\n",
    "feats_xtr = vectorizer.get_feature_names_out()\n",
    "\n",
    "# Vectorize xtest\n",
    "vector_xtest = vectorizer.transform(xtest)\n",
    "\n",
    "# Store xtest feature names\n",
    "feats_xte = vectorizer.get_feature_names_out()\n",
    "\n",
    "# Create dataframes of xtrain and xtest\n",
    "vector_xtr = pd.DataFrame.sparse.from_spmatrix(vector_xtrain, columns = feats_xtr)\n",
    "vector_xte = pd.DataFrame.sparse.from_spmatrix(vector_xtest, columns = feats_xte)\n",
    "\n",
    "# Convert xtrain and xtest to dense values\n",
    "vector_xtr = vector_xtr.sparse.to_dense().astype(np.float64)\n",
    "vector_xte = vector_xte.sparse.to_dense().astype(np.float64)"
   ]
  },
  {
   "cell_type": "markdown",
   "id": "vi_6LlS1K0Ca",
   "metadata": {
    "id": "vi_6LlS1K0Ca"
   },
   "source": [
    "## Filtering to Relevant Features"
   ]
  },
  {
   "cell_type": "code",
   "execution_count": 5,
   "id": "soF0rbMdKzUH",
   "metadata": {
    "id": "soF0rbMdKzUH"
   },
   "outputs": [],
   "source": [
    "# Retrieve word importance list\n",
    "word_importance = pd.read_excel('word_importance_lists.xlsx')\n",
    "\n",
    "# Create list of top x words\n",
    "words = list(word_importance['word'].head(301))\n",
    "\n",
    "# Create list of xtrain columns\n",
    "xtrain_cols = list(vector_xtr.columns)\n",
    "\n",
    "# Create set of xtrain words\n",
    "xtrain_set = set(words) & set(xtrain_cols)\n",
    "\n",
    "# Convert set to list\n",
    "xtrain_list = list(xtrain_set)\n",
    "\n",
    "# Create list of xtest columns\n",
    "xtest_cols = list(vector_xte.columns)\n",
    "\n",
    "# Create set of xtest words\n",
    "xtest_set = set(words) & set(xtest_cols)\n",
    "\n",
    "# Convert set to list\n",
    "xtest_list = list(xtest_set)\n",
    "\n",
    "# Filter xtrain and xtest to relevant columns\n",
    "vector_xtrain = vector_xtr[xtrain_list]\n",
    "vector_xtest = vector_xte[xtest_list]"
   ]
  },
  {
   "cell_type": "markdown",
   "id": "e05100bf",
   "metadata": {
    "id": "e05100bf"
   },
   "source": [
    "## Sampling Adjustments"
   ]
  },
  {
   "cell_type": "code",
   "execution_count": 6,
   "id": "f35bce3e",
   "metadata": {
    "id": "f35bce3e"
   },
   "outputs": [],
   "source": [
    "# Create Oversampled Datasets\n",
    "overs = RandomOverSampler(random_state = 0)\n",
    "vector_xtrain_os, ytrain_os = overs.fit_resample(vector_xtrain, ytrain)\n",
    "\n",
    "# Create Undersampled Datasets\n",
    "unders = RandomUnderSampler(random_state = 0)\n",
    "vector_xtrain_us, ytrain_us = unders.fit_resample(vector_xtrain, ytrain)"
   ]
  },
  {
   "cell_type": "markdown",
   "id": "3401ac2f",
   "metadata": {
    "id": "3401ac2f"
   },
   "source": [
    "## Create Labels List"
   ]
  },
  {
   "cell_type": "code",
   "execution_count": 7,
   "id": "e827fa21",
   "metadata": {
    "id": "e827fa21"
   },
   "outputs": [],
   "source": [
    "# Create a \"labels\" list\n",
    "labels = ['database', 'deploy', 'elasticsearch', 'fastly', 'redis', 'resources', 'sendgrid', 'upgrade_services', 'upsize']"
   ]
  },
  {
   "cell_type": "markdown",
   "id": "7059b244",
   "metadata": {
    "id": "7059b244"
   },
   "source": [
    "# Models"
   ]
  },
  {
   "cell_type": "markdown",
   "id": "cd22d833",
   "metadata": {
    "id": "cd22d833"
   },
   "source": [
    "## Classification Tree\n",
    "Parameters\n",
    "* criterion (default 'gini'): function used to measure split quality. can be 'gini', 'entropy', or 'log_loss'\n",
    "* splitter (default 'best'): strategy used to choose the split at each node. can be 'best' [choose best split] or 'random' [choose best random split]\n",
    "* max_depth (default None): maximum depth of the tree; int\n",
    "* min_samples_split (default 2): minimum samples required to split a node; int or float [float works like a fraction; n_samples*\\min_samples_split = min_samples_split input)]\n",
    "* min_samples_leaf (default 1): minimum saples required at a leaf node; int or float [float works like min_samples_split]\n",
    "* min_weight_fraction_leaf (default 0.0): minimum weighted fract of sum of total weights of input samples required at a leaf node\n",
    "* max_features (default None): # of features to consider when looking at best split. can be int, float, sqrt, log2, or None [# of features, fract of features, sqrt of features, log2 of features, all features]\n",
    "* random_state (default None): controls randomness of the estimator; int\n",
    "* max_leaf_nodes (default None): define max number of leaf nodes; int\n",
    "* min_impurity_decrease (default 0.0): node splits if it's impurity decrease is >= this value; float\n",
    "* class_weight (default None): weights assigned to classes. If 'None', all classees weighed equally\n",
    "* ccp_alpha (default 0.0): complexity parameter used for minimal cost-complexity pruning [subtree with largest cost complexity that is smaller than ccp_alpha is chosen]; default means no pruning; float\n",
    "* monotonic_cst: NON-APPLICABLE"
   ]
  },
  {
   "cell_type": "code",
   "execution_count": null,
   "id": "5ib3nuhFpSWo",
   "metadata": {
    "id": "5ib3nuhFpSWo"
   },
   "outputs": [],
   "source": [
    "# Classification Tree\n",
    "from sklearn.tree import DecisionTreeClassifier"
   ]
  },
  {
   "cell_type": "markdown",
   "id": "TzrnFcPoMvmp",
   "metadata": {
    "id": "TzrnFcPoMvmp"
   },
   "source": [
    "### Non-Ensemble Model"
   ]
  },
  {
   "cell_type": "code",
   "execution_count": null,
   "id": "6b197ada",
   "metadata": {
    "id": "6b197ada",
    "outputId": "b2b6cb58-690a-4845-e25d-9c2f17f65667"
   },
   "outputs": [],
   "source": [
    "%%time\n",
    "# Define the model and internal parameters\n",
    "mdl = DecisionTreeClassifier(random_state=0)\n",
    "\n",
    "# Train the model\n",
    "mdl.fit(vector_xtrain, ytrain)"
   ]
  },
  {
   "cell_type": "code",
   "execution_count": null,
   "id": "yiRlF7k-MSRl",
   "metadata": {
    "id": "yiRlF7k-MSRl"
   },
   "outputs": [],
   "source": [
    "%%time\n",
    "# Predict dependent variable for testing data\n",
    "preds = mdl.predict(vector_xtest)"
   ]
  },
  {
   "cell_type": "code",
   "execution_count": null,
   "id": "d921edc4",
   "metadata": {
    "id": "d921edc4"
   },
   "outputs": [],
   "source": [
    "# Store and export predictions\n",
    "preds2 = pd.DataFrame(preds)\n",
    "preds2.to_csv('ct_preds.csv', index=False)"
   ]
  },
  {
   "cell_type": "code",
   "execution_count": null,
   "id": "e3840798",
   "metadata": {
    "id": "e3840798",
    "outputId": "839b2dd9-b634-4c69-cddf-f171b46f010f"
   },
   "outputs": [],
   "source": [
    "# Plot a confusion matrix\n",
    "mat = confusion_matrix(ytest, preds)\n",
    "sns.heatmap(mat.T, square = True, annot=True, fmt = \"d\", xticklabels=labels,yticklabels=labels)\n",
    "plt.title('Classification Tree')\n",
    "plt.xlabel(\"True labels\")\n",
    "plt.ylabel(\"Predicted label\")\n",
    "plt.show()"
   ]
  },
  {
   "cell_type": "code",
   "execution_count": null,
   "id": "367c0a47",
   "metadata": {
    "id": "367c0a47",
    "outputId": "29562369-ce76-4b29-d8fe-4332cc78d0fd",
    "scrolled": true
   },
   "outputs": [],
   "source": [
    "# Generate a classification report\n",
    "print('Classification Tree, Test')\n",
    "print(classification_report(ytest, preds))"
   ]
  },
  {
   "cell_type": "code",
   "execution_count": null,
   "id": "c2bb2be6",
   "metadata": {
    "id": "c2bb2be6",
    "outputId": "9f89730b-0112-45a5-e2f5-c801b08dc438",
    "scrolled": true
   },
   "outputs": [],
   "source": [
    "# Predict ytrain\n",
    "preds = mdl.predict(vector_xtrain)\n",
    "\n",
    "# Generate a classification report\n",
    "print('Classification Tree, Train')\n",
    "print(classification_report(ytrain, preds))"
   ]
  },
  {
   "cell_type": "markdown",
   "id": "0f12ea13",
   "metadata": {
    "id": "0f12ea13"
   },
   "source": [
    "### Bagging Model"
   ]
  },
  {
   "cell_type": "code",
   "execution_count": null,
   "id": "528185c9",
   "metadata": {
    "id": "528185c9"
   },
   "outputs": [],
   "source": [
    "%%time\n",
    "# Define model and its internal parameters\n",
    "mdl = DecisionTreeClassifier(random_state=0)\n",
    "\n",
    "# Define bagger and its internal parameters\n",
    "bg = BaggingClassifier(mdl,\n",
    "                       n_estimators=100,\n",
    "                       random_state=0)\n",
    "\n",
    "# Fit bagger\n",
    "bg.fit(vector_xtrain, ytrain)"
   ]
  },
  {
   "cell_type": "code",
   "execution_count": null,
   "id": "cg1kmOFpcGFz",
   "metadata": {
    "id": "cg1kmOFpcGFz"
   },
   "outputs": [],
   "source": [
    "%%time\n",
    "# Predict\n",
    "preds = bg.predict(vector_xtest)"
   ]
  },
  {
   "cell_type": "code",
   "execution_count": null,
   "id": "da85ee8d",
   "metadata": {
    "id": "da85ee8d"
   },
   "outputs": [],
   "source": [
    "# Store and export predictions\n",
    "preds2 = pd.DataFrame(preds)\n",
    "preds2.to_csv('ct_preds_bg.csv', index=False)"
   ]
  },
  {
   "cell_type": "code",
   "execution_count": null,
   "id": "d6f65704",
   "metadata": {
    "id": "d6f65704"
   },
   "outputs": [],
   "source": [
    "# Plot a confusion matrix\n",
    "mat = confusion_matrix(ytest, preds)\n",
    "sns.heatmap(mat.T, square = True, annot=True, fmt = \"d\", xticklabels=labels,yticklabels=labels)\n",
    "plt.title('Classification Tree, Bagged')\n",
    "plt.xlabel(\"True labels\")\n",
    "plt.ylabel(\"Predicted label\")\n",
    "plt.show()"
   ]
  },
  {
   "cell_type": "code",
   "execution_count": null,
   "id": "6d6e285d",
   "metadata": {
    "id": "6d6e285d"
   },
   "outputs": [],
   "source": [
    "# Generate a classification report\n",
    "print('Classification Tree, Bagged, Test')\n",
    "print(classification_report(ytest, preds))"
   ]
  },
  {
   "cell_type": "code",
   "execution_count": null,
   "id": "5adb695d",
   "metadata": {
    "id": "5adb695d"
   },
   "outputs": [],
   "source": [
    "# Predict ytrain\n",
    "preds = bg.predict(vector_xtrain)\n",
    "\n",
    "# Generate a classification report\n",
    "print('Classification Tree, Bagged, Train')\n",
    "print(classification_report(ytrain, preds))"
   ]
  },
  {
   "cell_type": "markdown",
   "id": "G3RXfG-UbCQv",
   "metadata": {
    "id": "G3RXfG-UbCQv"
   },
   "source": [
    "### Boosting Model"
   ]
  },
  {
   "cell_type": "code",
   "execution_count": null,
   "id": "e38d61f3",
   "metadata": {
    "id": "e38d61f3",
    "outputId": "28872b20-6ec8-460c-8d99-8063cccb27f8"
   },
   "outputs": [],
   "source": [
    "%%time\n",
    "# Clarify model and its internal parameters\n",
    "mdl = DecisionTreeClassifier(random_state=0)\n",
    "\n",
    "# Define booster and its internal parameters\n",
    "bs = AdaBoostClassifier(mdl,\n",
    "                        n_estimators = 100,\n",
    "                        random_state = 0)\n",
    "\n",
    "# Fit booster\n",
    "bs.fit(vector_xtrain, ytrain)"
   ]
  },
  {
   "cell_type": "code",
   "execution_count": null,
   "id": "tHVdzQ-UexFC",
   "metadata": {
    "id": "tHVdzQ-UexFC"
   },
   "outputs": [],
   "source": [
    "%%time\n",
    "# Generate predictions\n",
    "preds = bs.predict(vector_xtest)"
   ]
  },
  {
   "cell_type": "code",
   "execution_count": null,
   "id": "50a7910c",
   "metadata": {
    "id": "50a7910c"
   },
   "outputs": [],
   "source": [
    "# Store and export predictions\n",
    "preds2 = pd.DataFrame(preds)\n",
    "preds2.to_csv('ct_preds_bs.csv', index=False)"
   ]
  },
  {
   "cell_type": "code",
   "execution_count": null,
   "id": "29d69e8b",
   "metadata": {
    "id": "29d69e8b",
    "outputId": "96afff46-13bf-4025-826c-824bb01f0352"
   },
   "outputs": [],
   "source": [
    "# Plot a confusion matrix\n",
    "mat = confusion_matrix(ytest, preds)\n",
    "sns.heatmap(mat.T, square = True, annot=True, fmt = \"d\", xticklabels=labels,yticklabels=labels)\n",
    "plt.title('Classification Tree, Boosted')\n",
    "plt.xlabel(\"True labels\")\n",
    "plt.ylabel(\"Predicted label\")\n",
    "plt.show()"
   ]
  },
  {
   "cell_type": "code",
   "execution_count": null,
   "id": "06fd5a43",
   "metadata": {
    "id": "06fd5a43",
    "outputId": "ac34b3fc-9f73-49b1-a47d-5c9fd7a3bdd3"
   },
   "outputs": [],
   "source": [
    "# Generate a classification report\n",
    "print('Classification Tree, Boosted, Test')\n",
    "print(classification_report(ytest, preds))"
   ]
  },
  {
   "cell_type": "code",
   "execution_count": null,
   "id": "5ba18730",
   "metadata": {
    "id": "5ba18730",
    "outputId": "4d5703c5-0bae-4b86-aeaf-8eb6ea38f558"
   },
   "outputs": [],
   "source": [
    "# Predict ytrain\n",
    "preds = bs.predict(vector_xtrain)\n",
    "\n",
    "# Generate a classification report\n",
    "print('Classification Tree, Boosted, Train')\n",
    "print(classification_report(ytrain, preds))"
   ]
  },
  {
   "cell_type": "markdown",
   "id": "GBBGB0atmBfy",
   "metadata": {
    "id": "GBBGB0atmBfy"
   },
   "source": [
    "## MLP Classifier\n",
    "Parameters\n",
    "* hidden_layer_sizes (default 100,): number of neurons in the hidden layers\n",
    "* activation (default 'relu'): activation for the hidden layer; identity [no-op activation], logistic [logistic sigmoid function], tanh [hyperbolic tan function], relu [rectified linear unit function]\n",
    "* solver (default 'adam'): solver for weight optimization; 'lbfgs' [quasi-Newton optimizer], 'sgd' [stochastic gradient descent], 'adam' [sgd optimizer] ADAM RECOMMENDED FOR LARGE DATASETS\n",
    "* alpha (default 0.0001): strength of the L2 regularization term; float\n",
    "* batch_size (default 'auto'): size of minibatches for stochastic optimizers; int, auto [batch_size = min(200, n_samples)]\n",
    "* learning_rate (default 'constant'): learning rate schedule for weight updates, only applies to solver sgd; constant [constant learning rate], invscaling [gradually decrease learning rate], adaptive [keeps learning rate constant if training loss decreases. if epochs don't see training loss, the learning rate is divided by 5]\n",
    "* learning_rate_init (default 0.001): initial learning rate used, only applies to solvers sgd and adam; float\n",
    "* power_t (default 0.5): exponent for the inverse scaling rate, used when learning_rate is invscaling and solver is sgd; float\n",
    "* max_iter (default 200): maximum num of iterations, either iterate until max_iter or until tol is hit; int\n",
    "* shuffle (default True): whether or not to shuffle samples in each iteration; boolean, applies to sgd and adam\n",
    "* random_state (default None): determines random number generation for weights/bias initialization, train-test split, and batch sampling [solver = sgd or adam]; int\n",
    "* tol (default 1e-4): tolerance for optimization, compared to loss or score; float\n",
    "* verbose (default False): whether to print progress messages or not; boolean\n",
    "* warm_start (default False): whether to reuse solution of previous call to fit as initialization or to erase previous solution; boolean\n",
    "* momentum (default 0.9): momentum for gradient descent update, used with solver sgd; float between 0 and 1\n",
    "* nesterovs_momentum (default True): whether to use Nesterov's momentum or not, only used with solver sgd and momentum > 0; boolean\n",
    "* early_stopping (default False): whether to use early stopping to terminate training when validation score not improving. if true, set aside 10% training data as validation and terminante training when validation not improving, only applies to solvers sgd and adam; boolean\n",
    "* validation_fraction (default 0.1): proportion of data to set aside for validation if early_stopping is True; float\n",
    "* beta_1 (default 0.9): exponential decay rate for estimates of first moment vector in solver adam; float between 0 and 1\n",
    "* beta_2 (default 0.999): exponential decay rate for estimates of second moment vector in solver adam; float between 0 and 1\n",
    "* epsilon (default 1e-8): value for numeric stability in solver adam; float\n",
    "* n_iter_no_change (default 10): max # epochs to not meet tol improvement if solver is sgd or adam; int\n",
    "* max_fun (default 15000): max number of loss function calls, only used with solver lbfgs; int, >= max_iter"
   ]
  },
  {
   "cell_type": "code",
   "execution_count": 8,
   "id": "3fcOWGVxu2Wm",
   "metadata": {
    "id": "3fcOWGVxu2Wm"
   },
   "outputs": [],
   "source": [
    "# MLP Classifier\n",
    "from sklearn.neural_network import MLPClassifier"
   ]
  },
  {
   "cell_type": "markdown",
   "id": "Sxb31ujumBf7",
   "metadata": {
    "id": "Sxb31ujumBf7"
   },
   "source": [
    "### Non-Ensemble Model"
   ]
  },
  {
   "cell_type": "code",
   "execution_count": 37,
   "id": "hVgNDMXnmBf7",
   "metadata": {
    "id": "hVgNDMXnmBf7",
    "outputId": "b2b6cb58-690a-4845-e25d-9c2f17f65667"
   },
   "outputs": [
    {
     "name": "stdout",
     "output_type": "stream",
     "text": [
      "CPU times: total: 18.9 s\n",
      "Wall time: 10.7 s\n"
     ]
    },
    {
     "name": "stderr",
     "output_type": "stream",
     "text": [
      "C:\\Users\\maxwe\\anaconda3\\Lib\\site-packages\\sklearn\\neural_network\\_multilayer_perceptron.py:686: ConvergenceWarning: Stochastic Optimizer: Maximum iterations (200) reached and the optimization hasn't converged yet.\n",
      "  warnings.warn(\n"
     ]
    },
    {
     "data": {
      "text/html": [
       "<style>#sk-container-id-5 {color: black;background-color: white;}#sk-container-id-5 pre{padding: 0;}#sk-container-id-5 div.sk-toggleable {background-color: white;}#sk-container-id-5 label.sk-toggleable__label {cursor: pointer;display: block;width: 100%;margin-bottom: 0;padding: 0.3em;box-sizing: border-box;text-align: center;}#sk-container-id-5 label.sk-toggleable__label-arrow:before {content: \"▸\";float: left;margin-right: 0.25em;color: #696969;}#sk-container-id-5 label.sk-toggleable__label-arrow:hover:before {color: black;}#sk-container-id-5 div.sk-estimator:hover label.sk-toggleable__label-arrow:before {color: black;}#sk-container-id-5 div.sk-toggleable__content {max-height: 0;max-width: 0;overflow: hidden;text-align: left;background-color: #f0f8ff;}#sk-container-id-5 div.sk-toggleable__content pre {margin: 0.2em;color: black;border-radius: 0.25em;background-color: #f0f8ff;}#sk-container-id-5 input.sk-toggleable__control:checked~div.sk-toggleable__content {max-height: 200px;max-width: 100%;overflow: auto;}#sk-container-id-5 input.sk-toggleable__control:checked~label.sk-toggleable__label-arrow:before {content: \"▾\";}#sk-container-id-5 div.sk-estimator input.sk-toggleable__control:checked~label.sk-toggleable__label {background-color: #d4ebff;}#sk-container-id-5 div.sk-label input.sk-toggleable__control:checked~label.sk-toggleable__label {background-color: #d4ebff;}#sk-container-id-5 input.sk-hidden--visually {border: 0;clip: rect(1px 1px 1px 1px);clip: rect(1px, 1px, 1px, 1px);height: 1px;margin: -1px;overflow: hidden;padding: 0;position: absolute;width: 1px;}#sk-container-id-5 div.sk-estimator {font-family: monospace;background-color: #f0f8ff;border: 1px dotted black;border-radius: 0.25em;box-sizing: border-box;margin-bottom: 0.5em;}#sk-container-id-5 div.sk-estimator:hover {background-color: #d4ebff;}#sk-container-id-5 div.sk-parallel-item::after {content: \"\";width: 100%;border-bottom: 1px solid gray;flex-grow: 1;}#sk-container-id-5 div.sk-label:hover label.sk-toggleable__label {background-color: #d4ebff;}#sk-container-id-5 div.sk-serial::before {content: \"\";position: absolute;border-left: 1px solid gray;box-sizing: border-box;top: 0;bottom: 0;left: 50%;z-index: 0;}#sk-container-id-5 div.sk-serial {display: flex;flex-direction: column;align-items: center;background-color: white;padding-right: 0.2em;padding-left: 0.2em;position: relative;}#sk-container-id-5 div.sk-item {position: relative;z-index: 1;}#sk-container-id-5 div.sk-parallel {display: flex;align-items: stretch;justify-content: center;background-color: white;position: relative;}#sk-container-id-5 div.sk-item::before, #sk-container-id-5 div.sk-parallel-item::before {content: \"\";position: absolute;border-left: 1px solid gray;box-sizing: border-box;top: 0;bottom: 0;left: 50%;z-index: -1;}#sk-container-id-5 div.sk-parallel-item {display: flex;flex-direction: column;z-index: 1;position: relative;background-color: white;}#sk-container-id-5 div.sk-parallel-item:first-child::after {align-self: flex-end;width: 50%;}#sk-container-id-5 div.sk-parallel-item:last-child::after {align-self: flex-start;width: 50%;}#sk-container-id-5 div.sk-parallel-item:only-child::after {width: 0;}#sk-container-id-5 div.sk-dashed-wrapped {border: 1px dashed gray;margin: 0 0.4em 0.5em 0.4em;box-sizing: border-box;padding-bottom: 0.4em;background-color: white;}#sk-container-id-5 div.sk-label label {font-family: monospace;font-weight: bold;display: inline-block;line-height: 1.2em;}#sk-container-id-5 div.sk-label-container {text-align: center;}#sk-container-id-5 div.sk-container {/* jupyter's `normalize.less` sets `[hidden] { display: none; }` but bootstrap.min.css set `[hidden] { display: none !important; }` so we also need the `!important` here to be able to override the default hidden behavior on the sphinx rendered scikit-learn.org. See: https://github.com/scikit-learn/scikit-learn/issues/21755 */display: inline-block !important;position: relative;}#sk-container-id-5 div.sk-text-repr-fallback {display: none;}</style><div id=\"sk-container-id-5\" class=\"sk-top-container\"><div class=\"sk-text-repr-fallback\"><pre>MLPClassifier(random_state=0)</pre><b>In a Jupyter environment, please rerun this cell to show the HTML representation or trust the notebook. <br />On GitHub, the HTML representation is unable to render, please try loading this page with nbviewer.org.</b></div><div class=\"sk-container\" hidden><div class=\"sk-item\"><div class=\"sk-estimator sk-toggleable\"><input class=\"sk-toggleable__control sk-hidden--visually\" id=\"sk-estimator-id-9\" type=\"checkbox\" checked><label for=\"sk-estimator-id-9\" class=\"sk-toggleable__label sk-toggleable__label-arrow\">MLPClassifier</label><div class=\"sk-toggleable__content\"><pre>MLPClassifier(random_state=0)</pre></div></div></div></div></div>"
      ],
      "text/plain": [
       "MLPClassifier(random_state=0)"
      ]
     },
     "execution_count": 37,
     "metadata": {},
     "output_type": "execute_result"
    }
   ],
   "source": [
    "%%time\n",
    "# Define the model and internal parameters\n",
    "mdl = MLPClassifier(random_state=0)\n",
    "\n",
    "# Train the model\n",
    "mdl.fit(vector_xtrain_us, ytrain_us)"
   ]
  },
  {
   "cell_type": "code",
   "execution_count": 38,
   "id": "x36tnzPamBf7",
   "metadata": {
    "id": "x36tnzPamBf7"
   },
   "outputs": [
    {
     "name": "stdout",
     "output_type": "stream",
     "text": [
      "CPU times: total: 31.2 ms\n",
      "Wall time: 18.9 ms\n"
     ]
    }
   ],
   "source": [
    "%%time\n",
    "# Predict dependent variable for testing data\n",
    "preds = mdl.predict(vector_xtest)"
   ]
  },
  {
   "cell_type": "code",
   "execution_count": 39,
   "id": "RzseS7lqmBf7",
   "metadata": {
    "id": "RzseS7lqmBf7"
   },
   "outputs": [],
   "source": [
    "# Store and export predictions\n",
    "preds2 = pd.DataFrame(preds)\n",
    "preds2.to_csv('mlp_preds.csv', index=False)"
   ]
  },
  {
   "cell_type": "code",
   "execution_count": 40,
   "id": "dfznGDaNmBf7",
   "metadata": {
    "id": "dfznGDaNmBf7",
    "outputId": "839b2dd9-b634-4c69-cddf-f171b46f010f"
   },
   "outputs": [
    {
     "data": {
      "image/png": "[encoded data removed]",
      "text/plain": [
       "<Figure size 640x480 with 2 Axes>"
      ]
     },
     "metadata": {},
     "output_type": "display_data"
    }
   ],
   "source": [
    "# Plot a confusion matrix\n",
    "mat = confusion_matrix(ytest, preds)\n",
    "sns.heatmap(mat.T, square = True, annot=True, fmt = \"d\", xticklabels=labels,yticklabels=labels)\n",
    "plt.title('MLP Classifier')\n",
    "plt.xlabel(\"True labels\")\n",
    "plt.ylabel(\"Predicted label\")\n",
    "plt.show()"
   ]
  },
  {
   "cell_type": "code",
   "execution_count": 41,
   "id": "SFa14HLnmBf7",
   "metadata": {
    "id": "SFa14HLnmBf7",
    "outputId": "29562369-ce76-4b29-d8fe-4332cc78d0fd",
    "scrolled": true
   },
   "outputs": [
    {
     "name": "stdout",
     "output_type": "stream",
     "text": [
      "MLP Classifier, Test\n",
      "                  precision    recall  f1-score   support\n",
      "\n",
      "        database       0.88      0.82      0.85       525\n",
      "          deploy       0.98      0.93      0.95       901\n",
      "   elasticsearch       0.77      0.85      0.81       268\n",
      "          fastly       0.98      0.98      0.98       552\n",
      "           redis       0.72      0.90      0.80       173\n",
      "       resources       0.80      0.88      0.84       379\n",
      "        sendgrid       0.97      0.95      0.96       137\n",
      "upgrade_services       0.85      0.82      0.84       355\n",
      "          upsize       0.95      0.93      0.94       495\n",
      "\n",
      "        accuracy                           0.90      3785\n",
      "       macro avg       0.88      0.89      0.88      3785\n",
      "    weighted avg       0.90      0.90      0.90      3785\n",
      "\n"
     ]
    }
   ],
   "source": [
    "# Generate a classification report\n",
    "print('MLP Classifier, Test')\n",
    "print(classification_report(ytest, preds))"
   ]
  },
  {
   "cell_type": "code",
   "execution_count": 42,
   "id": "LZp9mm_lmBf8",
   "metadata": {
    "id": "LZp9mm_lmBf8",
    "outputId": "9f89730b-0112-45a5-e2f5-c801b08dc438",
    "scrolled": true
   },
   "outputs": [
    {
     "name": "stdout",
     "output_type": "stream",
     "text": [
      "MLP Classifier, Train\n",
      "                  precision    recall  f1-score   support\n",
      "\n",
      "        database       1.00      1.00      1.00       548\n",
      "          deploy       1.00      1.00      1.00       548\n",
      "   elasticsearch       1.00      0.99      0.99       548\n",
      "          fastly       1.00      1.00      1.00       548\n",
      "           redis       1.00      1.00      1.00       548\n",
      "       resources       1.00      1.00      1.00       548\n",
      "        sendgrid       1.00      1.00      1.00       548\n",
      "upgrade_services       0.99      0.99      0.99       548\n",
      "          upsize       1.00      1.00      1.00       548\n",
      "\n",
      "        accuracy                           1.00      4932\n",
      "       macro avg       1.00      1.00      1.00      4932\n",
      "    weighted avg       1.00      1.00      1.00      4932\n",
      "\n"
     ]
    }
   ],
   "source": [
    "# Predict ytrain\n",
    "preds = mdl.predict(vector_xtrain_us)\n",
    "\n",
    "# Generate a classification report\n",
    "print('MLP Classifier, Train')\n",
    "print(classification_report(ytrain_us, preds))"
   ]
  },
  {
   "cell_type": "markdown",
   "id": "15gG20YqmBf8",
   "metadata": {
    "id": "15gG20YqmBf8"
   },
   "source": [
    "### Bagging Model"
   ]
  },
  {
   "cell_type": "code",
   "execution_count": 43,
   "id": "Ppii5HhkmBf8",
   "metadata": {
    "id": "Ppii5HhkmBf8"
   },
   "outputs": [
    {
     "name": "stderr",
     "output_type": "stream",
     "text": [
      "C:\\Users\\maxwe\\anaconda3\\Lib\\site-packages\\sklearn\\neural_network\\_multilayer_perceptron.py:686: ConvergenceWarning: Stochastic Optimizer: Maximum iterations (200) reached and the optimization hasn't converged yet.\n",
      "  warnings.warn(\n",
      "C:\\Users\\maxwe\\anaconda3\\Lib\\site-packages\\sklearn\\neural_network\\_multilayer_perceptron.py:686: ConvergenceWarning: Stochastic Optimizer: Maximum iterations (200) reached and the optimization hasn't converged yet.\n",
      "  warnings.warn(\n",
      "C:\\Users\\maxwe\\anaconda3\\Lib\\site-packages\\sklearn\\neural_network\\_multilayer_perceptron.py:686: ConvergenceWarning: Stochastic Optimizer: Maximum iterations (200) reached and the optimization hasn't converged yet.\n",
      "  warnings.warn(\n",
      "C:\\Users\\maxwe\\anaconda3\\Lib\\site-packages\\sklearn\\neural_network\\_multilayer_perceptron.py:686: ConvergenceWarning: Stochastic Optimizer: Maximum iterations (200) reached and the optimization hasn't converged yet.\n",
      "  warnings.warn(\n",
      "C:\\Users\\maxwe\\anaconda3\\Lib\\site-packages\\sklearn\\neural_network\\_multilayer_perceptron.py:686: ConvergenceWarning: Stochastic Optimizer: Maximum iterations (200) reached and the optimization hasn't converged yet.\n",
      "  warnings.warn(\n",
      "C:\\Users\\maxwe\\anaconda3\\Lib\\site-packages\\sklearn\\neural_network\\_multilayer_perceptron.py:686: ConvergenceWarning: Stochastic Optimizer: Maximum iterations (200) reached and the optimization hasn't converged yet.\n",
      "  warnings.warn(\n",
      "C:\\Users\\maxwe\\anaconda3\\Lib\\site-packages\\sklearn\\neural_network\\_multilayer_perceptron.py:686: ConvergenceWarning: Stochastic Optimizer: Maximum iterations (200) reached and the optimization hasn't converged yet.\n",
      "  warnings.warn(\n",
      "C:\\Users\\maxwe\\anaconda3\\Lib\\site-packages\\sklearn\\neural_network\\_multilayer_perceptron.py:686: ConvergenceWarning: Stochastic Optimizer: Maximum iterations (200) reached and the optimization hasn't converged yet.\n",
      "  warnings.warn(\n",
      "C:\\Users\\maxwe\\anaconda3\\Lib\\site-packages\\sklearn\\neural_network\\_multilayer_perceptron.py:686: ConvergenceWarning: Stochastic Optimizer: Maximum iterations (200) reached and the optimization hasn't converged yet.\n",
      "  warnings.warn(\n"
     ]
    },
    {
     "name": "stdout",
     "output_type": "stream",
     "text": [
      "CPU times: total: 2min 22s\n",
      "Wall time: 1min 22s\n"
     ]
    },
    {
     "name": "stderr",
     "output_type": "stream",
     "text": [
      "C:\\Users\\maxwe\\anaconda3\\Lib\\site-packages\\sklearn\\neural_network\\_multilayer_perceptron.py:686: ConvergenceWarning: Stochastic Optimizer: Maximum iterations (200) reached and the optimization hasn't converged yet.\n",
      "  warnings.warn(\n"
     ]
    },
    {
     "data": {
      "text/html": [
       "<style>#sk-container-id-6 {color: black;background-color: white;}#sk-container-id-6 pre{padding: 0;}#sk-container-id-6 div.sk-toggleable {background-color: white;}#sk-container-id-6 label.sk-toggleable__label {cursor: pointer;display: block;width: 100%;margin-bottom: 0;padding: 0.3em;box-sizing: border-box;text-align: center;}#sk-container-id-6 label.sk-toggleable__label-arrow:before {content: \"▸\";float: left;margin-right: 0.25em;color: #696969;}#sk-container-id-6 label.sk-toggleable__label-arrow:hover:before {color: black;}#sk-container-id-6 div.sk-estimator:hover label.sk-toggleable__label-arrow:before {color: black;}#sk-container-id-6 div.sk-toggleable__content {max-height: 0;max-width: 0;overflow: hidden;text-align: left;background-color: #f0f8ff;}#sk-container-id-6 div.sk-toggleable__content pre {margin: 0.2em;color: black;border-radius: 0.25em;background-color: #f0f8ff;}#sk-container-id-6 input.sk-toggleable__control:checked~div.sk-toggleable__content {max-height: 200px;max-width: 100%;overflow: auto;}#sk-container-id-6 input.sk-toggleable__control:checked~label.sk-toggleable__label-arrow:before {content: \"▾\";}#sk-container-id-6 div.sk-estimator input.sk-toggleable__control:checked~label.sk-toggleable__label {background-color: #d4ebff;}#sk-container-id-6 div.sk-label input.sk-toggleable__control:checked~label.sk-toggleable__label {background-color: #d4ebff;}#sk-container-id-6 input.sk-hidden--visually {border: 0;clip: rect(1px 1px 1px 1px);clip: rect(1px, 1px, 1px, 1px);height: 1px;margin: -1px;overflow: hidden;padding: 0;position: absolute;width: 1px;}#sk-container-id-6 div.sk-estimator {font-family: monospace;background-color: #f0f8ff;border: 1px dotted black;border-radius: 0.25em;box-sizing: border-box;margin-bottom: 0.5em;}#sk-container-id-6 div.sk-estimator:hover {background-color: #d4ebff;}#sk-container-id-6 div.sk-parallel-item::after {content: \"\";width: 100%;border-bottom: 1px solid gray;flex-grow: 1;}#sk-container-id-6 div.sk-label:hover label.sk-toggleable__label {background-color: #d4ebff;}#sk-container-id-6 div.sk-serial::before {content: \"\";position: absolute;border-left: 1px solid gray;box-sizing: border-box;top: 0;bottom: 0;left: 50%;z-index: 0;}#sk-container-id-6 div.sk-serial {display: flex;flex-direction: column;align-items: center;background-color: white;padding-right: 0.2em;padding-left: 0.2em;position: relative;}#sk-container-id-6 div.sk-item {position: relative;z-index: 1;}#sk-container-id-6 div.sk-parallel {display: flex;align-items: stretch;justify-content: center;background-color: white;position: relative;}#sk-container-id-6 div.sk-item::before, #sk-container-id-6 div.sk-parallel-item::before {content: \"\";position: absolute;border-left: 1px solid gray;box-sizing: border-box;top: 0;bottom: 0;left: 50%;z-index: -1;}#sk-container-id-6 div.sk-parallel-item {display: flex;flex-direction: column;z-index: 1;position: relative;background-color: white;}#sk-container-id-6 div.sk-parallel-item:first-child::after {align-self: flex-end;width: 50%;}#sk-container-id-6 div.sk-parallel-item:last-child::after {align-self: flex-start;width: 50%;}#sk-container-id-6 div.sk-parallel-item:only-child::after {width: 0;}#sk-container-id-6 div.sk-dashed-wrapped {border: 1px dashed gray;margin: 0 0.4em 0.5em 0.4em;box-sizing: border-box;padding-bottom: 0.4em;background-color: white;}#sk-container-id-6 div.sk-label label {font-family: monospace;font-weight: bold;display: inline-block;line-height: 1.2em;}#sk-container-id-6 div.sk-label-container {text-align: center;}#sk-container-id-6 div.sk-container {/* jupyter's `normalize.less` sets `[hidden] { display: none; }` but bootstrap.min.css set `[hidden] { display: none !important; }` so we also need the `!important` here to be able to override the default hidden behavior on the sphinx rendered scikit-learn.org. See: https://github.com/scikit-learn/scikit-learn/issues/21755 */display: inline-block !important;position: relative;}#sk-container-id-6 div.sk-text-repr-fallback {display: none;}</style><div id=\"sk-container-id-6\" class=\"sk-top-container\"><div class=\"sk-text-repr-fallback\"><pre>BaggingClassifier(estimator=MLPClassifier(random_state=0), random_state=0)</pre><b>In a Jupyter environment, please rerun this cell to show the HTML representation or trust the notebook. <br />On GitHub, the HTML representation is unable to render, please try loading this page with nbviewer.org.</b></div><div class=\"sk-container\" hidden><div class=\"sk-item sk-dashed-wrapped\"><div class=\"sk-label-container\"><div class=\"sk-label sk-toggleable\"><input class=\"sk-toggleable__control sk-hidden--visually\" id=\"sk-estimator-id-10\" type=\"checkbox\" ><label for=\"sk-estimator-id-10\" class=\"sk-toggleable__label sk-toggleable__label-arrow\">BaggingClassifier</label><div class=\"sk-toggleable__content\"><pre>BaggingClassifier(estimator=MLPClassifier(random_state=0), random_state=0)</pre></div></div></div><div class=\"sk-parallel\"><div class=\"sk-parallel-item\"><div class=\"sk-item\"><div class=\"sk-label-container\"><div class=\"sk-label sk-toggleable\"><input class=\"sk-toggleable__control sk-hidden--visually\" id=\"sk-estimator-id-11\" type=\"checkbox\" ><label for=\"sk-estimator-id-11\" class=\"sk-toggleable__label sk-toggleable__label-arrow\">estimator: MLPClassifier</label><div class=\"sk-toggleable__content\"><pre>MLPClassifier(random_state=0)</pre></div></div></div><div class=\"sk-serial\"><div class=\"sk-item\"><div class=\"sk-estimator sk-toggleable\"><input class=\"sk-toggleable__control sk-hidden--visually\" id=\"sk-estimator-id-12\" type=\"checkbox\" ><label for=\"sk-estimator-id-12\" class=\"sk-toggleable__label sk-toggleable__label-arrow\">MLPClassifier</label><div class=\"sk-toggleable__content\"><pre>MLPClassifier(random_state=0)</pre></div></div></div></div></div></div></div></div></div></div>"
      ],
      "text/plain": [
       "BaggingClassifier(estimator=MLPClassifier(random_state=0), random_state=0)"
      ]
     },
     "execution_count": 43,
     "metadata": {},
     "output_type": "execute_result"
    }
   ],
   "source": [
    "%%time\n",
    "# Define model and its internal parameters\n",
    "mdl = MLPClassifier(random_state=0)\n",
    "\n",
    "# Define bagger and its internal parameters\n",
    "bg = BaggingClassifier(mdl,\n",
    "                       random_state=0)\n",
    "\n",
    "# Fit bagger\n",
    "bg.fit(vector_xtrain_us, ytrain_us)"
   ]
  },
  {
   "cell_type": "code",
   "execution_count": 44,
   "id": "Qg9-FnmOmBf8",
   "metadata": {
    "id": "Qg9-FnmOmBf8"
   },
   "outputs": [
    {
     "name": "stdout",
     "output_type": "stream",
     "text": [
      "CPU times: total: 109 ms\n",
      "Wall time: 132 ms\n"
     ]
    }
   ],
   "source": [
    "%%time\n",
    "# Predict\n",
    "preds = bg.predict(vector_xtest)"
   ]
  },
  {
   "cell_type": "code",
   "execution_count": 45,
   "id": "YAASrVlZmBf9",
   "metadata": {
    "id": "YAASrVlZmBf9"
   },
   "outputs": [],
   "source": [
    "# Store and export predictions\n",
    "preds2 = pd.DataFrame(preds)\n",
    "preds2.to_csv('mlp_preds_bg.csv', index=False)"
   ]
  },
  {
   "cell_type": "code",
   "execution_count": 46,
   "id": "BYUSuvbSmBf9",
   "metadata": {
    "id": "BYUSuvbSmBf9"
   },
   "outputs": [
    {
     "data": {
      "image/png": "[encoded data removed]",
      "text/plain": [
       "<Figure size 640x480 with 2 Axes>"
      ]
     },
     "metadata": {},
     "output_type": "display_data"
    }
   ],
   "source": [
    "# Plot a confusion matrix\n",
    "mat = confusion_matrix(ytest, preds)\n",
    "sns.heatmap(mat.T, square = True, annot=True, fmt = \"d\", xticklabels=labels,yticklabels=labels)\n",
    "plt.title('MLP Classifier, Bagged')\n",
    "plt.xlabel(\"True labels\")\n",
    "plt.ylabel(\"Predicted label\")\n",
    "plt.show()"
   ]
  },
  {
   "cell_type": "code",
   "execution_count": 47,
   "id": "E6oQl4Q2mBf9",
   "metadata": {
    "id": "E6oQl4Q2mBf9"
   },
   "outputs": [
    {
     "name": "stdout",
     "output_type": "stream",
     "text": [
      "MLP Classifier, Bagged, Test\n",
      "                  precision    recall  f1-score   support\n",
      "\n",
      "        database       0.88      0.80      0.84       525\n",
      "          deploy       0.98      0.93      0.96       901\n",
      "   elasticsearch       0.78      0.88      0.83       268\n",
      "          fastly       0.97      0.98      0.98       552\n",
      "           redis       0.75      0.90      0.82       173\n",
      "       resources       0.80      0.88      0.84       379\n",
      "        sendgrid       0.96      0.95      0.96       137\n",
      "upgrade_services       0.86      0.86      0.86       355\n",
      "          upsize       0.97      0.93      0.95       495\n",
      "\n",
      "        accuracy                           0.90      3785\n",
      "       macro avg       0.88      0.90      0.89      3785\n",
      "    weighted avg       0.91      0.90      0.91      3785\n",
      "\n"
     ]
    }
   ],
   "source": [
    "# Generate a classification report\n",
    "print('MLP Classifier, Bagged, Test')\n",
    "print(classification_report(ytest, preds))"
   ]
  },
  {
   "cell_type": "code",
   "execution_count": 48,
   "id": "xdazRXxdmBf9",
   "metadata": {
    "id": "xdazRXxdmBf9"
   },
   "outputs": [
    {
     "name": "stdout",
     "output_type": "stream",
     "text": [
      "MLP Classifier, Bagged, Train\n",
      "                  precision    recall  f1-score   support\n",
      "\n",
      "        database       0.98      0.98      0.98       548\n",
      "          deploy       0.99      1.00      0.99       548\n",
      "   elasticsearch       0.98      0.99      0.98       548\n",
      "          fastly       1.00      1.00      1.00       548\n",
      "           redis       0.99      1.00      0.99       548\n",
      "       resources       0.99      0.98      0.98       548\n",
      "        sendgrid       1.00      1.00      1.00       548\n",
      "upgrade_services       0.98      0.97      0.98       548\n",
      "          upsize       1.00      1.00      1.00       548\n",
      "\n",
      "        accuracy                           0.99      4932\n",
      "       macro avg       0.99      0.99      0.99      4932\n",
      "    weighted avg       0.99      0.99      0.99      4932\n",
      "\n"
     ]
    }
   ],
   "source": [
    "# Predict ytrain\n",
    "preds = bg.predict(vector_xtrain_us)\n",
    "\n",
    "# Generate a classification report\n",
    "print('MLP Classifier, Bagged, Train')\n",
    "print(classification_report(ytrain_us, preds))"
   ]
  },
  {
   "cell_type": "markdown",
   "id": "JkjJPZAkl8y8",
   "metadata": {
    "id": "JkjJPZAkl8y8"
   },
   "source": [
    "## Multinomial Logistic Regression\n",
    "Parameters\n",
    "* penalty (default 'l2'): penalty term\n",
    "* dual (default False): dual or primal formulation; defaults to primal (regularized)\n",
    "* tol (default 1e-4): tolerance for stopping criteria; float\n",
    "* C (deault 1.0): inverse of regularization strength; positive float (small values have stronger regularization)\n",
    "* fit_interpret (default True): specifies if a constant [intercept] should be added to the decision function; boolean\n",
    "* intercept_scaling: NON-APPLICABLE\n",
    "* class_weight (default None): weights associated w/ classes; dict, balanced, or None\n",
    "* random_state (default None): control how the data is shuffled; applies to solvers sag, saga, and liblinear\n",
    "* solver (default lbfgs): algorithm used; only newton-cg, sag, saga, and lbfgs apply\n",
    "* max_iter (default 100): max iterations taken for solvers to converge; int\n",
    "* multi_class: NON-APPLICABLE\n",
    "* verbose: Unk\n",
    "* warm_start (default False): if True, reuse solution of previous call to fit as initialization; boolean\n",
    "* n_jobs (default None): number of CPU cores used when parallizing over classes; int, -1 means all cores used\n",
    "* l1_ratio (default None): only used if elasticnet penalty is true; 0.5 does perfect balance of l1 and l2"
   ]
  },
  {
   "cell_type": "code",
   "execution_count": 10,
   "id": "YYTfv-L9vWCE",
   "metadata": {
    "id": "YYTfv-L9vWCE"
   },
   "outputs": [],
   "source": [
    "# Multinomial Logistic Regression\n",
    "from sklearn.linear_model import LogisticRegression"
   ]
  },
  {
   "cell_type": "markdown",
   "id": "dc4gnp0fl8y-",
   "metadata": {
    "id": "dc4gnp0fl8y-"
   },
   "source": [
    "### Non-Ensemble Model"
   ]
  },
  {
   "cell_type": "code",
   "execution_count": null,
   "id": "jmDx8y5Ol8y-",
   "metadata": {
    "id": "jmDx8y5Ol8y-",
    "outputId": "b2b6cb58-690a-4845-e25d-9c2f17f65667"
   },
   "outputs": [],
   "source": [
    "%%time\n",
    "# Define the model and internal parameters\n",
    "mdl = LogisticRegression(multi_class = 'multinomial')\n",
    "\n",
    "# Train the model\n",
    "mdl.fit(vector_xtrain, ytrain)"
   ]
  },
  {
   "cell_type": "code",
   "execution_count": null,
   "id": "rcE4DbXul8y-",
   "metadata": {
    "id": "rcE4DbXul8y-"
   },
   "outputs": [],
   "source": [
    "%%time\n",
    "# Predict dependent variable for testing data\n",
    "preds = mdl.predict(vector_xtest)"
   ]
  },
  {
   "cell_type": "code",
   "execution_count": null,
   "id": "hY1LffeNl8y-",
   "metadata": {
    "id": "hY1LffeNl8y-"
   },
   "outputs": [],
   "source": [
    "# Store and export predictions\n",
    "preds2 = pd.DataFrame(preds)\n",
    "preds2.to_csv('mlr_preds.csv', index=False)"
   ]
  },
  {
   "cell_type": "code",
   "execution_count": null,
   "id": "TJgWam2ql8y_",
   "metadata": {
    "id": "TJgWam2ql8y_",
    "outputId": "839b2dd9-b634-4c69-cddf-f171b46f010f"
   },
   "outputs": [],
   "source": [
    "# Plot a confusion matrix\n",
    "mat = confusion_matrix(ytest, preds)\n",
    "sns.heatmap(mat.T, square = True, annot=True, fmt = \"d\", xticklabels=labels,yticklabels=labels)\n",
    "plt.title('Multinomial Logistic Regression')\n",
    "plt.xlabel(\"True labels\")\n",
    "plt.ylabel(\"Predicted label\")\n",
    "plt.show()"
   ]
  },
  {
   "cell_type": "code",
   "execution_count": null,
   "id": "rPjWQJ8Pl8y_",
   "metadata": {
    "id": "rPjWQJ8Pl8y_",
    "outputId": "29562369-ce76-4b29-d8fe-4332cc78d0fd",
    "scrolled": true
   },
   "outputs": [],
   "source": [
    "# Generate a classification report\n",
    "print('Multinomial Logistic Regression, Test')\n",
    "print(classification_report(ytest, preds))"
   ]
  },
  {
   "cell_type": "code",
   "execution_count": null,
   "id": "hx-ltveVl8y_",
   "metadata": {
    "id": "hx-ltveVl8y_",
    "outputId": "9f89730b-0112-45a5-e2f5-c801b08dc438",
    "scrolled": true
   },
   "outputs": [],
   "source": [
    "# Predict ytrain\n",
    "preds = mdl.predict(vector_xtrain)\n",
    "\n",
    "# Generate a classification report\n",
    "print('Multinomial Logistic Regression, Train')\n",
    "print(classification_report(ytrain, preds))"
   ]
  },
  {
   "cell_type": "markdown",
   "id": "gdj9n8ePl8zA",
   "metadata": {
    "id": "gdj9n8ePl8zA"
   },
   "source": [
    "### Bagging Model"
   ]
  },
  {
   "cell_type": "code",
   "execution_count": null,
   "id": "YaqP7EnQl8zA",
   "metadata": {
    "id": "YaqP7EnQl8zA"
   },
   "outputs": [],
   "source": [
    "%%time\n",
    "# Define model and its internal parameters\n",
    "mdl = LogisticRegression()\n",
    "\n",
    "# Define bagger and its internal parameters\n",
    "bg = BaggingClassifier(mdl,\n",
    "                       n_estimators=100,\n",
    "                       random_state=0)\n",
    "\n",
    "# Fit bagger\n",
    "bg.fit(vector_xtrain, ytrain)"
   ]
  },
  {
   "cell_type": "code",
   "execution_count": null,
   "id": "9Vtw0kQFl8zA",
   "metadata": {
    "id": "9Vtw0kQFl8zA"
   },
   "outputs": [],
   "source": [
    "%%time\n",
    "# Predict\n",
    "preds = bg.predict(vector_xtest)"
   ]
  },
  {
   "cell_type": "code",
   "execution_count": null,
   "id": "qCd5ub3il8zA",
   "metadata": {
    "id": "qCd5ub3il8zA"
   },
   "outputs": [],
   "source": [
    "# Store and export predictions\n",
    "preds2 = pd.DataFrame(preds)\n",
    "preds2.to_csv('mlr_preds_bg.csv', index=False)"
   ]
  },
  {
   "cell_type": "code",
   "execution_count": null,
   "id": "ywspQvQDl8zB",
   "metadata": {
    "id": "ywspQvQDl8zB"
   },
   "outputs": [],
   "source": [
    "# Plot a confusion matrix\n",
    "mat = confusion_matrix(ytest, preds)\n",
    "sns.heatmap(mat.T, square = True, annot=True, fmt = \"d\", xticklabels=labels,yticklabels=labels)\n",
    "plt.title('Multinomial Logistic Regression, Bagged')\n",
    "plt.xlabel(\"True labels\")\n",
    "plt.ylabel(\"Predicted label\")\n",
    "plt.show()"
   ]
  },
  {
   "cell_type": "code",
   "execution_count": null,
   "id": "fnZHtP6Il8zB",
   "metadata": {
    "id": "fnZHtP6Il8zB"
   },
   "outputs": [],
   "source": [
    "# Generate a classification report\n",
    "print('Multinomial Logistic Regression, Bagged, Test')\n",
    "print(classification_report(ytest, preds))"
   ]
  },
  {
   "cell_type": "code",
   "execution_count": null,
   "id": "ymOoM8jKl8zB",
   "metadata": {
    "id": "ymOoM8jKl8zB"
   },
   "outputs": [],
   "source": [
    "# Predict ytrain\n",
    "preds = bg.predict(vector_xtrain)\n",
    "\n",
    "# Generate a classification report\n",
    "print('Multinomial Logistic Regression, Bagged, Train')\n",
    "print(classification_report(ytrain, preds))"
   ]
  },
  {
   "cell_type": "markdown",
   "id": "qEZR5iVtl8zC",
   "metadata": {
    "id": "qEZR5iVtl8zC"
   },
   "source": [
    "### Boosting Model"
   ]
  },
  {
   "cell_type": "code",
   "execution_count": null,
   "id": "BXc2cjhul8zC",
   "metadata": {
    "id": "BXc2cjhul8zC",
    "outputId": "28872b20-6ec8-460c-8d99-8063cccb27f8"
   },
   "outputs": [],
   "source": [
    "%%time\n",
    "# Clarify model and its internal parameters\n",
    "mdl = LogisticRegression(multi_class = 'multinomial')\n",
    "\n",
    "# Define booster and its internal parameters\n",
    "bs = AdaBoostClassifier(mdl,\n",
    "                        n_estimators = 100,\n",
    "                        random_state = 0)\n",
    "\n",
    "# Fit booster\n",
    "bs.fit(vector_xtrain, ytrain)"
   ]
  },
  {
   "cell_type": "code",
   "execution_count": null,
   "id": "op40rqqzl8zC",
   "metadata": {
    "id": "op40rqqzl8zC"
   },
   "outputs": [],
   "source": [
    "%%time\n",
    "# Generate predictions\n",
    "preds = bs.predict(vector_xtest)"
   ]
  },
  {
   "cell_type": "code",
   "execution_count": null,
   "id": "Un9nbLJCl8zC",
   "metadata": {
    "id": "Un9nbLJCl8zC"
   },
   "outputs": [],
   "source": [
    "# Store and export predictions\n",
    "preds2 = pd.DataFrame(preds)\n",
    "preds2.to_csv('mlr_preds_bs.csv', index=False)"
   ]
  },
  {
   "cell_type": "code",
   "execution_count": null,
   "id": "X0n_dzOjl8zD",
   "metadata": {
    "id": "X0n_dzOjl8zD",
    "outputId": "96afff46-13bf-4025-826c-824bb01f0352"
   },
   "outputs": [],
   "source": [
    "# Plot a confusion matrix\n",
    "mat = confusion_matrix(ytest, preds)\n",
    "sns.heatmap(mat.T, square = True, annot=True, fmt = \"d\", xticklabels=labels,yticklabels=labels)\n",
    "plt.title('Multinomial Logistic Regression, Boosted')\n",
    "plt.xlabel(\"True labels\")\n",
    "plt.ylabel(\"Predicted label\")\n",
    "plt.show()"
   ]
  },
  {
   "cell_type": "code",
   "execution_count": null,
   "id": "GLNpSNtOl8zD",
   "metadata": {
    "id": "GLNpSNtOl8zD",
    "outputId": "ac34b3fc-9f73-49b1-a47d-5c9fd7a3bdd3"
   },
   "outputs": [],
   "source": [
    "# Generate a classification report\n",
    "print('Multinomial Logistic Regression, Boosted, Test')\n",
    "print(classification_report(ytest, preds))"
   ]
  },
  {
   "cell_type": "code",
   "execution_count": null,
   "id": "EQWxYh21l8zD",
   "metadata": {
    "id": "EQWxYh21l8zD",
    "outputId": "4d5703c5-0bae-4b86-aeaf-8eb6ea38f558"
   },
   "outputs": [],
   "source": [
    "# Predict ytrain\n",
    "preds = bs.predict(vector_xtrain)\n",
    "\n",
    "# Generate a classification report\n",
    "print('Multinomial Logistic Regression, Boosted, Train')\n",
    "print(classification_report(ytrain, preds))"
   ]
  },
  {
   "cell_type": "markdown",
   "id": "cbA05O1fl7ug",
   "metadata": {
    "id": "cbA05O1fl7ug"
   },
   "source": [
    "## Multinomial Naive-Bayes\n",
    "Parameters\n",
    "* alpha (default 1.0): additive smoothing parameter; float\n",
    "* force_alpha (default True): forces alpha value if it is below 1e-10; boolean\n",
    "* fit_prior (default True): whether to learn class prior probabilities or not. If false, a uniform prior will be used; boolean\n",
    "* class_prior (default None): prior probabilities of the classes. If specified, the priors are not adjusted according to the data; array"
   ]
  },
  {
   "cell_type": "code",
   "execution_count": null,
   "id": "36e9450a",
   "metadata": {},
   "outputs": [],
   "source": [
    "# Multinomial Naive-Bayes\n",
    "from sklearn.naive_bayes import MultinomialNB"
   ]
  },
  {
   "cell_type": "markdown",
   "id": "CRxFUOiYl7uo",
   "metadata": {
    "id": "CRxFUOiYl7uo"
   },
   "source": [
    "### Non-Ensemble Model"
   ]
  },
  {
   "cell_type": "code",
   "execution_count": null,
   "id": "YrB83uHHl7uo",
   "metadata": {
    "id": "YrB83uHHl7uo",
    "outputId": "b2b6cb58-690a-4845-e25d-9c2f17f65667"
   },
   "outputs": [],
   "source": [
    "%%time\n",
    "# Define the model and internal parameters\n",
    "mdl = MultinomialNB()\n",
    "\n",
    "# Train the model\n",
    "mdl.fit(vector_xtrain, ytrain)"
   ]
  },
  {
   "cell_type": "code",
   "execution_count": null,
   "id": "u5zIYX70l7uo",
   "metadata": {
    "id": "u5zIYX70l7uo"
   },
   "outputs": [],
   "source": [
    "%%time\n",
    "# Predict dependent variable for testing data\n",
    "preds = mdl.predict(vector_xtest)"
   ]
  },
  {
   "cell_type": "code",
   "execution_count": null,
   "id": "EObMoR2zl7up",
   "metadata": {
    "id": "EObMoR2zl7up"
   },
   "outputs": [],
   "source": [
    "# Store and export predictions\n",
    "preds2 = pd.DataFrame(preds)\n",
    "preds2.to_csv('mnb_preds.csv', index=False)"
   ]
  },
  {
   "cell_type": "code",
   "execution_count": null,
   "id": "cOx54Bg3l7up",
   "metadata": {
    "id": "cOx54Bg3l7up",
    "outputId": "839b2dd9-b634-4c69-cddf-f171b46f010f"
   },
   "outputs": [],
   "source": [
    "# Plot a confusion matrix\n",
    "mat = confusion_matrix(ytest, preds)\n",
    "sns.heatmap(mat.T, square = True, annot=True, fmt = \"d\", xticklabels=labels,yticklabels=labels)\n",
    "plt.title('Multinomial Naive-Bayes')\n",
    "plt.xlabel(\"True labels\")\n",
    "plt.ylabel(\"Predicted label\")\n",
    "plt.show()"
   ]
  },
  {
   "cell_type": "code",
   "execution_count": null,
   "id": "jBWeNUKll7up",
   "metadata": {
    "id": "jBWeNUKll7up",
    "outputId": "29562369-ce76-4b29-d8fe-4332cc78d0fd",
    "scrolled": true
   },
   "outputs": [],
   "source": [
    "# Generate a classification report\n",
    "print('Multinomial Naive-Bayes, Test')\n",
    "print(classification_report(ytest, preds))"
   ]
  },
  {
   "cell_type": "code",
   "execution_count": null,
   "id": "4urj9zV3l7up",
   "metadata": {
    "id": "4urj9zV3l7up",
    "outputId": "9f89730b-0112-45a5-e2f5-c801b08dc438",
    "scrolled": true
   },
   "outputs": [],
   "source": [
    "# Predict ytrain\n",
    "preds = mdl.predict(vector_xtrain)\n",
    "\n",
    "# Generate a classification report\n",
    "print('Multinomial Naive-Bayes, Train')\n",
    "print(classification_report(ytrain, preds))"
   ]
  },
  {
   "cell_type": "markdown",
   "id": "fcdf10jxl7uq",
   "metadata": {
    "id": "fcdf10jxl7uq"
   },
   "source": [
    "### Bagging Model"
   ]
  },
  {
   "cell_type": "code",
   "execution_count": null,
   "id": "X79KBMkwl7uq",
   "metadata": {
    "id": "X79KBMkwl7uq"
   },
   "outputs": [],
   "source": [
    "%%time\n",
    "# Define model and its internal parameters\n",
    "mdl = MultinomialNB()\n",
    "\n",
    "# Define bagger and its internal parameters\n",
    "bg = BaggingClassifier(mdl,\n",
    "                       n_estimators=100,\n",
    "                       random_state=0)\n",
    "\n",
    "# Fit bagger\n",
    "bg.fit(vector_xtrain, ytrain)"
   ]
  },
  {
   "cell_type": "code",
   "execution_count": null,
   "id": "civ5lP-Ql7uq",
   "metadata": {
    "id": "civ5lP-Ql7uq"
   },
   "outputs": [],
   "source": [
    "%%time\n",
    "# Predict\n",
    "preds = bg.predict(vector_xtest)"
   ]
  },
  {
   "cell_type": "code",
   "execution_count": null,
   "id": "n9BsvgB7l7uq",
   "metadata": {
    "id": "n9BsvgB7l7uq"
   },
   "outputs": [],
   "source": [
    "# Store and export predictions\n",
    "preds2 = pd.DataFrame(preds)\n",
    "preds2.to_csv('mnb_preds_bg.csv', index=False)"
   ]
  },
  {
   "cell_type": "code",
   "execution_count": null,
   "id": "2oFsWEFSl7uq",
   "metadata": {
    "id": "2oFsWEFSl7uq"
   },
   "outputs": [],
   "source": [
    "# Plot a confusion matrix\n",
    "mat = confusion_matrix(ytest, preds)\n",
    "sns.heatmap(mat.T, square = True, annot=True, fmt = \"d\", xticklabels=labels,yticklabels=labels)\n",
    "plt.title('Multinomial Naive-Bayes, Bagged')\n",
    "plt.xlabel(\"True labels\")\n",
    "plt.ylabel(\"Predicted label\")\n",
    "plt.show()"
   ]
  },
  {
   "cell_type": "code",
   "execution_count": null,
   "id": "2zaSkEhsl7uq",
   "metadata": {
    "id": "2zaSkEhsl7uq"
   },
   "outputs": [],
   "source": [
    "# Generate a classification report\n",
    "print('Multinomial Naive-Bayes, Bagged, Test')\n",
    "print(classification_report(ytest, preds))"
   ]
  },
  {
   "cell_type": "code",
   "execution_count": null,
   "id": "qGPrtAgfl7uq",
   "metadata": {
    "id": "qGPrtAgfl7uq"
   },
   "outputs": [],
   "source": [
    "# Predict ytrain\n",
    "preds = bg.predict(vector_xtrain)\n",
    "\n",
    "# Generate a classification report\n",
    "print('Multinomial Naive-Bayes, Bagged, Train')\n",
    "print(classification_report(ytrain, preds))"
   ]
  },
  {
   "cell_type": "markdown",
   "id": "nCnk9WOzl7ur",
   "metadata": {
    "id": "nCnk9WOzl7ur"
   },
   "source": [
    "### Boosting Model"
   ]
  },
  {
   "cell_type": "code",
   "execution_count": null,
   "id": "umhUfmdfl7ur",
   "metadata": {
    "id": "umhUfmdfl7ur",
    "outputId": "28872b20-6ec8-460c-8d99-8063cccb27f8"
   },
   "outputs": [],
   "source": [
    "%%time\n",
    "# Clarify model and its internal parameters\n",
    "mdl = MultinomialNB()\n",
    "\n",
    "# Define booster and its internal parameters\n",
    "bs = AdaBoostClassifier(mdl,\n",
    "                        n_estimators = 100,\n",
    "                        random_state = 0)\n",
    "\n",
    "# Fit booster\n",
    "bs.fit(vector_xtrain, ytrain)"
   ]
  },
  {
   "cell_type": "code",
   "execution_count": null,
   "id": "NCqJSuS3l7ur",
   "metadata": {
    "id": "NCqJSuS3l7ur"
   },
   "outputs": [],
   "source": [
    "%%time\n",
    "# Generate predictions\n",
    "preds = bs.predict(vector_xtest)"
   ]
  },
  {
   "cell_type": "code",
   "execution_count": null,
   "id": "3vLDEqwcl7ur",
   "metadata": {
    "id": "3vLDEqwcl7ur"
   },
   "outputs": [],
   "source": [
    "# Store and export predictions\n",
    "preds2 = pd.DataFrame(preds)\n",
    "preds2.to_csv('mnb_preds_bs.csv', index=False)"
   ]
  },
  {
   "cell_type": "code",
   "execution_count": null,
   "id": "tjwseeWal7ur",
   "metadata": {
    "id": "tjwseeWal7ur",
    "outputId": "96afff46-13bf-4025-826c-824bb01f0352"
   },
   "outputs": [],
   "source": [
    "# Plot a confusion matrix\n",
    "mat = confusion_matrix(ytest, preds)\n",
    "sns.heatmap(mat.T, square = True, annot=True, fmt = \"d\", xticklabels=labels,yticklabels=labels)\n",
    "plt.title('Multinomial Naive-Bayes, Boosted')\n",
    "plt.xlabel(\"True labels\")\n",
    "plt.ylabel(\"Predicted label\")\n",
    "plt.show()"
   ]
  },
  {
   "cell_type": "code",
   "execution_count": null,
   "id": "cWwVnoM_l7us",
   "metadata": {
    "id": "cWwVnoM_l7us",
    "outputId": "ac34b3fc-9f73-49b1-a47d-5c9fd7a3bdd3"
   },
   "outputs": [],
   "source": [
    "# Generate a classification report\n",
    "print('Multinomial Naive-Bayes, Boosted, Test')\n",
    "print(classification_report(ytest, preds))"
   ]
  },
  {
   "cell_type": "code",
   "execution_count": null,
   "id": "0ocqxBmul7us",
   "metadata": {
    "id": "0ocqxBmul7us",
    "outputId": "4d5703c5-0bae-4b86-aeaf-8eb6ea38f558"
   },
   "outputs": [],
   "source": [
    "# Predict ytrain\n",
    "preds = bs.predict(vector_xtrain)\n",
    "\n",
    "# Generate a classification report\n",
    "print('Multinomial Naive-Bayes, Boosted, Train')\n",
    "print(classification_report(ytrain, preds))"
   ]
  },
  {
   "cell_type": "markdown",
   "id": "r8snUMrpl6SG",
   "metadata": {
    "id": "r8snUMrpl6SG"
   },
   "source": [
    "## Random Forest\n",
    "Parameters\n",
    "* n_estimators (default 100): # of trees in forest; int\n",
    "* criterion (default 'gini'): function used to measure split quality; gini, entropy, or log_loss\n",
    "* max_depth (default None): max depth of the tree; int\n",
    "* min_samples_split (default 2): min samples needed to split a node; int or float [treated as fraction of n_samples]\n",
    "* min_samples_leaf (default 1): min samples needed at a leaf node; int or float [treated as fraction of n_samples]\n",
    "* min_weight_fraction_leaf (default 0.0): min weighted fraction of the sum of total weights of all input samples required at a leaf node; int. if 0, no weights given\n",
    "* max_features (default 'sqrt'): # of features to consider when looking for best split; int, float [fraction], sqrt [sqrt of n_features], log2 [log2 of n_features], none [all features]\n",
    "* max_leaf_nodes (default None): limit number of leaf nodes; int\n",
    "* min_impurity_decrease (default = 0.0): node splits if impurity decrease >= this value; float\n",
    "* bootstrap (default True): whether bootstrap samples used when building treed. If False, the whole dataset is used for each tree\n",
    "* oob_score (default False): whether to use out-of-bag samples to estimate generalization score. if true, accuracy is used by default; boolean\n",
    "* n_jobs (default = None): # of jobs to run in parallel; int, -1 = all processors\n",
    "* random_state (defalut = None): control randomness of bootstrapping and feature sampling; int\n",
    "* verbose (default 0): controls verbosity when fitting/predicting; int\n",
    "* warm_start (default True): if True, reuse solution of previous call to fit and add more estimators to the ensemble; boolean\n",
    "* class_weight (default None): weights associated with each class; balanced, balanced_subsample, dictionary, or None\n",
    "* ccp_alpha (default 0.0): complexity parameter used for minimal cost-complexity pruning [subtree w/ largest cost complexity smaller than ccp_alpha will be chosen]; float\n",
    "* max_samples (default None): number of samples to use in each tree if bootstrapped;; none, int, float [fraction]\n",
    "* monotonic_cst (default None): NON-APPLICABLE"
   ]
  },
  {
   "cell_type": "code",
   "execution_count": null,
   "id": "qobJmA4NxiHh",
   "metadata": {
    "id": "qobJmA4NxiHh"
   },
   "outputs": [],
   "source": [
    "# Random Forest\n",
    "from sklearn.ensemble import RandomForestClassifier"
   ]
  },
  {
   "cell_type": "markdown",
   "id": "pA1BW0Nkl6SH",
   "metadata": {
    "id": "pA1BW0Nkl6SH"
   },
   "source": [
    "### Non-Ensemble Model"
   ]
  },
  {
   "cell_type": "code",
   "execution_count": null,
   "id": "WYR7Qk6_l6SH",
   "metadata": {
    "id": "WYR7Qk6_l6SH",
    "outputId": "b2b6cb58-690a-4845-e25d-9c2f17f65667"
   },
   "outputs": [],
   "source": [
    "%%time\n",
    "# Define the model and internal parameters\n",
    "mdl = RandomForestClassifier(random_state=0)\n",
    "\n",
    "# Train the model\n",
    "mdl.fit(vector_xtrain, ytrain)"
   ]
  },
  {
   "cell_type": "code",
   "execution_count": null,
   "id": "rAtHduEyl6SH",
   "metadata": {
    "id": "rAtHduEyl6SH"
   },
   "outputs": [],
   "source": [
    "%%time\n",
    "# Predict dependent variable for testing data\n",
    "preds = mdl.predict(vector_xtest)"
   ]
  },
  {
   "cell_type": "code",
   "execution_count": null,
   "id": "4bhRmcNQl6SH",
   "metadata": {
    "id": "4bhRmcNQl6SH"
   },
   "outputs": [],
   "source": [
    "# Store and export predictions\n",
    "preds2 = pd.DataFrame(preds)\n",
    "preds2.to_csv('rf_preds.csv', index=False)"
   ]
  },
  {
   "cell_type": "code",
   "execution_count": null,
   "id": "Q6rRj_sGl6SI",
   "metadata": {
    "id": "Q6rRj_sGl6SI",
    "outputId": "839b2dd9-b634-4c69-cddf-f171b46f010f"
   },
   "outputs": [],
   "source": [
    "# Plot a confusion matrix\n",
    "mat = confusion_matrix(ytest, preds)\n",
    "sns.heatmap(mat.T, square = True, annot=True, fmt = \"d\", xticklabels=labels,yticklabels=labels)\n",
    "plt.title('Random Forest')\n",
    "plt.xlabel(\"True labels\")\n",
    "plt.ylabel(\"Predicted label\")\n",
    "plt.show()"
   ]
  },
  {
   "cell_type": "code",
   "execution_count": null,
   "id": "5qO2Dq19l6SI",
   "metadata": {
    "id": "5qO2Dq19l6SI",
    "outputId": "29562369-ce76-4b29-d8fe-4332cc78d0fd",
    "scrolled": true
   },
   "outputs": [],
   "source": [
    "# Generate a classification report\n",
    "print('Random Forest, Test')\n",
    "print(classification_report(ytest, preds))"
   ]
  },
  {
   "cell_type": "code",
   "execution_count": null,
   "id": "dJJx-GGYl6SI",
   "metadata": {
    "id": "dJJx-GGYl6SI",
    "outputId": "9f89730b-0112-45a5-e2f5-c801b08dc438",
    "scrolled": true
   },
   "outputs": [],
   "source": [
    "# Predict ytrain\n",
    "preds = mdl.predict(vector_xtrain)\n",
    "\n",
    "# Generate a classification report\n",
    "print('Random Forest, Train')\n",
    "print(classification_report(ytrain, preds))"
   ]
  },
  {
   "cell_type": "markdown",
   "id": "4zWiMk3pl6SI",
   "metadata": {
    "id": "4zWiMk3pl6SI"
   },
   "source": [
    "### Bagging Model"
   ]
  },
  {
   "cell_type": "code",
   "execution_count": null,
   "id": "gZ5dAmlMl6SJ",
   "metadata": {
    "id": "gZ5dAmlMl6SJ"
   },
   "outputs": [],
   "source": [
    "%%time\n",
    "# Define model and its internal parameters\n",
    "mdl = RandomForestClassifier(random_state=0)\n",
    "\n",
    "# Define bagger and its internal parameters\n",
    "bg = BaggingClassifier(mdl,\n",
    "                       n_estimators=100,\n",
    "                       random_state=0)\n",
    "\n",
    "# Fit bagger\n",
    "bg.fit(vector_xtrain, ytrain)"
   ]
  },
  {
   "cell_type": "code",
   "execution_count": null,
   "id": "bGSorznAl6SJ",
   "metadata": {
    "id": "bGSorznAl6SJ"
   },
   "outputs": [],
   "source": [
    "%%time\n",
    "# Predict\n",
    "preds = bg.predict(vector_xtest)"
   ]
  },
  {
   "cell_type": "code",
   "execution_count": null,
   "id": "qOtTIAG_l6SJ",
   "metadata": {
    "id": "qOtTIAG_l6SJ"
   },
   "outputs": [],
   "source": [
    "# Store and export predictions\n",
    "preds2 = pd.DataFrame(preds)\n",
    "preds2.to_csv('rf_preds_bg.csv', index=False)"
   ]
  },
  {
   "cell_type": "code",
   "execution_count": null,
   "id": "mevIRqBZl6SJ",
   "metadata": {
    "id": "mevIRqBZl6SJ"
   },
   "outputs": [],
   "source": [
    "# Plot a confusion matrix\n",
    "mat = confusion_matrix(ytest, preds)\n",
    "sns.heatmap(mat.T, square = True, annot=True, fmt = \"d\", xticklabels=labels,yticklabels=labels)\n",
    "plt.title('Random Forest, Bagged')\n",
    "plt.xlabel(\"True labels\")\n",
    "plt.ylabel(\"Predicted label\")\n",
    "plt.show()"
   ]
  },
  {
   "cell_type": "code",
   "execution_count": null,
   "id": "iXz6Wr8bl6SJ",
   "metadata": {
    "id": "iXz6Wr8bl6SJ"
   },
   "outputs": [],
   "source": [
    "# Generate a classification report\n",
    "print('Random Forest, Bagged, Test')\n",
    "print(classification_report(ytest, preds))"
   ]
  },
  {
   "cell_type": "code",
   "execution_count": null,
   "id": "ZS0g0RNJl6SJ",
   "metadata": {
    "id": "ZS0g0RNJl6SJ"
   },
   "outputs": [],
   "source": [
    "# Predict ytrain\n",
    "preds = bg.predict(vector_xtrain)\n",
    "\n",
    "# Generate a classification report\n",
    "print('Random Forest, Bagged, Train')\n",
    "print(classification_report(ytrain, preds))"
   ]
  },
  {
   "cell_type": "markdown",
   "id": "CgAsPL-El6SK",
   "metadata": {
    "id": "CgAsPL-El6SK"
   },
   "source": [
    "### Boosting Model"
   ]
  },
  {
   "cell_type": "code",
   "execution_count": null,
   "id": "-bpUyeFml6SK",
   "metadata": {
    "id": "-bpUyeFml6SK",
    "outputId": "28872b20-6ec8-460c-8d99-8063cccb27f8"
   },
   "outputs": [],
   "source": [
    "%%time\n",
    "# Clarify model and its internal parameters\n",
    "mdl = RandomForestClassifier(random_state=0)\n",
    "\n",
    "# Define booster and its internal parameters\n",
    "bs = AdaBoostClassifier(mdl,\n",
    "                        n_estimators = 100,\n",
    "                        random_state = 0)\n",
    "\n",
    "# Fit booster\n",
    "bs.fit(vector_xtrain, ytrain)"
   ]
  },
  {
   "cell_type": "code",
   "execution_count": null,
   "id": "hXgjrxVEl6SK",
   "metadata": {
    "id": "hXgjrxVEl6SK"
   },
   "outputs": [],
   "source": [
    "%%time\n",
    "# Generate predictions\n",
    "preds = bs.predict(vector_xtest)"
   ]
  },
  {
   "cell_type": "code",
   "execution_count": null,
   "id": "vQRyXaITl6SK",
   "metadata": {
    "id": "vQRyXaITl6SK"
   },
   "outputs": [],
   "source": [
    "# Store and export predictions\n",
    "preds2 = pd.DataFrame(preds)\n",
    "preds2.to_csv('rf_preds_bs.csv', index=False)"
   ]
  },
  {
   "cell_type": "code",
   "execution_count": null,
   "id": "allF7346l6SK",
   "metadata": {
    "id": "allF7346l6SK",
    "outputId": "96afff46-13bf-4025-826c-824bb01f0352"
   },
   "outputs": [],
   "source": [
    "# Plot a confusion matrix\n",
    "mat = confusion_matrix(ytest, preds)\n",
    "sns.heatmap(mat.T, square = True, annot=True, fmt = \"d\", xticklabels=labels,yticklabels=labels)\n",
    "plt.title('Random Forest, Boosted')\n",
    "plt.xlabel(\"True labels\")\n",
    "plt.ylabel(\"Predicted label\")\n",
    "plt.show()"
   ]
  },
  {
   "cell_type": "code",
   "execution_count": null,
   "id": "yAM_VGFKl6SK",
   "metadata": {
    "id": "yAM_VGFKl6SK",
    "outputId": "ac34b3fc-9f73-49b1-a47d-5c9fd7a3bdd3"
   },
   "outputs": [],
   "source": [
    "# Generate a classification report\n",
    "print('Random Forest, Boosted, Test')\n",
    "print(classification_report(ytest, preds))"
   ]
  },
  {
   "cell_type": "code",
   "execution_count": null,
   "id": "slmtV2O2l6SK",
   "metadata": {
    "id": "slmtV2O2l6SK",
    "outputId": "4d5703c5-0bae-4b86-aeaf-8eb6ea38f558"
   },
   "outputs": [],
   "source": [
    "# Predict ytrain\n",
    "preds = bs.predict(vector_xtrain)\n",
    "\n",
    "# Generate a classification report\n",
    "print('Random Forest, Boosted, Train')\n",
    "print(classification_report(ytrain, preds))"
   ]
  },
  {
   "cell_type": "markdown",
   "id": "-DHQttRyl4ld",
   "metadata": {
    "id": "-DHQttRyl4ld"
   },
   "source": [
    "## Linear Support Vector Machines\n",
    "Parameters\n",
    "* penalty (default='l2') - Specifies norm used in penaltization; l1 or l2\n",
    "* loss (default='squared_hinge') = specifies loss function; 'hinge' or 'squared_hinge'\n",
    "* dual (default='True') - solve either a dual or primal optimization problem. SET THIS TO 'FALSE'\n",
    "* tol (default=1e-4) - tolerance for stopping criteria; float\n",
    "* C (default=1.0) - regularization parameter. strength of regularization inversely proportional to C. must be positive; float\n",
    "* multi_class (default 'ovr') Stick to 'ovr'\n",
    "* fit_intercept (default True) - whether or not to fit an intercept; True or False\n",
    "* intercept_scaling (default 1.0) - if fit_intercept is True, an intercept with a value of 'intercept_scaling' is added. higher values become less regularized; float\n",
    "* class_weight (default None) - adds weights to each of your classes; custom defined through dictionary, 'balanced' [auto-balance weights], or None [no blancing; all weighted to 1]\n",
    "* verbose (default 0) - enable verbose input; probably keep at 0\n",
    "* random_state (default None) - controls randomness within the model; because we are using dual=False, we can keep this parameter set to None\n",
    "* max_iter (default 1000) - max number of iterations that can be run; int"
   ]
  },
  {
   "cell_type": "code",
   "execution_count": 9,
   "id": "MwNcykBHzF9S",
   "metadata": {
    "id": "MwNcykBHzF9S"
   },
   "outputs": [],
   "source": [
    "# SVM\n",
    "from sklearn.svm import LinearSVC"
   ]
  },
  {
   "cell_type": "markdown",
   "id": "8NAojOnSl4le",
   "metadata": {
    "id": "8NAojOnSl4le"
   },
   "source": [
    "### Non-Ensemble Model"
   ]
  },
  {
   "cell_type": "code",
   "execution_count": null,
   "id": "aBasse8cl4le",
   "metadata": {
    "id": "aBasse8cl4le",
    "outputId": "b2b6cb58-690a-4845-e25d-9c2f17f65667"
   },
   "outputs": [],
   "source": [
    "%%time\n",
    "# Define the model and internal parameters\n",
    "mdl = LinearSVC(dual=False)\n",
    "\n",
    "# Train the model\n",
    "mdl.fit(vector_xtrain, ytrain)"
   ]
  },
  {
   "cell_type": "code",
   "execution_count": null,
   "id": "jdUNUD0hl4le",
   "metadata": {
    "id": "jdUNUD0hl4le"
   },
   "outputs": [],
   "source": [
    "%%time\n",
    "# Predict dependent variable for testing data\n",
    "preds = mdl.predict(vector_xtest)"
   ]
  },
  {
   "cell_type": "code",
   "execution_count": null,
   "id": "IzSk4kq2l4lf",
   "metadata": {
    "id": "IzSk4kq2l4lf"
   },
   "outputs": [],
   "source": [
    "# Store and export predictions\n",
    "preds2 = pd.DataFrame(preds)\n",
    "preds2.to_csv('svm_preds.csv', index=False)"
   ]
  },
  {
   "cell_type": "code",
   "execution_count": null,
   "id": "fbiznySul4lf",
   "metadata": {
    "id": "fbiznySul4lf",
    "outputId": "839b2dd9-b634-4c69-cddf-f171b46f010f"
   },
   "outputs": [],
   "source": [
    "# Plot a confusion matrix\n",
    "mat = confusion_matrix(ytest, preds)\n",
    "sns.heatmap(mat.T, square = True, annot=True, fmt = \"d\", xticklabels=labels,yticklabels=labels)\n",
    "plt.title('Linear SVM')\n",
    "plt.xlabel(\"True labels\")\n",
    "plt.ylabel(\"Predicted label\")\n",
    "plt.show()"
   ]
  },
  {
   "cell_type": "code",
   "execution_count": null,
   "id": "f6-ae3r2l4lf",
   "metadata": {
    "id": "f6-ae3r2l4lf",
    "outputId": "29562369-ce76-4b29-d8fe-4332cc78d0fd",
    "scrolled": true
   },
   "outputs": [],
   "source": [
    "# Generate a classification report\n",
    "print('Linear SVM, Test')\n",
    "print(classification_report(ytest, preds))"
   ]
  },
  {
   "cell_type": "code",
   "execution_count": null,
   "id": "vqh741Dxl4lf",
   "metadata": {
    "id": "vqh741Dxl4lf",
    "outputId": "9f89730b-0112-45a5-e2f5-c801b08dc438",
    "scrolled": true
   },
   "outputs": [],
   "source": [
    "# Predict ytrain\n",
    "preds = mdl.predict(vector_xtrain)\n",
    "\n",
    "# Generate a classification report\n",
    "print('Linear SVM, Train')\n",
    "print(classification_report(ytrain, preds))"
   ]
  },
  {
   "cell_type": "markdown",
   "id": "cHromrk3l4lg",
   "metadata": {
    "id": "cHromrk3l4lg"
   },
   "source": [
    "### Bagging Model"
   ]
  },
  {
   "cell_type": "code",
   "execution_count": null,
   "id": "mv_P6Xbll4lg",
   "metadata": {
    "id": "mv_P6Xbll4lg"
   },
   "outputs": [],
   "source": [
    "%%time\n",
    "# Define model and its internal parameters\n",
    "mdl = LinearSVC(dual=False)\n",
    "\n",
    "# Define bagger and its internal parameters\n",
    "bg = BaggingClassifier(mdl,\n",
    "                       n_estimators=100,\n",
    "                       random_state=0)\n",
    "\n",
    "# Fit bagger\n",
    "bg.fit(vector_xtrain, ytrain)"
   ]
  },
  {
   "cell_type": "code",
   "execution_count": null,
   "id": "CfCQrH4el4lg",
   "metadata": {
    "id": "CfCQrH4el4lg"
   },
   "outputs": [],
   "source": [
    "%%time\n",
    "# Predict\n",
    "preds = bg.predict(vector_xtest)"
   ]
  },
  {
   "cell_type": "code",
   "execution_count": null,
   "id": "KZWM05ZQl4lg",
   "metadata": {
    "id": "KZWM05ZQl4lg"
   },
   "outputs": [],
   "source": [
    "# Store and export predictions\n",
    "preds2 = pd.DataFrame(preds)\n",
    "preds2.to_csv('svm_preds_bg.csv', index=False)"
   ]
  },
  {
   "cell_type": "code",
   "execution_count": null,
   "id": "IaoP_aTal4lg",
   "metadata": {
    "id": "IaoP_aTal4lg"
   },
   "outputs": [],
   "source": [
    "# Plot a confusion matrix\n",
    "mat = confusion_matrix(ytest, preds)\n",
    "sns.heatmap(mat.T, square = True, annot=True, fmt = \"d\", xticklabels=labels,yticklabels=labels)\n",
    "plt.title('Linear SVM, Bagged')\n",
    "plt.xlabel(\"True labels\")\n",
    "plt.ylabel(\"Predicted label\")\n",
    "plt.show()"
   ]
  },
  {
   "cell_type": "code",
   "execution_count": null,
   "id": "SE_xqNj3l4lg",
   "metadata": {
    "id": "SE_xqNj3l4lg"
   },
   "outputs": [],
   "source": [
    "# Generate a classification report\n",
    "print('Linear SVM, Bagged, Test')\n",
    "print(classification_report(ytest, preds))"
   ]
  },
  {
   "cell_type": "code",
   "execution_count": null,
   "id": "L3za0Wj-l4lg",
   "metadata": {
    "id": "L3za0Wj-l4lg"
   },
   "outputs": [],
   "source": [
    "# Predict ytrain\n",
    "preds = bg.predict(vector_xtrain)\n",
    "\n",
    "# Generate a classification report\n",
    "print('Linear SVM, Bagged, Train')\n",
    "print(classification_report(ytrain, preds))"
   ]
  },
  {
   "cell_type": "markdown",
   "id": "Dx6Xkrpzl4lh",
   "metadata": {
    "id": "Dx6Xkrpzl4lh"
   },
   "source": [
    "### Boosting Model"
   ]
  },
  {
   "cell_type": "code",
   "execution_count": null,
   "id": "xKs3TVGcl4lh",
   "metadata": {
    "id": "xKs3TVGcl4lh",
    "outputId": "28872b20-6ec8-460c-8d99-8063cccb27f8"
   },
   "outputs": [],
   "source": [
    "%%time\n",
    "# Clarify model and its internal parameters\n",
    "mdl = LinearSVC(dual=False)\n",
    "\n",
    "# Define booster and its internal parameters\n",
    "bs = AdaBoostClassifier(mdl,\n",
    "                        n_estimators = 100,\n",
    "                        random_state = 0)\n",
    "\n",
    "# Fit booster\n",
    "bs.fit(vector_xtrain, ytrain)"
   ]
  },
  {
   "cell_type": "code",
   "execution_count": null,
   "id": "npyg4MzBl4lh",
   "metadata": {
    "id": "npyg4MzBl4lh"
   },
   "outputs": [],
   "source": [
    "%%time\n",
    "# Generate predictions\n",
    "preds = bs.predict(vector_xtest)"
   ]
  },
  {
   "cell_type": "code",
   "execution_count": null,
   "id": "U4sw1Hp7l4lh",
   "metadata": {
    "id": "U4sw1Hp7l4lh"
   },
   "outputs": [],
   "source": [
    "# Store and export predictions\n",
    "preds2 = pd.DataFrame(preds)\n",
    "preds2.to_csv('svm_preds_bs.csv', index=False)"
   ]
  },
  {
   "cell_type": "code",
   "execution_count": null,
   "id": "EcYUOH1cl4lh",
   "metadata": {
    "id": "EcYUOH1cl4lh",
    "outputId": "96afff46-13bf-4025-826c-824bb01f0352"
   },
   "outputs": [],
   "source": [
    "# Plot a confusion matrix\n",
    "mat = confusion_matrix(ytest, preds)\n",
    "sns.heatmap(mat.T, square = True, annot=True, fmt = \"d\", xticklabels=labels,yticklabels=labels)\n",
    "plt.title('Linear SVM, Boosted')\n",
    "plt.xlabel(\"True labels\")\n",
    "plt.ylabel(\"Predicted label\")\n",
    "plt.show()"
   ]
  },
  {
   "cell_type": "code",
   "execution_count": null,
   "id": "hdQMdVK-l4li",
   "metadata": {
    "id": "hdQMdVK-l4li",
    "outputId": "ac34b3fc-9f73-49b1-a47d-5c9fd7a3bdd3"
   },
   "outputs": [],
   "source": [
    "# Generate a classification report\n",
    "print('Linear SVM, Boosted, Test')\n",
    "print(classification_report(ytest, preds))"
   ]
  },
  {
   "cell_type": "code",
   "execution_count": null,
   "id": "mlZTokOXl4li",
   "metadata": {
    "id": "mlZTokOXl4li",
    "outputId": "4d5703c5-0bae-4b86-aeaf-8eb6ea38f558"
   },
   "outputs": [],
   "source": [
    "# Predict ytrain\n",
    "preds = bs.predict(vector_xtrain)\n",
    "\n",
    "# Generate a classification report\n",
    "print('Linear SVM, Boosted, Train')\n",
    "print(classification_report(ytrain, preds))"
   ]
  },
  {
   "cell_type": "markdown",
   "id": "6ed36b1a",
   "metadata": {},
   "source": [
    "# Hard Voting"
   ]
  },
  {
   "cell_type": "code",
   "execution_count": 18,
   "id": "e755884c",
   "metadata": {},
   "outputs": [],
   "source": [
    "from sklearn.ensemble import VotingClassifier\n",
    "\n",
    "# Create estimator list\n",
    "estimator = []\n",
    "\n",
    "# Add estimators to the list\n",
    "estimator.append(('MLP', MLPClassifier(random_state=0)))\n",
    "estimator.append(('SVM', LinearSVC(dual=False, random_state=0)))\n",
    "estimator.append(('MLR', LogisticRegression(multi_class='multinomial', n_jobs=-1,random_state=0)))"
   ]
  },
  {
   "cell_type": "code",
   "execution_count": 19,
   "id": "b0f1b735",
   "metadata": {},
   "outputs": [
    {
     "name": "stdout",
     "output_type": "stream",
     "text": [
      "CPU times: total: 1min 36s\n",
      "Wall time: 1min 6s\n"
     ]
    },
    {
     "data": {
      "text/html": [
       "<style>#sk-container-id-2 {color: black;background-color: white;}#sk-container-id-2 pre{padding: 0;}#sk-container-id-2 div.sk-toggleable {background-color: white;}#sk-container-id-2 label.sk-toggleable__label {cursor: pointer;display: block;width: 100%;margin-bottom: 0;padding: 0.3em;box-sizing: border-box;text-align: center;}#sk-container-id-2 label.sk-toggleable__label-arrow:before {content: \"▸\";float: left;margin-right: 0.25em;color: #696969;}#sk-container-id-2 label.sk-toggleable__label-arrow:hover:before {color: black;}#sk-container-id-2 div.sk-estimator:hover label.sk-toggleable__label-arrow:before {color: black;}#sk-container-id-2 div.sk-toggleable__content {max-height: 0;max-width: 0;overflow: hidden;text-align: left;background-color: #f0f8ff;}#sk-container-id-2 div.sk-toggleable__content pre {margin: 0.2em;color: black;border-radius: 0.25em;background-color: #f0f8ff;}#sk-container-id-2 input.sk-toggleable__control:checked~div.sk-toggleable__content {max-height: 200px;max-width: 100%;overflow: auto;}#sk-container-id-2 input.sk-toggleable__control:checked~label.sk-toggleable__label-arrow:before {content: \"▾\";}#sk-container-id-2 div.sk-estimator input.sk-toggleable__control:checked~label.sk-toggleable__label {background-color: #d4ebff;}#sk-container-id-2 div.sk-label input.sk-toggleable__control:checked~label.sk-toggleable__label {background-color: #d4ebff;}#sk-container-id-2 input.sk-hidden--visually {border: 0;clip: rect(1px 1px 1px 1px);clip: rect(1px, 1px, 1px, 1px);height: 1px;margin: -1px;overflow: hidden;padding: 0;position: absolute;width: 1px;}#sk-container-id-2 div.sk-estimator {font-family: monospace;background-color: #f0f8ff;border: 1px dotted black;border-radius: 0.25em;box-sizing: border-box;margin-bottom: 0.5em;}#sk-container-id-2 div.sk-estimator:hover {background-color: #d4ebff;}#sk-container-id-2 div.sk-parallel-item::after {content: \"\";width: 100%;border-bottom: 1px solid gray;flex-grow: 1;}#sk-container-id-2 div.sk-label:hover label.sk-toggleable__label {background-color: #d4ebff;}#sk-container-id-2 div.sk-serial::before {content: \"\";position: absolute;border-left: 1px solid gray;box-sizing: border-box;top: 0;bottom: 0;left: 50%;z-index: 0;}#sk-container-id-2 div.sk-serial {display: flex;flex-direction: column;align-items: center;background-color: white;padding-right: 0.2em;padding-left: 0.2em;position: relative;}#sk-container-id-2 div.sk-item {position: relative;z-index: 1;}#sk-container-id-2 div.sk-parallel {display: flex;align-items: stretch;justify-content: center;background-color: white;position: relative;}#sk-container-id-2 div.sk-item::before, #sk-container-id-2 div.sk-parallel-item::before {content: \"\";position: absolute;border-left: 1px solid gray;box-sizing: border-box;top: 0;bottom: 0;left: 50%;z-index: -1;}#sk-container-id-2 div.sk-parallel-item {display: flex;flex-direction: column;z-index: 1;position: relative;background-color: white;}#sk-container-id-2 div.sk-parallel-item:first-child::after {align-self: flex-end;width: 50%;}#sk-container-id-2 div.sk-parallel-item:last-child::after {align-self: flex-start;width: 50%;}#sk-container-id-2 div.sk-parallel-item:only-child::after {width: 0;}#sk-container-id-2 div.sk-dashed-wrapped {border: 1px dashed gray;margin: 0 0.4em 0.5em 0.4em;box-sizing: border-box;padding-bottom: 0.4em;background-color: white;}#sk-container-id-2 div.sk-label label {font-family: monospace;font-weight: bold;display: inline-block;line-height: 1.2em;}#sk-container-id-2 div.sk-label-container {text-align: center;}#sk-container-id-2 div.sk-container {/* jupyter's `normalize.less` sets `[hidden] { display: none; }` but bootstrap.min.css set `[hidden] { display: none !important; }` so we also need the `!important` here to be able to override the default hidden behavior on the sphinx rendered scikit-learn.org. See: https://github.com/scikit-learn/scikit-learn/issues/21755 */display: inline-block !important;position: relative;}#sk-container-id-2 div.sk-text-repr-fallback {display: none;}</style><div id=\"sk-container-id-2\" class=\"sk-top-container\"><div class=\"sk-text-repr-fallback\"><pre>VotingClassifier(estimators=[(&#x27;MLP&#x27;, MLPClassifier(random_state=0)),\n",
       "                             (&#x27;SVM&#x27;, LinearSVC(dual=False, random_state=0)),\n",
       "                             (&#x27;MLR&#x27;,\n",
       "                              LogisticRegression(multi_class=&#x27;multinomial&#x27;,\n",
       "                                                 n_jobs=-1, random_state=0))])</pre><b>In a Jupyter environment, please rerun this cell to show the HTML representation or trust the notebook. <br />On GitHub, the HTML representation is unable to render, please try loading this page with nbviewer.org.</b></div><div class=\"sk-container\" hidden><div class=\"sk-item sk-dashed-wrapped\"><div class=\"sk-label-container\"><div class=\"sk-label sk-toggleable\"><input class=\"sk-toggleable__control sk-hidden--visually\" id=\"sk-estimator-id-4\" type=\"checkbox\" ><label for=\"sk-estimator-id-4\" class=\"sk-toggleable__label sk-toggleable__label-arrow\">VotingClassifier</label><div class=\"sk-toggleable__content\"><pre>VotingClassifier(estimators=[(&#x27;MLP&#x27;, MLPClassifier(random_state=0)),\n",
       "                             (&#x27;SVM&#x27;, LinearSVC(dual=False, random_state=0)),\n",
       "                             (&#x27;MLR&#x27;,\n",
       "                              LogisticRegression(multi_class=&#x27;multinomial&#x27;,\n",
       "                                                 n_jobs=-1, random_state=0))])</pre></div></div></div><div class=\"sk-parallel\"><div class=\"sk-parallel-item\"><div class=\"sk-item\"><div class=\"sk-label-container\"><div class=\"sk-label sk-toggleable\"><label>MLP</label></div></div><div class=\"sk-serial\"><div class=\"sk-item\"><div class=\"sk-estimator sk-toggleable\"><input class=\"sk-toggleable__control sk-hidden--visually\" id=\"sk-estimator-id-5\" type=\"checkbox\" ><label for=\"sk-estimator-id-5\" class=\"sk-toggleable__label sk-toggleable__label-arrow\">MLPClassifier</label><div class=\"sk-toggleable__content\"><pre>MLPClassifier(random_state=0)</pre></div></div></div></div></div></div><div class=\"sk-parallel-item\"><div class=\"sk-item\"><div class=\"sk-label-container\"><div class=\"sk-label sk-toggleable\"><label>SVM</label></div></div><div class=\"sk-serial\"><div class=\"sk-item\"><div class=\"sk-estimator sk-toggleable\"><input class=\"sk-toggleable__control sk-hidden--visually\" id=\"sk-estimator-id-6\" type=\"checkbox\" ><label for=\"sk-estimator-id-6\" class=\"sk-toggleable__label sk-toggleable__label-arrow\">LinearSVC</label><div class=\"sk-toggleable__content\"><pre>LinearSVC(dual=False, random_state=0)</pre></div></div></div></div></div></div><div class=\"sk-parallel-item\"><div class=\"sk-item\"><div class=\"sk-label-container\"><div class=\"sk-label sk-toggleable\"><label>MLR</label></div></div><div class=\"sk-serial\"><div class=\"sk-item\"><div class=\"sk-estimator sk-toggleable\"><input class=\"sk-toggleable__control sk-hidden--visually\" id=\"sk-estimator-id-7\" type=\"checkbox\" ><label for=\"sk-estimator-id-7\" class=\"sk-toggleable__label sk-toggleable__label-arrow\">LogisticRegression</label><div class=\"sk-toggleable__content\"><pre>LogisticRegression(multi_class=&#x27;multinomial&#x27;, n_jobs=-1, random_state=0)</pre></div></div></div></div></div></div></div></div></div></div>"
      ],
      "text/plain": [
       "VotingClassifier(estimators=[('MLP', MLPClassifier(random_state=0)),\n",
       "                             ('SVM', LinearSVC(dual=False, random_state=0)),\n",
       "                             ('MLR',\n",
       "                              LogisticRegression(multi_class='multinomial',\n",
       "                                                 n_jobs=-1, random_state=0))])"
      ]
     },
     "execution_count": 19,
     "metadata": {},
     "output_type": "execute_result"
    }
   ],
   "source": [
    "%%time\n",
    "# Define the voter\n",
    "hardvote=VotingClassifier(estimators=estimator,voting='hard')\n",
    "\n",
    "# Fit the voter\n",
    "hardvote.fit(vector_xtrain_os,ytrain_os)"
   ]
  },
  {
   "cell_type": "code",
   "execution_count": 20,
   "id": "681086de",
   "metadata": {},
   "outputs": [
    {
     "name": "stdout",
     "output_type": "stream",
     "text": [
      "CPU times: total: 125 ms\n",
      "Wall time: 86.8 ms\n"
     ]
    }
   ],
   "source": [
    "%%time\n",
    "# Generate predictions\n",
    "preds = hardvote.predict(vector_xtest)"
   ]
  },
  {
   "cell_type": "code",
   "execution_count": 21,
   "id": "09ea1683",
   "metadata": {},
   "outputs": [],
   "source": [
    "# Store and export predictions\n",
    "preds2 = pd.DataFrame(preds)\n",
    "preds2.to_csv('hardvote_2.csv', index=False)"
   ]
  },
  {
   "cell_type": "code",
   "execution_count": 22,
   "id": "f86c0eb8",
   "metadata": {},
   "outputs": [
    {
     "data": {
      "image/png": "[encoded data removed]",
      "text/plain": [
       "<Figure size 640x480 with 2 Axes>"
      ]
     },
     "metadata": {},
     "output_type": "display_data"
    }
   ],
   "source": [
    "# Plot a confusion matrix\n",
    "mat = confusion_matrix(ytest, preds)\n",
    "sns.heatmap(mat.T, square = True, annot=True, fmt = \"d\", xticklabels=labels,yticklabels=labels)\n",
    "plt.title('Hard Voting')\n",
    "plt.xlabel(\"True labels\")\n",
    "plt.ylabel(\"Predicted label\")\n",
    "plt.show()"
   ]
  },
  {
   "cell_type": "code",
   "execution_count": 23,
   "id": "0f2d7b00",
   "metadata": {},
   "outputs": [
    {
     "name": "stdout",
     "output_type": "stream",
     "text": [
      "Hard Voting, Test\n",
      "                  precision    recall  f1-score   support\n",
      "\n",
      "        database       0.88      0.85      0.87       525\n",
      "          deploy       0.98      0.96      0.97       901\n",
      "   elasticsearch       0.83      0.88      0.85       268\n",
      "          fastly       0.97      0.99      0.98       552\n",
      "           redis       0.77      0.93      0.84       173\n",
      "       resources       0.85      0.89      0.87       379\n",
      "        sendgrid       0.98      0.96      0.97       137\n",
      "upgrade_services       0.90      0.85      0.87       355\n",
      "          upsize       0.98      0.94      0.96       495\n",
      "\n",
      "        accuracy                           0.92      3785\n",
      "       macro avg       0.90      0.92      0.91      3785\n",
      "    weighted avg       0.92      0.92      0.92      3785\n",
      "\n"
     ]
    }
   ],
   "source": [
    "# Generate a classification report\n",
    "print('Hard Voting, Test')\n",
    "print(classification_report(ytest, preds))"
   ]
  },
  {
   "cell_type": "code",
   "execution_count": 24,
   "id": "28df6c0f",
   "metadata": {},
   "outputs": [
    {
     "name": "stdout",
     "output_type": "stream",
     "text": [
      "Hard Voting, Train\n",
      "                  precision    recall  f1-score   support\n",
      "\n",
      "        database       0.91      0.88      0.90      2139\n",
      "          deploy       0.99      0.97      0.98      3707\n",
      "   elasticsearch       0.85      0.91      0.88      1053\n",
      "          fastly       0.99      0.99      0.99      2026\n",
      "           redis       0.84      0.95      0.89       690\n",
      "       resources       0.88      0.90      0.89      1526\n",
      "        sendgrid       0.98      0.99      0.99       548\n",
      "upgrade_services       0.91      0.89      0.90      1468\n",
      "          upsize       0.98      0.97      0.98      1980\n",
      "\n",
      "        accuracy                           0.94     15137\n",
      "       macro avg       0.93      0.94      0.93     15137\n",
      "    weighted avg       0.94      0.94      0.94     15137\n",
      "\n"
     ]
    }
   ],
   "source": [
    "# Predict ytrain\n",
    "preds = hardvote.predict(vector_xtrain)\n",
    "\n",
    "# Generate a classification report\n",
    "print('Hard Voting, Train')\n",
    "print(classification_report(ytrain, preds))"
   ]
  }
 ],
 "metadata": {
  "colab": {
   "provenance": [],
   "toc_visible": true
  },
  "kernelspec": {
   "display_name": "Python 3 (ipykernel)",
   "language": "python",
   "name": "python3"
  },
  "language_info": {
   "codemirror_mode": {
    "name": "ipython",
    "version": 3
   },
   "file_extension": ".py",
   "mimetype": "text/x-python",
   "name": "python",
   "nbconvert_exporter": "python",
   "pygments_lexer": "ipython3",
   "version": "3.11.4"
  }
 },
 "nbformat": 4,
 "nbformat_minor": 5
}
